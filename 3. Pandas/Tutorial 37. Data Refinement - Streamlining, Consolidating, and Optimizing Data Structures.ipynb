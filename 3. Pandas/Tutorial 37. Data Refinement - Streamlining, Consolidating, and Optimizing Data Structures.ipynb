{
 "cells": [
  {
   "cell_type": "code",
   "execution_count": null,
   "id": "d63b9c31",
   "metadata": {},
   "outputs": [],
   "source": [
    "import numpy as np\n",
    "import pandas as pd"
   ]
  },
  {
   "cell_type": "markdown",
   "id": "c66bea0e",
   "metadata": {},
   "source": [
    "# Data Replacing"
   ]
  },
  {
   "cell_type": "code",
   "execution_count": null,
   "id": "d1196c53",
   "metadata": {},
   "outputs": [],
   "source": [
    "df = pd.read_csv('clothing.csv')\n",
    "df"
   ]
  },
  {
   "cell_type": "code",
   "execution_count": null,
   "id": "59e29dbd",
   "metadata": {},
   "outputs": [],
   "source": [
    "df.replace('Carmine', 'Red',inplace=True)\n",
    "df.replace('Bluex','Blue',inplace=True)\n",
    "df"
   ]
  },
  {
   "cell_type": "markdown",
   "id": "5394414e",
   "metadata": {},
   "source": [
    "# Data Duplicated"
   ]
  },
  {
   "cell_type": "code",
   "execution_count": null,
   "id": "5ce66f6c",
   "metadata": {},
   "outputs": [],
   "source": [
    "df.duplicated()"
   ]
  },
  {
   "cell_type": "code",
   "execution_count": null,
   "id": "10e52391",
   "metadata": {},
   "outputs": [],
   "source": [
    "df.drop_duplicates()"
   ]
  },
  {
   "cell_type": "code",
   "execution_count": null,
   "id": "d9df5a89",
   "metadata": {},
   "outputs": [],
   "source": [
    "df.drop_duplicates(keep='last', inplace=True)\n",
    "df"
   ]
  },
  {
   "cell_type": "markdown",
   "id": "88ff2fb6",
   "metadata": {},
   "source": [
    "# Renaming Axis Indexes"
   ]
  },
  {
   "cell_type": "code",
   "execution_count": null,
   "id": "6d51db9a",
   "metadata": {},
   "outputs": [],
   "source": [
    "df = pd.read_csv('books.csv')\n",
    "df"
   ]
  },
  {
   "cell_type": "code",
   "execution_count": null,
   "id": "cb869855",
   "metadata": {},
   "outputs": [],
   "source": [
    "df = pd.read_csv('books.csv', index_col=0)\n",
    "df"
   ]
  },
  {
   "cell_type": "code",
   "execution_count": null,
   "id": "30898dbe",
   "metadata": {},
   "outputs": [],
   "source": [
    "df.rename(columns = {'PublicationDate':'Publication'}, inplace=True)\n",
    "df"
   ]
  },
  {
   "cell_type": "code",
   "execution_count": null,
   "id": "36329492",
   "metadata": {},
   "outputs": [],
   "source": [
    "df.rename(index=str.lower, columns=str.upper, inplace=True)\n",
    "df"
   ]
  },
  {
   "cell_type": "code",
   "execution_count": null,
   "id": "38d13791",
   "metadata": {},
   "outputs": [],
   "source": [
    "limiter = lambda x: x[:5]\n",
    "df.index = df.index.map(limiter)\n",
    "df"
   ]
  },
  {
   "cell_type": "markdown",
   "id": "c6c04620",
   "metadata": {},
   "source": [
    "# Sparse DataFrames"
   ]
  },
  {
   "cell_type": "code",
   "execution_count": null,
   "id": "e7dfc24f",
   "metadata": {},
   "outputs": [],
   "source": [
    "arr = np.random.randn(10000)\n",
    "arr[arr < 1] = np.nan\n",
    "df = pd.DataFrame(arr.reshape(100,100))\n",
    "df"
   ]
  },
  {
   "cell_type": "code",
   "execution_count": null,
   "id": "1f61f823",
   "metadata": {},
   "outputs": [],
   "source": [
    "'{:0.2f} bytes'.format(df.memory_usage().sum() / 1e3)"
   ]
  },
  {
   "cell_type": "code",
   "execution_count": null,
   "id": "80a986c0",
   "metadata": {},
   "outputs": [],
   "source": [
    "sdf = df.astype(pd.SparseDtype(\"float\", np.nan))"
   ]
  },
  {
   "cell_type": "code",
   "execution_count": null,
   "id": "babb24a2",
   "metadata": {},
   "outputs": [],
   "source": [
    "sdf.sparse.density"
   ]
  },
  {
   "cell_type": "code",
   "execution_count": null,
   "id": "ceb257d5",
   "metadata": {},
   "outputs": [],
   "source": [
    "'{:0.2f} bytes'.format(sdf.memory_usage().sum() / 1e3)"
   ]
  }
 ],
 "metadata": {
  "kernelspec": {
   "display_name": "Python 3 (ipykernel)",
   "language": "python",
   "name": "python3"
  },
  "language_info": {
   "codemirror_mode": {
    "name": "ipython",
    "version": 3
   },
   "file_extension": ".py",
   "mimetype": "text/x-python",
   "name": "python",
   "nbconvert_exporter": "python",
   "pygments_lexer": "ipython3",
   "version": "3.9.13"
  }
 },
 "nbformat": 4,
 "nbformat_minor": 5
}
