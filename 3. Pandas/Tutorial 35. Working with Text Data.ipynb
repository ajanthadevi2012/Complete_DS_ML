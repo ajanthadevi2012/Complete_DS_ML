{
 "cells": [
  {
   "cell_type": "code",
   "execution_count": null,
   "id": "f3dca018",
   "metadata": {},
   "outputs": [],
   "source": [
    "import numpy as np\n",
    "import pandas as pd"
   ]
  },
  {
   "cell_type": "markdown",
   "id": "fc7dfcac",
   "metadata": {},
   "source": [
    "# Working with Text Data"
   ]
  },
  {
   "cell_type": "code",
   "execution_count": null,
   "id": "a2905f35",
   "metadata": {},
   "outputs": [],
   "source": [
    "df = pd.read_csv('Data/books.csv')\n",
    "print(df)"
   ]
  },
  {
   "cell_type": "code",
   "execution_count": null,
   "id": "15554297",
   "metadata": {},
   "outputs": [],
   "source": [
    "print(df.ID)"
   ]
  },
  {
   "cell_type": "code",
   "execution_count": null,
   "id": "6ed1c681",
   "metadata": {},
   "outputs": [],
   "source": [
    "print(df.Title)"
   ]
  },
  {
   "cell_type": "code",
   "execution_count": null,
   "id": "78b33ee4",
   "metadata": {},
   "outputs": [],
   "source": [
    "print(df.Author)"
   ]
  },
  {
   "cell_type": "code",
   "execution_count": null,
   "id": "aca2200e",
   "metadata": {},
   "outputs": [],
   "source": [
    "df = pd.read_csv('Data/books.csv', dtype='string')\n",
    "print(df)"
   ]
  },
  {
   "cell_type": "code",
   "execution_count": null,
   "id": "6d612277",
   "metadata": {},
   "outputs": [],
   "source": [
    "df.PublicationDate"
   ]
  },
  {
   "cell_type": "code",
   "execution_count": null,
   "id": "15855c06",
   "metadata": {},
   "outputs": [],
   "source": [
    "df.PublicationDate = pd.to_datetime(df.PublicationDate)\n",
    "df.PublicationDate"
   ]
  },
  {
   "cell_type": "code",
   "execution_count": null,
   "id": "5bee920d",
   "metadata": {},
   "outputs": [],
   "source": [
    "df.Title = df.Title.astype('string')\n",
    "df.Title"
   ]
  },
  {
   "cell_type": "code",
   "execution_count": null,
   "id": "ec6400fc",
   "metadata": {},
   "outputs": [],
   "source": [
    "df.Title.str.upper()"
   ]
  },
  {
   "cell_type": "code",
   "execution_count": null,
   "id": "b62a31ee",
   "metadata": {},
   "outputs": [],
   "source": [
    "df.Title.str.lower()"
   ]
  },
  {
   "cell_type": "code",
   "execution_count": null,
   "id": "24261723",
   "metadata": {},
   "outputs": [],
   "source": [
    "df['Comment'] = [' Too long for a child   ',\n",
    "                 'Interesting     book  ',\n",
    "                 '   Very Impressive']\n",
    "print(df)"
   ]
  },
  {
   "cell_type": "code",
   "execution_count": null,
   "id": "004f20bc",
   "metadata": {},
   "outputs": [],
   "source": [
    "df.Comment.str.len()"
   ]
  },
  {
   "cell_type": "code",
   "execution_count": null,
   "id": "9a984ff2",
   "metadata": {},
   "outputs": [],
   "source": [
    "df.Comment = df.Comment.str.strip()\n",
    "print(df.Comment)"
   ]
  },
  {
   "cell_type": "code",
   "execution_count": null,
   "id": "9eae8e11",
   "metadata": {},
   "outputs": [],
   "source": [
    "print(df.Comment.str.len())"
   ]
  },
  {
   "cell_type": "code",
   "execution_count": null,
   "id": "797ee4b0",
   "metadata": {},
   "outputs": [],
   "source": [
    "df.Comment.str.replace('  ','')"
   ]
  },
  {
   "cell_type": "code",
   "execution_count": null,
   "id": "00c71c87",
   "metadata": {},
   "outputs": [],
   "source": [
    "df"
   ]
  },
  {
   "cell_type": "code",
   "execution_count": null,
   "id": "d5117956",
   "metadata": {},
   "outputs": [],
   "source": [
    "df.Author = df.Author.str.replace(' ',',')\n",
    "print(df.Author)"
   ]
  },
  {
   "cell_type": "code",
   "execution_count": null,
   "id": "0894edfb",
   "metadata": {},
   "outputs": [],
   "source": [
    "df.Comment.str.replace('book','novel')"
   ]
  },
  {
   "cell_type": "code",
   "execution_count": null,
   "id": "e53cd9b2",
   "metadata": {},
   "outputs": [],
   "source": [
    "df.Title.str.split()"
   ]
  },
  {
   "cell_type": "code",
   "execution_count": null,
   "id": "351296dd",
   "metadata": {},
   "outputs": [],
   "source": [
    "df.Author.str.split(',')"
   ]
  },
  {
   "cell_type": "code",
   "execution_count": null,
   "id": "0e13125e",
   "metadata": {},
   "outputs": [],
   "source": [
    "dfw = df.Author.str.split(',', expand=True)\n",
    "print(dfw)"
   ]
  },
  {
   "cell_type": "code",
   "execution_count": null,
   "id": "058b96a0",
   "metadata": {},
   "outputs": [],
   "source": [
    "type(dfw)"
   ]
  },
  {
   "cell_type": "code",
   "execution_count": null,
   "id": "21fd61da",
   "metadata": {},
   "outputs": [],
   "source": [
    "df[['Author_name','Author_surname']] = df.Author.str.split(',', expand=True)\n",
    "del df['Author']\n",
    "df"
   ]
  },
  {
   "cell_type": "code",
   "execution_count": null,
   "id": "b6f0bfd1",
   "metadata": {},
   "outputs": [],
   "source": [
    "df['Author'] = df['Author_name'] + ' ' + df['Author_surname']\n",
    "df"
   ]
  },
  {
   "cell_type": "code",
   "execution_count": null,
   "id": "cd1d973d",
   "metadata": {},
   "outputs": [],
   "source": [
    "df.Author_name.str.cat(df.Author_surname, sep=' ')"
   ]
  },
  {
   "cell_type": "code",
   "execution_count": null,
   "id": "1a8d01ea",
   "metadata": {},
   "outputs": [],
   "source": [
    "del df['Author_surname']\n",
    "del df['Author_name']\n",
    "df"
   ]
  },
  {
   "cell_type": "code",
   "execution_count": null,
   "id": "4ceea7b0",
   "metadata": {},
   "outputs": [],
   "source": [
    "df['ID1'] = df.ID.str.replace('([A-Z]+)', '', regex=True)\n",
    "print(df.ID1)"
   ]
  },
  {
   "cell_type": "code",
   "execution_count": null,
   "id": "23eeeb89",
   "metadata": {},
   "outputs": [],
   "source": [
    "df['ID2'] = df.ID.str.replace('([0-9]+)', '', regex=True)\n",
    "print(df.ID2)"
   ]
  },
  {
   "cell_type": "code",
   "execution_count": null,
   "id": "f1fdd8ad",
   "metadata": {},
   "outputs": [],
   "source": [
    "del df['ID']\n",
    "df"
   ]
  },
  {
   "cell_type": "code",
   "execution_count": null,
   "id": "eb9a8df1",
   "metadata": {},
   "outputs": [],
   "source": [
    "df['ID'] = df.ID1.str.cat(df.ID2)\n",
    "df.ID.str.extract('([0-9]+)')"
   ]
  },
  {
   "cell_type": "code",
   "execution_count": null,
   "id": "97f156ff",
   "metadata": {},
   "outputs": [],
   "source": [
    "df.ID.str.extract('([A-Z]+)')"
   ]
  },
  {
   "cell_type": "code",
   "execution_count": null,
   "id": "4df89a62",
   "metadata": {},
   "outputs": [],
   "source": [
    "del df['ID']\n",
    "df"
   ]
  },
  {
   "cell_type": "code",
   "execution_count": null,
   "id": "a1f12637",
   "metadata": {},
   "outputs": [],
   "source": [
    "df.ID2.str.cat(['USA','ITA','FRA'],sep='-')"
   ]
  },
  {
   "cell_type": "code",
   "execution_count": null,
   "id": "916d15d7",
   "metadata": {},
   "outputs": [],
   "source": [
    "df['temp'] = 'USA'\n",
    "df.ID2 = df.ID2.str.cat(df['temp'],sep='-')\n",
    "del df['temp']\n",
    "print(df.ID2)"
   ]
  },
  {
   "cell_type": "code",
   "execution_count": null,
   "id": "9b8c9d9d",
   "metadata": {},
   "outputs": [],
   "source": [
    "df"
   ]
  },
  {
   "cell_type": "code",
   "execution_count": null,
   "id": "b1a91210",
   "metadata": {},
   "outputs": [],
   "source": [
    "df.ID1.str.isdigit()"
   ]
  },
  {
   "cell_type": "code",
   "execution_count": null,
   "id": "d553195b",
   "metadata": {},
   "outputs": [],
   "source": [
    "df.ID2.str.isalnum()"
   ]
  },
  {
   "cell_type": "code",
   "execution_count": null,
   "id": "4ceae02c",
   "metadata": {},
   "outputs": [],
   "source": [
    "df.Title.str.find('love')"
   ]
  },
  {
   "cell_type": "code",
   "execution_count": null,
   "id": "c1bd316a",
   "metadata": {},
   "outputs": [],
   "source": [
    "df.Title.str.find('love') > -1"
   ]
  }
 ],
 "metadata": {
  "kernelspec": {
   "display_name": "Python 3 (ipykernel)",
   "language": "python",
   "name": "python3"
  },
  "language_info": {
   "codemirror_mode": {
    "name": "ipython",
    "version": 3
   },
   "file_extension": ".py",
   "mimetype": "text/x-python",
   "name": "python",
   "nbconvert_exporter": "python",
   "pygments_lexer": "ipython3",
   "version": "3.9.13"
  }
 },
 "nbformat": 4,
 "nbformat_minor": 5
}
