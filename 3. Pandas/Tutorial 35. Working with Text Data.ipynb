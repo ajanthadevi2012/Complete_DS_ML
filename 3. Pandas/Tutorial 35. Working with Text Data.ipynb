{
 "cells": [
  {
   "cell_type": "code",
   "execution_count": 1,
   "id": "f3dca018",
   "metadata": {},
   "outputs": [],
   "source": [
    "import numpy as np \n",
    "import pandas as pd"
   ]
  },
  {
   "cell_type": "markdown",
   "id": "fc7dfcac",
   "metadata": {},
   "source": [
    "# Working with Text Data"
   ]
  },
  {
   "cell_type": "code",
   "execution_count": 2,
   "id": "a2905f35",
   "metadata": {},
   "outputs": [
    {
     "name": "stdout",
     "output_type": "stream",
     "text": [
      "        ID                   Title          Author PublicationDate\n",
      "0  001276A  The Rise of the Falcon    John Admiral     25-Apr-2018\n",
      "1  023125B         Controlled mind   Robert Greens     28-Aug-2016\n",
      "2  005556E       Only love remains  Greta Blooming     17-Feb-2015\n"
     ]
    }
   ],
   "source": [
    "df = pd.read_csv('Data/books.csv')\n",
    "print(df)"
   ]
  },
  {
   "cell_type": "code",
   "execution_count": 3,
   "id": "15554297",
   "metadata": {},
   "outputs": [
    {
     "name": "stdout",
     "output_type": "stream",
     "text": [
      "0    001276A\n",
      "1    023125B\n",
      "2    005556E\n",
      "Name: ID, dtype: object\n"
     ]
    }
   ],
   "source": [
    "print(df.ID)"
   ]
  },
  {
   "cell_type": "code",
   "execution_count": 4,
   "id": "6ed1c681",
   "metadata": {},
   "outputs": [
    {
     "name": "stdout",
     "output_type": "stream",
     "text": [
      "0    The Rise of the Falcon\n",
      "1           Controlled mind\n",
      "2         Only love remains\n",
      "Name: Title, dtype: object\n"
     ]
    }
   ],
   "source": [
    "print(df.Title)"
   ]
  },
  {
   "cell_type": "code",
   "execution_count": 5,
   "id": "78b33ee4",
   "metadata": {},
   "outputs": [
    {
     "name": "stdout",
     "output_type": "stream",
     "text": [
      "0      John Admiral\n",
      "1     Robert Greens\n",
      "2    Greta Blooming\n",
      "Name: Author, dtype: object\n"
     ]
    }
   ],
   "source": [
    "print(df.Author)"
   ]
  },
  {
   "cell_type": "code",
   "execution_count": 6,
   "id": "aca2200e",
   "metadata": {},
   "outputs": [
    {
     "name": "stdout",
     "output_type": "stream",
     "text": [
      "        ID                   Title          Author PublicationDate\n",
      "0  001276A  The Rise of the Falcon    John Admiral     25-Apr-2018\n",
      "1  023125B         Controlled mind   Robert Greens     28-Aug-2016\n",
      "2  005556E       Only love remains  Greta Blooming     17-Feb-2015\n"
     ]
    }
   ],
   "source": [
    "df = pd.read_csv('Data/books.csv', dtype='string')\n",
    "print(df)"
   ]
  },
  {
   "cell_type": "code",
   "execution_count": 7,
   "id": "6d612277",
   "metadata": {},
   "outputs": [
    {
     "data": {
      "text/plain": [
       "0    25-Apr-2018\n",
       "1    28-Aug-2016\n",
       "2    17-Feb-2015\n",
       "Name: PublicationDate, dtype: string"
      ]
     },
     "execution_count": 7,
     "metadata": {},
     "output_type": "execute_result"
    }
   ],
   "source": [
    "df.PublicationDate"
   ]
  },
  {
   "cell_type": "code",
   "execution_count": 8,
   "id": "15855c06",
   "metadata": {},
   "outputs": [
    {
     "data": {
      "text/plain": [
       "0   2018-04-25\n",
       "1   2016-08-28\n",
       "2   2015-02-17\n",
       "Name: PublicationDate, dtype: datetime64[ns]"
      ]
     },
     "execution_count": 8,
     "metadata": {},
     "output_type": "execute_result"
    }
   ],
   "source": [
    "df.PublicationDate = pd.to_datetime(df.PublicationDate)\n",
    "df.PublicationDate"
   ]
  },
  {
   "cell_type": "code",
   "execution_count": 9,
   "id": "5bee920d",
   "metadata": {},
   "outputs": [
    {
     "data": {
      "text/plain": [
       "0    The Rise of the Falcon\n",
       "1           Controlled mind\n",
       "2         Only love remains\n",
       "Name: Title, dtype: string"
      ]
     },
     "execution_count": 9,
     "metadata": {},
     "output_type": "execute_result"
    }
   ],
   "source": [
    "df.Title = df.Title.astype('string')\n",
    "df.Title"
   ]
  },
  {
   "cell_type": "code",
   "execution_count": 10,
   "id": "ec6400fc",
   "metadata": {},
   "outputs": [
    {
     "data": {
      "text/plain": [
       "0    THE RISE OF THE FALCON\n",
       "1           CONTROLLED MIND\n",
       "2         ONLY LOVE REMAINS\n",
       "Name: Title, dtype: string"
      ]
     },
     "execution_count": 10,
     "metadata": {},
     "output_type": "execute_result"
    }
   ],
   "source": [
    "df.Title.str.upper()"
   ]
  },
  {
   "cell_type": "code",
   "execution_count": 11,
   "id": "b62a31ee",
   "metadata": {},
   "outputs": [
    {
     "data": {
      "text/plain": [
       "0    the rise of the falcon\n",
       "1           controlled mind\n",
       "2         only love remains\n",
       "Name: Title, dtype: string"
      ]
     },
     "execution_count": 11,
     "metadata": {},
     "output_type": "execute_result"
    }
   ],
   "source": [
    "df.Title.str.lower()"
   ]
  },
  {
   "cell_type": "code",
   "execution_count": 12,
   "id": "24261723",
   "metadata": {},
   "outputs": [
    {
     "name": "stdout",
     "output_type": "stream",
     "text": [
      "        ID                   Title          Author PublicationDate  \\\n",
      "0  001276A  The Rise of the Falcon    John Admiral      2018-04-25   \n",
      "1  023125B         Controlled mind   Robert Greens      2016-08-28   \n",
      "2  005556E       Only love remains  Greta Blooming      2015-02-17   \n",
      "\n",
      "                    Comment  \n",
      "0   Too long for a child     \n",
      "1    Interesting     book    \n",
      "2           Very Impressive  \n"
     ]
    }
   ],
   "source": [
    "df['Comment'] = [' Too long for a child   ',\n",
    "                 'Interesting     book  ',\n",
    "                 '   Very Impressive']\n",
    "print(df)"
   ]
  },
  {
   "cell_type": "code",
   "execution_count": 13,
   "id": "004f20bc",
   "metadata": {},
   "outputs": [
    {
     "data": {
      "text/plain": [
       "0    24\n",
       "1    22\n",
       "2    18\n",
       "Name: Comment, dtype: int64"
      ]
     },
     "execution_count": 13,
     "metadata": {},
     "output_type": "execute_result"
    }
   ],
   "source": [
    "df.Comment.str.len()"
   ]
  },
  {
   "cell_type": "code",
   "execution_count": 14,
   "id": "9a984ff2",
   "metadata": {},
   "outputs": [
    {
     "name": "stdout",
     "output_type": "stream",
     "text": [
      "0    Too long for a child\n",
      "1    Interesting     book\n",
      "2         Very Impressive\n",
      "Name: Comment, dtype: object\n"
     ]
    }
   ],
   "source": [
    "df.Comment = df.Comment.str.strip()\n",
    "print(df.Comment)"
   ]
  },
  {
   "cell_type": "code",
   "execution_count": 15,
   "id": "9eae8e11",
   "metadata": {},
   "outputs": [
    {
     "name": "stdout",
     "output_type": "stream",
     "text": [
      "0    20\n",
      "1    20\n",
      "2    15\n",
      "Name: Comment, dtype: int64\n"
     ]
    }
   ],
   "source": [
    "print(df.Comment.str.len())"
   ]
  },
  {
   "cell_type": "code",
   "execution_count": 16,
   "id": "797ee4b0",
   "metadata": {},
   "outputs": [
    {
     "data": {
      "text/plain": [
       "0    Too long for a child\n",
       "1        Interesting book\n",
       "2         Very Impressive\n",
       "Name: Comment, dtype: object"
      ]
     },
     "execution_count": 16,
     "metadata": {},
     "output_type": "execute_result"
    }
   ],
   "source": [
    "df.Comment.str.replace('  ','')"
   ]
  },
  {
   "cell_type": "code",
   "execution_count": 17,
   "id": "00c71c87",
   "metadata": {},
   "outputs": [
    {
     "data": {
      "text/html": [
       "<div>\n",
       "<style scoped>\n",
       "    .dataframe tbody tr th:only-of-type {\n",
       "        vertical-align: middle;\n",
       "    }\n",
       "\n",
       "    .dataframe tbody tr th {\n",
       "        vertical-align: top;\n",
       "    }\n",
       "\n",
       "    .dataframe thead th {\n",
       "        text-align: right;\n",
       "    }\n",
       "</style>\n",
       "<table border=\"1\" class=\"dataframe\">\n",
       "  <thead>\n",
       "    <tr style=\"text-align: right;\">\n",
       "      <th></th>\n",
       "      <th>ID</th>\n",
       "      <th>Title</th>\n",
       "      <th>Author</th>\n",
       "      <th>PublicationDate</th>\n",
       "      <th>Comment</th>\n",
       "    </tr>\n",
       "  </thead>\n",
       "  <tbody>\n",
       "    <tr>\n",
       "      <th>0</th>\n",
       "      <td>001276A</td>\n",
       "      <td>The Rise of the Falcon</td>\n",
       "      <td>John Admiral</td>\n",
       "      <td>2018-04-25</td>\n",
       "      <td>Too long for a child</td>\n",
       "    </tr>\n",
       "    <tr>\n",
       "      <th>1</th>\n",
       "      <td>023125B</td>\n",
       "      <td>Controlled mind</td>\n",
       "      <td>Robert Greens</td>\n",
       "      <td>2016-08-28</td>\n",
       "      <td>Interesting     book</td>\n",
       "    </tr>\n",
       "    <tr>\n",
       "      <th>2</th>\n",
       "      <td>005556E</td>\n",
       "      <td>Only love remains</td>\n",
       "      <td>Greta Blooming</td>\n",
       "      <td>2015-02-17</td>\n",
       "      <td>Very Impressive</td>\n",
       "    </tr>\n",
       "  </tbody>\n",
       "</table>\n",
       "</div>"
      ],
      "text/plain": [
       "        ID                   Title          Author PublicationDate  \\\n",
       "0  001276A  The Rise of the Falcon    John Admiral      2018-04-25   \n",
       "1  023125B         Controlled mind   Robert Greens      2016-08-28   \n",
       "2  005556E       Only love remains  Greta Blooming      2015-02-17   \n",
       "\n",
       "                Comment  \n",
       "0  Too long for a child  \n",
       "1  Interesting     book  \n",
       "2       Very Impressive  "
      ]
     },
     "execution_count": 17,
     "metadata": {},
     "output_type": "execute_result"
    }
   ],
   "source": [
    "df"
   ]
  },
  {
   "cell_type": "code",
   "execution_count": 18,
   "id": "d5117956",
   "metadata": {},
   "outputs": [
    {
     "name": "stdout",
     "output_type": "stream",
     "text": [
      "0      John,Admiral\n",
      "1     Robert,Greens\n",
      "2    Greta,Blooming\n",
      "Name: Author, dtype: string\n"
     ]
    }
   ],
   "source": [
    "df.Author = df.Author.str.replace(' ',',')\n",
    "print(df.Author)"
   ]
  },
  {
   "cell_type": "code",
   "execution_count": 19,
   "id": "0894edfb",
   "metadata": {},
   "outputs": [
    {
     "data": {
      "text/plain": [
       "0     Too long for a child\n",
       "1    Interesting     novel\n",
       "2          Very Impressive\n",
       "Name: Comment, dtype: object"
      ]
     },
     "execution_count": 19,
     "metadata": {},
     "output_type": "execute_result"
    }
   ],
   "source": [
    "df.Comment.str.replace('book','novel')"
   ]
  },
  {
   "cell_type": "code",
   "execution_count": 20,
   "id": "e53cd9b2",
   "metadata": {},
   "outputs": [
    {
     "data": {
      "text/plain": [
       "0    [The, Rise, of, the, Falcon]\n",
       "1              [Controlled, mind]\n",
       "2           [Only, love, remains]\n",
       "Name: Title, dtype: object"
      ]
     },
     "execution_count": 20,
     "metadata": {},
     "output_type": "execute_result"
    }
   ],
   "source": [
    "df.Title.str.split()"
   ]
  },
  {
   "cell_type": "code",
   "execution_count": 21,
   "id": "351296dd",
   "metadata": {},
   "outputs": [
    {
     "data": {
      "text/plain": [
       "0      [John, Admiral]\n",
       "1     [Robert, Greens]\n",
       "2    [Greta, Blooming]\n",
       "Name: Author, dtype: object"
      ]
     },
     "execution_count": 21,
     "metadata": {},
     "output_type": "execute_result"
    }
   ],
   "source": [
    "df.Author.str.split(',')"
   ]
  },
  {
   "cell_type": "code",
   "execution_count": 22,
   "id": "0e13125e",
   "metadata": {},
   "outputs": [
    {
     "name": "stdout",
     "output_type": "stream",
     "text": [
      "        0         1\n",
      "0    John   Admiral\n",
      "1  Robert    Greens\n",
      "2   Greta  Blooming\n"
     ]
    }
   ],
   "source": [
    "dfw = df.Author.str.split(',', expand=True)\n",
    "print(dfw)"
   ]
  },
  {
   "cell_type": "code",
   "execution_count": 23,
   "id": "058b96a0",
   "metadata": {},
   "outputs": [
    {
     "data": {
      "text/plain": [
       "pandas.core.frame.DataFrame"
      ]
     },
     "execution_count": 23,
     "metadata": {},
     "output_type": "execute_result"
    }
   ],
   "source": [
    "type(dfw)"
   ]
  },
  {
   "cell_type": "code",
   "execution_count": 24,
   "id": "21fd61da",
   "metadata": {},
   "outputs": [
    {
     "data": {
      "text/html": [
       "<div>\n",
       "<style scoped>\n",
       "    .dataframe tbody tr th:only-of-type {\n",
       "        vertical-align: middle;\n",
       "    }\n",
       "\n",
       "    .dataframe tbody tr th {\n",
       "        vertical-align: top;\n",
       "    }\n",
       "\n",
       "    .dataframe thead th {\n",
       "        text-align: right;\n",
       "    }\n",
       "</style>\n",
       "<table border=\"1\" class=\"dataframe\">\n",
       "  <thead>\n",
       "    <tr style=\"text-align: right;\">\n",
       "      <th></th>\n",
       "      <th>ID</th>\n",
       "      <th>Title</th>\n",
       "      <th>PublicationDate</th>\n",
       "      <th>Comment</th>\n",
       "      <th>Author_name</th>\n",
       "      <th>Author_surname</th>\n",
       "    </tr>\n",
       "  </thead>\n",
       "  <tbody>\n",
       "    <tr>\n",
       "      <th>0</th>\n",
       "      <td>001276A</td>\n",
       "      <td>The Rise of the Falcon</td>\n",
       "      <td>2018-04-25</td>\n",
       "      <td>Too long for a child</td>\n",
       "      <td>John</td>\n",
       "      <td>Admiral</td>\n",
       "    </tr>\n",
       "    <tr>\n",
       "      <th>1</th>\n",
       "      <td>023125B</td>\n",
       "      <td>Controlled mind</td>\n",
       "      <td>2016-08-28</td>\n",
       "      <td>Interesting     book</td>\n",
       "      <td>Robert</td>\n",
       "      <td>Greens</td>\n",
       "    </tr>\n",
       "    <tr>\n",
       "      <th>2</th>\n",
       "      <td>005556E</td>\n",
       "      <td>Only love remains</td>\n",
       "      <td>2015-02-17</td>\n",
       "      <td>Very Impressive</td>\n",
       "      <td>Greta</td>\n",
       "      <td>Blooming</td>\n",
       "    </tr>\n",
       "  </tbody>\n",
       "</table>\n",
       "</div>"
      ],
      "text/plain": [
       "        ID                   Title PublicationDate               Comment  \\\n",
       "0  001276A  The Rise of the Falcon      2018-04-25  Too long for a child   \n",
       "1  023125B         Controlled mind      2016-08-28  Interesting     book   \n",
       "2  005556E       Only love remains      2015-02-17       Very Impressive   \n",
       "\n",
       "  Author_name Author_surname  \n",
       "0        John        Admiral  \n",
       "1      Robert         Greens  \n",
       "2       Greta       Blooming  "
      ]
     },
     "execution_count": 24,
     "metadata": {},
     "output_type": "execute_result"
    }
   ],
   "source": [
    "df[['Author_name','Author_surname']] = df.Author.str.split(',', expand=True)\n",
    "del df['Author']\n",
    "df"
   ]
  },
  {
   "cell_type": "code",
   "execution_count": 25,
   "id": "b6f0bfd1",
   "metadata": {},
   "outputs": [
    {
     "data": {
      "text/html": [
       "<div>\n",
       "<style scoped>\n",
       "    .dataframe tbody tr th:only-of-type {\n",
       "        vertical-align: middle;\n",
       "    }\n",
       "\n",
       "    .dataframe tbody tr th {\n",
       "        vertical-align: top;\n",
       "    }\n",
       "\n",
       "    .dataframe thead th {\n",
       "        text-align: right;\n",
       "    }\n",
       "</style>\n",
       "<table border=\"1\" class=\"dataframe\">\n",
       "  <thead>\n",
       "    <tr style=\"text-align: right;\">\n",
       "      <th></th>\n",
       "      <th>ID</th>\n",
       "      <th>Title</th>\n",
       "      <th>PublicationDate</th>\n",
       "      <th>Comment</th>\n",
       "      <th>Author_name</th>\n",
       "      <th>Author_surname</th>\n",
       "      <th>Author</th>\n",
       "    </tr>\n",
       "  </thead>\n",
       "  <tbody>\n",
       "    <tr>\n",
       "      <th>0</th>\n",
       "      <td>001276A</td>\n",
       "      <td>The Rise of the Falcon</td>\n",
       "      <td>2018-04-25</td>\n",
       "      <td>Too long for a child</td>\n",
       "      <td>John</td>\n",
       "      <td>Admiral</td>\n",
       "      <td>John Admiral</td>\n",
       "    </tr>\n",
       "    <tr>\n",
       "      <th>1</th>\n",
       "      <td>023125B</td>\n",
       "      <td>Controlled mind</td>\n",
       "      <td>2016-08-28</td>\n",
       "      <td>Interesting     book</td>\n",
       "      <td>Robert</td>\n",
       "      <td>Greens</td>\n",
       "      <td>Robert Greens</td>\n",
       "    </tr>\n",
       "    <tr>\n",
       "      <th>2</th>\n",
       "      <td>005556E</td>\n",
       "      <td>Only love remains</td>\n",
       "      <td>2015-02-17</td>\n",
       "      <td>Very Impressive</td>\n",
       "      <td>Greta</td>\n",
       "      <td>Blooming</td>\n",
       "      <td>Greta Blooming</td>\n",
       "    </tr>\n",
       "  </tbody>\n",
       "</table>\n",
       "</div>"
      ],
      "text/plain": [
       "        ID                   Title PublicationDate               Comment  \\\n",
       "0  001276A  The Rise of the Falcon      2018-04-25  Too long for a child   \n",
       "1  023125B         Controlled mind      2016-08-28  Interesting     book   \n",
       "2  005556E       Only love remains      2015-02-17       Very Impressive   \n",
       "\n",
       "  Author_name Author_surname          Author  \n",
       "0        John        Admiral    John Admiral  \n",
       "1      Robert         Greens   Robert Greens  \n",
       "2       Greta       Blooming  Greta Blooming  "
      ]
     },
     "execution_count": 25,
     "metadata": {},
     "output_type": "execute_result"
    }
   ],
   "source": [
    "df['Author'] = df['Author_name'] + ' ' + df['Author_surname']\n",
    "df"
   ]
  },
  {
   "cell_type": "code",
   "execution_count": 26,
   "id": "cd1d973d",
   "metadata": {},
   "outputs": [
    {
     "data": {
      "text/plain": [
       "0      John Admiral\n",
       "1     Robert Greens\n",
       "2    Greta Blooming\n",
       "Name: Author_name, dtype: string"
      ]
     },
     "execution_count": 26,
     "metadata": {},
     "output_type": "execute_result"
    }
   ],
   "source": [
    "df.Author_name.str.cat(df.Author_surname, sep=' ')"
   ]
  },
  {
   "cell_type": "code",
   "execution_count": 27,
   "id": "1a8d01ea",
   "metadata": {},
   "outputs": [
    {
     "data": {
      "text/html": [
       "<div>\n",
       "<style scoped>\n",
       "    .dataframe tbody tr th:only-of-type {\n",
       "        vertical-align: middle;\n",
       "    }\n",
       "\n",
       "    .dataframe tbody tr th {\n",
       "        vertical-align: top;\n",
       "    }\n",
       "\n",
       "    .dataframe thead th {\n",
       "        text-align: right;\n",
       "    }\n",
       "</style>\n",
       "<table border=\"1\" class=\"dataframe\">\n",
       "  <thead>\n",
       "    <tr style=\"text-align: right;\">\n",
       "      <th></th>\n",
       "      <th>ID</th>\n",
       "      <th>Title</th>\n",
       "      <th>PublicationDate</th>\n",
       "      <th>Comment</th>\n",
       "      <th>Author</th>\n",
       "    </tr>\n",
       "  </thead>\n",
       "  <tbody>\n",
       "    <tr>\n",
       "      <th>0</th>\n",
       "      <td>001276A</td>\n",
       "      <td>The Rise of the Falcon</td>\n",
       "      <td>2018-04-25</td>\n",
       "      <td>Too long for a child</td>\n",
       "      <td>John Admiral</td>\n",
       "    </tr>\n",
       "    <tr>\n",
       "      <th>1</th>\n",
       "      <td>023125B</td>\n",
       "      <td>Controlled mind</td>\n",
       "      <td>2016-08-28</td>\n",
       "      <td>Interesting     book</td>\n",
       "      <td>Robert Greens</td>\n",
       "    </tr>\n",
       "    <tr>\n",
       "      <th>2</th>\n",
       "      <td>005556E</td>\n",
       "      <td>Only love remains</td>\n",
       "      <td>2015-02-17</td>\n",
       "      <td>Very Impressive</td>\n",
       "      <td>Greta Blooming</td>\n",
       "    </tr>\n",
       "  </tbody>\n",
       "</table>\n",
       "</div>"
      ],
      "text/plain": [
       "        ID                   Title PublicationDate               Comment  \\\n",
       "0  001276A  The Rise of the Falcon      2018-04-25  Too long for a child   \n",
       "1  023125B         Controlled mind      2016-08-28  Interesting     book   \n",
       "2  005556E       Only love remains      2015-02-17       Very Impressive   \n",
       "\n",
       "           Author  \n",
       "0    John Admiral  \n",
       "1   Robert Greens  \n",
       "2  Greta Blooming  "
      ]
     },
     "execution_count": 27,
     "metadata": {},
     "output_type": "execute_result"
    }
   ],
   "source": [
    "del df['Author_surname']\n",
    "del df['Author_name']\n",
    "df"
   ]
  },
  {
   "cell_type": "code",
   "execution_count": 28,
   "id": "4ceea7b0",
   "metadata": {},
   "outputs": [
    {
     "name": "stdout",
     "output_type": "stream",
     "text": [
      "0    001276\n",
      "1    023125\n",
      "2    005556\n",
      "Name: ID1, dtype: string\n"
     ]
    }
   ],
   "source": [
    "df['ID1'] = df.ID.str.replace('([A-Z]+)', '', regex=True)\n",
    "print(df.ID1)"
   ]
  },
  {
   "cell_type": "code",
   "execution_count": 29,
   "id": "23eeeb89",
   "metadata": {},
   "outputs": [
    {
     "name": "stdout",
     "output_type": "stream",
     "text": [
      "0    A\n",
      "1    B\n",
      "2    E\n",
      "Name: ID2, dtype: string\n"
     ]
    }
   ],
   "source": [
    "df['ID2'] = df.ID.str.replace('([0-9]+)', '', regex=True)\n",
    "print(df.ID2)"
   ]
  },
  {
   "cell_type": "code",
   "execution_count": 30,
   "id": "f1fdd8ad",
   "metadata": {},
   "outputs": [
    {
     "data": {
      "text/html": [
       "<div>\n",
       "<style scoped>\n",
       "    .dataframe tbody tr th:only-of-type {\n",
       "        vertical-align: middle;\n",
       "    }\n",
       "\n",
       "    .dataframe tbody tr th {\n",
       "        vertical-align: top;\n",
       "    }\n",
       "\n",
       "    .dataframe thead th {\n",
       "        text-align: right;\n",
       "    }\n",
       "</style>\n",
       "<table border=\"1\" class=\"dataframe\">\n",
       "  <thead>\n",
       "    <tr style=\"text-align: right;\">\n",
       "      <th></th>\n",
       "      <th>Title</th>\n",
       "      <th>PublicationDate</th>\n",
       "      <th>Comment</th>\n",
       "      <th>Author</th>\n",
       "      <th>ID1</th>\n",
       "      <th>ID2</th>\n",
       "    </tr>\n",
       "  </thead>\n",
       "  <tbody>\n",
       "    <tr>\n",
       "      <th>0</th>\n",
       "      <td>The Rise of the Falcon</td>\n",
       "      <td>2018-04-25</td>\n",
       "      <td>Too long for a child</td>\n",
       "      <td>John Admiral</td>\n",
       "      <td>001276</td>\n",
       "      <td>A</td>\n",
       "    </tr>\n",
       "    <tr>\n",
       "      <th>1</th>\n",
       "      <td>Controlled mind</td>\n",
       "      <td>2016-08-28</td>\n",
       "      <td>Interesting     book</td>\n",
       "      <td>Robert Greens</td>\n",
       "      <td>023125</td>\n",
       "      <td>B</td>\n",
       "    </tr>\n",
       "    <tr>\n",
       "      <th>2</th>\n",
       "      <td>Only love remains</td>\n",
       "      <td>2015-02-17</td>\n",
       "      <td>Very Impressive</td>\n",
       "      <td>Greta Blooming</td>\n",
       "      <td>005556</td>\n",
       "      <td>E</td>\n",
       "    </tr>\n",
       "  </tbody>\n",
       "</table>\n",
       "</div>"
      ],
      "text/plain": [
       "                    Title PublicationDate               Comment  \\\n",
       "0  The Rise of the Falcon      2018-04-25  Too long for a child   \n",
       "1         Controlled mind      2016-08-28  Interesting     book   \n",
       "2       Only love remains      2015-02-17       Very Impressive   \n",
       "\n",
       "           Author     ID1 ID2  \n",
       "0    John Admiral  001276   A  \n",
       "1   Robert Greens  023125   B  \n",
       "2  Greta Blooming  005556   E  "
      ]
     },
     "execution_count": 30,
     "metadata": {},
     "output_type": "execute_result"
    }
   ],
   "source": [
    "del df['ID']\n",
    "df"
   ]
  },
  {
   "cell_type": "code",
   "execution_count": 31,
   "id": "eb9a8df1",
   "metadata": {},
   "outputs": [
    {
     "data": {
      "text/html": [
       "<div>\n",
       "<style scoped>\n",
       "    .dataframe tbody tr th:only-of-type {\n",
       "        vertical-align: middle;\n",
       "    }\n",
       "\n",
       "    .dataframe tbody tr th {\n",
       "        vertical-align: top;\n",
       "    }\n",
       "\n",
       "    .dataframe thead th {\n",
       "        text-align: right;\n",
       "    }\n",
       "</style>\n",
       "<table border=\"1\" class=\"dataframe\">\n",
       "  <thead>\n",
       "    <tr style=\"text-align: right;\">\n",
       "      <th></th>\n",
       "      <th>0</th>\n",
       "    </tr>\n",
       "  </thead>\n",
       "  <tbody>\n",
       "    <tr>\n",
       "      <th>0</th>\n",
       "      <td>001276</td>\n",
       "    </tr>\n",
       "    <tr>\n",
       "      <th>1</th>\n",
       "      <td>023125</td>\n",
       "    </tr>\n",
       "    <tr>\n",
       "      <th>2</th>\n",
       "      <td>005556</td>\n",
       "    </tr>\n",
       "  </tbody>\n",
       "</table>\n",
       "</div>"
      ],
      "text/plain": [
       "        0\n",
       "0  001276\n",
       "1  023125\n",
       "2  005556"
      ]
     },
     "execution_count": 31,
     "metadata": {},
     "output_type": "execute_result"
    }
   ],
   "source": [
    "df['ID'] = df.ID1.str.cat(df.ID2)\n",
    "df.ID.str.extract('([0-9]+)')"
   ]
  },
  {
   "cell_type": "code",
   "execution_count": 32,
   "id": "97f156ff",
   "metadata": {},
   "outputs": [
    {
     "data": {
      "text/html": [
       "<div>\n",
       "<style scoped>\n",
       "    .dataframe tbody tr th:only-of-type {\n",
       "        vertical-align: middle;\n",
       "    }\n",
       "\n",
       "    .dataframe tbody tr th {\n",
       "        vertical-align: top;\n",
       "    }\n",
       "\n",
       "    .dataframe thead th {\n",
       "        text-align: right;\n",
       "    }\n",
       "</style>\n",
       "<table border=\"1\" class=\"dataframe\">\n",
       "  <thead>\n",
       "    <tr style=\"text-align: right;\">\n",
       "      <th></th>\n",
       "      <th>0</th>\n",
       "    </tr>\n",
       "  </thead>\n",
       "  <tbody>\n",
       "    <tr>\n",
       "      <th>0</th>\n",
       "      <td>A</td>\n",
       "    </tr>\n",
       "    <tr>\n",
       "      <th>1</th>\n",
       "      <td>B</td>\n",
       "    </tr>\n",
       "    <tr>\n",
       "      <th>2</th>\n",
       "      <td>E</td>\n",
       "    </tr>\n",
       "  </tbody>\n",
       "</table>\n",
       "</div>"
      ],
      "text/plain": [
       "   0\n",
       "0  A\n",
       "1  B\n",
       "2  E"
      ]
     },
     "execution_count": 32,
     "metadata": {},
     "output_type": "execute_result"
    }
   ],
   "source": [
    "df.ID.str.extract('([A-Z]+)')"
   ]
  },
  {
   "cell_type": "code",
   "execution_count": 33,
   "id": "4df89a62",
   "metadata": {},
   "outputs": [
    {
     "data": {
      "text/html": [
       "<div>\n",
       "<style scoped>\n",
       "    .dataframe tbody tr th:only-of-type {\n",
       "        vertical-align: middle;\n",
       "    }\n",
       "\n",
       "    .dataframe tbody tr th {\n",
       "        vertical-align: top;\n",
       "    }\n",
       "\n",
       "    .dataframe thead th {\n",
       "        text-align: right;\n",
       "    }\n",
       "</style>\n",
       "<table border=\"1\" class=\"dataframe\">\n",
       "  <thead>\n",
       "    <tr style=\"text-align: right;\">\n",
       "      <th></th>\n",
       "      <th>Title</th>\n",
       "      <th>PublicationDate</th>\n",
       "      <th>Comment</th>\n",
       "      <th>Author</th>\n",
       "      <th>ID1</th>\n",
       "      <th>ID2</th>\n",
       "    </tr>\n",
       "  </thead>\n",
       "  <tbody>\n",
       "    <tr>\n",
       "      <th>0</th>\n",
       "      <td>The Rise of the Falcon</td>\n",
       "      <td>2018-04-25</td>\n",
       "      <td>Too long for a child</td>\n",
       "      <td>John Admiral</td>\n",
       "      <td>001276</td>\n",
       "      <td>A</td>\n",
       "    </tr>\n",
       "    <tr>\n",
       "      <th>1</th>\n",
       "      <td>Controlled mind</td>\n",
       "      <td>2016-08-28</td>\n",
       "      <td>Interesting     book</td>\n",
       "      <td>Robert Greens</td>\n",
       "      <td>023125</td>\n",
       "      <td>B</td>\n",
       "    </tr>\n",
       "    <tr>\n",
       "      <th>2</th>\n",
       "      <td>Only love remains</td>\n",
       "      <td>2015-02-17</td>\n",
       "      <td>Very Impressive</td>\n",
       "      <td>Greta Blooming</td>\n",
       "      <td>005556</td>\n",
       "      <td>E</td>\n",
       "    </tr>\n",
       "  </tbody>\n",
       "</table>\n",
       "</div>"
      ],
      "text/plain": [
       "                    Title PublicationDate               Comment  \\\n",
       "0  The Rise of the Falcon      2018-04-25  Too long for a child   \n",
       "1         Controlled mind      2016-08-28  Interesting     book   \n",
       "2       Only love remains      2015-02-17       Very Impressive   \n",
       "\n",
       "           Author     ID1 ID2  \n",
       "0    John Admiral  001276   A  \n",
       "1   Robert Greens  023125   B  \n",
       "2  Greta Blooming  005556   E  "
      ]
     },
     "execution_count": 33,
     "metadata": {},
     "output_type": "execute_result"
    }
   ],
   "source": [
    "del df['ID']\n",
    "df"
   ]
  },
  {
   "cell_type": "code",
   "execution_count": 34,
   "id": "a1f12637",
   "metadata": {},
   "outputs": [
    {
     "data": {
      "text/plain": [
       "0    A-USA\n",
       "1    B-ITA\n",
       "2    E-FRA\n",
       "Name: ID2, dtype: string"
      ]
     },
     "execution_count": 34,
     "metadata": {},
     "output_type": "execute_result"
    }
   ],
   "source": [
    "df.ID2.str.cat(['USA','ITA','FRA'],sep='-')"
   ]
  },
  {
   "cell_type": "code",
   "execution_count": 35,
   "id": "916d15d7",
   "metadata": {},
   "outputs": [
    {
     "name": "stdout",
     "output_type": "stream",
     "text": [
      "0    A-USA\n",
      "1    B-USA\n",
      "2    E-USA\n",
      "Name: ID2, dtype: string\n"
     ]
    }
   ],
   "source": [
    "df['temp'] = 'USA'\n",
    "df.ID2 = df.ID2.str.cat(df['temp'],sep='-')\n",
    "del df['temp']\n",
    "print(df.ID2)"
   ]
  },
  {
   "cell_type": "code",
   "execution_count": 36,
   "id": "9b8c9d9d",
   "metadata": {},
   "outputs": [
    {
     "data": {
      "text/html": [
       "<div>\n",
       "<style scoped>\n",
       "    .dataframe tbody tr th:only-of-type {\n",
       "        vertical-align: middle;\n",
       "    }\n",
       "\n",
       "    .dataframe tbody tr th {\n",
       "        vertical-align: top;\n",
       "    }\n",
       "\n",
       "    .dataframe thead th {\n",
       "        text-align: right;\n",
       "    }\n",
       "</style>\n",
       "<table border=\"1\" class=\"dataframe\">\n",
       "  <thead>\n",
       "    <tr style=\"text-align: right;\">\n",
       "      <th></th>\n",
       "      <th>Title</th>\n",
       "      <th>PublicationDate</th>\n",
       "      <th>Comment</th>\n",
       "      <th>Author</th>\n",
       "      <th>ID1</th>\n",
       "      <th>ID2</th>\n",
       "    </tr>\n",
       "  </thead>\n",
       "  <tbody>\n",
       "    <tr>\n",
       "      <th>0</th>\n",
       "      <td>The Rise of the Falcon</td>\n",
       "      <td>2018-04-25</td>\n",
       "      <td>Too long for a child</td>\n",
       "      <td>John Admiral</td>\n",
       "      <td>001276</td>\n",
       "      <td>A-USA</td>\n",
       "    </tr>\n",
       "    <tr>\n",
       "      <th>1</th>\n",
       "      <td>Controlled mind</td>\n",
       "      <td>2016-08-28</td>\n",
       "      <td>Interesting     book</td>\n",
       "      <td>Robert Greens</td>\n",
       "      <td>023125</td>\n",
       "      <td>B-USA</td>\n",
       "    </tr>\n",
       "    <tr>\n",
       "      <th>2</th>\n",
       "      <td>Only love remains</td>\n",
       "      <td>2015-02-17</td>\n",
       "      <td>Very Impressive</td>\n",
       "      <td>Greta Blooming</td>\n",
       "      <td>005556</td>\n",
       "      <td>E-USA</td>\n",
       "    </tr>\n",
       "  </tbody>\n",
       "</table>\n",
       "</div>"
      ],
      "text/plain": [
       "                    Title PublicationDate               Comment  \\\n",
       "0  The Rise of the Falcon      2018-04-25  Too long for a child   \n",
       "1         Controlled mind      2016-08-28  Interesting     book   \n",
       "2       Only love remains      2015-02-17       Very Impressive   \n",
       "\n",
       "           Author     ID1    ID2  \n",
       "0    John Admiral  001276  A-USA  \n",
       "1   Robert Greens  023125  B-USA  \n",
       "2  Greta Blooming  005556  E-USA  "
      ]
     },
     "execution_count": 36,
     "metadata": {},
     "output_type": "execute_result"
    }
   ],
   "source": [
    "df"
   ]
  },
  {
   "cell_type": "code",
   "execution_count": 37,
   "id": "b1a91210",
   "metadata": {},
   "outputs": [
    {
     "data": {
      "text/plain": [
       "0    True\n",
       "1    True\n",
       "2    True\n",
       "Name: ID1, dtype: boolean"
      ]
     },
     "execution_count": 37,
     "metadata": {},
     "output_type": "execute_result"
    }
   ],
   "source": [
    "df.ID1.str.isdigit()"
   ]
  },
  {
   "cell_type": "code",
   "execution_count": 38,
   "id": "d553195b",
   "metadata": {},
   "outputs": [
    {
     "data": {
      "text/plain": [
       "0    False\n",
       "1    False\n",
       "2    False\n",
       "Name: ID2, dtype: boolean"
      ]
     },
     "execution_count": 38,
     "metadata": {},
     "output_type": "execute_result"
    }
   ],
   "source": [
    "df.ID2.str.isalnum()"
   ]
  },
  {
   "cell_type": "code",
   "execution_count": 39,
   "id": "4ceae02c",
   "metadata": {},
   "outputs": [
    {
     "data": {
      "text/plain": [
       "0    12\n",
       "1    -1\n",
       "2    -1\n",
       "Name: Title, dtype: Int64"
      ]
     },
     "execution_count": 39,
     "metadata": {},
     "output_type": "execute_result"
    }
   ],
   "source": [
    "df.Title.str.find('the')"
   ]
  },
  {
   "cell_type": "code",
   "execution_count": 40,
   "id": "c1bd316a",
   "metadata": {},
   "outputs": [
    {
     "data": {
      "text/plain": [
       "0     True\n",
       "1    False\n",
       "2    False\n",
       "Name: Title, dtype: boolean"
      ]
     },
     "execution_count": 40,
     "metadata": {},
     "output_type": "execute_result"
    }
   ],
   "source": [
    "df.Title.str.find('the') > -1"
   ]
  },
  {
   "cell_type": "code",
   "execution_count": null,
   "id": "eaa43d81",
   "metadata": {},
   "outputs": [],
   "source": []
  }
 ],
 "metadata": {
  "kernelspec": {
   "display_name": "Python 3 (ipykernel)",
   "language": "python",
   "name": "python3"
  },
  "language_info": {
   "codemirror_mode": {
    "name": "ipython",
    "version": 3
   },
   "file_extension": ".py",
   "mimetype": "text/x-python",
   "name": "python",
   "nbconvert_exporter": "python",
   "pygments_lexer": "ipython3",
   "version": "3.9.13"
  }
 },
 "nbformat": 4,
 "nbformat_minor": 5
}
