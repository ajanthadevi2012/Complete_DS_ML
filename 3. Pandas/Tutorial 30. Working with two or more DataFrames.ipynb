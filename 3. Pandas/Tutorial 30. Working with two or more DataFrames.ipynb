{
 "cells": [
  {
   "cell_type": "code",
   "execution_count": 1,
   "id": "ed9fb388",
   "metadata": {},
   "outputs": [],
   "source": [
    "import pandas as pd\n",
    "import numpy as np "
   ]
  },
  {
   "cell_type": "markdown",
   "id": "3545c3dc",
   "metadata": {},
   "source": [
    "# Adding data to a DataFrame\n"
   ]
  },
  {
   "cell_type": "code",
   "execution_count": 2,
   "id": "183f8052",
   "metadata": {},
   "outputs": [
    {
     "name": "stdout",
     "output_type": "stream",
     "text": [
      "   A  B  C  D\n",
      "a  2  6  3  0\n",
      "b  2  3  5  8\n",
      "c  5  6  3  4\n",
      "d  7  4  4  1\n"
     ]
    }
   ],
   "source": [
    "df1 = pd.DataFrame(np.random.randint(10, size=16).reshape(4,4), \n",
    "                     index=['a','b','c','d'], \n",
    "                     columns=['A','B','C','D'])\n",
    "print(df1)"
   ]
  },
  {
   "cell_type": "code",
   "execution_count": 3,
   "id": "62a42091",
   "metadata": {},
   "outputs": [
    {
     "name": "stdout",
     "output_type": "stream",
     "text": [
      "     A    B    C    D\n",
      "e  0.0  0.0  0.0  0.0\n",
      "f  0.0  0.0  0.0  0.0\n",
      "g  0.0  0.0  0.0  0.0\n",
      "h  0.0  0.0  0.0  0.0\n"
     ]
    }
   ],
   "source": [
    "df2 = pd.DataFrame(np.zeros(16).reshape(4,4), \n",
    "                     index=['e','f','g','h'], \n",
    "                     columns=['A','B','C','D'])\n",
    "print(df2)"
   ]
  },
  {
   "cell_type": "markdown",
   "id": "2f544f4c",
   "metadata": {},
   "source": [
    "## append()"
   ]
  },
  {
   "cell_type": "code",
   "execution_count": 4,
   "id": "f7c1a1ba",
   "metadata": {},
   "outputs": [
    {
     "name": "stdout",
     "output_type": "stream",
     "text": [
      "     A    B    C    D\n",
      "a  2.0  6.0  3.0  0.0\n",
      "b  2.0  3.0  5.0  8.0\n",
      "c  5.0  6.0  3.0  4.0\n",
      "d  7.0  4.0  4.0  1.0\n",
      "e  0.0  0.0  0.0  0.0\n",
      "f  0.0  0.0  0.0  0.0\n",
      "g  0.0  0.0  0.0  0.0\n",
      "h  0.0  0.0  0.0  0.0\n"
     ]
    },
    {
     "name": "stderr",
     "output_type": "stream",
     "text": [
      "C:\\Users\\AJANTHA\\AppData\\Local\\Temp\\ipykernel_5204\\944872594.py:1: FutureWarning: The frame.append method is deprecated and will be removed from pandas in a future version. Use pandas.concat instead.\n",
      "  df = df1.append(df2)\n"
     ]
    }
   ],
   "source": [
    "df = df1.append(df2)\n",
    "print(df)"
   ]
  },
  {
   "cell_type": "code",
   "execution_count": 5,
   "id": "4e7f7e1d",
   "metadata": {
    "scrolled": true
   },
   "outputs": [
    {
     "name": "stdout",
     "output_type": "stream",
     "text": [
      "A    7\n",
      "B    7\n",
      "C    7\n",
      "D    7\n",
      "dtype: int64\n"
     ]
    }
   ],
   "source": [
    "ser = pd.Series([7,7,7,7], index=['A','B','C','D'])\n",
    "print(ser)"
   ]
  },
  {
   "cell_type": "code",
   "execution_count": 6,
   "id": "5826b0d1",
   "metadata": {},
   "outputs": [
    {
     "name": "stderr",
     "output_type": "stream",
     "text": [
      "C:\\Users\\AJANTHA\\AppData\\Local\\Temp\\ipykernel_5204\\2266667057.py:1: FutureWarning: The frame.append method is deprecated and will be removed from pandas in a future version. Use pandas.concat instead.\n",
      "  df1.append(ser)\n"
     ]
    },
    {
     "ename": "TypeError",
     "evalue": "Can only append a Series if ignore_index=True or if the Series has a name",
     "output_type": "error",
     "traceback": [
      "\u001b[1;31m---------------------------------------------------------------------------\u001b[0m",
      "\u001b[1;31mTypeError\u001b[0m                                 Traceback (most recent call last)",
      "\u001b[1;32m~\\AppData\\Local\\Temp\\ipykernel_5204\\2266667057.py\u001b[0m in \u001b[0;36m<module>\u001b[1;34m\u001b[0m\n\u001b[1;32m----> 1\u001b[1;33m \u001b[0mdf1\u001b[0m\u001b[1;33m.\u001b[0m\u001b[0mappend\u001b[0m\u001b[1;33m(\u001b[0m\u001b[0mser\u001b[0m\u001b[1;33m)\u001b[0m\u001b[1;33m\u001b[0m\u001b[1;33m\u001b[0m\u001b[0m\n\u001b[0m",
      "\u001b[1;32m~\\anaconda3\\lib\\site-packages\\pandas\\core\\frame.py\u001b[0m in \u001b[0;36mappend\u001b[1;34m(self, other, ignore_index, verify_integrity, sort)\u001b[0m\n\u001b[0;32m   9046\u001b[0m         )\n\u001b[0;32m   9047\u001b[0m \u001b[1;33m\u001b[0m\u001b[0m\n\u001b[1;32m-> 9048\u001b[1;33m         \u001b[1;32mreturn\u001b[0m \u001b[0mself\u001b[0m\u001b[1;33m.\u001b[0m\u001b[0m_append\u001b[0m\u001b[1;33m(\u001b[0m\u001b[0mother\u001b[0m\u001b[1;33m,\u001b[0m \u001b[0mignore_index\u001b[0m\u001b[1;33m,\u001b[0m \u001b[0mverify_integrity\u001b[0m\u001b[1;33m,\u001b[0m \u001b[0msort\u001b[0m\u001b[1;33m)\u001b[0m\u001b[1;33m\u001b[0m\u001b[1;33m\u001b[0m\u001b[0m\n\u001b[0m\u001b[0;32m   9049\u001b[0m \u001b[1;33m\u001b[0m\u001b[0m\n\u001b[0;32m   9050\u001b[0m     def _append(\n",
      "\u001b[1;32m~\\anaconda3\\lib\\site-packages\\pandas\\core\\frame.py\u001b[0m in \u001b[0;36m_append\u001b[1;34m(self, other, ignore_index, verify_integrity, sort)\u001b[0m\n\u001b[0;32m   9062\u001b[0m                 \u001b[0mother\u001b[0m \u001b[1;33m=\u001b[0m \u001b[0mSeries\u001b[0m\u001b[1;33m(\u001b[0m\u001b[0mother\u001b[0m\u001b[1;33m)\u001b[0m\u001b[1;33m\u001b[0m\u001b[1;33m\u001b[0m\u001b[0m\n\u001b[0;32m   9063\u001b[0m             \u001b[1;32mif\u001b[0m \u001b[0mother\u001b[0m\u001b[1;33m.\u001b[0m\u001b[0mname\u001b[0m \u001b[1;32mis\u001b[0m \u001b[1;32mNone\u001b[0m \u001b[1;32mand\u001b[0m \u001b[1;32mnot\u001b[0m \u001b[0mignore_index\u001b[0m\u001b[1;33m:\u001b[0m\u001b[1;33m\u001b[0m\u001b[1;33m\u001b[0m\u001b[0m\n\u001b[1;32m-> 9064\u001b[1;33m                 raise TypeError(\n\u001b[0m\u001b[0;32m   9065\u001b[0m                     \u001b[1;34m\"Can only append a Series if ignore_index=True \"\u001b[0m\u001b[1;33m\u001b[0m\u001b[1;33m\u001b[0m\u001b[0m\n\u001b[0;32m   9066\u001b[0m                     \u001b[1;34m\"or if the Series has a name\"\u001b[0m\u001b[1;33m\u001b[0m\u001b[1;33m\u001b[0m\u001b[0m\n",
      "\u001b[1;31mTypeError\u001b[0m: Can only append a Series if ignore_index=True or if the Series has a name"
     ]
    }
   ],
   "source": [
    "df1.append(ser)"
   ]
  },
  {
   "cell_type": "code",
   "execution_count": 7,
   "id": "4afc44a8",
   "metadata": {},
   "outputs": [
    {
     "name": "stdout",
     "output_type": "stream",
     "text": [
      "   A  B  C  D\n",
      "0  2  6  3  0\n",
      "1  2  3  5  8\n",
      "2  5  6  3  4\n",
      "3  7  4  4  1\n",
      "4  7  7  7  7\n"
     ]
    },
    {
     "name": "stderr",
     "output_type": "stream",
     "text": [
      "C:\\Users\\AJANTHA\\AppData\\Local\\Temp\\ipykernel_5204\\3453477330.py:1: FutureWarning: The frame.append method is deprecated and will be removed from pandas in a future version. Use pandas.concat instead.\n",
      "  df2 = df1.append(ser,ignore_index=True)\n"
     ]
    }
   ],
   "source": [
    "df2 = df1.append(ser,ignore_index=True)\n",
    "print(df2)"
   ]
  },
  {
   "cell_type": "code",
   "execution_count": 8,
   "id": "501dd468",
   "metadata": {},
   "outputs": [
    {
     "name": "stdout",
     "output_type": "stream",
     "text": [
      "A    7\n",
      "B    7\n",
      "C    7\n",
      "D    7\n",
      "Name: e, dtype: int64\n"
     ]
    }
   ],
   "source": [
    "ser = pd.Series([7,7,7,7], index=['A','B','C','D'], name='e')\n",
    "print(ser)"
   ]
  },
  {
   "cell_type": "code",
   "execution_count": 9,
   "id": "a7658e0b",
   "metadata": {},
   "outputs": [
    {
     "name": "stdout",
     "output_type": "stream",
     "text": [
      "   A  B  C  D\n",
      "a  2  6  3  0\n",
      "b  2  3  5  8\n",
      "c  5  6  3  4\n",
      "d  7  4  4  1\n",
      "e  7  7  7  7\n"
     ]
    },
    {
     "name": "stderr",
     "output_type": "stream",
     "text": [
      "C:\\Users\\AJANTHA\\AppData\\Local\\Temp\\ipykernel_5204\\3051713791.py:1: FutureWarning: The frame.append method is deprecated and will be removed from pandas in a future version. Use pandas.concat instead.\n",
      "  df2 = df1.append(ser)   # df1.append(ser,ignore_index=False)\n"
     ]
    }
   ],
   "source": [
    "df2 = df1.append(ser)   # df1.append(ser,ignore_index=False)\n",
    "print(df2)"
   ]
  },
  {
   "cell_type": "code",
   "execution_count": 10,
   "id": "61038fa3",
   "metadata": {},
   "outputs": [
    {
     "name": "stdout",
     "output_type": "stream",
     "text": [
      "   A  B  C  D\n",
      "a  2  6  3  0\n",
      "b  2  3  5  8\n",
      "c  5  6  3  4\n",
      "d  7  4  4  1\n",
      "z  7  7  7  7\n"
     ]
    },
    {
     "name": "stderr",
     "output_type": "stream",
     "text": [
      "C:\\Users\\AJANTHA\\AppData\\Local\\Temp\\ipykernel_5204\\2519534295.py:2: FutureWarning: The frame.append method is deprecated and will be removed from pandas in a future version. Use pandas.concat instead.\n",
      "  df2 = df1.append(ser)\n"
     ]
    }
   ],
   "source": [
    "ser.name = 'z'\n",
    "df2 = df1.append(ser)\n",
    "print(df2)"
   ]
  },
  {
   "cell_type": "code",
   "execution_count": 11,
   "id": "8449ca1e",
   "metadata": {},
   "outputs": [
    {
     "name": "stdout",
     "output_type": "stream",
     "text": [
      "   A  B  C  D\n",
      "a  2  6  3  0\n",
      "b  2  3  5  8\n",
      "c  5  6  3  4\n",
      "d  7  4  4  1\n",
      "z  7  7  7  7\n",
      "z  8  8  8  8\n",
      "z  9  9  9  9\n"
     ]
    },
    {
     "name": "stderr",
     "output_type": "stream",
     "text": [
      "C:\\Users\\AJANTHA\\AppData\\Local\\Temp\\ipykernel_5204\\2347551248.py:1: FutureWarning: The frame.append method is deprecated and will be removed from pandas in a future version. Use pandas.concat instead.\n",
      "  df2 = df1.append([ser,ser+1,ser+2])\n"
     ]
    }
   ],
   "source": [
    "df2 = df1.append([ser,ser+1,ser+2])\n",
    "print(df2)"
   ]
  },
  {
   "cell_type": "markdown",
   "id": "7ebe4ae1",
   "metadata": {},
   "source": [
    "## concat()"
   ]
  },
  {
   "cell_type": "code",
   "execution_count": 12,
   "id": "fbc44260",
   "metadata": {},
   "outputs": [
    {
     "data": {
      "text/html": [
       "<div>\n",
       "<style scoped>\n",
       "    .dataframe tbody tr th:only-of-type {\n",
       "        vertical-align: middle;\n",
       "    }\n",
       "\n",
       "    .dataframe tbody tr th {\n",
       "        vertical-align: top;\n",
       "    }\n",
       "\n",
       "    .dataframe thead th {\n",
       "        text-align: right;\n",
       "    }\n",
       "</style>\n",
       "<table border=\"1\" class=\"dataframe\">\n",
       "  <thead>\n",
       "    <tr style=\"text-align: right;\">\n",
       "      <th></th>\n",
       "      <th>A</th>\n",
       "      <th>B</th>\n",
       "      <th>C</th>\n",
       "      <th>D</th>\n",
       "    </tr>\n",
       "  </thead>\n",
       "  <tbody>\n",
       "    <tr>\n",
       "      <th>a</th>\n",
       "      <td>2</td>\n",
       "      <td>6</td>\n",
       "      <td>3</td>\n",
       "      <td>0</td>\n",
       "    </tr>\n",
       "    <tr>\n",
       "      <th>b</th>\n",
       "      <td>2</td>\n",
       "      <td>3</td>\n",
       "      <td>5</td>\n",
       "      <td>8</td>\n",
       "    </tr>\n",
       "    <tr>\n",
       "      <th>c</th>\n",
       "      <td>5</td>\n",
       "      <td>6</td>\n",
       "      <td>3</td>\n",
       "      <td>4</td>\n",
       "    </tr>\n",
       "    <tr>\n",
       "      <th>d</th>\n",
       "      <td>7</td>\n",
       "      <td>4</td>\n",
       "      <td>4</td>\n",
       "      <td>1</td>\n",
       "    </tr>\n",
       "  </tbody>\n",
       "</table>\n",
       "</div>"
      ],
      "text/plain": [
       "   A  B  C  D\n",
       "a  2  6  3  0\n",
       "b  2  3  5  8\n",
       "c  5  6  3  4\n",
       "d  7  4  4  1"
      ]
     },
     "execution_count": 12,
     "metadata": {},
     "output_type": "execute_result"
    }
   ],
   "source": [
    "df1"
   ]
  },
  {
   "cell_type": "code",
   "execution_count": 13,
   "id": "b4491f46",
   "metadata": {},
   "outputs": [
    {
     "data": {
      "text/html": [
       "<div>\n",
       "<style scoped>\n",
       "    .dataframe tbody tr th:only-of-type {\n",
       "        vertical-align: middle;\n",
       "    }\n",
       "\n",
       "    .dataframe tbody tr th {\n",
       "        vertical-align: top;\n",
       "    }\n",
       "\n",
       "    .dataframe thead th {\n",
       "        text-align: right;\n",
       "    }\n",
       "</style>\n",
       "<table border=\"1\" class=\"dataframe\">\n",
       "  <thead>\n",
       "    <tr style=\"text-align: right;\">\n",
       "      <th></th>\n",
       "      <th>A</th>\n",
       "      <th>B</th>\n",
       "      <th>C</th>\n",
       "      <th>D</th>\n",
       "    </tr>\n",
       "  </thead>\n",
       "  <tbody>\n",
       "    <tr>\n",
       "      <th>a</th>\n",
       "      <td>2</td>\n",
       "      <td>6</td>\n",
       "      <td>3</td>\n",
       "      <td>0</td>\n",
       "    </tr>\n",
       "    <tr>\n",
       "      <th>b</th>\n",
       "      <td>2</td>\n",
       "      <td>3</td>\n",
       "      <td>5</td>\n",
       "      <td>8</td>\n",
       "    </tr>\n",
       "    <tr>\n",
       "      <th>c</th>\n",
       "      <td>5</td>\n",
       "      <td>6</td>\n",
       "      <td>3</td>\n",
       "      <td>4</td>\n",
       "    </tr>\n",
       "    <tr>\n",
       "      <th>d</th>\n",
       "      <td>7</td>\n",
       "      <td>4</td>\n",
       "      <td>4</td>\n",
       "      <td>1</td>\n",
       "    </tr>\n",
       "    <tr>\n",
       "      <th>z</th>\n",
       "      <td>7</td>\n",
       "      <td>7</td>\n",
       "      <td>7</td>\n",
       "      <td>7</td>\n",
       "    </tr>\n",
       "    <tr>\n",
       "      <th>z</th>\n",
       "      <td>8</td>\n",
       "      <td>8</td>\n",
       "      <td>8</td>\n",
       "      <td>8</td>\n",
       "    </tr>\n",
       "    <tr>\n",
       "      <th>z</th>\n",
       "      <td>9</td>\n",
       "      <td>9</td>\n",
       "      <td>9</td>\n",
       "      <td>9</td>\n",
       "    </tr>\n",
       "  </tbody>\n",
       "</table>\n",
       "</div>"
      ],
      "text/plain": [
       "   A  B  C  D\n",
       "a  2  6  3  0\n",
       "b  2  3  5  8\n",
       "c  5  6  3  4\n",
       "d  7  4  4  1\n",
       "z  7  7  7  7\n",
       "z  8  8  8  8\n",
       "z  9  9  9  9"
      ]
     },
     "execution_count": 13,
     "metadata": {},
     "output_type": "execute_result"
    }
   ],
   "source": [
    "df2"
   ]
  },
  {
   "cell_type": "code",
   "execution_count": 14,
   "id": "65f98441",
   "metadata": {},
   "outputs": [
    {
     "name": "stdout",
     "output_type": "stream",
     "text": [
      "   A  B  C  D\n",
      "a  2  6  3  0\n",
      "b  2  3  5  8\n",
      "c  5  6  3  4\n",
      "d  7  4  4  1\n",
      "a  2  6  3  0\n",
      "b  2  3  5  8\n",
      "c  5  6  3  4\n",
      "d  7  4  4  1\n",
      "z  7  7  7  7\n",
      "z  8  8  8  8\n",
      "z  9  9  9  9\n"
     ]
    }
   ],
   "source": [
    "df = pd.concat([df1,df2])\n",
    "print(df)"
   ]
  },
  {
   "cell_type": "code",
   "execution_count": 15,
   "id": "f9b71aa6",
   "metadata": {},
   "outputs": [
    {
     "name": "stdout",
     "output_type": "stream",
     "text": [
      "   A  B  C  D\n",
      "a  2  6  3  0\n",
      "b  2  3  5  8\n",
      "c  5  6  3  4\n",
      "d  7  4  4  1\n",
      "a  2  6  3  0\n",
      "b  2  3  5  8\n",
      "c  5  6  3  4\n",
      "d  7  4  4  1\n",
      "z  7  7  7  7\n",
      "z  8  8  8  8\n",
      "z  9  9  9  9\n",
      "a  2  6  3  0\n",
      "b  2  3  5  8\n",
      "c  5  6  3  4\n",
      "d  7  4  4  1\n"
     ]
    }
   ],
   "source": [
    "df = pd.concat([df1,df2,df1])\n",
    "print(df)"
   ]
  },
  {
   "cell_type": "code",
   "execution_count": 16,
   "id": "7cc2e146",
   "metadata": {},
   "outputs": [
    {
     "name": "stdout",
     "output_type": "stream",
     "text": [
      "a    7\n",
      "b    7\n",
      "c    7\n",
      "d    7\n",
      "Name: E, dtype: int64\n"
     ]
    }
   ],
   "source": [
    "ser = pd.Series([7,7,7,7], index=['a','b','c','d'], name='E')\n",
    "print(ser)"
   ]
  },
  {
   "cell_type": "code",
   "execution_count": 17,
   "id": "91bcfe63",
   "metadata": {},
   "outputs": [
    {
     "data": {
      "text/html": [
       "<div>\n",
       "<style scoped>\n",
       "    .dataframe tbody tr th:only-of-type {\n",
       "        vertical-align: middle;\n",
       "    }\n",
       "\n",
       "    .dataframe tbody tr th {\n",
       "        vertical-align: top;\n",
       "    }\n",
       "\n",
       "    .dataframe thead th {\n",
       "        text-align: right;\n",
       "    }\n",
       "</style>\n",
       "<table border=\"1\" class=\"dataframe\">\n",
       "  <thead>\n",
       "    <tr style=\"text-align: right;\">\n",
       "      <th></th>\n",
       "      <th>A</th>\n",
       "      <th>B</th>\n",
       "      <th>C</th>\n",
       "      <th>D</th>\n",
       "    </tr>\n",
       "  </thead>\n",
       "  <tbody>\n",
       "    <tr>\n",
       "      <th>a</th>\n",
       "      <td>2</td>\n",
       "      <td>6</td>\n",
       "      <td>3</td>\n",
       "      <td>0</td>\n",
       "    </tr>\n",
       "    <tr>\n",
       "      <th>b</th>\n",
       "      <td>2</td>\n",
       "      <td>3</td>\n",
       "      <td>5</td>\n",
       "      <td>8</td>\n",
       "    </tr>\n",
       "    <tr>\n",
       "      <th>c</th>\n",
       "      <td>5</td>\n",
       "      <td>6</td>\n",
       "      <td>3</td>\n",
       "      <td>4</td>\n",
       "    </tr>\n",
       "    <tr>\n",
       "      <th>d</th>\n",
       "      <td>7</td>\n",
       "      <td>4</td>\n",
       "      <td>4</td>\n",
       "      <td>1</td>\n",
       "    </tr>\n",
       "  </tbody>\n",
       "</table>\n",
       "</div>"
      ],
      "text/plain": [
       "   A  B  C  D\n",
       "a  2  6  3  0\n",
       "b  2  3  5  8\n",
       "c  5  6  3  4\n",
       "d  7  4  4  1"
      ]
     },
     "execution_count": 17,
     "metadata": {},
     "output_type": "execute_result"
    }
   ],
   "source": [
    "df1"
   ]
  },
  {
   "cell_type": "code",
   "execution_count": 18,
   "id": "bc7df4e6",
   "metadata": {},
   "outputs": [
    {
     "name": "stdout",
     "output_type": "stream",
     "text": [
      "   A  B  C  D  E\n",
      "a  2  6  3  0  7\n",
      "b  2  3  5  8  7\n",
      "c  5  6  3  4  7\n",
      "d  7  4  4  1  7\n"
     ]
    }
   ],
   "source": [
    "df = pd.concat([df1,ser],axis=1)\n",
    "print(df)"
   ]
  },
  {
   "cell_type": "code",
   "execution_count": 19,
   "id": "0a0ac29e",
   "metadata": {},
   "outputs": [
    {
     "name": "stdout",
     "output_type": "stream",
     "text": [
      "     A    B    C    D    E\n",
      "a  2.0  6.0  3.0  0.0  7.0\n",
      "b  2.0  3.0  5.0  8.0  NaN\n",
      "c  5.0  6.0  3.0  4.0  7.0\n",
      "d  7.0  4.0  4.0  1.0  7.0\n",
      "e  NaN  NaN  NaN  NaN  7.0\n",
      "f  NaN  NaN  NaN  NaN  7.0\n"
     ]
    }
   ],
   "source": [
    "ser = pd.Series([7,7,7,7,7], index=['a','c','d','e','f'], name='E')\n",
    "df = pd.concat([df1,ser],axis=1)\n",
    "print(df)"
   ]
  },
  {
   "cell_type": "code",
   "execution_count": 20,
   "id": "21e83f92",
   "metadata": {},
   "outputs": [
    {
     "name": "stdout",
     "output_type": "stream",
     "text": [
      "   A  B  C  D  E\n",
      "a  2  6  3  0  7\n",
      "c  5  6  3  4  7\n",
      "d  7  4  4  1  7\n"
     ]
    }
   ],
   "source": [
    "ser = pd.Series([7,7,7,7,7], index=['a','c','d','e','f'], name='E')\n",
    "df = pd.concat([df1,ser],axis=1,join='inner')\n",
    "print(df)"
   ]
  },
  {
   "cell_type": "code",
   "execution_count": 21,
   "id": "91caf122",
   "metadata": {},
   "outputs": [
    {
     "name": "stdout",
     "output_type": "stream",
     "text": [
      "   A  B  C  D  E  E  E  A  B  C  D\n",
      "a  2  6  3  0  7  8  9  2  6  3  0\n",
      "b  2  3  5  8  7  8  9  2  3  5  8\n",
      "c  5  6  3  4  7  8  9  5  6  3  4\n",
      "d  7  4  4  1  7  8  9  7  4  4  1\n"
     ]
    }
   ],
   "source": [
    "ser = pd.Series([7,7,7,7], index=['a','b','c','d'], name='E')\n",
    "ser2 = ser + 1\n",
    "ser3 = ser + 2\n",
    "df = pd.concat([df1,ser,ser2,ser3,df1],axis=1)\n",
    "print(df)"
   ]
  },
  {
   "cell_type": "markdown",
   "id": "61f8b5bf",
   "metadata": {},
   "source": [
    "## Merge\n"
   ]
  },
  {
   "cell_type": "code",
   "execution_count": 22,
   "id": "dc7669b9",
   "metadata": {},
   "outputs": [
    {
     "name": "stdout",
     "output_type": "stream",
     "text": [
      "   A  B  C  D\n",
      "a  2  0  8  5\n",
      "b  3  2  2  6\n",
      "c  9  9  5  9\n",
      "d  1  8  3  0\n",
      "   B  C  D  E\n",
      "b  5  0  8  3\n",
      "c  9  2  1  2\n",
      "d  6  7  9  2\n",
      "e  6  8  5  7\n"
     ]
    }
   ],
   "source": [
    "df1 = pd.DataFrame(np.random.randint(10, size=16).reshape(4,4), \n",
    "                     index=['a','b','c','d'], \n",
    "                     columns=['A','B','C','D'])\n",
    "df2 = pd.DataFrame(np.random.randint(10, size=16).reshape(4,4), \n",
    "                     index=['b','c','d','e'], \n",
    "                     columns=['B','C','D','E'])\n",
    "print(df1)\n",
    "print(df2)"
   ]
  },
  {
   "cell_type": "code",
   "execution_count": 23,
   "id": "d0a54df3",
   "metadata": {},
   "outputs": [
    {
     "name": "stdout",
     "output_type": "stream",
     "text": [
      "   A  B  C_x  D_x  C_y  D_y    E\n",
      "0  2  0    8    5  NaN  NaN  NaN\n",
      "1  3  2    2    6  NaN  NaN  NaN\n",
      "2  9  9    5    9  2.0  1.0  2.0\n",
      "3  1  8    3    0  NaN  NaN  NaN\n"
     ]
    }
   ],
   "source": [
    "df = pd.merge(df1,df2, on = 'B', how='left')\n",
    "print(df)"
   ]
  },
  {
   "cell_type": "code",
   "execution_count": 24,
   "id": "6ac1c28d",
   "metadata": {},
   "outputs": [
    {
     "name": "stdout",
     "output_type": "stream",
     "text": [
      "     A  B  C_x  D_x  C_y  D_y  E\n",
      "0  NaN  5  NaN  NaN    0    8  3\n",
      "1  9.0  9  5.0  9.0    2    1  2\n",
      "2  NaN  6  NaN  NaN    7    9  2\n",
      "3  NaN  6  NaN  NaN    8    5  7\n"
     ]
    }
   ],
   "source": [
    "df = pd.merge(df1,df2, on = 'B', how='right')\n",
    "print(df)"
   ]
  },
  {
   "cell_type": "code",
   "execution_count": 25,
   "id": "3a9443ea",
   "metadata": {},
   "outputs": [
    {
     "name": "stdout",
     "output_type": "stream",
     "text": [
      "     A  B  C_x  D_x  C_y  D_y    E\n",
      "0  2.0  0  8.0  5.0  NaN  NaN  NaN\n",
      "1  3.0  2  2.0  6.0  NaN  NaN  NaN\n",
      "2  9.0  9  5.0  9.0  2.0  1.0  2.0\n",
      "3  1.0  8  3.0  0.0  NaN  NaN  NaN\n",
      "4  NaN  5  NaN  NaN  0.0  8.0  3.0\n",
      "5  NaN  6  NaN  NaN  7.0  9.0  2.0\n",
      "6  NaN  6  NaN  NaN  8.0  5.0  7.0\n"
     ]
    }
   ],
   "source": [
    "df = pd.merge(df1,df2, on = 'B', how='outer')\n",
    "print(df)"
   ]
  },
  {
   "cell_type": "code",
   "execution_count": 26,
   "id": "a158a3d1",
   "metadata": {},
   "outputs": [
    {
     "name": "stdout",
     "output_type": "stream",
     "text": [
      "   A  B  C_x  D_x  C_y  D_y  E\n",
      "0  9  9    5    9    2    1  2\n"
     ]
    }
   ],
   "source": [
    "df = df1.merge(df2,on = 'B', how='inner')\n",
    "print(df)"
   ]
  },
  {
   "cell_type": "code",
   "execution_count": 27,
   "id": "ee3c2c1b",
   "metadata": {},
   "outputs": [
    {
     "name": "stdout",
     "output_type": "stream",
     "text": [
      "   A  B  C_x  D_x  C_y  D_y  E\n",
      "0  9  9    5    9    2    1  2\n"
     ]
    }
   ],
   "source": [
    "df = pd.merge(df1,df2,on = 'B')\n",
    "print(df)"
   ]
  },
  {
   "cell_type": "code",
   "execution_count": null,
   "id": "586ccd25",
   "metadata": {},
   "outputs": [],
   "source": []
  }
 ],
 "metadata": {
  "kernelspec": {
   "display_name": "Python 3 (ipykernel)",
   "language": "python",
   "name": "python3"
  },
  "language_info": {
   "codemirror_mode": {
    "name": "ipython",
    "version": 3
   },
   "file_extension": ".py",
   "mimetype": "text/x-python",
   "name": "python",
   "nbconvert_exporter": "python",
   "pygments_lexer": "ipython3",
   "version": "3.9.13"
  }
 },
 "nbformat": 4,
 "nbformat_minor": 5
}
