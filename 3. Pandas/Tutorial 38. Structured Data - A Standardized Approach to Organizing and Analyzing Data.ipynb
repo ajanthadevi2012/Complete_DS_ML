{
 "cells": [
  {
   "cell_type": "code",
   "execution_count": null,
   "id": "d63b9c31",
   "metadata": {},
   "outputs": [],
   "source": [
    "import numpy as np\n",
    "import pandas as pd"
   ]
  },
  {
   "cell_type": "markdown",
   "id": "51c6ffcd",
   "metadata": {},
   "source": [
    "# Tidy Data"
   ]
  },
  {
   "cell_type": "code",
   "execution_count": null,
   "id": "8c7b5247",
   "metadata": {},
   "outputs": [],
   "source": [
    "df = pd.DataFrame( [[34,22,14],[22,43,22],[14,32,15],[15,22,15]], \n",
    "               columns=['Pens','Notebooks','USBSticks'], \n",
    "              index=['Sales','HelpDesk','HumanResource','Store'])\n",
    "df"
   ]
  },
  {
   "cell_type": "code",
   "execution_count": null,
   "id": "5f51f7ae",
   "metadata": {},
   "outputs": [],
   "source": [
    "df.stack()"
   ]
  },
  {
   "cell_type": "code",
   "execution_count": null,
   "id": "61ac2854",
   "metadata": {},
   "outputs": [],
   "source": [
    "df2 = df.stack().reset_index()\n",
    "df2"
   ]
  },
  {
   "cell_type": "code",
   "execution_count": null,
   "id": "04d4b6c3",
   "metadata": {},
   "outputs": [],
   "source": [
    "df2.columns = ['Department','Gadgets','Amount']\n",
    "df2"
   ]
  },
  {
   "cell_type": "code",
   "execution_count": null,
   "id": "1804a388",
   "metadata": {},
   "outputs": [],
   "source": [
    "df2 = df.reset_index()\n",
    "df2 = df2.rename(columns={'index': 'Department'})"
   ]
  },
  {
   "cell_type": "code",
   "execution_count": null,
   "id": "87179cc5",
   "metadata": {},
   "outputs": [],
   "source": [
    "df2.melt(id_vars=['Department'], value_vars=['Pens','Notebooks','USBSticks'],var_name='Gadgets',value_name='Amount')"
   ]
  },
  {
   "cell_type": "code",
   "execution_count": null,
   "id": "1174dbe2",
   "metadata": {},
   "outputs": [],
   "source": [
    "df = pd.read_csv('CountrySalaries.csv')\n",
    "df"
   ]
  },
  {
   "cell_type": "code",
   "execution_count": null,
   "id": "c91891c0",
   "metadata": {},
   "outputs": [],
   "source": [
    "df.melt(id_vars=['Country'], var_name='SalaryRange', value_name='Employees' )"
   ]
  },
  {
   "cell_type": "code",
   "execution_count": null,
   "id": "0450124d",
   "metadata": {},
   "outputs": [],
   "source": [
    "df = pd.read_csv('Measures.csv')\n",
    "df"
   ]
  },
  {
   "cell_type": "code",
   "execution_count": null,
   "id": "49a194e5",
   "metadata": {},
   "outputs": [],
   "source": [
    "df1 = df.set_index(['Sensor','Measure'])\n",
    "df1"
   ]
  },
  {
   "cell_type": "code",
   "execution_count": null,
   "id": "a751c617",
   "metadata": {},
   "outputs": [],
   "source": [
    "df2 = df1.unstack('Measure')\n",
    "df2"
   ]
  },
  {
   "cell_type": "code",
   "execution_count": null,
   "id": "3cd57c9e",
   "metadata": {},
   "outputs": [],
   "source": [
    "df2.reset_index(col_level = -1)"
   ]
  },
  {
   "cell_type": "code",
   "execution_count": null,
   "id": "06b6d4d5",
   "metadata": {},
   "outputs": [],
   "source": [
    "df = pd.read_csv('PokerHands.csv')\n",
    "df"
   ]
  },
  {
   "cell_type": "code",
   "execution_count": null,
   "id": "aa6e54f2",
   "metadata": {},
   "outputs": [],
   "source": [
    "df[['1st_V','1st_S']] = df['1st'].str.split(' ', expand=True)\n",
    "df"
   ]
  },
  {
   "cell_type": "code",
   "execution_count": null,
   "id": "65fa4983",
   "metadata": {},
   "outputs": [],
   "source": [
    "df[['2nd_V','2nd_S']] = df['2nd'].str.split(' ', expand=True)\n",
    "df[['3rd_V','3rd_S']] = df['3rd'].str.split(' ', expand=True)\n",
    "df[['4th_V','4th_S']] = df['4th'].str.split(' ', expand=True)\n",
    "df[['5th_V','5th_S']] = df['5th'].str.split(' ', expand=True)\n",
    "del df['1st']\n",
    "del df['2nd']\n",
    "del df['3rd']\n",
    "del df['4th']\n",
    "del df['5th']\n",
    "df.index = df['Hand']\n",
    "del df['Hand']\n",
    "df"
   ]
  },
  {
   "cell_type": "code",
   "execution_count": null,
   "id": "a0d8ebb3",
   "metadata": {},
   "outputs": [],
   "source": [
    "df = pd.read_csv('CountrySalaries2.csv')\n",
    "df"
   ]
  },
  {
   "cell_type": "code",
   "execution_count": null,
   "id": "3fc6053e",
   "metadata": {},
   "outputs": [],
   "source": [
    "df.melt(id_vars=['Country','Sex'], var_name='SalaryRange', value_name='Employees' )"
   ]
  },
  {
   "cell_type": "code",
   "execution_count": null,
   "id": "9c7186c5",
   "metadata": {},
   "outputs": [],
   "source": [
    "df2 = df.pivot_table(index=['Country'],columns='Sex')\n",
    "df2"
   ]
  },
  {
   "cell_type": "code",
   "execution_count": null,
   "id": "381bf9d1",
   "metadata": {},
   "outputs": [],
   "source": [
    "df = pd.read_csv('Aftershaves.csv')\n",
    "df"
   ]
  },
  {
   "cell_type": "code",
   "execution_count": null,
   "id": "41322950",
   "metadata": {},
   "outputs": [],
   "source": [
    "df2 = pd.wide_to_long(df, stubnames=['Component','Vol'], i=['Product'], j='Component_num', sep = '_' )\n",
    "df2"
   ]
  },
  {
   "cell_type": "code",
   "execution_count": null,
   "id": "7c1f1715",
   "metadata": {},
   "outputs": [],
   "source": [
    "df = pd.read_csv('Incomes.csv')\n",
    "df"
   ]
  },
  {
   "cell_type": "code",
   "execution_count": null,
   "id": "3504cf8d",
   "metadata": {},
   "outputs": [],
   "source": [
    "df2 = df.melt(id_vars=['City'],var_name='time_area',value_name='Income')\n",
    "df2"
   ]
  },
  {
   "cell_type": "code",
   "execution_count": null,
   "id": "6dab1e11",
   "metadata": {},
   "outputs": [],
   "source": [
    "df2['year']= df2['time_area'].str[0:4]"
   ]
  },
  {
   "cell_type": "code",
   "execution_count": null,
   "id": "947a67f7",
   "metadata": {},
   "outputs": [],
   "source": [
    "df2['zone']=df2['time_area'].str[-1]"
   ]
  },
  {
   "cell_type": "code",
   "execution_count": null,
   "id": "d66bc60d",
   "metadata": {},
   "outputs": [],
   "source": [
    "df2"
   ]
  },
  {
   "cell_type": "code",
   "execution_count": null,
   "id": "f316c6dd",
   "metadata": {},
   "outputs": [],
   "source": [
    "df2.drop(['time_area'], axis = 1)"
   ]
  },
  {
   "cell_type": "markdown",
   "id": "e0b356ea",
   "metadata": {},
   "source": [
    "l\n"
   ]
  }
 ],
 "metadata": {
  "kernelspec": {
   "display_name": "Python 3 (ipykernel)",
   "language": "python",
   "name": "python3"
  },
  "language_info": {
   "codemirror_mode": {
    "name": "ipython",
    "version": 3
   },
   "file_extension": ".py",
   "mimetype": "text/x-python",
   "name": "python",
   "nbconvert_exporter": "python",
   "pygments_lexer": "ipython3",
   "version": "3.9.13"
  }
 },
 "nbformat": 4,
 "nbformat_minor": 5
}
