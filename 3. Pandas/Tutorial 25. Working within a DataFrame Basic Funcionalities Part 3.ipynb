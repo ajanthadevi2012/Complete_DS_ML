{
 "cells": [
  {
   "cell_type": "code",
   "execution_count": 1,
   "id": "9258a2aa",
   "metadata": {},
   "outputs": [],
   "source": [
    "import numpy as np\n",
    "import pandas as pd"
   ]
  },
  {
   "cell_type": "markdown",
   "id": "1002ac4a",
   "metadata": {},
   "source": [
    "# Descriptive Statistics"
   ]
  },
  {
   "cell_type": "code",
   "execution_count": 2,
   "id": "e442da90",
   "metadata": {},
   "outputs": [
    {
     "name": "stdout",
     "output_type": "stream",
     "text": [
      "          0         1         2         3\n",
      "0  0.023504  0.458210  0.379477  0.567448\n",
      "1  0.645166  0.689223  0.173825  0.730713\n",
      "2  0.015043  0.618500  0.410606  0.214538\n",
      "3  0.311455  0.704279  0.255054  0.507500\n",
      "4  0.005790  0.666388  0.343706  0.203395\n",
      "5  0.256546  0.621461  0.334059  0.099987\n",
      "6  0.425283  0.507761  0.772346  0.771321\n",
      "7  0.708238  0.255562  0.823096  0.346173\n",
      "8  0.525902  0.429840  0.514466  0.169147\n",
      "9  0.275875  0.056503  0.162331  0.696008\n"
     ]
    }
   ],
   "source": [
    "df = pd.DataFrame(np.random.rand(40).reshape(10,4))\n",
    "print(df)"
   ]
  },
  {
   "cell_type": "code",
   "execution_count": 3,
   "id": "ab8fb2ae",
   "metadata": {},
   "outputs": [
    {
     "data": {
      "text/html": [
       "<div>\n",
       "<style scoped>\n",
       "    .dataframe tbody tr th:only-of-type {\n",
       "        vertical-align: middle;\n",
       "    }\n",
       "\n",
       "    .dataframe tbody tr th {\n",
       "        vertical-align: top;\n",
       "    }\n",
       "\n",
       "    .dataframe thead th {\n",
       "        text-align: right;\n",
       "    }\n",
       "</style>\n",
       "<table border=\"1\" class=\"dataframe\">\n",
       "  <thead>\n",
       "    <tr style=\"text-align: right;\">\n",
       "      <th></th>\n",
       "      <th>0</th>\n",
       "      <th>1</th>\n",
       "      <th>2</th>\n",
       "      <th>3</th>\n",
       "    </tr>\n",
       "  </thead>\n",
       "  <tbody>\n",
       "    <tr>\n",
       "      <th>count</th>\n",
       "      <td>10.000000</td>\n",
       "      <td>10.000000</td>\n",
       "      <td>10.000000</td>\n",
       "      <td>10.000000</td>\n",
       "    </tr>\n",
       "    <tr>\n",
       "      <th>mean</th>\n",
       "      <td>0.319280</td>\n",
       "      <td>0.500773</td>\n",
       "      <td>0.416897</td>\n",
       "      <td>0.430623</td>\n",
       "    </tr>\n",
       "    <tr>\n",
       "      <th>std</th>\n",
       "      <td>0.257255</td>\n",
       "      <td>0.210074</td>\n",
       "      <td>0.227206</td>\n",
       "      <td>0.254806</td>\n",
       "    </tr>\n",
       "    <tr>\n",
       "      <th>min</th>\n",
       "      <td>0.005790</td>\n",
       "      <td>0.056503</td>\n",
       "      <td>0.162331</td>\n",
       "      <td>0.099987</td>\n",
       "    </tr>\n",
       "    <tr>\n",
       "      <th>25%</th>\n",
       "      <td>0.081765</td>\n",
       "      <td>0.436933</td>\n",
       "      <td>0.274805</td>\n",
       "      <td>0.206181</td>\n",
       "    </tr>\n",
       "    <tr>\n",
       "      <th>50%</th>\n",
       "      <td>0.293665</td>\n",
       "      <td>0.563131</td>\n",
       "      <td>0.361592</td>\n",
       "      <td>0.426837</td>\n",
       "    </tr>\n",
       "    <tr>\n",
       "      <th>75%</th>\n",
       "      <td>0.500748</td>\n",
       "      <td>0.655157</td>\n",
       "      <td>0.488501</td>\n",
       "      <td>0.663868</td>\n",
       "    </tr>\n",
       "    <tr>\n",
       "      <th>max</th>\n",
       "      <td>0.708238</td>\n",
       "      <td>0.704279</td>\n",
       "      <td>0.823096</td>\n",
       "      <td>0.771321</td>\n",
       "    </tr>\n",
       "  </tbody>\n",
       "</table>\n",
       "</div>"
      ],
      "text/plain": [
       "               0          1          2          3\n",
       "count  10.000000  10.000000  10.000000  10.000000\n",
       "mean    0.319280   0.500773   0.416897   0.430623\n",
       "std     0.257255   0.210074   0.227206   0.254806\n",
       "min     0.005790   0.056503   0.162331   0.099987\n",
       "25%     0.081765   0.436933   0.274805   0.206181\n",
       "50%     0.293665   0.563131   0.361592   0.426837\n",
       "75%     0.500748   0.655157   0.488501   0.663868\n",
       "max     0.708238   0.704279   0.823096   0.771321"
      ]
     },
     "execution_count": 3,
     "metadata": {},
     "output_type": "execute_result"
    }
   ],
   "source": [
    "df.describe() "
   ]
  },
  {
   "cell_type": "code",
   "execution_count": 4,
   "id": "2040f905",
   "metadata": {},
   "outputs": [
    {
     "data": {
      "text/html": [
       "<div>\n",
       "<style scoped>\n",
       "    .dataframe tbody tr th:only-of-type {\n",
       "        vertical-align: middle;\n",
       "    }\n",
       "\n",
       "    .dataframe tbody tr th {\n",
       "        vertical-align: top;\n",
       "    }\n",
       "\n",
       "    .dataframe thead th {\n",
       "        text-align: right;\n",
       "    }\n",
       "</style>\n",
       "<table border=\"1\" class=\"dataframe\">\n",
       "  <thead>\n",
       "    <tr style=\"text-align: right;\">\n",
       "      <th></th>\n",
       "      <th>numb</th>\n",
       "      <th>word</th>\n",
       "      <th>bool</th>\n",
       "    </tr>\n",
       "  </thead>\n",
       "  <tbody>\n",
       "    <tr>\n",
       "      <th>0</th>\n",
       "      <td>1</td>\n",
       "      <td>one</td>\n",
       "      <td>True</td>\n",
       "    </tr>\n",
       "    <tr>\n",
       "      <th>1</th>\n",
       "      <td>2</td>\n",
       "      <td>two</td>\n",
       "      <td>False</td>\n",
       "    </tr>\n",
       "    <tr>\n",
       "      <th>2</th>\n",
       "      <td>3</td>\n",
       "      <td>three</td>\n",
       "      <td>True</td>\n",
       "    </tr>\n",
       "    <tr>\n",
       "      <th>3</th>\n",
       "      <td>4</td>\n",
       "      <td>four</td>\n",
       "      <td>False</td>\n",
       "    </tr>\n",
       "    <tr>\n",
       "      <th>4</th>\n",
       "      <td>5</td>\n",
       "      <td>five</td>\n",
       "      <td>False</td>\n",
       "    </tr>\n",
       "  </tbody>\n",
       "</table>\n",
       "</div>"
      ],
      "text/plain": [
       "   numb   word   bool\n",
       "0     1    one   True\n",
       "1     2    two  False\n",
       "2     3  three   True\n",
       "3     4   four  False\n",
       "4     5   five  False"
      ]
     },
     "execution_count": 4,
     "metadata": {},
     "output_type": "execute_result"
    }
   ],
   "source": [
    "df2 = pd.DataFrame([[1,'one', True],[2,'two',False],\n",
    "                    [3,'three',True],[4,'four',False],[5,'five', False]], \n",
    "                   columns=['numb','word','bool'])\n",
    "df2"
   ]
  },
  {
   "cell_type": "code",
   "execution_count": 5,
   "id": "f3f11fc8",
   "metadata": {},
   "outputs": [
    {
     "data": {
      "text/html": [
       "<div>\n",
       "<style scoped>\n",
       "    .dataframe tbody tr th:only-of-type {\n",
       "        vertical-align: middle;\n",
       "    }\n",
       "\n",
       "    .dataframe tbody tr th {\n",
       "        vertical-align: top;\n",
       "    }\n",
       "\n",
       "    .dataframe thead th {\n",
       "        text-align: right;\n",
       "    }\n",
       "</style>\n",
       "<table border=\"1\" class=\"dataframe\">\n",
       "  <thead>\n",
       "    <tr style=\"text-align: right;\">\n",
       "      <th></th>\n",
       "      <th>numb</th>\n",
       "    </tr>\n",
       "  </thead>\n",
       "  <tbody>\n",
       "    <tr>\n",
       "      <th>count</th>\n",
       "      <td>5.000000</td>\n",
       "    </tr>\n",
       "    <tr>\n",
       "      <th>mean</th>\n",
       "      <td>3.000000</td>\n",
       "    </tr>\n",
       "    <tr>\n",
       "      <th>std</th>\n",
       "      <td>1.581139</td>\n",
       "    </tr>\n",
       "    <tr>\n",
       "      <th>min</th>\n",
       "      <td>1.000000</td>\n",
       "    </tr>\n",
       "    <tr>\n",
       "      <th>25%</th>\n",
       "      <td>2.000000</td>\n",
       "    </tr>\n",
       "    <tr>\n",
       "      <th>50%</th>\n",
       "      <td>3.000000</td>\n",
       "    </tr>\n",
       "    <tr>\n",
       "      <th>75%</th>\n",
       "      <td>4.000000</td>\n",
       "    </tr>\n",
       "    <tr>\n",
       "      <th>max</th>\n",
       "      <td>5.000000</td>\n",
       "    </tr>\n",
       "  </tbody>\n",
       "</table>\n",
       "</div>"
      ],
      "text/plain": [
       "           numb\n",
       "count  5.000000\n",
       "mean   3.000000\n",
       "std    1.581139\n",
       "min    1.000000\n",
       "25%    2.000000\n",
       "50%    3.000000\n",
       "75%    4.000000\n",
       "max    5.000000"
      ]
     },
     "execution_count": 5,
     "metadata": {},
     "output_type": "execute_result"
    }
   ],
   "source": [
    "df2.describe()"
   ]
  },
  {
   "cell_type": "code",
   "execution_count": 6,
   "id": "28a934ec",
   "metadata": {
    "scrolled": true
   },
   "outputs": [
    {
     "data": {
      "text/html": [
       "<div>\n",
       "<style scoped>\n",
       "    .dataframe tbody tr th:only-of-type {\n",
       "        vertical-align: middle;\n",
       "    }\n",
       "\n",
       "    .dataframe tbody tr th {\n",
       "        vertical-align: top;\n",
       "    }\n",
       "\n",
       "    .dataframe thead th {\n",
       "        text-align: right;\n",
       "    }\n",
       "</style>\n",
       "<table border=\"1\" class=\"dataframe\">\n",
       "  <thead>\n",
       "    <tr style=\"text-align: right;\">\n",
       "      <th></th>\n",
       "      <th>word</th>\n",
       "      <th>bool</th>\n",
       "    </tr>\n",
       "  </thead>\n",
       "  <tbody>\n",
       "    <tr>\n",
       "      <th>count</th>\n",
       "      <td>5</td>\n",
       "      <td>5</td>\n",
       "    </tr>\n",
       "    <tr>\n",
       "      <th>unique</th>\n",
       "      <td>5</td>\n",
       "      <td>2</td>\n",
       "    </tr>\n",
       "    <tr>\n",
       "      <th>top</th>\n",
       "      <td>one</td>\n",
       "      <td>False</td>\n",
       "    </tr>\n",
       "    <tr>\n",
       "      <th>freq</th>\n",
       "      <td>1</td>\n",
       "      <td>3</td>\n",
       "    </tr>\n",
       "  </tbody>\n",
       "</table>\n",
       "</div>"
      ],
      "text/plain": [
       "       word   bool\n",
       "count     5      5\n",
       "unique    5      2\n",
       "top     one  False\n",
       "freq      1      3"
      ]
     },
     "execution_count": 6,
     "metadata": {},
     "output_type": "execute_result"
    }
   ],
   "source": [
    "df2[['word','bool']].describe()"
   ]
  },
  {
   "cell_type": "code",
   "execution_count": 7,
   "id": "9b812b00",
   "metadata": {},
   "outputs": [
    {
     "data": {
      "text/html": [
       "<div>\n",
       "<style scoped>\n",
       "    .dataframe tbody tr th:only-of-type {\n",
       "        vertical-align: middle;\n",
       "    }\n",
       "\n",
       "    .dataframe tbody tr th {\n",
       "        vertical-align: top;\n",
       "    }\n",
       "\n",
       "    .dataframe thead th {\n",
       "        text-align: right;\n",
       "    }\n",
       "</style>\n",
       "<table border=\"1\" class=\"dataframe\">\n",
       "  <thead>\n",
       "    <tr style=\"text-align: right;\">\n",
       "      <th></th>\n",
       "      <th>numb</th>\n",
       "    </tr>\n",
       "  </thead>\n",
       "  <tbody>\n",
       "    <tr>\n",
       "      <th>count</th>\n",
       "      <td>5.000000</td>\n",
       "    </tr>\n",
       "    <tr>\n",
       "      <th>mean</th>\n",
       "      <td>3.000000</td>\n",
       "    </tr>\n",
       "    <tr>\n",
       "      <th>std</th>\n",
       "      <td>1.581139</td>\n",
       "    </tr>\n",
       "    <tr>\n",
       "      <th>min</th>\n",
       "      <td>1.000000</td>\n",
       "    </tr>\n",
       "    <tr>\n",
       "      <th>25%</th>\n",
       "      <td>2.000000</td>\n",
       "    </tr>\n",
       "    <tr>\n",
       "      <th>50%</th>\n",
       "      <td>3.000000</td>\n",
       "    </tr>\n",
       "    <tr>\n",
       "      <th>75%</th>\n",
       "      <td>4.000000</td>\n",
       "    </tr>\n",
       "    <tr>\n",
       "      <th>max</th>\n",
       "      <td>5.000000</td>\n",
       "    </tr>\n",
       "  </tbody>\n",
       "</table>\n",
       "</div>"
      ],
      "text/plain": [
       "           numb\n",
       "count  5.000000\n",
       "mean   3.000000\n",
       "std    1.581139\n",
       "min    1.000000\n",
       "25%    2.000000\n",
       "50%    3.000000\n",
       "75%    4.000000\n",
       "max    5.000000"
      ]
     },
     "execution_count": 7,
     "metadata": {},
     "output_type": "execute_result"
    }
   ],
   "source": [
    "df2.describe(include=['int'])"
   ]
  },
  {
   "cell_type": "code",
   "execution_count": 8,
   "id": "a8bce1e7",
   "metadata": {},
   "outputs": [
    {
     "data": {
      "text/plain": [
       "0    0.319280\n",
       "1    0.500773\n",
       "2    0.416897\n",
       "3    0.430623\n",
       "dtype: float64"
      ]
     },
     "execution_count": 8,
     "metadata": {},
     "output_type": "execute_result"
    }
   ],
   "source": [
    "df.mean(0) #df.mean(axis=0) #df.mean() # columns"
   ]
  },
  {
   "cell_type": "code",
   "execution_count": 9,
   "id": "8df99c58",
   "metadata": {},
   "outputs": [
    {
     "data": {
      "text/plain": [
       "0    0.357160\n",
       "1    0.559732\n",
       "2    0.314672\n",
       "3    0.444572\n",
       "4    0.304820\n",
       "5    0.328013\n",
       "6    0.619178\n",
       "7    0.533267\n",
       "8    0.409839\n",
       "9    0.297679\n",
       "dtype: float64"
      ]
     },
     "execution_count": 9,
     "metadata": {},
     "output_type": "execute_result"
    }
   ],
   "source": [
    "df.mean(1) #df.mean(axis=1)"
   ]
  },
  {
   "cell_type": "code",
   "execution_count": 10,
   "id": "57468e02",
   "metadata": {},
   "outputs": [
    {
     "data": {
      "text/plain": [
       "0    0.257255\n",
       "1    0.210074\n",
       "2    0.227206\n",
       "3    0.254806\n",
       "dtype: float64"
      ]
     },
     "execution_count": 10,
     "metadata": {},
     "output_type": "execute_result"
    }
   ],
   "source": [
    "df.std()"
   ]
  },
  {
   "cell_type": "code",
   "execution_count": 11,
   "id": "a5812aba",
   "metadata": {},
   "outputs": [
    {
     "name": "stdout",
     "output_type": "stream",
     "text": [
      "0    1.387779e-17\n",
      "1   -8.881784e-17\n",
      "2   -1.554312e-16\n",
      "3   -3.330669e-16\n",
      "dtype: float64\n",
      "0    1.0\n",
      "1    1.0\n",
      "2    1.0\n",
      "3    1.0\n",
      "dtype: float64\n"
     ]
    }
   ],
   "source": [
    "std = ( df - df.mean())/ df.std()\n",
    "print(std.mean())\n",
    "print(std.std())"
   ]
  },
  {
   "cell_type": "markdown",
   "id": "c30f949c",
   "metadata": {},
   "source": [
    "# Trasposition, Sorting and Reindexing"
   ]
  },
  {
   "cell_type": "code",
   "execution_count": 12,
   "id": "32bc9672",
   "metadata": {},
   "outputs": [
    {
     "name": "stdout",
     "output_type": "stream",
     "text": [
      "   A  B  C\n",
      "a  1  2  3\n",
      "b  4  5  6\n",
      "c  7  8  9\n"
     ]
    }
   ],
   "source": [
    "df = pd.DataFrame([[1,2,3],[4,5,6],[7,8,9]], \n",
    "                     index=['a','b','c'], \n",
    "                     columns=['A','B','C'])\n",
    "print(df)"
   ]
  },
  {
   "cell_type": "code",
   "execution_count": 13,
   "id": "fb4ca041",
   "metadata": {},
   "outputs": [
    {
     "name": "stdout",
     "output_type": "stream",
     "text": [
      "   a  b  c\n",
      "A  1  4  7\n",
      "B  2  5  8\n",
      "C  3  6  9\n"
     ]
    }
   ],
   "source": [
    "print(df.T)"
   ]
  },
  {
   "cell_type": "code",
   "execution_count": 14,
   "id": "551875d3",
   "metadata": {},
   "outputs": [
    {
     "name": "stdout",
     "output_type": "stream",
     "text": [
      "   C  D  A  B\n",
      "b  1  1  4  2\n",
      "d  3  8  6  1\n",
      "c  9  4  4  3\n",
      "a  2  8  8  6\n"
     ]
    }
   ],
   "source": [
    "df = pd.DataFrame(np.random.randint(10, size=16).reshape(4,4), \n",
    "                     index=['b','d','c','a'], \n",
    "                     columns=['C','D','A','B'])\n",
    "print(df)"
   ]
  },
  {
   "cell_type": "code",
   "execution_count": 15,
   "id": "bd382e41",
   "metadata": {},
   "outputs": [
    {
     "name": "stdout",
     "output_type": "stream",
     "text": [
      "   C  D  A  B\n",
      "a  2  8  8  6\n",
      "b  1  1  4  2\n",
      "c  9  4  4  3\n",
      "d  3  8  6  1\n"
     ]
    }
   ],
   "source": [
    "df2 = df.sort_index()\n",
    "print(df2)"
   ]
  },
  {
   "cell_type": "code",
   "execution_count": 16,
   "id": "e8902394",
   "metadata": {},
   "outputs": [
    {
     "name": "stdout",
     "output_type": "stream",
     "text": [
      "   C  D  A  B\n",
      "d  3  8  6  1\n",
      "c  9  4  4  3\n",
      "b  1  1  4  2\n",
      "a  2  8  8  6\n"
     ]
    }
   ],
   "source": [
    "df2 = df.sort_index(ascending=False)\n",
    "print(df2)"
   ]
  },
  {
   "cell_type": "code",
   "execution_count": 17,
   "id": "b1d7218f",
   "metadata": {},
   "outputs": [
    {
     "name": "stdout",
     "output_type": "stream",
     "text": [
      "   A  B  C  D\n",
      "b  4  2  1  1\n",
      "d  6  1  3  8\n",
      "c  4  3  9  4\n",
      "a  8  6  2  8\n"
     ]
    }
   ],
   "source": [
    "df2 = df.sort_index(axis=1)\n",
    "print(df2)"
   ]
  },
  {
   "cell_type": "code",
   "execution_count": 18,
   "id": "68841931",
   "metadata": {},
   "outputs": [
    {
     "name": "stdout",
     "output_type": "stream",
     "text": [
      "   D  C  B  A\n",
      "b  1  1  2  4\n",
      "d  8  3  1  6\n",
      "c  4  9  3  4\n",
      "a  8  2  6  8\n"
     ]
    }
   ],
   "source": [
    "df2 = df.sort_index(axis=1, ascending=False)\n",
    "print(df2)"
   ]
  },
  {
   "cell_type": "code",
   "execution_count": 19,
   "id": "134f1446",
   "metadata": {},
   "outputs": [
    {
     "name": "stdout",
     "output_type": "stream",
     "text": [
      "   A  B  C  D\n",
      "a  8  6  2  8\n",
      "b  4  2  1  1\n",
      "c  4  3  9  4\n",
      "d  6  1  3  8\n"
     ]
    }
   ],
   "source": [
    "df2 = df.sort_index(axis=0).sort_index(axis=1)\n",
    "print(df2)"
   ]
  },
  {
   "cell_type": "code",
   "execution_count": 20,
   "id": "aba79a83",
   "metadata": {},
   "outputs": [
    {
     "name": "stdout",
     "output_type": "stream",
     "text": [
      "   C  D  A  B\n",
      "b  1  1  4  2\n",
      "c  9  4  4  3\n",
      "d  3  8  6  1\n",
      "a  2  8  8  6\n"
     ]
    }
   ],
   "source": [
    "df2 = df.sort_values(by='A')\n",
    "print(df2)"
   ]
  },
  {
   "cell_type": "code",
   "execution_count": 21,
   "id": "4b6b4a2f",
   "metadata": {},
   "outputs": [
    {
     "name": "stdout",
     "output_type": "stream",
     "text": [
      "   C  D  A  B\n",
      "d  3  8  0  1\n",
      "b  1  1  0  2\n",
      "c  9  4  2  3\n",
      "a  2  8  2  6\n"
     ]
    }
   ],
   "source": [
    "df['A'] = [0,0,2,2]\n",
    "df2 = df.sort_values(by=['A','B'])\n",
    "print(df2)"
   ]
  },
  {
   "cell_type": "code",
   "execution_count": 22,
   "id": "f313a8b7",
   "metadata": {},
   "outputs": [
    {
     "name": "stdout",
     "output_type": "stream",
     "text": [
      "   C  D  A  B\n",
      "b  1  1  0  2\n",
      "d  3  8  0  1\n",
      "c  9  4  2  3\n",
      "a  2  8  2  6\n",
      "   C  D  A  B\n",
      "a  2  8  0  6\n",
      "b  1  1  0  2\n",
      "c  9  4  2  3\n",
      "d  3  8  0  1\n"
     ]
    }
   ],
   "source": [
    "df2 = df.sort_index(axis=0)\n",
    "df2.loc['a','A'] = 0\n",
    "print(df)\n",
    "print(df2)"
   ]
  },
  {
   "cell_type": "code",
   "execution_count": 23,
   "id": "4e8ffb99",
   "metadata": {},
   "outputs": [
    {
     "name": "stdout",
     "output_type": "stream",
     "text": [
      "   C  D  A  B\n",
      "b  1  1  0  2\n",
      "d  3  8  0  1\n",
      "c  9  4  2  3\n",
      "a  2  8  2  6\n"
     ]
    }
   ],
   "source": [
    "df = df.sort_values(by='A')\n",
    "print(df)"
   ]
  },
  {
   "cell_type": "markdown",
   "id": "a158209b",
   "metadata": {},
   "source": [
    "# Reindexing"
   ]
  },
  {
   "cell_type": "code",
   "execution_count": 24,
   "id": "45b8eeef",
   "metadata": {},
   "outputs": [
    {
     "name": "stdout",
     "output_type": "stream",
     "text": [
      "   C  D  A  B\n",
      "b  8  9  3  8\n",
      "d  6  1  6  4\n",
      "c  1  7  6  1\n",
      "a  4  9  3  8\n"
     ]
    }
   ],
   "source": [
    "df = pd.DataFrame(np.random.randint(10, size=16).reshape(4,4), \n",
    "                     index=['b','d','c','a'], \n",
    "                     columns=['C','D','A','B'])\n",
    "print(df)"
   ]
  },
  {
   "cell_type": "code",
   "execution_count": 25,
   "id": "eac79df5",
   "metadata": {},
   "outputs": [
    {
     "name": "stdout",
     "output_type": "stream",
     "text": [
      "   C  D  A  B\n",
      "a  4  9  3  8\n",
      "b  8  9  3  8\n",
      "c  1  7  6  1\n",
      "d  6  1  6  4\n"
     ]
    }
   ],
   "source": [
    "df2 = df.reindex(['a','b','c','d'],axis=0)\n",
    "print(df2)"
   ]
  },
  {
   "cell_type": "code",
   "execution_count": 26,
   "id": "ead02486",
   "metadata": {},
   "outputs": [
    {
     "name": "stdout",
     "output_type": "stream",
     "text": [
      "   C  D  A  B\n",
      "a  4  9  3  8\n",
      "b  8  0  3  8\n",
      "c  1  7  6  1\n",
      "d  6  1  6  4\n",
      "   C  D  A  B\n",
      "b  8  9  3  8\n",
      "d  6  1  6  4\n",
      "c  1  7  6  1\n",
      "a  4  9  3  8\n"
     ]
    }
   ],
   "source": [
    "df2.iloc[1,1] = 0\n",
    "print(df2)\n",
    "print(df)"
   ]
  },
  {
   "cell_type": "code",
   "execution_count": 27,
   "id": "7b5196e9",
   "metadata": {},
   "outputs": [
    {
     "name": "stdout",
     "output_type": "stream",
     "text": [
      "   A  B  C  D\n",
      "b  3  8  8  9\n",
      "d  6  4  6  1\n",
      "c  6  1  1  7\n",
      "a  3  8  4  9\n"
     ]
    }
   ],
   "source": [
    "df2 = df.reindex(['A','B','C','D'],axis=1)\n",
    "print(df2)"
   ]
  },
  {
   "cell_type": "code",
   "execution_count": 28,
   "id": "59d52878",
   "metadata": {},
   "outputs": [
    {
     "name": "stdout",
     "output_type": "stream",
     "text": [
      "   A   E  C  D\n",
      "b  3 NaN  8  9\n",
      "d  6 NaN  6  1\n",
      "c  6 NaN  1  7\n",
      "a  3 NaN  4  9\n"
     ]
    }
   ],
   "source": [
    "df2 = df.reindex(['A','E','C','D',],axis=1)\n",
    "print(df2)"
   ]
  },
  {
   "cell_type": "code",
   "execution_count": 29,
   "id": "e88b3773",
   "metadata": {},
   "outputs": [
    {
     "name": "stdout",
     "output_type": "stream",
     "text": [
      "     A    B    C    D\n",
      "a  0.0  0.0  0.0  0.0\n",
      "b  0.0  0.0  0.0  0.0\n",
      "c  0.0  0.0  0.0  0.0\n",
      "d  0.0  0.0  0.0  0.0\n"
     ]
    }
   ],
   "source": [
    "dfo = pd.DataFrame(np.zeros(16).reshape(4,4), \n",
    "                     index=['a','b','c','d'], \n",
    "                     columns=['A','B','C','D'])\n",
    "print(dfo)"
   ]
  },
  {
   "cell_type": "code",
   "execution_count": 30,
   "id": "1dfa27c1",
   "metadata": {},
   "outputs": [
    {
     "name": "stdout",
     "output_type": "stream",
     "text": [
      "   A  B  C  D\n",
      "a  3  8  4  9\n",
      "b  3  8  8  9\n",
      "c  6  1  1  7\n",
      "d  6  4  6  1\n"
     ]
    }
   ],
   "source": [
    "df2 = df.reindex_like(dfo)\n",
    "print(df2)"
   ]
  },
  {
   "cell_type": "code",
   "execution_count": 31,
   "id": "e6326a06",
   "metadata": {},
   "outputs": [
    {
     "name": "stdout",
     "output_type": "stream",
     "text": [
      "     A    B    W    Z\n",
      "a  0.0  0.0  0.0  0.0\n",
      "b  0.0  0.0  0.0  0.0\n",
      "c  0.0  0.0  0.0  0.0\n",
      "e  0.0  0.0  0.0  0.0\n"
     ]
    }
   ],
   "source": [
    "dfo = pd.DataFrame(np.zeros(16).reshape(4,4), \n",
    "                     index=['a','b','c','e'], \n",
    "                     columns=['A','B','W','Z'])\n",
    "print(dfo)"
   ]
  },
  {
   "cell_type": "code",
   "execution_count": 32,
   "id": "9c2b8e1f",
   "metadata": {},
   "outputs": [
    {
     "name": "stdout",
     "output_type": "stream",
     "text": [
      "     A    B   W   Z\n",
      "a  3.0  8.0 NaN NaN\n",
      "b  3.0  8.0 NaN NaN\n",
      "c  6.0  1.0 NaN NaN\n",
      "e  NaN  NaN NaN NaN\n"
     ]
    }
   ],
   "source": [
    "df2 = df.reindex_like(dfo)\n",
    "print(df2)"
   ]
  },
  {
   "cell_type": "code",
   "execution_count": null,
   "id": "19923862",
   "metadata": {},
   "outputs": [],
   "source": []
  },
  {
   "cell_type": "code",
   "execution_count": null,
   "id": "453f5227",
   "metadata": {},
   "outputs": [],
   "source": []
  },
  {
   "cell_type": "code",
   "execution_count": null,
   "id": "c786c045",
   "metadata": {},
   "outputs": [],
   "source": []
  }
 ],
 "metadata": {
  "kernelspec": {
   "display_name": "Python 3 (ipykernel)",
   "language": "python",
   "name": "python3"
  },
  "language_info": {
   "codemirror_mode": {
    "name": "ipython",
    "version": 3
   },
   "file_extension": ".py",
   "mimetype": "text/x-python",
   "name": "python",
   "nbconvert_exporter": "python",
   "pygments_lexer": "ipython3",
   "version": "3.9.13"
  }
 },
 "nbformat": 4,
 "nbformat_minor": 5
}
