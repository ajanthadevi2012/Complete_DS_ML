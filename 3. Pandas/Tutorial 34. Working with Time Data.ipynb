{
 "cells": [
  {
   "cell_type": "code",
   "execution_count": null,
   "id": "f3dca018",
   "metadata": {},
   "outputs": [],
   "source": [
    "import numpy as np\n",
    "import pandas as pd"
   ]
  },
  {
   "cell_type": "markdown",
   "id": "b5e1e216",
   "metadata": {},
   "source": [
    "# Working with Time Data\n"
   ]
  },
  {
   "cell_type": "code",
   "execution_count": null,
   "id": "d25017c7",
   "metadata": {},
   "outputs": [],
   "source": [
    "pd.Timestamp('2021-11-30')"
   ]
  },
  {
   "cell_type": "code",
   "execution_count": null,
   "id": "80c6e2db",
   "metadata": {},
   "outputs": [],
   "source": [
    "pd.Timestamp('2021-Nov-30')"
   ]
  },
  {
   "cell_type": "code",
   "execution_count": null,
   "id": "3fd48f1e",
   "metadata": {},
   "outputs": [],
   "source": [
    "pd.Timestamp('2021/11/30')"
   ]
  },
  {
   "cell_type": "code",
   "execution_count": null,
   "id": "367ea8ca",
   "metadata": {},
   "outputs": [],
   "source": [
    "pd.Timestamp(2021,11,30,0,0,0)"
   ]
  },
  {
   "cell_type": "code",
   "execution_count": null,
   "id": "3b005f79",
   "metadata": {},
   "outputs": [],
   "source": [
    "pd.Timestamp(2021,11,30)"
   ]
  },
  {
   "cell_type": "code",
   "execution_count": null,
   "id": "78bb8512",
   "metadata": {},
   "outputs": [],
   "source": [
    "df = pd.DataFrame({'year': [2019, 2020, 2021],\n",
    "                   'month': [10, 6, 4],\n",
    "                   'day': [15, 10, 20]})\n",
    "print(df)\n"
   ]
  },
  {
   "cell_type": "code",
   "execution_count": null,
   "id": "1ff509c8",
   "metadata": {},
   "outputs": [],
   "source": [
    "ts = pd.to_datetime(df)\n",
    "print(ts)\n",
    "print(type(ts))"
   ]
  },
  {
   "cell_type": "code",
   "execution_count": null,
   "id": "8708581a",
   "metadata": {},
   "outputs": [],
   "source": [
    "t = pd.to_datetime('2021 USA 31--12', format='%Y USA %d--%m', errors='raise')\n",
    "print(t)"
   ]
  },
  {
   "cell_type": "code",
   "execution_count": null,
   "id": "67f50ffb",
   "metadata": {},
   "outputs": [],
   "source": [
    "ts = pd.Series(['2019 USA 31--12','2020 ITA 20--11','2021 USA 10--10'])\n",
    "print(ts)"
   ]
  },
  {
   "cell_type": "code",
   "execution_count": null,
   "id": "cc14858c",
   "metadata": {},
   "outputs": [],
   "source": [
    "t = pd.to_datetime(ts, format='%Y USA %d--%m', errors='ignore')\n",
    "print(t)"
   ]
  },
  {
   "cell_type": "code",
   "execution_count": null,
   "id": "b67c8ecb",
   "metadata": {},
   "outputs": [],
   "source": [
    "pd.Timestamp('2021-Nov-30 11:40', tz='UTC')"
   ]
  },
  {
   "cell_type": "code",
   "execution_count": null,
   "id": "8e7b525c",
   "metadata": {},
   "outputs": [],
   "source": [
    "pd.Timestamp('2021-Nov-30 11:40', tz='Europe/Stockholm')"
   ]
  },
  {
   "cell_type": "code",
   "execution_count": null,
   "id": "55ef58bb",
   "metadata": {},
   "outputs": [],
   "source": [
    "t = pd.Timestamp('2021-Nov-30 11:40PM')\n",
    "print(t)\n",
    "t = t.tz_localize(tz='America/Sao_Paulo')\n",
    "print(t)"
   ]
  },
  {
   "cell_type": "code",
   "execution_count": null,
   "id": "fa7d1bc4",
   "metadata": {},
   "outputs": [],
   "source": [
    "t2 = t.tz_convert('US/Eastern')\n",
    "print(t2)"
   ]
  },
  {
   "cell_type": "code",
   "execution_count": null,
   "id": "3307f1b9",
   "metadata": {},
   "outputs": [],
   "source": [
    "print(t.year)\n",
    "print(t.month)\n",
    "print(t.day)\n",
    "print(t.hour)\n",
    "print(t.minute)\n",
    "print(t.second)\n",
    "print(t.tz)"
   ]
  },
  {
   "cell_type": "code",
   "execution_count": null,
   "id": "08713d15",
   "metadata": {},
   "outputs": [],
   "source": [
    "t.hour = 12"
   ]
  },
  {
   "cell_type": "code",
   "execution_count": null,
   "id": "f63330f8",
   "metadata": {},
   "outputs": [],
   "source": [
    "pd.Timedelta('1 Day')"
   ]
  },
  {
   "cell_type": "code",
   "execution_count": null,
   "id": "eaf67809",
   "metadata": {
    "scrolled": true
   },
   "outputs": [],
   "source": [
    "t = pd.Timestamp('2021-Nov-16 10:30AM')\n",
    "print(t)\n",
    "dt = pd.Timedelta('1 Hour')\n",
    "t = t + dt\n",
    "print(t)"
   ]
  },
  {
   "cell_type": "code",
   "execution_count": null,
   "id": "fbc1caee",
   "metadata": {},
   "outputs": [],
   "source": [
    "t = pd.Timestamp('2021-Nov-16 10:30AM')\n",
    "t = t + pd.Timedelta('1 Hour')\n",
    "print(t)"
   ]
  },
  {
   "cell_type": "code",
   "execution_count": null,
   "id": "f7856738",
   "metadata": {},
   "outputs": [],
   "source": [
    "pd.Timedelta(1, unit=\"d\")"
   ]
  },
  {
   "cell_type": "code",
   "execution_count": null,
   "id": "ecf7ec6e",
   "metadata": {},
   "outputs": [],
   "source": [
    "pd.Timedelta(150045, unit=\"s\")"
   ]
  },
  {
   "cell_type": "code",
   "execution_count": null,
   "id": "a7fddb8d",
   "metadata": {},
   "outputs": [],
   "source": [
    "\n",
    "Timedelta('3 days 05:34:23')pd.Timedelta('3D 5:34:23')"
   ]
  },
  {
   "cell_type": "code",
   "execution_count": null,
   "id": "57559703",
   "metadata": {},
   "outputs": [],
   "source": [
    "t1 = pd.Timestamp('2021-Jan-01 11:30AM')\n",
    "t2 = pd.Timestamp('2021-Mar-13 4:15PM')\n",
    "dt = t2 - t1\n",
    "print(dt)\n",
    "print(type(dt))"
   ]
  },
  {
   "cell_type": "code",
   "execution_count": null,
   "id": "decacf60",
   "metadata": {},
   "outputs": [],
   "source": [
    "ts = pd.Series(['00:22:33','00:13:12','00:24:14'])\n",
    "print(ts)\n",
    "dt = pd.to_timedelta(ts, errors='raise')\n",
    "print(dt)"
   ]
  },
  {
   "cell_type": "code",
   "execution_count": null,
   "id": "1f766cf1",
   "metadata": {},
   "outputs": [],
   "source": [
    "pd.date_range('2021/01/01', freq='D', periods=10)"
   ]
  },
  {
   "cell_type": "code",
   "execution_count": null,
   "id": "53ee078a",
   "metadata": {},
   "outputs": [],
   "source": [
    "pd.date_range(\"2021/01/01\", \"2021/01/10\")"
   ]
  },
  {
   "cell_type": "code",
   "execution_count": null,
   "id": "6354c146",
   "metadata": {},
   "outputs": [],
   "source": [
    "pd.date_range(\"2021/01/01 8:00\",\"2021/01/01 10:00\", freq='5T')"
   ]
  },
  {
   "cell_type": "code",
   "execution_count": null,
   "id": "7e5fd985",
   "metadata": {},
   "outputs": [],
   "source": [
    "pd.date_range(\"2021/01/01 8:00\",\"2021/01/01 10:00\", periods=10)"
   ]
  },
  {
   "cell_type": "code",
   "execution_count": null,
   "id": "07061252",
   "metadata": {},
   "outputs": [],
   "source": [
    "range = pd.date_range(\"2021/01/01 8:00\",\"2021/01/01 10:00\", periods=10)\n",
    "tsi = pd.Series(np.random.randn(len(range)), index=range)\n",
    "print(tsi)"
   ]
  },
  {
   "cell_type": "code",
   "execution_count": null,
   "id": "35d7cde8",
   "metadata": {},
   "outputs": [],
   "source": [
    "ts = pd.Series(range)\n",
    "print(ts)"
   ]
  },
  {
   "cell_type": "code",
   "execution_count": null,
   "id": "2a5af838",
   "metadata": {},
   "outputs": [],
   "source": [
    "tsi[\"2021/01/01 8:00\":\"2021/01/01 8:30\"]"
   ]
  },
  {
   "cell_type": "code",
   "execution_count": null,
   "id": "30584213",
   "metadata": {
    "scrolled": true
   },
   "outputs": [],
   "source": [
    "df = pd.read_csv('Data/books.csv')\n",
    "print(df)"
   ]
  },
  {
   "cell_type": "code",
   "execution_count": null,
   "id": "88a13bc9",
   "metadata": {},
   "outputs": [],
   "source": [
    "df.PublicationDate"
   ]
  },
  {
   "cell_type": "code",
   "execution_count": null,
   "id": "ffca401e",
   "metadata": {},
   "outputs": [],
   "source": [
    "df['PublicationDate'] = pd.to_datetime(df.PublicationDate)\n",
    "print(df)"
   ]
  },
  {
   "cell_type": "code",
   "execution_count": null,
   "id": "b6ad0960",
   "metadata": {},
   "outputs": [],
   "source": [
    "df.PublicationDate"
   ]
  },
  {
   "cell_type": "code",
   "execution_count": null,
   "id": "81b868db",
   "metadata": {},
   "outputs": [],
   "source": [
    "df = pd.read_csv('Data/books.csv', parse_dates = [3])\n",
    "print(df)"
   ]
  }
 ],
 "metadata": {
  "kernelspec": {
   "display_name": "Python 3 (ipykernel)",
   "language": "python",
   "name": "python3"
  },
  "language_info": {
   "codemirror_mode": {
    "name": "ipython",
    "version": 3
   },
   "file_extension": ".py",
   "mimetype": "text/x-python",
   "name": "python",
   "nbconvert_exporter": "python",
   "pygments_lexer": "ipython3",
   "version": "3.9.13"
  }
 },
 "nbformat": 4,
 "nbformat_minor": 5
}
