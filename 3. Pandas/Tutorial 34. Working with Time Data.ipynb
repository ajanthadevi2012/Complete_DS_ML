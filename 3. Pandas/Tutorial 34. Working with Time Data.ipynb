{
 "cells": [
  {
   "cell_type": "code",
   "execution_count": 1,
   "id": "f3dca018",
   "metadata": {},
   "outputs": [],
   "source": [
    "import numpy as np\n",
    "import pandas as pd"
   ]
  },
  {
   "cell_type": "markdown",
   "id": "b5e1e216",
   "metadata": {},
   "source": [
    "# Working with Time Data\n"
   ]
  },
  {
   "cell_type": "code",
   "execution_count": 2,
   "id": "d25017c7",
   "metadata": {},
   "outputs": [
    {
     "data": {
      "text/plain": [
       "Timestamp('2023-07-02 00:00:00')"
      ]
     },
     "execution_count": 2,
     "metadata": {},
     "output_type": "execute_result"
    }
   ],
   "source": [
    "pd.Timestamp('2023-07-02')"
   ]
  },
  {
   "cell_type": "code",
   "execution_count": 3,
   "id": "80c6e2db",
   "metadata": {},
   "outputs": [
    {
     "data": {
      "text/plain": [
       "Timestamp('2023-07-02 00:00:00')"
      ]
     },
     "execution_count": 3,
     "metadata": {},
     "output_type": "execute_result"
    }
   ],
   "source": [
    "pd.Timestamp('2023-July-02')"
   ]
  },
  {
   "cell_type": "code",
   "execution_count": 4,
   "id": "3fd48f1e",
   "metadata": {},
   "outputs": [
    {
     "data": {
      "text/plain": [
       "Timestamp('2023-07-02 00:00:00')"
      ]
     },
     "execution_count": 4,
     "metadata": {},
     "output_type": "execute_result"
    }
   ],
   "source": [
    "pd.Timestamp('2023/07/02')"
   ]
  },
  {
   "cell_type": "code",
   "execution_count": 5,
   "id": "367ea8ca",
   "metadata": {},
   "outputs": [
    {
     "data": {
      "text/plain": [
       "Timestamp('2023-07-02 00:00:00')"
      ]
     },
     "execution_count": 5,
     "metadata": {},
     "output_type": "execute_result"
    }
   ],
   "source": [
    "pd.Timestamp(2023,7,2,0,0,0)"
   ]
  },
  {
   "cell_type": "code",
   "execution_count": 6,
   "id": "3b005f79",
   "metadata": {},
   "outputs": [
    {
     "data": {
      "text/plain": [
       "Timestamp('2023-07-02 00:00:00')"
      ]
     },
     "execution_count": 6,
     "metadata": {},
     "output_type": "execute_result"
    }
   ],
   "source": [
    "pd.Timestamp(2023,7,2)"
   ]
  },
  {
   "cell_type": "code",
   "execution_count": 7,
   "id": "78bb8512",
   "metadata": {},
   "outputs": [
    {
     "name": "stdout",
     "output_type": "stream",
     "text": [
      "   year  month  day\n",
      "0  2021     10   15\n",
      "1  2022      6   10\n",
      "2  2023      4   20\n"
     ]
    }
   ],
   "source": [
    "df = pd.DataFrame({'year': [2021, 2022, 2023],\n",
    "                   'month': [10, 6, 4],\n",
    "                   'day': [15, 10, 20]})\n",
    "print(df)\n"
   ]
  },
  {
   "cell_type": "code",
   "execution_count": 8,
   "id": "1ff509c8",
   "metadata": {},
   "outputs": [
    {
     "name": "stdout",
     "output_type": "stream",
     "text": [
      "0   2021-10-15\n",
      "1   2022-06-10\n",
      "2   2023-04-20\n",
      "dtype: datetime64[ns]\n",
      "<class 'pandas.core.series.Series'>\n"
     ]
    }
   ],
   "source": [
    "ts = pd.to_datetime(df)\n",
    "print(ts)\n",
    "print(type(ts))"
   ]
  },
  {
   "cell_type": "code",
   "execution_count": 9,
   "id": "8708581a",
   "metadata": {},
   "outputs": [
    {
     "name": "stdout",
     "output_type": "stream",
     "text": [
      "2023-12-31 00:00:00\n"
     ]
    }
   ],
   "source": [
    "t = pd.to_datetime('2023 USA 31--12', format='%Y USA %d--%m', errors='raise')\n",
    "print(t)"
   ]
  },
  {
   "cell_type": "code",
   "execution_count": 10,
   "id": "67f50ffb",
   "metadata": {},
   "outputs": [
    {
     "name": "stdout",
     "output_type": "stream",
     "text": [
      "0    2021 USA 31--12\n",
      "1    2022 ITA 20--11\n",
      "2    2023 USA 10--10\n",
      "dtype: object\n"
     ]
    }
   ],
   "source": [
    "ts = pd.Series(['2021 USA 31--12','2022 ITA 20--11','2023 USA 10--10'])\n",
    "print(ts)"
   ]
  },
  {
   "cell_type": "code",
   "execution_count": 11,
   "id": "cc14858c",
   "metadata": {},
   "outputs": [
    {
     "name": "stdout",
     "output_type": "stream",
     "text": [
      "0    2021 USA 31--12\n",
      "1    2022 ITA 20--11\n",
      "2    2023 USA 10--10\n",
      "dtype: object\n"
     ]
    }
   ],
   "source": [
    "t = pd.to_datetime(ts, format='%Y USA %d--%m', errors='ignore')\n",
    "print(t)"
   ]
  },
  {
   "cell_type": "code",
   "execution_count": 12,
   "id": "b67c8ecb",
   "metadata": {},
   "outputs": [
    {
     "data": {
      "text/plain": [
       "Timestamp('2023-07-02 11:40:00+0000', tz='UTC')"
      ]
     },
     "execution_count": 12,
     "metadata": {},
     "output_type": "execute_result"
    }
   ],
   "source": [
    "pd.Timestamp('2023-July-02 11:40', tz='UTC')"
   ]
  },
  {
   "cell_type": "code",
   "execution_count": 13,
   "id": "8e7b525c",
   "metadata": {},
   "outputs": [
    {
     "data": {
      "text/plain": [
       "Timestamp('2023-07-02 11:40:00+0200', tz='Europe/Stockholm')"
      ]
     },
     "execution_count": 13,
     "metadata": {},
     "output_type": "execute_result"
    }
   ],
   "source": [
    "pd.Timestamp('2023-July-02 11:40', tz='Europe/Stockholm')"
   ]
  },
  {
   "cell_type": "code",
   "execution_count": 14,
   "id": "55ef58bb",
   "metadata": {},
   "outputs": [
    {
     "name": "stdout",
     "output_type": "stream",
     "text": [
      "2023-07-02 23:40:00\n",
      "2023-07-02 23:40:00-03:00\n"
     ]
    }
   ],
   "source": [
    "t = pd.Timestamp('2023-July-02 11:40PM')\n",
    "print(t)\n",
    "t = t.tz_localize(tz='America/Sao_Paulo')\n",
    "print(t)"
   ]
  },
  {
   "cell_type": "code",
   "execution_count": 15,
   "id": "fa7d1bc4",
   "metadata": {},
   "outputs": [
    {
     "name": "stdout",
     "output_type": "stream",
     "text": [
      "2023-07-02 22:40:00-04:00\n"
     ]
    }
   ],
   "source": [
    "t2 = t.tz_convert('US/Eastern')\n",
    "print(t2)"
   ]
  },
  {
   "cell_type": "code",
   "execution_count": 16,
   "id": "3307f1b9",
   "metadata": {},
   "outputs": [
    {
     "name": "stdout",
     "output_type": "stream",
     "text": [
      "2023\n",
      "7\n",
      "2\n",
      "23\n",
      "40\n",
      "0\n",
      "America/Sao_Paulo\n"
     ]
    }
   ],
   "source": [
    "print(t.year)\n",
    "print(t.month)\n",
    "print(t.day)\n",
    "print(t.hour)\n",
    "print(t.minute)\n",
    "print(t.second)\n",
    "print(t.tz)"
   ]
  },
  {
   "cell_type": "code",
   "execution_count": 17,
   "id": "08713d15",
   "metadata": {},
   "outputs": [
    {
     "ename": "AttributeError",
     "evalue": "attribute 'hour' of 'datetime.datetime' objects is not writable",
     "output_type": "error",
     "traceback": [
      "\u001b[1;31m---------------------------------------------------------------------------\u001b[0m",
      "\u001b[1;31mAttributeError\u001b[0m                            Traceback (most recent call last)",
      "\u001b[1;32m~\\AppData\\Local\\Temp\\ipykernel_39440\\2568668846.py\u001b[0m in \u001b[0;36m<module>\u001b[1;34m\u001b[0m\n\u001b[1;32m----> 1\u001b[1;33m \u001b[0mt\u001b[0m\u001b[1;33m.\u001b[0m\u001b[0mhour\u001b[0m \u001b[1;33m=\u001b[0m \u001b[1;36m12\u001b[0m\u001b[1;33m\u001b[0m\u001b[1;33m\u001b[0m\u001b[0m\n\u001b[0m",
      "\u001b[1;31mAttributeError\u001b[0m: attribute 'hour' of 'datetime.datetime' objects is not writable"
     ]
    }
   ],
   "source": [
    "t.hour = 12"
   ]
  },
  {
   "cell_type": "code",
   "execution_count": 18,
   "id": "f63330f8",
   "metadata": {},
   "outputs": [
    {
     "data": {
      "text/plain": [
       "Timedelta('1 days 00:00:00')"
      ]
     },
     "execution_count": 18,
     "metadata": {},
     "output_type": "execute_result"
    }
   ],
   "source": [
    "pd.Timedelta('1 Day')"
   ]
  },
  {
   "cell_type": "code",
   "execution_count": 19,
   "id": "eaf67809",
   "metadata": {
    "scrolled": true
   },
   "outputs": [
    {
     "name": "stdout",
     "output_type": "stream",
     "text": [
      "2023-07-02 10:30:00\n",
      "2023-07-02 11:30:00\n"
     ]
    }
   ],
   "source": [
    "t = pd.Timestamp('2023-July-02 10:30AM')\n",
    "print(t)\n",
    "dt = pd.Timedelta('1 Hour')\n",
    "t = t + dt\n",
    "print(t)"
   ]
  },
  {
   "cell_type": "code",
   "execution_count": 20,
   "id": "fbc1caee",
   "metadata": {},
   "outputs": [
    {
     "name": "stdout",
     "output_type": "stream",
     "text": [
      "2023-07-02 11:30:00\n"
     ]
    }
   ],
   "source": [
    "t = pd.Timestamp('2023-July-02 10:30AM')\n",
    "t = t + pd.Timedelta('1 Hour')\n",
    "print(t)"
   ]
  },
  {
   "cell_type": "code",
   "execution_count": 21,
   "id": "f7856738",
   "metadata": {},
   "outputs": [
    {
     "data": {
      "text/plain": [
       "Timedelta('1 days 00:00:00')"
      ]
     },
     "execution_count": 21,
     "metadata": {},
     "output_type": "execute_result"
    }
   ],
   "source": [
    "pd.Timedelta(1, unit=\"d\")"
   ]
  },
  {
   "cell_type": "code",
   "execution_count": 22,
   "id": "ecf7ec6e",
   "metadata": {},
   "outputs": [
    {
     "data": {
      "text/plain": [
       "Timedelta('1 days 17:40:45')"
      ]
     },
     "execution_count": 22,
     "metadata": {},
     "output_type": "execute_result"
    }
   ],
   "source": [
    "pd.Timedelta(150045, unit=\"s\")"
   ]
  },
  {
   "cell_type": "code",
   "execution_count": 23,
   "id": "a7fddb8d",
   "metadata": {},
   "outputs": [
    {
     "data": {
      "text/plain": [
       "Timedelta('3 days 05:34:23')"
      ]
     },
     "execution_count": 23,
     "metadata": {},
     "output_type": "execute_result"
    }
   ],
   "source": [
    "pd.Timedelta('3D 5:34:23')\n"
   ]
  },
  {
   "cell_type": "code",
   "execution_count": 24,
   "id": "57559703",
   "metadata": {},
   "outputs": [
    {
     "name": "stdout",
     "output_type": "stream",
     "text": [
      "71 days 04:45:00\n",
      "<class 'pandas._libs.tslibs.timedeltas.Timedelta'>\n"
     ]
    }
   ],
   "source": [
    "t1 = pd.Timestamp('2023-Jan-01 11:30AM')\n",
    "t2 = pd.Timestamp('2023-Mar-13 4:15PM')\n",
    "dt = t2 - t1\n",
    "print(dt)\n",
    "print(type(dt))"
   ]
  },
  {
   "cell_type": "code",
   "execution_count": 25,
   "id": "decacf60",
   "metadata": {},
   "outputs": [
    {
     "name": "stdout",
     "output_type": "stream",
     "text": [
      "0    00:22:33\n",
      "1    00:13:12\n",
      "2    00:24:14\n",
      "dtype: object\n",
      "0   0 days 00:22:33\n",
      "1   0 days 00:13:12\n",
      "2   0 days 00:24:14\n",
      "dtype: timedelta64[ns]\n"
     ]
    }
   ],
   "source": [
    "ts = pd.Series(['00:22:33','00:13:12','00:24:14'])\n",
    "print(ts)\n",
    "dt = pd.to_timedelta(ts, errors='raise')\n",
    "print(dt)"
   ]
  },
  {
   "cell_type": "code",
   "execution_count": 26,
   "id": "1f766cf1",
   "metadata": {},
   "outputs": [
    {
     "data": {
      "text/plain": [
       "DatetimeIndex(['2023-01-01', '2023-01-02', '2023-01-03', '2023-01-04',\n",
       "               '2023-01-05', '2023-01-06', '2023-01-07', '2023-01-08',\n",
       "               '2023-01-09', '2023-01-10'],\n",
       "              dtype='datetime64[ns]', freq='D')"
      ]
     },
     "execution_count": 26,
     "metadata": {},
     "output_type": "execute_result"
    }
   ],
   "source": [
    "pd.date_range('2023/01/01', freq='D', periods=10)"
   ]
  },
  {
   "cell_type": "code",
   "execution_count": 27,
   "id": "53ee078a",
   "metadata": {},
   "outputs": [
    {
     "data": {
      "text/plain": [
       "DatetimeIndex(['2023-01-01', '2023-01-02', '2023-01-03', '2023-01-04',\n",
       "               '2023-01-05', '2023-01-06', '2023-01-07', '2023-01-08',\n",
       "               '2023-01-09', '2023-01-10'],\n",
       "              dtype='datetime64[ns]', freq='D')"
      ]
     },
     "execution_count": 27,
     "metadata": {},
     "output_type": "execute_result"
    }
   ],
   "source": [
    "pd.date_range(\"2023/01/01\", \"2023/01/10\")"
   ]
  },
  {
   "cell_type": "code",
   "execution_count": 28,
   "id": "6354c146",
   "metadata": {},
   "outputs": [
    {
     "data": {
      "text/plain": [
       "DatetimeIndex(['2023-01-01 08:00:00', '2023-01-01 08:05:00',\n",
       "               '2023-01-01 08:10:00', '2023-01-01 08:15:00',\n",
       "               '2023-01-01 08:20:00', '2023-01-01 08:25:00',\n",
       "               '2023-01-01 08:30:00', '2023-01-01 08:35:00',\n",
       "               '2023-01-01 08:40:00', '2023-01-01 08:45:00',\n",
       "               '2023-01-01 08:50:00', '2023-01-01 08:55:00',\n",
       "               '2023-01-01 09:00:00', '2023-01-01 09:05:00',\n",
       "               '2023-01-01 09:10:00', '2023-01-01 09:15:00',\n",
       "               '2023-01-01 09:20:00', '2023-01-01 09:25:00',\n",
       "               '2023-01-01 09:30:00', '2023-01-01 09:35:00',\n",
       "               '2023-01-01 09:40:00', '2023-01-01 09:45:00',\n",
       "               '2023-01-01 09:50:00', '2023-01-01 09:55:00',\n",
       "               '2023-01-01 10:00:00'],\n",
       "              dtype='datetime64[ns]', freq='5T')"
      ]
     },
     "execution_count": 28,
     "metadata": {},
     "output_type": "execute_result"
    }
   ],
   "source": [
    "pd.date_range(\"2023/01/01 8:00\",\"2023/01/01 10:00\", freq='5T')"
   ]
  },
  {
   "cell_type": "code",
   "execution_count": 29,
   "id": "7e5fd985",
   "metadata": {},
   "outputs": [
    {
     "data": {
      "text/plain": [
       "DatetimeIndex(['2023-01-01 08:00:00', '2023-01-01 08:13:20',\n",
       "               '2023-01-01 08:26:40', '2023-01-01 08:40:00',\n",
       "               '2023-01-01 08:53:20', '2023-01-01 09:06:40',\n",
       "               '2023-01-01 09:20:00', '2023-01-01 09:33:20',\n",
       "               '2023-01-01 09:46:40', '2023-01-01 10:00:00'],\n",
       "              dtype='datetime64[ns]', freq=None)"
      ]
     },
     "execution_count": 29,
     "metadata": {},
     "output_type": "execute_result"
    }
   ],
   "source": [
    "pd.date_range(\"2023/01/01 8:00\",\"2023/01/01 10:00\", periods=10)"
   ]
  },
  {
   "cell_type": "code",
   "execution_count": 30,
   "id": "07061252",
   "metadata": {},
   "outputs": [
    {
     "name": "stdout",
     "output_type": "stream",
     "text": [
      "2023-01-01 08:00:00    0.338855\n",
      "2023-01-01 08:13:20   -0.649151\n",
      "2023-01-01 08:26:40   -1.242645\n",
      "2023-01-01 08:40:00   -0.483162\n",
      "2023-01-01 08:53:20    0.199410\n",
      "2023-01-01 09:06:40   -0.823257\n",
      "2023-01-01 09:20:00    1.767299\n",
      "2023-01-01 09:33:20    0.742714\n",
      "2023-01-01 09:46:40    0.877898\n",
      "2023-01-01 10:00:00   -0.416630\n",
      "dtype: float64\n"
     ]
    }
   ],
   "source": [
    "range = pd.date_range(\"2023/01/01 8:00\",\"2023/01/01 10:00\", periods=10)\n",
    "tsi = pd.Series(np.random.randn(len(range)), index=range)\n",
    "print(tsi)"
   ]
  },
  {
   "cell_type": "code",
   "execution_count": 31,
   "id": "35d7cde8",
   "metadata": {},
   "outputs": [
    {
     "name": "stdout",
     "output_type": "stream",
     "text": [
      "0   2023-01-01 08:00:00\n",
      "1   2023-01-01 08:13:20\n",
      "2   2023-01-01 08:26:40\n",
      "3   2023-01-01 08:40:00\n",
      "4   2023-01-01 08:53:20\n",
      "5   2023-01-01 09:06:40\n",
      "6   2023-01-01 09:20:00\n",
      "7   2023-01-01 09:33:20\n",
      "8   2023-01-01 09:46:40\n",
      "9   2023-01-01 10:00:00\n",
      "dtype: datetime64[ns]\n"
     ]
    }
   ],
   "source": [
    "ts = pd.Series(range)\n",
    "print(ts)"
   ]
  },
  {
   "cell_type": "code",
   "execution_count": 32,
   "id": "2a5af838",
   "metadata": {},
   "outputs": [
    {
     "data": {
      "text/plain": [
       "2023-01-01 08:00:00    0.338855\n",
       "2023-01-01 08:13:20   -0.649151\n",
       "2023-01-01 08:26:40   -1.242645\n",
       "dtype: float64"
      ]
     },
     "execution_count": 32,
     "metadata": {},
     "output_type": "execute_result"
    }
   ],
   "source": [
    "tsi[\"2023/01/01 8:00\":\"2023/01/01 8:30\"]"
   ]
  },
  {
   "cell_type": "code",
   "execution_count": 33,
   "id": "30584213",
   "metadata": {
    "scrolled": true
   },
   "outputs": [
    {
     "name": "stdout",
     "output_type": "stream",
     "text": [
      "        ID                   Title          Author PublicationDate\n",
      "0  001276A  The Rise of the Falcon    John Admiral     25-Apr-2018\n",
      "1  023125B         Controlled mind   Robert Greens     28-Aug-2016\n",
      "2  005556E       Only love remains  Greta Blooming     17-Feb-2015\n"
     ]
    }
   ],
   "source": [
    "df = pd.read_csv('Data/books.csv')\n",
    "print(df)"
   ]
  },
  {
   "cell_type": "code",
   "execution_count": 34,
   "id": "88a13bc9",
   "metadata": {},
   "outputs": [
    {
     "data": {
      "text/plain": [
       "0    25-Apr-2018\n",
       "1    28-Aug-2016\n",
       "2    17-Feb-2015\n",
       "Name: PublicationDate, dtype: object"
      ]
     },
     "execution_count": 34,
     "metadata": {},
     "output_type": "execute_result"
    }
   ],
   "source": [
    "df.PublicationDate"
   ]
  },
  {
   "cell_type": "code",
   "execution_count": 35,
   "id": "ffca401e",
   "metadata": {},
   "outputs": [
    {
     "name": "stdout",
     "output_type": "stream",
     "text": [
      "        ID                   Title          Author PublicationDate\n",
      "0  001276A  The Rise of the Falcon    John Admiral      2018-04-25\n",
      "1  023125B         Controlled mind   Robert Greens      2016-08-28\n",
      "2  005556E       Only love remains  Greta Blooming      2015-02-17\n"
     ]
    }
   ],
   "source": [
    "df['PublicationDate'] = pd.to_datetime(df.PublicationDate)\n",
    "print(df)"
   ]
  },
  {
   "cell_type": "code",
   "execution_count": 36,
   "id": "b6ad0960",
   "metadata": {},
   "outputs": [
    {
     "data": {
      "text/plain": [
       "0   2018-04-25\n",
       "1   2016-08-28\n",
       "2   2015-02-17\n",
       "Name: PublicationDate, dtype: datetime64[ns]"
      ]
     },
     "execution_count": 36,
     "metadata": {},
     "output_type": "execute_result"
    }
   ],
   "source": [
    "df.PublicationDate"
   ]
  },
  {
   "cell_type": "code",
   "execution_count": 37,
   "id": "81b868db",
   "metadata": {},
   "outputs": [
    {
     "name": "stdout",
     "output_type": "stream",
     "text": [
      "        ID                   Title          Author PublicationDate\n",
      "0  001276A  The Rise of the Falcon    John Admiral      2018-04-25\n",
      "1  023125B         Controlled mind   Robert Greens      2016-08-28\n",
      "2  005556E       Only love remains  Greta Blooming      2015-02-17\n"
     ]
    }
   ],
   "source": [
    "df = pd.read_csv('Data/books.csv', parse_dates = [3])\n",
    "print(df)"
   ]
  },
  {
   "cell_type": "code",
   "execution_count": null,
   "id": "c9ac9708",
   "metadata": {},
   "outputs": [],
   "source": []
  }
 ],
 "metadata": {
  "kernelspec": {
   "display_name": "Python 3 (ipykernel)",
   "language": "python",
   "name": "python3"
  },
  "language_info": {
   "codemirror_mode": {
    "name": "ipython",
    "version": 3
   },
   "file_extension": ".py",
   "mimetype": "text/x-python",
   "name": "python",
   "nbconvert_exporter": "python",
   "pygments_lexer": "ipython3",
   "version": "3.9.13"
  }
 },
 "nbformat": 4,
 "nbformat_minor": 5
}
