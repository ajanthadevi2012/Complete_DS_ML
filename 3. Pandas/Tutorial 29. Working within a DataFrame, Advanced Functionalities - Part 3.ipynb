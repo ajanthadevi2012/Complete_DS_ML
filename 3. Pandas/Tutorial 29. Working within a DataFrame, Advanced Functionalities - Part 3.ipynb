{
 "cells": [
  {
   "cell_type": "code",
   "execution_count": 1,
   "id": "f3bb8aeb",
   "metadata": {},
   "outputs": [],
   "source": [
    "import numpy as np\n",
    "import pandas as pd"
   ]
  },
  {
   "cell_type": "markdown",
   "id": "1b103fc3",
   "metadata": {},
   "source": [
    "# Grouping"
   ]
  },
  {
   "cell_type": "code",
   "execution_count": 2,
   "id": "4472cd85",
   "metadata": {
    "scrolled": true
   },
   "outputs": [
    {
     "name": "stdout",
     "output_type": "stream",
     "text": [
      "   A  B  C\n",
      "a  1  1  4\n",
      "c  2  3  4\n",
      "b  3  3  3\n",
      "c  3  4  2\n",
      "a  4  4  4\n",
      "b  4  1  1\n"
     ]
    }
   ],
   "source": [
    "df = pd.DataFrame(np.random.randint(1,5,18).reshape(6,3),\n",
    "                 index=['a','b','c','a','b','c'],\n",
    "                 columns=['A','B','C'])\n",
    "print(df.sort_values(by=['A']))"
   ]
  },
  {
   "cell_type": "code",
   "execution_count": 3,
   "id": "2cf88499",
   "metadata": {},
   "outputs": [
    {
     "data": {
      "text/plain": [
       "<pandas.core.groupby.generic.DataFrameGroupBy object at 0x000001E6DF2697C0>"
      ]
     },
     "execution_count": 3,
     "metadata": {},
     "output_type": "execute_result"
    }
   ],
   "source": [
    "df.groupby(by='A')"
   ]
  },
  {
   "cell_type": "code",
   "execution_count": 4,
   "id": "bf472c94",
   "metadata": {},
   "outputs": [
    {
     "name": "stdout",
     "output_type": "stream",
     "text": [
      "1\n",
      "   A  B  C\n",
      "a  1  1  4\n",
      "2\n",
      "   A  B  C\n",
      "c  2  3  4\n",
      "3\n",
      "   A  B  C\n",
      "b  3  3  3\n",
      "c  3  4  2\n",
      "4\n",
      "   A  B  C\n",
      "a  4  4  4\n",
      "b  4  1  1\n"
     ]
    }
   ],
   "source": [
    "for name, group in df.groupby(by='A'):\n",
    "    print(name)\n",
    "    print(group)"
   ]
  },
  {
   "cell_type": "code",
   "execution_count": 5,
   "id": "9bacfcdc",
   "metadata": {},
   "outputs": [
    {
     "name": "stdout",
     "output_type": "stream",
     "text": [
      "   B  C\n",
      "A      \n",
      "1  1  4\n",
      "2  3  4\n",
      "3  4  3\n",
      "4  4  4\n"
     ]
    }
   ],
   "source": [
    "dfg = df.groupby(by='A').max()\n",
    "print(dfg)\n"
   ]
  },
  {
   "cell_type": "code",
   "execution_count": 6,
   "id": "4422cb19",
   "metadata": {},
   "outputs": [
    {
     "name": "stdout",
     "output_type": "stream",
     "text": [
      "   B  C\n",
      "A      \n",
      "1  1  4\n",
      "2  3  4\n",
      "3  7  5\n",
      "4  5  5\n"
     ]
    }
   ],
   "source": [
    "df2 = df.groupby(by='A').sum()\n",
    "print(df2)"
   ]
  },
  {
   "cell_type": "code",
   "execution_count": 7,
   "id": "b924cb9d",
   "metadata": {},
   "outputs": [
    {
     "name": "stdout",
     "output_type": "stream",
     "text": [
      "   B  C\n",
      "A      \n",
      "1  1  1\n",
      "2  1  1\n",
      "3  2  2\n",
      "4  2  2\n"
     ]
    }
   ],
   "source": [
    "df2 = df.groupby(by='A').count()\n",
    "print(df2)"
   ]
  },
  {
   "cell_type": "code",
   "execution_count": 8,
   "id": "79359044",
   "metadata": {},
   "outputs": [
    {
     "name": "stdout",
     "output_type": "stream",
     "text": [
      "high           X       Y    \n",
      "low            A   B   A   B\n",
      "first second                \n",
      "x     a        1   2   3   4\n",
      "      b        5   6   7   8\n",
      "y     a        9  10  11  12\n",
      "      b       13  14  15  16\n"
     ]
    }
   ],
   "source": [
    "tuples = [('x', 'a'), ('x', 'b'), ('y', 'a'), ('y', 'b')]\n",
    "index = pd.MultiIndex.from_tuples(tuples, names=['first','second'])\n",
    "tuples = [('X', 'A'), ('X', 'B'), ('Y', 'A'), ('Y', 'B')]\n",
    "columns = pd.MultiIndex.from_tuples(tuples, names=['high','low'])\n",
    "dfm = pd.DataFrame(np.arange(1,17).reshape(4,4) , index = index, columns = columns)\n",
    "print(dfm)"
   ]
  },
  {
   "cell_type": "code",
   "execution_count": 9,
   "id": "58d90ce7",
   "metadata": {},
   "outputs": [
    {
     "name": "stdout",
     "output_type": "stream",
     "text": [
      "high    X       Y    \n",
      "low     A   B   A   B\n",
      "first                \n",
      "x       5   6   7   8\n",
      "y      13  14  15  16\n"
     ]
    }
   ],
   "source": [
    "df2 = dfm.groupby(level=0).max()\n",
    "print(df2)"
   ]
  },
  {
   "cell_type": "code",
   "execution_count": 10,
   "id": "44063b76",
   "metadata": {},
   "outputs": [
    {
     "name": "stdout",
     "output_type": "stream",
     "text": [
      "high     X       Y    \n",
      "low      A   B   A   B\n",
      "second                \n",
      "a        9  10  11  12\n",
      "b       13  14  15  16\n"
     ]
    }
   ],
   "source": [
    "df2 = dfm.groupby(level=1).max()\n",
    "print(df2)"
   ]
  },
  {
   "cell_type": "code",
   "execution_count": 11,
   "id": "3acec2f7",
   "metadata": {},
   "outputs": [
    {
     "name": "stdout",
     "output_type": "stream",
     "text": [
      "high           X   Y\n",
      "first second        \n",
      "x     a        2   4\n",
      "      b        6   8\n",
      "y     a       10  12\n",
      "      b       14  16\n"
     ]
    }
   ],
   "source": [
    "df2 = dfm.groupby(level=0, axis=1).max()\n",
    "print(df2)"
   ]
  },
  {
   "cell_type": "code",
   "execution_count": 12,
   "id": "4ae5fd9e",
   "metadata": {},
   "outputs": [
    {
     "name": "stdout",
     "output_type": "stream",
     "text": [
      "low            A   B\n",
      "first second        \n",
      "x     a        3   4\n",
      "      b        7   8\n",
      "y     a       11  12\n",
      "      b       15  16\n"
     ]
    }
   ],
   "source": [
    "df2 = dfm.groupby(level=1, axis=1).max()\n",
    "print(df2)"
   ]
  },
  {
   "cell_type": "code",
   "execution_count": 13,
   "id": "0505bcfb",
   "metadata": {},
   "outputs": [
    {
     "name": "stdout",
     "output_type": "stream",
     "text": [
      "   B  C\n",
      "a  1  4\n",
      "b  7  5\n",
      "c  7  5\n",
      "a  5  5\n",
      "b  5  5\n",
      "c  3  4\n"
     ]
    }
   ],
   "source": [
    "gdf = df.groupby('A').transform(np.sum)\n",
    "print(gdf)"
   ]
  },
  {
   "cell_type": "code",
   "execution_count": 14,
   "id": "0b3df682",
   "metadata": {},
   "outputs": [
    {
     "name": "stdout",
     "output_type": "stream",
     "text": [
      "   B  C\n",
      "A      \n",
      "1  1  4\n",
      "2  3  4\n",
      "3  7  5\n",
      "4  5  5\n"
     ]
    }
   ],
   "source": [
    "gdf = df.groupby('A').agg(np.sum)\n",
    "print(gdf)"
   ]
  },
  {
   "cell_type": "code",
   "execution_count": 15,
   "id": "194f0501",
   "metadata": {},
   "outputs": [
    {
     "name": "stdout",
     "output_type": "stream",
     "text": [
      "   A  B  C\n",
      "A         \n",
      "1  1  1  4\n",
      "2  2  3  4\n",
      "3  6  7  5\n",
      "4  8  5  5\n"
     ]
    }
   ],
   "source": [
    "gdf = df.groupby('A').apply(np.sum)\n",
    "print(gdf)"
   ]
  },
  {
   "cell_type": "markdown",
   "id": "2e7e2dd3",
   "metadata": {},
   "source": [
    "# Categorization"
   ]
  },
  {
   "cell_type": "code",
   "execution_count": 16,
   "id": "3d5f410e",
   "metadata": {},
   "outputs": [
    {
     "name": "stdout",
     "output_type": "stream",
     "text": [
      "   A  B  C\n",
      "a  1  2  3\n",
      "b  4  5  6\n",
      "c  7  8  9\n"
     ]
    }
   ],
   "source": [
    "df = pd.DataFrame(np.arange(1,10).reshape(3,3), \n",
    "                       index=['a','b','c'],\n",
    "                       columns=['A','B','C'])\n",
    "print(df)"
   ]
  },
  {
   "cell_type": "code",
   "execution_count": 17,
   "id": "dde342bc",
   "metadata": {},
   "outputs": [
    {
     "name": "stdout",
     "output_type": "stream",
     "text": [
      "   A  B  C cat\n",
      "a  1  2  3  IV\n",
      "b  4  5  6   I\n",
      "c  7  8  9  IV\n"
     ]
    }
   ],
   "source": [
    "cat = pd.Categorical(['IV','I','IV'],\n",
    "                     categories=['I','II','III','IV','V'],\n",
    "                     ordered=True)\n",
    "df['cat'] = cat\n",
    "print(df)"
   ]
  },
  {
   "cell_type": "code",
   "execution_count": 18,
   "id": "27eec13a",
   "metadata": {},
   "outputs": [
    {
     "name": "stdout",
     "output_type": "stream",
     "text": [
      "a    IV\n",
      "b     I\n",
      "c    IV\n",
      "Name: cat, dtype: category\n",
      "Categories (5, object): ['I' < 'II' < 'III' < 'IV' < 'V']\n"
     ]
    }
   ],
   "source": [
    "print(df['cat'].cat.as_ordered())"
   ]
  },
  {
   "cell_type": "code",
   "execution_count": 19,
   "id": "bd11bfdd",
   "metadata": {},
   "outputs": [
    {
     "name": "stdout",
     "output_type": "stream",
     "text": [
      "   A  B  C cat\n",
      "b  4  5  6   I\n",
      "a  1  2  3  IV\n",
      "c  7  8  9  IV\n"
     ]
    }
   ],
   "source": [
    "print(df.sort_values(by='cat'))"
   ]
  },
  {
   "cell_type": "code",
   "execution_count": 20,
   "id": "f4cc39d1",
   "metadata": {},
   "outputs": [
    {
     "name": "stdout",
     "output_type": "stream",
     "text": [
      "cat\n",
      "I      1\n",
      "II     0\n",
      "III    0\n",
      "IV     2\n",
      "V      0\n",
      "dtype: int64\n"
     ]
    }
   ],
   "source": [
    "print(df.groupby('cat').size())"
   ]
  },
  {
   "cell_type": "code",
   "execution_count": 21,
   "id": "85a5d538",
   "metadata": {},
   "outputs": [
    {
     "name": "stdout",
     "output_type": "stream",
     "text": [
      "   A  B  C  cat\n",
      "a  1  2  3   IV\n",
      "b  4  5  6    I\n",
      "c  7  8  9  III\n"
     ]
    }
   ],
   "source": [
    "df['cat'] = ['IV','I','III']\n",
    "print(df)"
   ]
  },
  {
   "cell_type": "code",
   "execution_count": 22,
   "id": "bd10860d",
   "metadata": {},
   "outputs": [
    {
     "name": "stdout",
     "output_type": "stream",
     "text": [
      "   A  B  C  cat\n",
      "a  1  2  3   IV\n",
      "b  4  5  6    I\n",
      "c  7  8  9  III\n"
     ]
    }
   ],
   "source": [
    "df['cat'] = df['cat'].astype('category')\n",
    "df['cat'] = df['cat'].cat.set_categories(['I','II','III','IV','V'], ordered=True)\n",
    "print(df)"
   ]
  },
  {
   "cell_type": "code",
   "execution_count": 23,
   "id": "9ac0582a",
   "metadata": {
    "scrolled": true
   },
   "outputs": [
    {
     "name": "stdout",
     "output_type": "stream",
     "text": [
      "   A  B  C  cat\n",
      "b  4  5  6    I\n",
      "c  7  8  9  III\n",
      "a  1  2  3   IV\n"
     ]
    }
   ],
   "source": [
    "print(df.sort_values(by='cat'))"
   ]
  },
  {
   "cell_type": "code",
   "execution_count": null,
   "id": "74da4de3",
   "metadata": {},
   "outputs": [],
   "source": []
  }
 ],
 "metadata": {
  "kernelspec": {
   "display_name": "Python 3 (ipykernel)",
   "language": "python",
   "name": "python3"
  },
  "language_info": {
   "codemirror_mode": {
    "name": "ipython",
    "version": 3
   },
   "file_extension": ".py",
   "mimetype": "text/x-python",
   "name": "python",
   "nbconvert_exporter": "python",
   "pygments_lexer": "ipython3",
   "version": "3.9.13"
  }
 },
 "nbformat": 4,
 "nbformat_minor": 5
}
