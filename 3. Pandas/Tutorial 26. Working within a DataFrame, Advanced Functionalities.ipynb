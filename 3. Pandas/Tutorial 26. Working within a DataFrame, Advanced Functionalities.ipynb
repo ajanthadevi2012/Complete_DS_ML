{
 "cells": [
  {
   "cell_type": "code",
   "execution_count": 1,
   "id": "f3bb8aeb",
   "metadata": {},
   "outputs": [],
   "source": [
    "import numpy as np\n",
    "import pandas as pd"
   ]
  },
  {
   "cell_type": "markdown",
   "id": "8e1ec436",
   "metadata": {},
   "source": [
    "# Shifting"
   ]
  },
  {
   "cell_type": "code",
   "execution_count": 2,
   "id": "d864c992",
   "metadata": {},
   "outputs": [
    {
     "name": "stdout",
     "output_type": "stream",
     "text": [
      "   A  B  C\n",
      "a  1  2  3\n",
      "b  4  5  6\n",
      "c  7  8  9\n"
     ]
    }
   ],
   "source": [
    "df = pd.DataFrame(np.arange(1,10).reshape(3,3),\n",
    "                  index=['a','b','c'],\n",
    "                  columns=['A','B','C'])\n",
    "print(df)"
   ]
  },
  {
   "cell_type": "code",
   "execution_count": 3,
   "id": "250ff1b6",
   "metadata": {},
   "outputs": [
    {
     "name": "stdout",
     "output_type": "stream",
     "text": [
      "     A    B    C\n",
      "a  NaN  NaN  NaN\n",
      "b  1.0  2.0  3.0\n",
      "c  4.0  5.0  6.0\n"
     ]
    }
   ],
   "source": [
    "df2 = df.shift(1)\n",
    "print(df2)"
   ]
  },
  {
   "cell_type": "code",
   "execution_count": 4,
   "id": "22863784",
   "metadata": {},
   "outputs": [
    {
     "name": "stdout",
     "output_type": "stream",
     "text": [
      "   A  B  C\n",
      "a  0  0  0\n",
      "b  1  2  3\n",
      "c  4  5  6\n"
     ]
    }
   ],
   "source": [
    "df2 = df.shift(1, fill_value=0)\n",
    "print(df2)"
   ]
  },
  {
   "cell_type": "code",
   "execution_count": 5,
   "id": "623a5eaf",
   "metadata": {},
   "outputs": [
    {
     "name": "stdout",
     "output_type": "stream",
     "text": [
      "     A    B    C\n",
      "a  7.0  8.0  9.0\n",
      "b  1.0  2.0  3.0\n",
      "c  4.0  5.0  6.0\n"
     ]
    }
   ],
   "source": [
    "df2 = df.shift(1)\n",
    "df2.iloc[0] = df.iloc[2]\n",
    "print(df2)"
   ]
  },
  {
   "cell_type": "code",
   "execution_count": 6,
   "id": "bcef8d5d",
   "metadata": {},
   "outputs": [
    {
     "data": {
      "text/html": [
       "<div>\n",
       "<style scoped>\n",
       "    .dataframe tbody tr th:only-of-type {\n",
       "        vertical-align: middle;\n",
       "    }\n",
       "\n",
       "    .dataframe tbody tr th {\n",
       "        vertical-align: top;\n",
       "    }\n",
       "\n",
       "    .dataframe thead th {\n",
       "        text-align: right;\n",
       "    }\n",
       "</style>\n",
       "<table border=\"1\" class=\"dataframe\">\n",
       "  <thead>\n",
       "    <tr style=\"text-align: right;\">\n",
       "      <th></th>\n",
       "      <th>A</th>\n",
       "      <th>B</th>\n",
       "      <th>C</th>\n",
       "    </tr>\n",
       "  </thead>\n",
       "  <tbody>\n",
       "    <tr>\n",
       "      <th>a</th>\n",
       "      <td>7.0</td>\n",
       "      <td>8.0</td>\n",
       "      <td>9.0</td>\n",
       "    </tr>\n",
       "    <tr>\n",
       "      <th>b</th>\n",
       "      <td>1.0</td>\n",
       "      <td>2.0</td>\n",
       "      <td>3.0</td>\n",
       "    </tr>\n",
       "    <tr>\n",
       "      <th>c</th>\n",
       "      <td>4.0</td>\n",
       "      <td>5.0</td>\n",
       "      <td>6.0</td>\n",
       "    </tr>\n",
       "  </tbody>\n",
       "</table>\n",
       "</div>"
      ],
      "text/plain": [
       "     A    B    C\n",
       "a  7.0  8.0  9.0\n",
       "b  1.0  2.0  3.0\n",
       "c  4.0  5.0  6.0"
      ]
     },
     "execution_count": 6,
     "metadata": {},
     "output_type": "execute_result"
    }
   ],
   "source": [
    "df2"
   ]
  },
  {
   "cell_type": "code",
   "execution_count": 7,
   "id": "c9e90837",
   "metadata": {},
   "outputs": [
    {
     "name": "stdout",
     "output_type": "stream",
     "text": [
      "     A    B    C\n",
      "b  1.0  2.0  3.0\n",
      "c  4.0  5.0  6.0\n"
     ]
    }
   ],
   "source": [
    "df2 = df.shift(1)\n",
    "df2 = df2.drop(['a'])\n",
    "print(df2)"
   ]
  },
  {
   "cell_type": "code",
   "execution_count": 8,
   "id": "cb62cb38",
   "metadata": {},
   "outputs": [
    {
     "name": "stdout",
     "output_type": "stream",
     "text": [
      "     A    B    C\n",
      "a  7.0  8.0  9.0\n",
      "b  NaN  NaN  NaN\n",
      "c  NaN  NaN  NaN\n"
     ]
    }
   ],
   "source": [
    "df2 = df.shift(-2)\n",
    "print(df2)"
   ]
  },
  {
   "cell_type": "code",
   "execution_count": 9,
   "id": "8230a694",
   "metadata": {},
   "outputs": [
    {
     "name": "stdout",
     "output_type": "stream",
     "text": [
      "    A  B  C\n",
      "a NaN  1  2\n",
      "b NaN  4  5\n",
      "c NaN  7  8\n"
     ]
    }
   ],
   "source": [
    "df2 = df.shift(1, axis=1)\n",
    "print(df2)"
   ]
  },
  {
   "cell_type": "code",
   "execution_count": 10,
   "id": "ed326288",
   "metadata": {},
   "outputs": [
    {
     "name": "stdout",
     "output_type": "stream",
     "text": [
      "   A  B   C\n",
      "a  2  3 NaN\n",
      "b  5  6 NaN\n",
      "c  8  9 NaN\n"
     ]
    }
   ],
   "source": [
    "df2 = df.shift(-1, axis=1)\n",
    "print(df2)"
   ]
  },
  {
   "cell_type": "markdown",
   "id": "26499d3d",
   "metadata": {},
   "source": [
    "# Reshape"
   ]
  },
  {
   "cell_type": "code",
   "execution_count": 11,
   "id": "0ef921e9",
   "metadata": {},
   "outputs": [
    {
     "name": "stdout",
     "output_type": "stream",
     "text": [
      "   A  B  C\n",
      "a  1  2  3\n",
      "b  4  5  6\n",
      "c  7  8  9\n"
     ]
    }
   ],
   "source": [
    "df = pd.DataFrame(np.arange(1,10).reshape(3,3),\n",
    "                index=['a','b','c'],\n",
    "                columns=['A','B','C'])\n",
    "print(df)"
   ]
  },
  {
   "cell_type": "code",
   "execution_count": 12,
   "id": "88e15a34",
   "metadata": {},
   "outputs": [
    {
     "name": "stdout",
     "output_type": "stream",
     "text": [
      "a  A    1\n",
      "   B    2\n",
      "   C    3\n",
      "b  A    4\n",
      "   B    5\n",
      "   C    6\n",
      "c  A    7\n",
      "   B    8\n",
      "   C    9\n",
      "dtype: int32\n"
     ]
    }
   ],
   "source": [
    "dfs = df.stack()\n",
    "print(dfs)"
   ]
  },
  {
   "cell_type": "code",
   "execution_count": 13,
   "id": "2eae92d0",
   "metadata": {},
   "outputs": [
    {
     "name": "stdout",
     "output_type": "stream",
     "text": [
      "   A  B  C\n",
      "a  1  2  3\n",
      "b  4  5  6\n",
      "c  7  8  9\n"
     ]
    }
   ],
   "source": [
    "print(dfs.unstack())"
   ]
  },
  {
   "cell_type": "code",
   "execution_count": 14,
   "id": "a9040ed7",
   "metadata": {},
   "outputs": [
    {
     "name": "stdout",
     "output_type": "stream",
     "text": [
      "      X       Y    \n",
      "      A   B   A   B\n",
      "x a   1   2   3   4\n",
      "  b   5   6   7   8\n",
      "y a   9  10  11  12\n",
      "  b  13  14  15  16\n"
     ]
    }
   ],
   "source": [
    "index = pd.MultiIndex.from_tuples([('x','a'),\n",
    "                                   ('x','b'),\n",
    "                                   ('y','a'),\n",
    "                                   ('y','b')])\n",
    "columns = pd.MultiIndex.from_tuples([('X','A'),\n",
    "                                     ('X','B'),\n",
    "                                     ('Y','A'),\n",
    "                                     ('Y','B')])\n",
    "dfm = pd.DataFrame(np.arange(1,17).reshape(4,4),\n",
    "                     index=index,\n",
    "                     columns=columns)\n",
    "print(dfm)"
   ]
  },
  {
   "cell_type": "code",
   "execution_count": 15,
   "id": "029c5f6a",
   "metadata": {},
   "outputs": [
    {
     "name": "stdout",
     "output_type": "stream",
     "text": [
      "        A   B\n",
      "x a X   1   2\n",
      "    Y   3   4\n",
      "  b X   5   6\n",
      "    Y   7   8\n",
      "y a X   9  10\n",
      "    Y  11  12\n",
      "  b X  13  14\n",
      "    Y  15  16\n"
     ]
    }
   ],
   "source": [
    "print(dfm.stack(0)) # print(dfm.stack(level=0))"
   ]
  },
  {
   "cell_type": "code",
   "execution_count": 16,
   "id": "208212f7",
   "metadata": {},
   "outputs": [
    {
     "name": "stdout",
     "output_type": "stream",
     "text": [
      "   X             Y           \n",
      "   A      B      A      B    \n",
      "   x   y  x   y  x   y  x   y\n",
      "a  1   9  2  10  3  11  4  12\n",
      "b  5  13  6  14  7  15  8  16\n"
     ]
    }
   ],
   "source": [
    "print(dfm.unstack(0)) #print(dfm.stack(level=0))"
   ]
  },
  {
   "cell_type": "markdown",
   "id": "0ebe975b",
   "metadata": {},
   "source": [
    "## Pivoting"
   ]
  },
  {
   "cell_type": "code",
   "execution_count": 17,
   "id": "c7b74d05",
   "metadata": {},
   "outputs": [
    {
     "name": "stdout",
     "output_type": "stream",
     "text": [
      "       A  B  C  D\n",
      "0    red  x  1  1\n",
      "1    red  x  0  1\n",
      "2  black  y  0  2\n",
      "3    red  y  1  0\n",
      "4    red  y  2  0\n",
      "5  black  x  2  1\n"
     ]
    }
   ],
   "source": [
    "df = pd.DataFrame([['red','x',1,1],\n",
    "                   ['red','x',0,1],\n",
    "                   ['black','y',0,2],\n",
    "                   ['red','y',1,0],\n",
    "                   ['red','y',2,0],\n",
    "                   ['black','x',2,1]],\n",
    "                  columns=['A','B','C','D'])\n",
    "print(df)"
   ]
  },
  {
   "cell_type": "code",
   "execution_count": 18,
   "id": "245c73b5",
   "metadata": {},
   "outputs": [
    {
     "name": "stdout",
     "output_type": "stream",
     "text": [
      "       C     D   \n",
      "B      x  y  x  y\n",
      "A                \n",
      "black  2  0  1  2\n",
      "red    1  3  2  0\n"
     ]
    }
   ],
   "source": [
    "table = pd.pivot_table(df, values=['C','D'],\n",
    "                       index=['A'],\n",
    "                       columns=['B'],\n",
    "                       aggfunc=np.sum)\n",
    "print(table)"
   ]
  },
  {
   "cell_type": "code",
   "execution_count": 19,
   "id": "963df498",
   "metadata": {},
   "outputs": [
    {
     "name": "stdout",
     "output_type": "stream",
     "text": [
      "        C      D                    \n",
      "      sum    max    mean      min   \n",
      "B       x  y   x  y    x    y   x  y\n",
      "A                                   \n",
      "black   2  0   1  2  1.0  2.0   1  2\n",
      "red     1  3   1  0  1.0  0.0   1  0\n"
     ]
    }
   ],
   "source": [
    "table = pd.pivot_table(df, values=['C','D'],\n",
    "                       index=['A'],\n",
    "                       columns=['B'],\n",
    "                       aggfunc={'C': np.sum,\n",
    "                                'D': [min, max, np.mean]})\n",
    "print(table)"
   ]
  },
  {
   "cell_type": "markdown",
   "id": "2b223343",
   "metadata": {},
   "source": [
    "# Iteration"
   ]
  },
  {
   "cell_type": "code",
   "execution_count": 20,
   "id": "6278e5dd",
   "metadata": {},
   "outputs": [
    {
     "name": "stdout",
     "output_type": "stream",
     "text": [
      "0      1\n",
      "1      2\n",
      "2      3\n",
      "3      4\n",
      "4      5\n",
      "5      6\n",
      "6      7\n",
      "7      8\n",
      "8      9\n",
      "9     10\n",
      "10    11\n",
      "dtype: int32\n"
     ]
    }
   ],
   "source": [
    "ser = pd.Series(np.arange(1,12))\n",
    "print(ser)"
   ]
  },
  {
   "cell_type": "code",
   "execution_count": 21,
   "id": "3857ea83",
   "metadata": {},
   "outputs": [
    {
     "name": "stdout",
     "output_type": "stream",
     "text": [
      "1   1.0\n",
      "2   1.4142135623730951\n",
      "3   1.7320508075688772\n",
      "4   2.0\n",
      "5   2.23606797749979\n",
      "6   2.449489742783178\n",
      "7   2.6457513110645907\n",
      "8   2.8284271247461903\n",
      "9   3.0\n",
      "10   3.1622776601683795\n",
      "11   3.3166247903554\n"
     ]
    }
   ],
   "source": [
    "for i in ser:\n",
    "    print(i, ' ', np.sqrt(i))"
   ]
  },
  {
   "cell_type": "code",
   "execution_count": 22,
   "id": "02e19dab",
   "metadata": {},
   "outputs": [
    {
     "name": "stdout",
     "output_type": "stream",
     "text": [
      "   A  B  C\n",
      "a  1  2  3\n",
      "b  4  5  6\n",
      "c  7  8  9\n"
     ]
    }
   ],
   "source": [
    "df = pd.DataFrame(np.arange(1,10).reshape(3,3),\n",
    "                 index=['a','b','c'],\n",
    "                 columns=['A','B','C'])\n",
    "print(df)"
   ]
  },
  {
   "cell_type": "code",
   "execution_count": 23,
   "id": "d086881f",
   "metadata": {},
   "outputs": [
    {
     "name": "stdout",
     "output_type": "stream",
     "text": [
      "A\n",
      "B\n",
      "C\n"
     ]
    }
   ],
   "source": [
    "for i in df:\n",
    "    print(i)\n"
   ]
  },
  {
   "cell_type": "code",
   "execution_count": 24,
   "id": "d4260eaf",
   "metadata": {},
   "outputs": [
    {
     "name": "stdout",
     "output_type": "stream",
     "text": [
      "a    1\n",
      "b    4\n",
      "c    7\n",
      "Name: A, dtype: int32\n",
      "a    2\n",
      "b    5\n",
      "c    8\n",
      "Name: B, dtype: int32\n",
      "a    3\n",
      "b    6\n",
      "c    9\n",
      "Name: C, dtype: int32\n"
     ]
    }
   ],
   "source": [
    "for i in df:\n",
    "    print(df[i])"
   ]
  },
  {
   "cell_type": "code",
   "execution_count": 25,
   "id": "f87770f0",
   "metadata": {},
   "outputs": [
    {
     "name": "stdout",
     "output_type": "stream",
     "text": [
      "1\n",
      "4\n",
      "7\n",
      "2\n",
      "5\n",
      "8\n",
      "3\n",
      "6\n",
      "9\n"
     ]
    }
   ],
   "source": [
    "for i in df:\n",
    "    for j in df[i]:\n",
    "        print(j)"
   ]
  },
  {
   "cell_type": "code",
   "execution_count": 26,
   "id": "7b7ee6f3",
   "metadata": {},
   "outputs": [
    {
     "name": "stdout",
     "output_type": "stream",
     "text": [
      "   A  B  C\n",
      "a  1  2  3\n",
      "b  4  5  6\n",
      "c  7  8  9\n"
     ]
    }
   ],
   "source": [
    "df = pd.DataFrame(np.arange(1,10).reshape(3,3),\n",
    "                 index=['a','b','c'],\n",
    "                 columns=['A','B','C'])\n",
    "print(df)"
   ]
  },
  {
   "cell_type": "code",
   "execution_count": 27,
   "id": "a0156ee3",
   "metadata": {},
   "outputs": [
    {
     "name": "stdout",
     "output_type": "stream",
     "text": [
      "A\n",
      "a    1\n",
      "b    4\n",
      "c    7\n",
      "Name: A, dtype: int32\n",
      "B\n",
      "a    2\n",
      "b    5\n",
      "c    8\n",
      "Name: B, dtype: int32\n",
      "C\n",
      "a    3\n",
      "b    6\n",
      "c    9\n",
      "Name: C, dtype: int32\n"
     ]
    }
   ],
   "source": [
    "for label, ser in df.items():\n",
    "    print(label)\n",
    "    print(ser)"
   ]
  },
  {
   "cell_type": "code",
   "execution_count": 28,
   "id": "107b9772",
   "metadata": {},
   "outputs": [
    {
     "name": "stdout",
     "output_type": "stream",
     "text": [
      "a\n",
      "A    1\n",
      "B    2\n",
      "C    3\n",
      "Name: a, dtype: int32\n",
      "b\n",
      "A    4\n",
      "B    5\n",
      "C    6\n",
      "Name: b, dtype: int32\n",
      "c\n",
      "A    7\n",
      "B    8\n",
      "C    9\n",
      "Name: c, dtype: int32\n"
     ]
    }
   ],
   "source": [
    "for index, row in df.iterrows():\n",
    "    print(index)\n",
    "    print(row)"
   ]
  },
  {
   "cell_type": "code",
   "execution_count": 29,
   "id": "3d7c1c5b",
   "metadata": {},
   "outputs": [
    {
     "name": "stdout",
     "output_type": "stream",
     "text": [
      "Pandas(Index='a', A=1, B=2, C=3)\n",
      "1\n",
      "2\n",
      "3\n",
      "a\n",
      "Pandas(Index='b', A=4, B=5, C=6)\n",
      "4\n",
      "5\n",
      "6\n",
      "b\n",
      "Pandas(Index='c', A=7, B=8, C=9)\n",
      "7\n",
      "8\n",
      "9\n",
      "c\n"
     ]
    }
   ],
   "source": [
    "for row in df.itertuples():\n",
    "    print(row)\n",
    "    print(row.A)\n",
    "    print(row.B)\n",
    "    print(row.C)  \n",
    "    print(row.Index)"
   ]
  },
  {
   "cell_type": "code",
   "execution_count": null,
   "id": "7a2c8e5e",
   "metadata": {},
   "outputs": [],
   "source": []
  }
 ],
 "metadata": {
  "kernelspec": {
   "display_name": "Python 3 (ipykernel)",
   "language": "python",
   "name": "python3"
  },
  "language_info": {
   "codemirror_mode": {
    "name": "ipython",
    "version": 3
   },
   "file_extension": ".py",
   "mimetype": "text/x-python",
   "name": "python",
   "nbconvert_exporter": "python",
   "pygments_lexer": "ipython3",
   "version": "3.9.13"
  }
 },
 "nbformat": 4,
 "nbformat_minor": 5
}
