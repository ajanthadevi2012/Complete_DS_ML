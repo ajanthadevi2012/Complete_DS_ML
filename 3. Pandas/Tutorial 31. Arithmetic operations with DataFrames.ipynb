{
 "cells": [
  {
   "cell_type": "code",
   "execution_count": 2,
   "id": "ed9fb388",
   "metadata": {},
   "outputs": [],
   "source": [
    "import numpy as np \n",
    "import pandas as pd"
   ]
  },
  {
   "cell_type": "markdown",
   "id": "841dcce2",
   "metadata": {},
   "source": [
    "# Arithmetic with DataFrames"
   ]
  },
  {
   "cell_type": "code",
   "execution_count": 3,
   "id": "8fffdf96",
   "metadata": {},
   "outputs": [
    {
     "name": "stdout",
     "output_type": "stream",
     "text": [
      "   A  B  C  D\n",
      "a  9  0  6  5\n",
      "b  3  7  5  1\n",
      "c  5  3  4  6\n",
      "d  5  1  9  3\n"
     ]
    }
   ],
   "source": [
    "df1 = pd.DataFrame(np.random.randint(10, size=16).reshape(4,4), \n",
    "                     index=['a','b','c','d'], \n",
    "                     columns=['A','B','C','D'])\n",
    "print(df1)"
   ]
  },
  {
   "cell_type": "code",
   "execution_count": 4,
   "id": "0658c0b0",
   "metadata": {},
   "outputs": [
    {
     "name": "stdout",
     "output_type": "stream",
     "text": [
      "   A  B  C  D\n",
      "a  8  6  9  6\n",
      "b  3  2  9  3\n",
      "c  4  1  0  5\n",
      "d  5  6  9  1\n"
     ]
    }
   ],
   "source": [
    "df2 = pd.DataFrame(np.random.randint(10, size=16).reshape(4,4), \n",
    "                     index=['a','b','c','d'], \n",
    "                     columns=['A','B','C','D'])\n",
    "print(df2)"
   ]
  },
  {
   "cell_type": "code",
   "execution_count": 5,
   "id": "a29a2402",
   "metadata": {},
   "outputs": [
    {
     "name": "stdout",
     "output_type": "stream",
     "text": [
      "    A  B   C   D\n",
      "a  17  6  15  11\n",
      "b   6  9  14   4\n",
      "c   9  4   4  11\n",
      "d  10  7  18   4\n"
     ]
    }
   ],
   "source": [
    "print(df1 + df2)"
   ]
  },
  {
   "cell_type": "code",
   "execution_count": 6,
   "id": "30275b77",
   "metadata": {},
   "outputs": [
    {
     "name": "stdout",
     "output_type": "stream",
     "text": [
      "   A   B   C  D\n",
      "a -7 -12 -12 -7\n",
      "b -3   3 -13 -5\n",
      "c -3   1   4 -4\n",
      "d -5 -11  -9  1\n"
     ]
    }
   ],
   "source": [
    "print(df1 - 2*df2)\n"
   ]
  },
  {
   "cell_type": "code",
   "execution_count": 7,
   "id": "e5a57289",
   "metadata": {},
   "outputs": [
    {
     "name": "stdout",
     "output_type": "stream",
     "text": [
      "       A      B      C      D\n",
      "a   True  False  False  False\n",
      "b  False   True  False  False\n",
      "c   True   True   True   True\n",
      "d  False  False  False   True\n"
     ]
    }
   ],
   "source": [
    "print(df1 > df2)"
   ]
  },
  {
   "cell_type": "code",
   "execution_count": 8,
   "id": "057a0a63",
   "metadata": {},
   "outputs": [
    {
     "name": "stdout",
     "output_type": "stream",
     "text": [
      "   A  B  C  D\n",
      "a  8  7  8  5\n",
      "b  6  5  5  2\n",
      "c  1  2  9  3\n",
      "d  5  3  9  6\n",
      "   B  C  D  E\n",
      "a  9  1  2  6\n",
      "b  8  8  9  0\n",
      "c  5  4  7  9\n",
      "d  4  7  8  5\n"
     ]
    }
   ],
   "source": [
    "df1 = pd.DataFrame(np.random.randint(10, size=16).reshape(4,4), \n",
    "                     index=['a','b','c','d'], \n",
    "                     columns=['A','B','C','D'])\n",
    "df2 = pd.DataFrame(np.random.randint(10, size=16).reshape(4,4), \n",
    "                     index=['a','b','c','d'], \n",
    "                     columns=['B','C','D','E'])\n",
    "print(df1)\n",
    "print(df2)"
   ]
  },
  {
   "cell_type": "code",
   "execution_count": 9,
   "id": "67ef34b9",
   "metadata": {},
   "outputs": [
    {
     "name": "stdout",
     "output_type": "stream",
     "text": [
      "    A   B   C   D   E\n",
      "a NaN  16   9   7 NaN\n",
      "b NaN  13  13  11 NaN\n",
      "c NaN   7  13  10 NaN\n",
      "d NaN   7  16  14 NaN\n"
     ]
    }
   ],
   "source": [
    "print(df1 + df2)"
   ]
  },
  {
   "cell_type": "code",
   "execution_count": 10,
   "id": "c5ac5843",
   "metadata": {},
   "outputs": [
    {
     "name": "stdout",
     "output_type": "stream",
     "text": [
      "   A  B  C  D\n",
      "a  3  5  3  3\n",
      "b  0  3  6  0\n",
      "c  8  9  2  3\n",
      "d  4  7  8  4\n",
      "   A  B  C  D\n",
      "b  9  6  2  4\n",
      "c  7  2  3  5\n",
      "d  3  3  9  3\n",
      "e  1  4  7  1\n"
     ]
    }
   ],
   "source": [
    "df1 = pd.DataFrame(np.random.randint(10, size=16).reshape(4,4), \n",
    "                     index=['a','b','c','d'], \n",
    "                     columns=['A','B','C','D'])\n",
    "df2 = pd.DataFrame(np.random.randint(10, size=16).reshape(4,4), \n",
    "                     index=['b','c','d','e'], \n",
    "                     columns=['A','B','C','D'])\n",
    "print(df1)\n",
    "print(df2)"
   ]
  },
  {
   "cell_type": "code",
   "execution_count": 11,
   "id": "3f12bc8e",
   "metadata": {},
   "outputs": [
    {
     "name": "stdout",
     "output_type": "stream",
     "text": [
      "      A     B     C    D\n",
      "a   NaN   NaN   NaN  NaN\n",
      "b   9.0   9.0   8.0  4.0\n",
      "c  15.0  11.0   5.0  8.0\n",
      "d   7.0  10.0  17.0  7.0\n",
      "e   NaN   NaN   NaN  NaN\n"
     ]
    }
   ],
   "source": [
    "print(df1 + df2)"
   ]
  },
  {
   "cell_type": "code",
   "execution_count": 12,
   "id": "6b1a2049",
   "metadata": {},
   "outputs": [
    {
     "name": "stdout",
     "output_type": "stream",
     "text": [
      "   A  B  C  D\n",
      "a  7  0  6  8\n",
      "b  1  7  7  9\n",
      "c  2  2  9  7\n",
      "d  2  9  7  3\n",
      "A    0\n",
      "B    3\n",
      "C    6\n",
      "D    1\n",
      "dtype: int32\n"
     ]
    }
   ],
   "source": [
    "df1 = pd.DataFrame(np.random.randint(10, size=16).reshape(4,4), \n",
    "                     index=['a','b','c','d'], \n",
    "                     columns=['A','B','C','D'])\n",
    "ser = pd.Series(np.random.randint(10, size=4), \n",
    "                     index=['A','B','C','D'])\n",
    "print(df1)\n",
    "print(ser)"
   ]
  },
  {
   "cell_type": "code",
   "execution_count": 13,
   "id": "625d3a94",
   "metadata": {},
   "outputs": [
    {
     "name": "stdout",
     "output_type": "stream",
     "text": [
      "   A   B   C   D\n",
      "a  7   3  12   9\n",
      "b  1  10  13  10\n",
      "c  2   5  15   8\n",
      "d  2  12  13   4\n"
     ]
    }
   ],
   "source": [
    "print(df1 + ser)"
   ]
  },
  {
   "cell_type": "code",
   "execution_count": 14,
   "id": "094dcec1",
   "metadata": {},
   "outputs": [
    {
     "name": "stdout",
     "output_type": "stream",
     "text": [
      "   A  B  C  D\n",
      "a  1  0  9  0\n",
      "b  2  1  8  8\n",
      "c  9  1  9  4\n",
      "d  0  1  8  0\n",
      "B    1\n",
      "C    3\n",
      "D    1\n",
      "E    5\n",
      "dtype: int32\n"
     ]
    }
   ],
   "source": [
    "df1 = pd.DataFrame(np.random.randint(10, size=16).reshape(4,4), \n",
    "                     index=['a','b','c','d'], \n",
    "                     columns=['A','B','C','D'])\n",
    "ser = pd.Series(np.random.randint(10, size=4), \n",
    "                     index=['B','C','D','E'])\n",
    "print(df1)\n",
    "print(ser)"
   ]
  },
  {
   "cell_type": "code",
   "execution_count": 15,
   "id": "ea471349",
   "metadata": {},
   "outputs": [
    {
     "name": "stdout",
     "output_type": "stream",
     "text": [
      "    A    B     C    D   E\n",
      "a NaN  1.0  12.0  1.0 NaN\n",
      "b NaN  2.0  11.0  9.0 NaN\n",
      "c NaN  2.0  12.0  5.0 NaN\n",
      "d NaN  2.0  11.0  1.0 NaN\n"
     ]
    }
   ],
   "source": [
    "print(df1 + ser)"
   ]
  },
  {
   "cell_type": "markdown",
   "id": "72d286e5",
   "metadata": {},
   "source": [
    "# Binary arithmetic methods"
   ]
  },
  {
   "cell_type": "code",
   "execution_count": 16,
   "id": "c1d81554",
   "metadata": {},
   "outputs": [
    {
     "name": "stdout",
     "output_type": "stream",
     "text": [
      "   A  B  C  D\n",
      "a  6  6  7  6\n",
      "b  7  2  8  1\n",
      "c  3  3  8  3\n",
      "d  2  5  2  4\n",
      "   A  B  C  D\n",
      "b  2  4  4  1\n",
      "c  1  1  8  8\n",
      "d  2  1  5  4\n",
      "e  0  3  8  5\n"
     ]
    }
   ],
   "source": [
    "df1 = pd.DataFrame(np.random.randint(10, size=16).reshape(4,4), \n",
    "                     index=['a','b','c','d'], \n",
    "                     columns=['A','B','C','D'])\n",
    "df2 = pd.DataFrame(np.random.randint(10, size=16).reshape(4,4), \n",
    "                     index=['b','c','d','e'], \n",
    "                     columns=['A','B','C','D'])\n",
    "print(df1)\n",
    "print(df2)"
   ]
  },
  {
   "cell_type": "code",
   "execution_count": 17,
   "id": "04ee616c",
   "metadata": {},
   "outputs": [
    {
     "name": "stdout",
     "output_type": "stream",
     "text": [
      "     A    B     C     D\n",
      "a  NaN  NaN   NaN   NaN\n",
      "b  9.0  6.0  12.0   2.0\n",
      "c  4.0  4.0  16.0  11.0\n",
      "d  4.0  6.0   7.0   8.0\n",
      "e  NaN  NaN   NaN   NaN\n"
     ]
    }
   ],
   "source": [
    "df = df1.add(df2)\n",
    "print(df)"
   ]
  },
  {
   "cell_type": "code",
   "execution_count": 18,
   "id": "44597535",
   "metadata": {
    "scrolled": true
   },
   "outputs": [
    {
     "name": "stdout",
     "output_type": "stream",
     "text": [
      "     A    B     C     D\n",
      "a  NaN  NaN   NaN   NaN\n",
      "b  9.0  6.0  12.0   2.0\n",
      "c  4.0  4.0  16.0  11.0\n",
      "d  4.0  6.0   7.0   8.0\n",
      "e  NaN  NaN   NaN   NaN\n"
     ]
    }
   ],
   "source": [
    "df = df1 + df2  \n",
    "print(df)"
   ]
  },
  {
   "cell_type": "code",
   "execution_count": 19,
   "id": "b3b0f1fb",
   "metadata": {},
   "outputs": [
    {
     "name": "stdout",
     "output_type": "stream",
     "text": [
      "A    1\n",
      "B    1\n",
      "C    1\n",
      "D    1\n",
      "dtype: int64\n"
     ]
    }
   ],
   "source": [
    "ser = pd.Series([1,1,1,1],index=['A','B','C','D'])\n",
    "print(ser)"
   ]
  },
  {
   "cell_type": "code",
   "execution_count": 20,
   "id": "406cb016",
   "metadata": {},
   "outputs": [
    {
     "name": "stdout",
     "output_type": "stream",
     "text": [
      "   A  B  C  D\n",
      "a  7  7  8  7\n",
      "b  8  3  9  2\n",
      "c  4  4  9  4\n",
      "d  3  6  3  5\n"
     ]
    }
   ],
   "source": [
    "df = df1.add(ser)\n",
    "print(df)"
   ]
  },
  {
   "cell_type": "code",
   "execution_count": 21,
   "id": "9f2c1c0a",
   "metadata": {},
   "outputs": [
    {
     "name": "stdout",
     "output_type": "stream",
     "text": [
      "   A  B  C  D\n",
      "a  7  7  8  7\n",
      "b  8  3  9  2\n",
      "c  4  4  9  4\n",
      "d  3  6  3  5\n"
     ]
    }
   ],
   "source": [
    "df = df1 + ser\n",
    "print(df)"
   ]
  },
  {
   "cell_type": "code",
   "execution_count": 22,
   "id": "fd484169",
   "metadata": {},
   "outputs": [
    {
     "name": "stdout",
     "output_type": "stream",
     "text": [
      "   A  B   C  D\n",
      "a  7  7   8  7\n",
      "b  9  4  10  3\n",
      "c  6  6  11  6\n",
      "d  6  9   6  8\n"
     ]
    }
   ],
   "source": [
    "ser = pd.Series([1,2,3,4], index=['a','b','c','d'])\n",
    "\n",
    "df = df1.add(ser, axis=0) # df.add(df2, axis='index')\n",
    "print(df)"
   ]
  },
  {
   "cell_type": "code",
   "execution_count": 23,
   "id": "80cf9de0",
   "metadata": {},
   "outputs": [
    {
     "name": "stdout",
     "output_type": "stream",
     "text": [
      "    A   B   C   D   a   b   c   d\n",
      "a NaN NaN NaN NaN NaN NaN NaN NaN\n",
      "b NaN NaN NaN NaN NaN NaN NaN NaN\n",
      "c NaN NaN NaN NaN NaN NaN NaN NaN\n",
      "d NaN NaN NaN NaN NaN NaN NaN NaN\n"
     ]
    }
   ],
   "source": [
    "df = df1 + ser\n",
    "print(df)"
   ]
  },
  {
   "cell_type": "code",
   "execution_count": 24,
   "id": "8a3c1dc9",
   "metadata": {},
   "outputs": [
    {
     "name": "stdout",
     "output_type": "stream",
     "text": [
      "high           X       Y    \n",
      "low            A   B   A   B\n",
      "first second                \n",
      "x     a        1   2   3   4\n",
      "      b        5   6   7   8\n",
      "y     a        9  10  11  12\n",
      "      b       13  14  15  16\n"
     ]
    }
   ],
   "source": [
    "tuples = [('x', 'a'), ('x', 'b'), ('y', 'a'), ('y', 'b')]\n",
    "index = pd.MultiIndex.from_tuples(tuples, names=['first','second'])\n",
    "tuples = [('X', 'A'), ('X', 'B'), ('Y', 'A'), ('Y', 'B')]\n",
    "columns = pd.MultiIndex.from_tuples(tuples, names=['high','low'])\n",
    "dfm = pd.DataFrame(np.arange(1,17).reshape(4,4) , index = index, columns = columns)\n",
    "print(dfm)\n",
    "\n"
   ]
  },
  {
   "cell_type": "code",
   "execution_count": 25,
   "id": "059f7901",
   "metadata": {},
   "outputs": [
    {
     "name": "stdout",
     "output_type": "stream",
     "text": [
      "high          X      Y    \n",
      "low           A   B  A   B\n",
      "first second              \n",
      "x     a      -9 -18 -7 -16\n",
      "      b      -5 -14 -3 -12\n",
      "y     a      -1 -10  1  -8\n",
      "      b       3  -6  5  -4\n"
     ]
    }
   ],
   "source": [
    "ser = pd.Series([10,20], index=['A','B'])\n",
    "df = dfm.sub(ser, level='low')\n",
    "print(df)"
   ]
  },
  {
   "cell_type": "code",
   "execution_count": 26,
   "id": "146f8619",
   "metadata": {},
   "outputs": [
    {
     "name": "stdout",
     "output_type": "stream",
     "text": [
      "high          X      Y    \n",
      "low           A  B   A   B\n",
      "first second              \n",
      "x     a      -9 -8 -17 -16\n",
      "      b      -5 -4 -13 -12\n",
      "y     a      -1  0  -9  -8\n",
      "      b       3  4  -5  -4\n"
     ]
    }
   ],
   "source": [
    "ser = pd.Series([10,20], index=['X','Y'])\n",
    "df = dfm.sub(ser, level='high')\n",
    "print(df)"
   ]
  },
  {
   "cell_type": "code",
   "execution_count": 27,
   "id": "cc27073b",
   "metadata": {},
   "outputs": [
    {
     "name": "stdout",
     "output_type": "stream",
     "text": [
      "high           X       Y    \n",
      "low            A   B   A   B\n",
      "first second                \n",
      "x     a       -9  -8  -7  -6\n",
      "      b      -15 -14 -13 -12\n",
      "y     a       -1   0   1   2\n",
      "      b       -7  -6  -5  -4\n"
     ]
    }
   ],
   "source": [
    "ser = pd.Series([10,20], index=['a','b'])\n",
    "df = dfm.sub(ser, level='second',axis=0)\n",
    "print(df)"
   ]
  },
  {
   "cell_type": "code",
   "execution_count": 28,
   "id": "a875329f",
   "metadata": {},
   "outputs": [
    {
     "name": "stdout",
     "output_type": "stream",
     "text": [
      "high           X      Y   \n",
      "low            A   B  A  B\n",
      "first second              \n",
      "x     a       -9  -8 -7 -6\n",
      "      b       -5  -4 -3 -2\n",
      "y     a      -11 -10 -9 -8\n",
      "      b       -7  -6 -5 -4\n"
     ]
    }
   ],
   "source": [
    "ser = pd.Series([10,20], index=['x','y'])\n",
    "df = dfm.sub(ser, level='first',axis=0)\n",
    "print(df)"
   ]
  },
  {
   "cell_type": "code",
   "execution_count": 29,
   "id": "ce9d8c14",
   "metadata": {},
   "outputs": [
    {
     "name": "stdout",
     "output_type": "stream",
     "text": [
      "   A  B\n",
      "a  3  2\n",
      "b  4  3\n"
     ]
    }
   ],
   "source": [
    "df3 = pd.DataFrame(np.random.randint(10, size=4).reshape(2,2), \n",
    "                     index=['a','b'], \n",
    "                     columns=['A','B'])\n",
    "print(df3)"
   ]
  },
  {
   "cell_type": "code",
   "execution_count": 30,
   "id": "5296f4ef",
   "metadata": {},
   "outputs": [
    {
     "name": "stdout",
     "output_type": "stream",
     "text": [
      "high           X       Y    \n",
      "low            A   B   A   B\n",
      "first second                \n",
      "x     a        4   4   6   6\n",
      "      b        9   9  11  11\n",
      "y     a       12  12  14  14\n",
      "      b       17  17  19  19\n"
     ]
    }
   ],
   "source": [
    "df= dfm.add(df3, axis=1, level=1)\n",
    "print(df)"
   ]
  },
  {
   "cell_type": "code",
   "execution_count": 31,
   "id": "9a11385f",
   "metadata": {},
   "outputs": [
    {
     "data": {
      "text/html": [
       "<div>\n",
       "<style scoped>\n",
       "    .dataframe tbody tr th:only-of-type {\n",
       "        vertical-align: middle;\n",
       "    }\n",
       "\n",
       "    .dataframe tbody tr th {\n",
       "        vertical-align: top;\n",
       "    }\n",
       "\n",
       "    .dataframe thead th {\n",
       "        text-align: right;\n",
       "    }\n",
       "</style>\n",
       "<table border=\"1\" class=\"dataframe\">\n",
       "  <thead>\n",
       "    <tr style=\"text-align: right;\">\n",
       "      <th></th>\n",
       "      <th>A</th>\n",
       "      <th>B</th>\n",
       "      <th>C</th>\n",
       "      <th>D</th>\n",
       "    </tr>\n",
       "  </thead>\n",
       "  <tbody>\n",
       "    <tr>\n",
       "      <th>a</th>\n",
       "      <td>6</td>\n",
       "      <td>6</td>\n",
       "      <td>7</td>\n",
       "      <td>6</td>\n",
       "    </tr>\n",
       "    <tr>\n",
       "      <th>b</th>\n",
       "      <td>7</td>\n",
       "      <td>2</td>\n",
       "      <td>8</td>\n",
       "      <td>1</td>\n",
       "    </tr>\n",
       "    <tr>\n",
       "      <th>c</th>\n",
       "      <td>3</td>\n",
       "      <td>3</td>\n",
       "      <td>8</td>\n",
       "      <td>3</td>\n",
       "    </tr>\n",
       "    <tr>\n",
       "      <th>d</th>\n",
       "      <td>2</td>\n",
       "      <td>5</td>\n",
       "      <td>2</td>\n",
       "      <td>4</td>\n",
       "    </tr>\n",
       "  </tbody>\n",
       "</table>\n",
       "</div>"
      ],
      "text/plain": [
       "   A  B  C  D\n",
       "a  6  6  7  6\n",
       "b  7  2  8  1\n",
       "c  3  3  8  3\n",
       "d  2  5  2  4"
      ]
     },
     "execution_count": 31,
     "metadata": {},
     "output_type": "execute_result"
    }
   ],
   "source": [
    "df1"
   ]
  },
  {
   "cell_type": "code",
   "execution_count": 32,
   "id": "c54fd76b",
   "metadata": {},
   "outputs": [
    {
     "name": "stdout",
     "output_type": "stream",
     "text": [
      "A    6\n",
      "B    6\n",
      "C    7\n",
      "D    6\n",
      "Name: a, dtype: int32\n",
      "a    6\n",
      "b    7\n",
      "c    3\n",
      "d    2\n",
      "Name: A, dtype: int32\n"
     ]
    }
   ],
   "source": [
    "row = df1.iloc[0]\n",
    "print(row)\n",
    "column = df1['A']\n",
    "print(column)"
   ]
  },
  {
   "cell_type": "code",
   "execution_count": 33,
   "id": "28d21b3e",
   "metadata": {},
   "outputs": [
    {
     "name": "stdout",
     "output_type": "stream",
     "text": [
      "    A   B   C   D\n",
      "a  36  36  42  36\n",
      "b  49  14  56   7\n",
      "c   9   9  24   9\n",
      "d   4  10   4   8\n"
     ]
    }
   ],
   "source": [
    "df = df1.mul(column, axis=0)\n",
    "print(df)"
   ]
  },
  {
   "cell_type": "code",
   "execution_count": 34,
   "id": "f7cbb037",
   "metadata": {},
   "outputs": [
    {
     "name": "stdout",
     "output_type": "stream",
     "text": [
      "    A   B   C   D\n",
      "a  36  36  49  36\n",
      "b  42  12  56   6\n",
      "c  18  18  56  18\n",
      "d  12  30  14  24\n"
     ]
    }
   ],
   "source": [
    "df = df1.mul(row, axis=1)\n",
    "print(df)"
   ]
  },
  {
   "cell_type": "code",
   "execution_count": 35,
   "id": "b487e093",
   "metadata": {},
   "outputs": [
    {
     "name": "stdout",
     "output_type": "stream",
     "text": [
      "   A  B  C  D\n",
      "a  2  2  4  8\n",
      "b  7  9  1  7\n",
      "c  1  6  1  7\n",
      "d  8  5  1  4\n",
      "   A  B  C  D\n",
      "b  3  3  3  4\n",
      "c  7  6  3  8\n",
      "d  2  2  0  1\n",
      "e  0  3  6  9\n",
      "b    3\n",
      "c    7\n",
      "d    2\n",
      "e    0\n",
      "Name: A, dtype: int32\n"
     ]
    }
   ],
   "source": [
    "df1 = pd.DataFrame(np.random.randint(10, size=16).reshape(4,4), \n",
    "                     index=['a','b','c','d'], \n",
    "                     columns=['A','B','C','D'])\n",
    "df2 = pd.DataFrame(np.random.randint(10, size=16).reshape(4,4), \n",
    "                     index=['b','c','d','e'], \n",
    "                     columns=['A','B','C','D'])\n",
    "print(df1)\n",
    "print(df2)\n",
    "\n",
    "column = df2['A']\n",
    "print(column)"
   ]
  },
  {
   "cell_type": "code",
   "execution_count": 36,
   "id": "edbcda00",
   "metadata": {},
   "outputs": [
    {
     "name": "stdout",
     "output_type": "stream",
     "text": [
      "   A  B\n",
      "b  7  9\n",
      "c  1  6\n",
      "d  8  5\n"
     ]
    }
   ],
   "source": [
    "df = df1.loc['b':'d',['A','B']]\n",
    "print(df)"
   ]
  },
  {
   "cell_type": "code",
   "execution_count": 37,
   "id": "817391e1",
   "metadata": {},
   "outputs": [
    {
     "name": "stdout",
     "output_type": "stream",
     "text": [
      "      A     B\n",
      "b   9.0   9.0\n",
      "c  49.0  42.0\n",
      "d   4.0   4.0\n",
      "e   NaN   NaN\n"
     ]
    }
   ],
   "source": [
    "df = df2.loc['b':'d',['A','B']].mul(column, axis=0)\n",
    "print(df)"
   ]
  },
  {
   "cell_type": "markdown",
   "id": "eeb9c4a8",
   "metadata": {},
   "source": [
    "## The relative binary methods"
   ]
  },
  {
   "cell_type": "code",
   "execution_count": 38,
   "id": "fdb3eec9",
   "metadata": {},
   "outputs": [
    {
     "name": "stdout",
     "output_type": "stream",
     "text": [
      "      A     B\n",
      "b   9.0   9.0\n",
      "c  49.0  42.0\n",
      "d   4.0   4.0\n",
      "e   NaN   NaN\n",
      "      A     B\n",
      "b   9.0   9.0\n",
      "c  49.0  42.0\n",
      "d   4.0   4.0\n",
      "e   NaN   NaN\n"
     ]
    }
   ],
   "source": [
    "print(df / 1)\n",
    "print(df.div(1))"
   ]
  },
  {
   "cell_type": "code",
   "execution_count": 39,
   "id": "fd7cc612",
   "metadata": {},
   "outputs": [
    {
     "name": "stdout",
     "output_type": "stream",
     "text": [
      "          A         B\n",
      "b  0.111111  0.111111\n",
      "c  0.020408  0.023810\n",
      "d  0.250000  0.250000\n",
      "e       NaN       NaN\n",
      "          A         B\n",
      "b  0.111111  0.111111\n",
      "c  0.020408  0.023810\n",
      "d  0.250000  0.250000\n",
      "e       NaN       NaN\n"
     ]
    }
   ],
   "source": [
    "print(1 / df)\n",
    "print(df.rdiv(1))"
   ]
  },
  {
   "cell_type": "markdown",
   "id": "9153eaa0",
   "metadata": {},
   "source": [
    "## Boolean operations"
   ]
  },
  {
   "cell_type": "code",
   "execution_count": 40,
   "id": "96c22d43",
   "metadata": {},
   "outputs": [
    {
     "name": "stdout",
     "output_type": "stream",
     "text": [
      "   A  B  C  D\n",
      "a  6  4  0  1\n",
      "b  8  7  7  9\n",
      "c  1  4  5  6\n",
      "d  1  7  4  4\n",
      "   A  B  C  D\n",
      "a  2  5  9  4\n",
      "b  0  0  5  3\n",
      "c  1  1  4  9\n",
      "d  9  8  6  5\n"
     ]
    }
   ],
   "source": [
    "df1 = pd.DataFrame(np.random.randint(10, size=16).reshape(4,4), \n",
    "                     index=['a','b','c','d'], \n",
    "                     columns=['A','B','C','D'])\n",
    "df2 = pd.DataFrame(np.random.randint(10, size=16).reshape(4,4), \n",
    "                     index=['a','b','c','d'], \n",
    "                     columns=['A','B','C','D'])\n",
    "print(df1)\n",
    "print(df2)"
   ]
  },
  {
   "cell_type": "code",
   "execution_count": 41,
   "id": "277507e0",
   "metadata": {},
   "outputs": [
    {
     "name": "stdout",
     "output_type": "stream",
     "text": [
      "       A      B      C      D\n",
      "a   True  False  False  False\n",
      "b   True   True   True   True\n",
      "c  False   True   True  False\n",
      "d  False  False  False  False\n"
     ]
    }
   ],
   "source": [
    "print(df1 > df2)"
   ]
  },
  {
   "cell_type": "code",
   "execution_count": 42,
   "id": "c6b9759b",
   "metadata": {},
   "outputs": [
    {
     "name": "stdout",
     "output_type": "stream",
     "text": [
      "     A    B    C    D\n",
      "a  6.0  NaN  NaN  NaN\n",
      "b  8.0  7.0  7.0  9.0\n",
      "c  NaN  4.0  5.0  NaN\n",
      "d  NaN  NaN  NaN  NaN\n"
     ]
    }
   ],
   "source": [
    "df = df1[df1 > df2]\n",
    "print(df)"
   ]
  },
  {
   "cell_type": "code",
   "execution_count": 43,
   "id": "0d69e157",
   "metadata": {},
   "outputs": [
    {
     "name": "stdout",
     "output_type": "stream",
     "text": [
      "       A      B      C      D\n",
      "a  False   True   True   True\n",
      "b  False  False  False  False\n",
      "c  False  False  False   True\n",
      "d   True   True   True   True\n"
     ]
    }
   ],
   "source": [
    "df = df1.lt(df2) # df1 > df2 \n",
    "print(df)"
   ]
  },
  {
   "cell_type": "code",
   "execution_count": 44,
   "id": "08238d0d",
   "metadata": {},
   "outputs": [
    {
     "name": "stdout",
     "output_type": "stream",
     "text": [
      "       A      B      C      D\n",
      "a  False  False   True   True\n",
      "b  False  False  False  False\n",
      "c  False  False  False  False\n",
      "d   True   True   True   True\n"
     ]
    }
   ],
   "source": [
    "df = df1.lt(df2['A'], axis=0)\n",
    "print(df)"
   ]
  },
  {
   "cell_type": "code",
   "execution_count": null,
   "id": "1b84fd5c",
   "metadata": {},
   "outputs": [],
   "source": []
  }
 ],
 "metadata": {
  "kernelspec": {
   "display_name": "Python 3 (ipykernel)",
   "language": "python",
   "name": "python3"
  },
  "language_info": {
   "codemirror_mode": {
    "name": "ipython",
    "version": 3
   },
   "file_extension": ".py",
   "mimetype": "text/x-python",
   "name": "python",
   "nbconvert_exporter": "python",
   "pygments_lexer": "ipython3",
   "version": "3.9.13"
  }
 },
 "nbformat": 4,
 "nbformat_minor": 5
}
