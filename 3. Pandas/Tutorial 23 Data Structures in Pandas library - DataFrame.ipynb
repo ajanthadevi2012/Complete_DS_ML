{
 "cells": [
  {
   "cell_type": "markdown",
   "id": "2b5486f8",
   "metadata": {},
   "source": [
    "# DataFrame - Part 1"
   ]
  },
  {
   "cell_type": "code",
   "execution_count": 1,
   "id": "a1e13fed",
   "metadata": {},
   "outputs": [],
   "source": [
    "# DF Const\n",
    "import pandas as pd\n",
    "import numpy as np"
   ]
  },
  {
   "cell_type": "code",
   "execution_count": null,
   "id": "02287df2",
   "metadata": {},
   "outputs": [],
   "source": [
    "df1 = pd.DataFrame([[1,2,3],[4,5,6], [7,8,9]])\n",
    "print(df1)"
   ]
  },
  {
   "cell_type": "code",
   "execution_count": null,
   "id": "6a190650",
   "metadata": {},
   "outputs": [],
   "source": [
    "df2 = pd.DataFrame([[1,2,3],[4,5,6], [7,8,9]], \n",
    "                  index = ['a','b','c'],\n",
    "                  columns = ['A','B','C'])\n",
    "print(df2)"
   ]
  },
  {
   "cell_type": "code",
   "execution_count": null,
   "id": "7bb920f2",
   "metadata": {},
   "outputs": [],
   "source": [
    "df2.index"
   ]
  },
  {
   "cell_type": "code",
   "execution_count": null,
   "id": "17324c48",
   "metadata": {},
   "outputs": [],
   "source": [
    "df2.columns"
   ]
  },
  {
   "cell_type": "code",
   "execution_count": null,
   "id": "501d5d61",
   "metadata": {},
   "outputs": [],
   "source": [
    "v = df2.values\n",
    "print(v)\n",
    "type(v)"
   ]
  },
  {
   "cell_type": "code",
   "execution_count": null,
   "id": "6dc025e3",
   "metadata": {},
   "outputs": [],
   "source": [
    "#pd.DataFrame(data, index, columns,dtype, copy)"
   ]
  },
  {
   "cell_type": "code",
   "execution_count": null,
   "id": "61f1acca",
   "metadata": {},
   "outputs": [],
   "source": [
    "df3 = pd.DataFrame([[1,2,3],[4,5,6], [7,8,9]], \n",
    "                  index = ['a','b','c'],\n",
    "                  columns = ['A','B','C'],\n",
    "                  dtype = np.float64)\n",
    "print(df3)"
   ]
  },
  {
   "cell_type": "code",
   "execution_count": null,
   "id": "6fab6e68",
   "metadata": {},
   "outputs": [],
   "source": [
    "nda = np.array([[1,2,3],[4,5,6], [7,8,9]])\n",
    "df4 = pd.DataFrame(nda,index = ['a','b','c'],\n",
    "                  columns = ['A','B','C'])\n",
    "print(df4)"
   ]
  },
  {
   "cell_type": "code",
   "execution_count": null,
   "id": "89ccc6e3",
   "metadata": {},
   "outputs": [],
   "source": [
    "nda[1] = [4,0,6]\n",
    "print(nda)"
   ]
  },
  {
   "cell_type": "code",
   "execution_count": null,
   "id": "7b4b3830",
   "metadata": {},
   "outputs": [],
   "source": [
    "print(df4)"
   ]
  },
  {
   "cell_type": "code",
   "execution_count": null,
   "id": "42cb8fd4",
   "metadata": {},
   "outputs": [],
   "source": [
    "df4 = pd.DataFrame(nda,index = ['a','b','c'],\n",
    "                  columns = ['A','B','C'],\n",
    "                  copy = True)\n",
    "print(df4)"
   ]
  },
  {
   "cell_type": "code",
   "execution_count": null,
   "id": "c1cc011f",
   "metadata": {},
   "outputs": [],
   "source": [
    "nda[2] = [1,1,1]\n",
    "print(nda)"
   ]
  },
  {
   "cell_type": "code",
   "execution_count": null,
   "id": "ee193182",
   "metadata": {},
   "outputs": [],
   "source": [
    "print(df4)"
   ]
  },
  {
   "cell_type": "markdown",
   "id": "3baedf17",
   "metadata": {},
   "source": [
    "# Various ways to build the DataFrame -  Part 2"
   ]
  },
  {
   "cell_type": "code",
   "execution_count": null,
   "id": "53d86a63",
   "metadata": {},
   "outputs": [],
   "source": [
    "# numpy \n",
    "idx = np.array(['a','b','c'])\n",
    "col = np.array(['A','B','C'])\n",
    "nda = np.array([[1,2,3],[4,5,6],[7,8,9]])\n",
    "df1 = pd.DataFrame(nda,index = idx,columns = col)\n",
    "print(df1)"
   ]
  },
  {
   "cell_type": "code",
   "execution_count": null,
   "id": "7d4095c1",
   "metadata": {},
   "outputs": [],
   "source": [
    "df2 = pd.DataFrame(np.arange(1,10).reshape(3,3),index = idx, columns = col)\n",
    "print(df2)"
   ]
  },
  {
   "cell_type": "code",
   "execution_count": null,
   "id": "31ff8873",
   "metadata": {},
   "outputs": [],
   "source": [
    "df3 = pd.DataFrame(np.zeros(9).reshape(3,3),index = idx, columns = col)\n",
    "print(df3)"
   ]
  },
  {
   "cell_type": "code",
   "execution_count": null,
   "id": "79523c41",
   "metadata": {},
   "outputs": [],
   "source": [
    "df4 = pd.DataFrame(np.random.randn(9).reshape(3,3),index = idx, columns = col)\n",
    "print(df4)"
   ]
  },
  {
   "cell_type": "code",
   "execution_count": null,
   "id": "5fef2ec2",
   "metadata": {},
   "outputs": [],
   "source": [
    "#Series => dic\n",
    "ser1 = pd.Series([1,4,7], index = ['a','b','c'])\n",
    "ser2 = pd.Series([2,5,8], index = ['a','b','c'])\n",
    "ser3 = pd.Series([3,6,9], index = ['a','b','c'])\n",
    "dic = {\"A\": ser1,\n",
    "      \"B\": ser2,\n",
    "      \"C\": ser3}\n",
    "df6 = pd.DataFrame(dic)\n",
    "print(df6)"
   ]
  },
  {
   "cell_type": "code",
   "execution_count": null,
   "id": "bd8fd82f",
   "metadata": {},
   "outputs": [],
   "source": [
    "ser1 = pd.Series([1,4,7,-3,-1], index = ['a','b','c','e','f'])\n",
    "ser2 = pd.Series([2,5,8], index = ['a','b','c'])\n",
    "ser3 = pd.Series([3,6,9,0], index = ['a','b','c','d'])\n",
    "dic = {\"A\": ser1,\n",
    "      \"B\": ser2,\n",
    "      \"C\": ser3}\n",
    "df7 = pd.DataFrame(dic)\n",
    "print(df7)"
   ]
  },
  {
   "cell_type": "code",
   "execution_count": null,
   "id": "40a43df6",
   "metadata": {},
   "outputs": [],
   "source": [
    "df8 = pd.DataFrame(dic, index = ['a','b','c'])\n",
    "print(df8)"
   ]
  },
  {
   "cell_type": "code",
   "execution_count": null,
   "id": "9eda1a80",
   "metadata": {},
   "outputs": [],
   "source": [
    "#ndarray = > dic\n",
    "nda1 = np.array([1,4,7])\n",
    "nda2 = np.array([2,5,8])\n",
    "nda3 = np.array([3,6,9])\n",
    "idx = np.array(['a','b','c'])\n",
    "dic={\"A\":nda1,\n",
    "    \"B\":nda2,\n",
    "    \"C\":nda3}\n",
    "df9 = pd.DataFrame(dic,idx)\n",
    "print(df9)"
   ]
  },
  {
   "cell_type": "code",
   "execution_count": null,
   "id": "6b2f6862",
   "metadata": {},
   "outputs": [],
   "source": [
    "# pass by copy with Dic\n",
    "ser1['a'] = 0\n",
    "print(dic)\n",
    "print(df6)"
   ]
  },
  {
   "cell_type": "code",
   "execution_count": null,
   "id": "4e7b636c",
   "metadata": {},
   "outputs": [],
   "source": [
    "nda1[0] = 0\n",
    "print(dic)\n",
    "print(df9)"
   ]
  },
  {
   "cell_type": "code",
   "execution_count": null,
   "id": "efc7c189",
   "metadata": {},
   "outputs": [],
   "source": [
    "#list of Dic\n",
    "list_dic = [{'A':1,\"B\":2,\"C\":3},\n",
    "           {'A':4,\"B\":5,\"C\":6},\n",
    "           {'A':7,\"B\":8,\"C\":9}]\n",
    "print(list_dic)"
   ]
  },
  {
   "cell_type": "code",
   "execution_count": null,
   "id": "e631f9b6",
   "metadata": {},
   "outputs": [],
   "source": [
    "df11 = pd.DataFrame(list_dic,index = ['a','b','c'])\n",
    "print(df11)"
   ]
  },
  {
   "cell_type": "markdown",
   "id": "c4d886c5",
   "metadata": {},
   "source": [
    "# Access the various elements - Part 3"
   ]
  },
  {
   "cell_type": "code",
   "execution_count": 2,
   "id": "f8a85dd9",
   "metadata": {},
   "outputs": [],
   "source": [
    "#iloc, loc\n",
    "#iloc[row number, column number]"
   ]
  },
  {
   "cell_type": "code",
   "execution_count": 3,
   "id": "a1eb8bdc",
   "metadata": {},
   "outputs": [
    {
     "name": "stdout",
     "output_type": "stream",
     "text": [
      "   A  B  C\n",
      "a  1  2  3\n",
      "b  4  5  6\n",
      "c  7  8  9\n"
     ]
    }
   ],
   "source": [
    "nda = np.array([[1,2,3],[4,5,6],[7,8,9]])\n",
    "df1 = pd.DataFrame(nda, index = ['a','b','c'],columns = ['A','B','C'])\n",
    "print(df1)"
   ]
  },
  {
   "cell_type": "code",
   "execution_count": 4,
   "id": "eb11559e",
   "metadata": {},
   "outputs": [
    {
     "data": {
      "text/plain": [
       "2"
      ]
     },
     "execution_count": 4,
     "metadata": {},
     "output_type": "execute_result"
    }
   ],
   "source": [
    "df1.iloc[0,1]"
   ]
  },
  {
   "cell_type": "code",
   "execution_count": 5,
   "id": "5f8a4bd6",
   "metadata": {},
   "outputs": [
    {
     "name": "stdout",
     "output_type": "stream",
     "text": [
      "A    1\n",
      "B    2\n",
      "C    3\n",
      "Name: a, dtype: int32\n"
     ]
    }
   ],
   "source": [
    "print(df1.iloc[0]) #selection first row"
   ]
  },
  {
   "cell_type": "code",
   "execution_count": 6,
   "id": "c9d864fc",
   "metadata": {},
   "outputs": [
    {
     "name": "stdout",
     "output_type": "stream",
     "text": [
      "a    2\n",
      "b    5\n",
      "c    8\n",
      "Name: B, dtype: int32\n"
     ]
    }
   ],
   "source": [
    "print(df1.iloc[:,1]) # selection second column"
   ]
  },
  {
   "cell_type": "code",
   "execution_count": 7,
   "id": "60e0c8af",
   "metadata": {},
   "outputs": [
    {
     "name": "stdout",
     "output_type": "stream",
     "text": [
      "A    1\n",
      "B    2\n",
      "C    3\n",
      "Name: a, dtype: int32\n"
     ]
    }
   ],
   "source": [
    "#loc\n",
    "print(df1.loc['a'])# first row"
   ]
  },
  {
   "cell_type": "code",
   "execution_count": 8,
   "id": "11df38bd",
   "metadata": {},
   "outputs": [
    {
     "name": "stdout",
     "output_type": "stream",
     "text": [
      "a    2\n",
      "b    5\n",
      "c    8\n",
      "Name: B, dtype: int32\n"
     ]
    }
   ],
   "source": [
    "print(df1.loc[:,'B'])# second column"
   ]
  },
  {
   "cell_type": "markdown",
   "id": "20726840",
   "metadata": {},
   "source": [
    "# Multiindex DF"
   ]
  },
  {
   "cell_type": "code",
   "execution_count": 9,
   "id": "d93e3c8e",
   "metadata": {},
   "outputs": [],
   "source": [
    "dict_tuple = {('X',\"A\"):{('x','a'):1,('x','b'):4, ('x','c'):7,('y','d'):0,('y','e'):0},\n",
    "             ('X',\"B\"):{('x','a'):2,('x','b'):5, ('x','c'):8,('y','d'):0,('y','e'):0},\n",
    "             ('X',\"C\"):{('x','a'):3,('x','b'):6, ('x','c'):9,('y','d'):0,('y','e'):0},\n",
    "             ('Y',\"D\"):{('x','a'):-1,('x','b'):-3, ('x','c'):-5,('y','d'):0,('y','e'):0},\n",
    "             ('Y',\"E\"):{('x','a'):-2,('x','b'):-2, ('x','c'):-4,('y','d'):0,('y','e'):0},}"
   ]
  },
  {
   "cell_type": "code",
   "execution_count": 10,
   "id": "b0def3c9",
   "metadata": {},
   "outputs": [],
   "source": [
    "multi_df = pd.DataFrame(dict_tuple)"
   ]
  },
  {
   "cell_type": "code",
   "execution_count": 11,
   "id": "35ddd8a7",
   "metadata": {},
   "outputs": [
    {
     "name": "stdout",
     "output_type": "stream",
     "text": [
      "     X        Y   \n",
      "     A  B  C  D  E\n",
      "x a  1  2  3 -1 -2\n",
      "  b  4  5  6 -3 -2\n",
      "  c  7  8  9 -5 -4\n",
      "y d  0  0  0  0  0\n",
      "  e  0  0  0  0  0\n"
     ]
    }
   ],
   "source": [
    "print(multi_df)"
   ]
  },
  {
   "cell_type": "code",
   "execution_count": 12,
   "id": "f975029c",
   "metadata": {},
   "outputs": [
    {
     "name": "stdout",
     "output_type": "stream",
     "text": [
      "   A  B  C\n",
      "a  1  2  3\n",
      "b  4  5  6\n",
      "c  7  8  9\n"
     ]
    }
   ],
   "source": [
    "print(multi_df['X'].loc['x'])"
   ]
  },
  {
   "cell_type": "code",
   "execution_count": 13,
   "id": "7c637037",
   "metadata": {},
   "outputs": [
    {
     "name": "stdout",
     "output_type": "stream",
     "text": [
      "x  a    1\n",
      "   b    4\n",
      "   c    7\n",
      "y  d    0\n",
      "   e    0\n",
      "Name: A, dtype: int64\n"
     ]
    }
   ],
   "source": [
    "print(multi_df['X']['A'])"
   ]
  },
  {
   "cell_type": "code",
   "execution_count": 14,
   "id": "c762a545",
   "metadata": {},
   "outputs": [
    {
     "name": "stdout",
     "output_type": "stream",
     "text": [
      "MultiIndex([('X', 'A'),\n",
      "            ('X', 'B'),\n",
      "            ('X', 'C'),\n",
      "            ('Y', 'D'),\n",
      "            ('Y', 'E')],\n",
      "           )\n"
     ]
    }
   ],
   "source": [
    "print(multi_df.columns)"
   ]
  },
  {
   "cell_type": "code",
   "execution_count": 15,
   "id": "e0fc2008",
   "metadata": {},
   "outputs": [
    {
     "name": "stdout",
     "output_type": "stream",
     "text": [
      "MultiIndex([('x', 'a'),\n",
      "            ('x', 'b'),\n",
      "            ('x', 'c'),\n",
      "            ('y', 'd'),\n",
      "            ('y', 'e')],\n",
      "           )\n"
     ]
    }
   ],
   "source": [
    "print(multi_df.index)"
   ]
  },
  {
   "cell_type": "code",
   "execution_count": 16,
   "id": "6a061cfb",
   "metadata": {},
   "outputs": [
    {
     "name": "stdout",
     "output_type": "stream",
     "text": [
      "[['X', 'Y'], ['A', 'B', 'C', 'D', 'E']]\n"
     ]
    }
   ],
   "source": [
    "print(multi_df.columns.levels)"
   ]
  },
  {
   "cell_type": "code",
   "execution_count": 17,
   "id": "b071e673",
   "metadata": {},
   "outputs": [
    {
     "name": "stdout",
     "output_type": "stream",
     "text": [
      "[['x', 'y'], ['a', 'b', 'c', 'd', 'e']]\n"
     ]
    }
   ],
   "source": [
    "print(multi_df.index.levels)"
   ]
  },
  {
   "cell_type": "code",
   "execution_count": null,
   "id": "4d605e62",
   "metadata": {},
   "outputs": [],
   "source": []
  }
 ],
 "metadata": {
  "kernelspec": {
   "display_name": "Python 3 (ipykernel)",
   "language": "python",
   "name": "python3"
  },
  "language_info": {
   "codemirror_mode": {
    "name": "ipython",
    "version": 3
   },
   "file_extension": ".py",
   "mimetype": "text/x-python",
   "name": "python",
   "nbconvert_exporter": "python",
   "pygments_lexer": "ipython3",
   "version": "3.9.13"
  }
 },
 "nbformat": 4,
 "nbformat_minor": 5
}
