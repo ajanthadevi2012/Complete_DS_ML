{
 "cells": [
  {
   "cell_type": "code",
   "execution_count": 1,
   "id": "f3dca018",
   "metadata": {},
   "outputs": [],
   "source": [
    "import numpy as np\n",
    "import pandas as pd"
   ]
  },
  {
   "cell_type": "markdown",
   "id": "d2babb18",
   "metadata": {},
   "source": [
    "# Read and Write CSV Files"
   ]
  },
  {
   "cell_type": "code",
   "execution_count": 2,
   "id": "9ef890c6",
   "metadata": {},
   "outputs": [],
   "source": [
    "df = pd.read_csv('Data/books.csv')"
   ]
  },
  {
   "cell_type": "code",
   "execution_count": 3,
   "id": "f436d4d5",
   "metadata": {},
   "outputs": [
    {
     "name": "stdout",
     "output_type": "stream",
     "text": [
      "        ID                   Title          Author PublicationDate\n",
      "0  001276A  The Rise of the Falcon    John Admiral     25-Apr-2018\n",
      "1  023125B         Controlled mind   Robert Greens     28-Aug-2016\n",
      "2  005556E       Only love remains  Greta Blooming     17-Feb-2015\n"
     ]
    }
   ],
   "source": [
    "print(df)"
   ]
  },
  {
   "cell_type": "code",
   "execution_count": 4,
   "id": "0f44507f",
   "metadata": {},
   "outputs": [],
   "source": [
    "df = pd.read_table('Data/books2.csv', sep=';')"
   ]
  },
  {
   "cell_type": "code",
   "execution_count": 5,
   "id": "e99c7bfc",
   "metadata": {},
   "outputs": [
    {
     "name": "stdout",
     "output_type": "stream",
     "text": [
      "        ID                   Title          Author PublicationDate\n",
      "0  001276A  The Rise of the Falcon    John Admiral     25-Apr-2018\n",
      "1  023125B         Controlled mind   Robert Greens     28-Aug-2016\n",
      "2  005556E       Only love remains  Greta Blooming     17-Feb-2015\n"
     ]
    }
   ],
   "source": [
    "print(df)"
   ]
  },
  {
   "cell_type": "code",
   "execution_count": 6,
   "id": "35f3fca0",
   "metadata": {},
   "outputs": [
    {
     "data": {
      "text/html": [
       "<div>\n",
       "<style scoped>\n",
       "    .dataframe tbody tr th:only-of-type {\n",
       "        vertical-align: middle;\n",
       "    }\n",
       "\n",
       "    .dataframe tbody tr th {\n",
       "        vertical-align: top;\n",
       "    }\n",
       "\n",
       "    .dataframe thead th {\n",
       "        text-align: right;\n",
       "    }\n",
       "</style>\n",
       "<table border=\"1\" class=\"dataframe\">\n",
       "  <thead>\n",
       "    <tr style=\"text-align: right;\">\n",
       "      <th></th>\n",
       "      <th>ID</th>\n",
       "      <th>Title</th>\n",
       "      <th>Author</th>\n",
       "      <th>PublicationDate</th>\n",
       "    </tr>\n",
       "  </thead>\n",
       "  <tbody>\n",
       "    <tr>\n",
       "      <th>0</th>\n",
       "      <td>001276A</td>\n",
       "      <td>The Rise of the Falcon</td>\n",
       "      <td>John Admiral</td>\n",
       "      <td>25-Apr-2018</td>\n",
       "    </tr>\n",
       "    <tr>\n",
       "      <th>1</th>\n",
       "      <td>023125B</td>\n",
       "      <td>Controlled mind</td>\n",
       "      <td>Robert Greens</td>\n",
       "      <td>28-Aug-2016</td>\n",
       "    </tr>\n",
       "  </tbody>\n",
       "</table>\n",
       "</div>"
      ],
      "text/plain": [
       "        ID                   Title         Author PublicationDate\n",
       "0  001276A  The Rise of the Falcon   John Admiral     25-Apr-2018\n",
       "1  023125B         Controlled mind  Robert Greens     28-Aug-2016"
      ]
     },
     "execution_count": 6,
     "metadata": {},
     "output_type": "execute_result"
    }
   ],
   "source": [
    "pd.read_csv('Data/books.csv', nrows=2)"
   ]
  },
  {
   "cell_type": "code",
   "execution_count": 7,
   "id": "f823ea67",
   "metadata": {},
   "outputs": [],
   "source": [
    "df.to_csv('Data/books_saved.csv')"
   ]
  },
  {
   "cell_type": "markdown",
   "id": "d50d3ceb",
   "metadata": {},
   "source": [
    "# Read and Write Microsoft Excel Files"
   ]
  },
  {
   "cell_type": "code",
   "execution_count": 8,
   "id": "d7fdb27e",
   "metadata": {},
   "outputs": [
    {
     "name": "stdout",
     "output_type": "stream",
     "text": [
      "Requirement already satisfied: openpyxl in c:\\users\\ajantha\\anaconda3\\lib\\site-packages (3.0.10)\n",
      "Requirement already satisfied: et_xmlfile in c:\\users\\ajantha\\anaconda3\\lib\\site-packages (from openpyxl) (1.1.0)\n",
      "Note: you may need to restart the kernel to use updated packages.\n"
     ]
    }
   ],
   "source": [
    "pip install openpyxl"
   ]
  },
  {
   "cell_type": "code",
   "execution_count": 9,
   "id": "09761681",
   "metadata": {},
   "outputs": [
    {
     "data": {
      "text/html": [
       "<div>\n",
       "<style scoped>\n",
       "    .dataframe tbody tr th:only-of-type {\n",
       "        vertical-align: middle;\n",
       "    }\n",
       "\n",
       "    .dataframe tbody tr th {\n",
       "        vertical-align: top;\n",
       "    }\n",
       "\n",
       "    .dataframe thead th {\n",
       "        text-align: right;\n",
       "    }\n",
       "</style>\n",
       "<table border=\"1\" class=\"dataframe\">\n",
       "  <thead>\n",
       "    <tr style=\"text-align: right;\">\n",
       "      <th></th>\n",
       "      <th>ID</th>\n",
       "      <th>Title</th>\n",
       "      <th>Author</th>\n",
       "      <th>PublicationDate</th>\n",
       "    </tr>\n",
       "  </thead>\n",
       "  <tbody>\n",
       "    <tr>\n",
       "      <th>0</th>\n",
       "      <td>001276A</td>\n",
       "      <td>The Rise of the Falcon</td>\n",
       "      <td>John Admiral</td>\n",
       "      <td>2018-04-25</td>\n",
       "    </tr>\n",
       "    <tr>\n",
       "      <th>1</th>\n",
       "      <td>023125B</td>\n",
       "      <td>Controlled mind</td>\n",
       "      <td>Robert Greens</td>\n",
       "      <td>2016-08-28</td>\n",
       "    </tr>\n",
       "    <tr>\n",
       "      <th>2</th>\n",
       "      <td>005556E</td>\n",
       "      <td>Only love remains</td>\n",
       "      <td>Greta Blooming</td>\n",
       "      <td>2015-02-17</td>\n",
       "    </tr>\n",
       "  </tbody>\n",
       "</table>\n",
       "</div>"
      ],
      "text/plain": [
       "          ID                   Title          Author PublicationDate\n",
       "0    001276A  The Rise of the Falcon    John Admiral      2018-04-25\n",
       "1   023125B          Controlled mind   Robert Greens      2016-08-28\n",
       "2    005556E       Only love remains  Greta Blooming      2015-02-17"
      ]
     },
     "execution_count": 9,
     "metadata": {},
     "output_type": "execute_result"
    }
   ],
   "source": [
    "xlssource = pd.ExcelFile('Data/books.xlsx')\n",
    "df = pd.read_excel(xlssource, 'Sheet1')\n",
    "df"
   ]
  },
  {
   "cell_type": "code",
   "execution_count": 10,
   "id": "ebcb428e",
   "metadata": {},
   "outputs": [],
   "source": [
    "XLSWriter = pd.ExcelWriter('Data/newbooks2.xlsx')"
   ]
  },
  {
   "cell_type": "code",
   "execution_count": 11,
   "id": "cad96f93",
   "metadata": {},
   "outputs": [],
   "source": [
    "df.to_excel(XLSWriter, 'Sheet1')"
   ]
  },
  {
   "cell_type": "code",
   "execution_count": 12,
   "id": "0d7ce49f",
   "metadata": {},
   "outputs": [],
   "source": [
    "XLSWriter.save()"
   ]
  },
  {
   "cell_type": "markdown",
   "id": "d606b21e",
   "metadata": {},
   "source": [
    "# Write and read data in binary format"
   ]
  },
  {
   "cell_type": "code",
   "execution_count": 13,
   "id": "6a3f1ce1",
   "metadata": {},
   "outputs": [
    {
     "data": {
      "text/html": [
       "<div>\n",
       "<style scoped>\n",
       "    .dataframe tbody tr th:only-of-type {\n",
       "        vertical-align: middle;\n",
       "    }\n",
       "\n",
       "    .dataframe tbody tr th {\n",
       "        vertical-align: top;\n",
       "    }\n",
       "\n",
       "    .dataframe thead th {\n",
       "        text-align: right;\n",
       "    }\n",
       "</style>\n",
       "<table border=\"1\" class=\"dataframe\">\n",
       "  <thead>\n",
       "    <tr style=\"text-align: right;\">\n",
       "      <th></th>\n",
       "      <th>ID</th>\n",
       "      <th>Title</th>\n",
       "      <th>Author</th>\n",
       "      <th>PublicationDate</th>\n",
       "    </tr>\n",
       "  </thead>\n",
       "  <tbody>\n",
       "    <tr>\n",
       "      <th>0</th>\n",
       "      <td>001276A</td>\n",
       "      <td>The Rise of the Falcon</td>\n",
       "      <td>John Admiral</td>\n",
       "      <td>25-Apr-2018</td>\n",
       "    </tr>\n",
       "    <tr>\n",
       "      <th>1</th>\n",
       "      <td>023125B</td>\n",
       "      <td>Controlled mind</td>\n",
       "      <td>Robert Greens</td>\n",
       "      <td>28-Aug-2016</td>\n",
       "    </tr>\n",
       "    <tr>\n",
       "      <th>2</th>\n",
       "      <td>005556E</td>\n",
       "      <td>Only love remains</td>\n",
       "      <td>Greta Blooming</td>\n",
       "      <td>17-Feb-2015</td>\n",
       "    </tr>\n",
       "  </tbody>\n",
       "</table>\n",
       "</div>"
      ],
      "text/plain": [
       "        ID                   Title          Author PublicationDate\n",
       "0  001276A  The Rise of the Falcon    John Admiral     25-Apr-2018\n",
       "1  023125B         Controlled mind   Robert Greens     28-Aug-2016\n",
       "2  005556E       Only love remains  Greta Blooming     17-Feb-2015"
      ]
     },
     "execution_count": 13,
     "metadata": {},
     "output_type": "execute_result"
    }
   ],
   "source": [
    "df = pd.read_csv('Data/books.csv')\n",
    "df"
   ]
  },
  {
   "cell_type": "code",
   "execution_count": 14,
   "id": "a2f029d0",
   "metadata": {},
   "outputs": [],
   "source": [
    "df.to_pickle('Data/newbooks.dat')"
   ]
  },
  {
   "cell_type": "code",
   "execution_count": 15,
   "id": "cb687c84",
   "metadata": {},
   "outputs": [
    {
     "data": {
      "text/html": [
       "<div>\n",
       "<style scoped>\n",
       "    .dataframe tbody tr th:only-of-type {\n",
       "        vertical-align: middle;\n",
       "    }\n",
       "\n",
       "    .dataframe tbody tr th {\n",
       "        vertical-align: top;\n",
       "    }\n",
       "\n",
       "    .dataframe thead th {\n",
       "        text-align: right;\n",
       "    }\n",
       "</style>\n",
       "<table border=\"1\" class=\"dataframe\">\n",
       "  <thead>\n",
       "    <tr style=\"text-align: right;\">\n",
       "      <th></th>\n",
       "      <th>ID</th>\n",
       "      <th>Title</th>\n",
       "      <th>Author</th>\n",
       "      <th>PublicationDate</th>\n",
       "    </tr>\n",
       "  </thead>\n",
       "  <tbody>\n",
       "    <tr>\n",
       "      <th>0</th>\n",
       "      <td>001276A</td>\n",
       "      <td>The Rise of the Falcon</td>\n",
       "      <td>John Admiral</td>\n",
       "      <td>25-Apr-2018</td>\n",
       "    </tr>\n",
       "    <tr>\n",
       "      <th>1</th>\n",
       "      <td>023125B</td>\n",
       "      <td>Controlled mind</td>\n",
       "      <td>Robert Greens</td>\n",
       "      <td>28-Aug-2016</td>\n",
       "    </tr>\n",
       "    <tr>\n",
       "      <th>2</th>\n",
       "      <td>005556E</td>\n",
       "      <td>Only love remains</td>\n",
       "      <td>Greta Blooming</td>\n",
       "      <td>17-Feb-2015</td>\n",
       "    </tr>\n",
       "  </tbody>\n",
       "</table>\n",
       "</div>"
      ],
      "text/plain": [
       "        ID                   Title          Author PublicationDate\n",
       "0  001276A  The Rise of the Falcon    John Admiral     25-Apr-2018\n",
       "1  023125B         Controlled mind   Robert Greens     28-Aug-2016\n",
       "2  005556E       Only love remains  Greta Blooming     17-Feb-2015"
      ]
     },
     "execution_count": 15,
     "metadata": {},
     "output_type": "execute_result"
    }
   ],
   "source": [
    "pd.read_pickle('Data/newbooks.dat')"
   ]
  },
  {
   "cell_type": "code",
   "execution_count": null,
   "id": "2054ef4a",
   "metadata": {},
   "outputs": [],
   "source": []
  }
 ],
 "metadata": {
  "kernelspec": {
   "display_name": "Python 3 (ipykernel)",
   "language": "python",
   "name": "python3"
  },
  "language_info": {
   "codemirror_mode": {
    "name": "ipython",
    "version": 3
   },
   "file_extension": ".py",
   "mimetype": "text/x-python",
   "name": "python",
   "nbconvert_exporter": "python",
   "pygments_lexer": "ipython3",
   "version": "3.9.13"
  }
 },
 "nbformat": 4,
 "nbformat_minor": 5
}
