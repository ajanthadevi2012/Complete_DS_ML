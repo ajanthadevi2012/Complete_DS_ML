{
 "cells": [
  {
   "cell_type": "markdown",
   "id": "02ddaf7a",
   "metadata": {},
   "source": [
    "# SERIES"
   ]
  },
  {
   "cell_type": "code",
   "execution_count": 6,
   "id": "937aa9fe",
   "metadata": {},
   "outputs": [],
   "source": [
    "import pandas as pd\n",
    "import numpy as np"
   ]
  },
  {
   "cell_type": "code",
   "execution_count": 7,
   "id": "372ace97",
   "metadata": {},
   "outputs": [
    {
     "name": "stdout",
     "output_type": "stream",
     "text": [
      "[5, 7, 11, -1, 4]\n"
     ]
    }
   ],
   "source": [
    "lst = [5,7,11,-1,4]\n",
    "print(lst)"
   ]
  },
  {
   "cell_type": "code",
   "execution_count": 8,
   "id": "642c710c",
   "metadata": {},
   "outputs": [
    {
     "name": "stdout",
     "output_type": "stream",
     "text": [
      "[ 5  7 11 -1  4]\n"
     ]
    }
   ],
   "source": [
    "nar = np.array([5,7,11,-1,4])\n",
    "print(nar)"
   ]
  },
  {
   "cell_type": "code",
   "execution_count": 9,
   "id": "dcbf5d33",
   "metadata": {},
   "outputs": [
    {
     "name": "stdout",
     "output_type": "stream",
     "text": [
      "0     5\n",
      "1     7\n",
      "2    11\n",
      "3    -1\n",
      "4     4\n",
      "dtype: int64\n"
     ]
    }
   ],
   "source": [
    "ser  =pd.Series([5,7,11,-1,4])\n",
    "print(ser)"
   ]
  },
  {
   "cell_type": "code",
   "execution_count": 10,
   "id": "981b89dd",
   "metadata": {},
   "outputs": [
    {
     "name": "stdout",
     "output_type": "stream",
     "text": [
      "RangeIndex(start=0, stop=5, step=1)\n"
     ]
    }
   ],
   "source": [
    "print(ser.index)"
   ]
  },
  {
   "cell_type": "code",
   "execution_count": 11,
   "id": "97036766",
   "metadata": {},
   "outputs": [
    {
     "name": "stdout",
     "output_type": "stream",
     "text": [
      "11\n"
     ]
    }
   ],
   "source": [
    "print(ser[2])"
   ]
  },
  {
   "cell_type": "code",
   "execution_count": 12,
   "id": "961ff36f",
   "metadata": {},
   "outputs": [
    {
     "name": "stdout",
     "output_type": "stream",
     "text": [
      "11\n"
     ]
    }
   ],
   "source": [
    "print(nar[2])"
   ]
  },
  {
   "cell_type": "code",
   "execution_count": 13,
   "id": "47f7e087",
   "metadata": {},
   "outputs": [
    {
     "name": "stdout",
     "output_type": "stream",
     "text": [
      "a     5\n",
      "b     7\n",
      "c    11\n",
      "d    -1\n",
      "a     4\n",
      "dtype: int64\n"
     ]
    }
   ],
   "source": [
    "ser1  =pd.Series([5,7,11,-1,4], index = ['a','b','c','d','a'])\n",
    "print(ser1)"
   ]
  },
  {
   "cell_type": "code",
   "execution_count": 14,
   "id": "bdae4d2c",
   "metadata": {},
   "outputs": [
    {
     "name": "stdout",
     "output_type": "stream",
     "text": [
      "a    5\n",
      "a    4\n",
      "dtype: int64\n"
     ]
    }
   ],
   "source": [
    "print(ser1['a'])"
   ]
  },
  {
   "cell_type": "code",
   "execution_count": 15,
   "id": "e35cab75",
   "metadata": {},
   "outputs": [],
   "source": [
    "ser1.index = ['r1','r2','r3','r4','r5']"
   ]
  },
  {
   "cell_type": "code",
   "execution_count": 16,
   "id": "f56f5502",
   "metadata": {},
   "outputs": [
    {
     "name": "stdout",
     "output_type": "stream",
     "text": [
      "r1     5\n",
      "r2     7\n",
      "r3    11\n",
      "r4    -1\n",
      "r5     4\n",
      "dtype: int64\n"
     ]
    }
   ],
   "source": [
    "print(ser1)"
   ]
  },
  {
   "cell_type": "code",
   "execution_count": 17,
   "id": "a50173f1",
   "metadata": {},
   "outputs": [
    {
     "name": "stdout",
     "output_type": "stream",
     "text": [
      "1     5\n",
      "2     7\n",
      "3    11\n",
      "4    -1\n",
      "5     4\n",
      "dtype: int64\n"
     ]
    }
   ],
   "source": [
    "#index con\n",
    "idx = pd.Index([1,2,3,4,5])\n",
    "ser3 = pd.Series([5,7,11,-1,4], index = idx)\n",
    "print(ser3)"
   ]
  },
  {
   "cell_type": "code",
   "execution_count": 18,
   "id": "ecba7c5d",
   "metadata": {},
   "outputs": [
    {
     "ename": "ValueError",
     "evalue": "Length of values (6) does not match length of index (5)",
     "output_type": "error",
     "traceback": [
      "\u001b[1;31m---------------------------------------------------------------------------\u001b[0m",
      "\u001b[1;31mValueError\u001b[0m                                Traceback (most recent call last)",
      "\u001b[1;32m~\\AppData\\Local\\Temp\\ipykernel_25200\\1726892631.py\u001b[0m in \u001b[0;36m<module>\u001b[1;34m\u001b[0m\n\u001b[0;32m      1\u001b[0m \u001b[0midx\u001b[0m \u001b[1;33m=\u001b[0m \u001b[0mpd\u001b[0m\u001b[1;33m.\u001b[0m\u001b[0mIndex\u001b[0m\u001b[1;33m(\u001b[0m\u001b[1;33m[\u001b[0m\u001b[1;36m1\u001b[0m\u001b[1;33m,\u001b[0m\u001b[1;36m2\u001b[0m\u001b[1;33m,\u001b[0m\u001b[1;36m3\u001b[0m\u001b[1;33m,\u001b[0m\u001b[1;36m4\u001b[0m\u001b[1;33m,\u001b[0m\u001b[1;36m5\u001b[0m\u001b[1;33m]\u001b[0m\u001b[1;33m)\u001b[0m\u001b[1;33m\u001b[0m\u001b[1;33m\u001b[0m\u001b[0m\n\u001b[1;32m----> 2\u001b[1;33m \u001b[0mser4\u001b[0m \u001b[1;33m=\u001b[0m \u001b[0mpd\u001b[0m\u001b[1;33m.\u001b[0m\u001b[0mSeries\u001b[0m\u001b[1;33m(\u001b[0m\u001b[1;33m[\u001b[0m\u001b[1;36m5\u001b[0m\u001b[1;33m,\u001b[0m\u001b[1;36m7\u001b[0m\u001b[1;33m,\u001b[0m\u001b[1;36m11\u001b[0m\u001b[1;33m,\u001b[0m\u001b[1;33m-\u001b[0m\u001b[1;36m1\u001b[0m\u001b[1;33m,\u001b[0m\u001b[1;36m4\u001b[0m\u001b[1;33m,\u001b[0m\u001b[1;36m2\u001b[0m\u001b[1;33m]\u001b[0m\u001b[1;33m,\u001b[0m \u001b[0mindex\u001b[0m \u001b[1;33m=\u001b[0m \u001b[0midx\u001b[0m\u001b[1;33m)\u001b[0m\u001b[1;33m\u001b[0m\u001b[1;33m\u001b[0m\u001b[0m\n\u001b[0m\u001b[0;32m      3\u001b[0m \u001b[0mprint\u001b[0m\u001b[1;33m(\u001b[0m\u001b[0mser3\u001b[0m\u001b[1;33m)\u001b[0m\u001b[1;33m\u001b[0m\u001b[1;33m\u001b[0m\u001b[0m\n",
      "\u001b[1;32m~\\anaconda3\\lib\\site-packages\\pandas\\core\\series.py\u001b[0m in \u001b[0;36m__init__\u001b[1;34m(self, data, index, dtype, name, copy, fastpath)\u001b[0m\n\u001b[0;32m    440\u001b[0m                 \u001b[0mindex\u001b[0m \u001b[1;33m=\u001b[0m \u001b[0mdefault_index\u001b[0m\u001b[1;33m(\u001b[0m\u001b[0mlen\u001b[0m\u001b[1;33m(\u001b[0m\u001b[0mdata\u001b[0m\u001b[1;33m)\u001b[0m\u001b[1;33m)\u001b[0m\u001b[1;33m\u001b[0m\u001b[1;33m\u001b[0m\u001b[0m\n\u001b[0;32m    441\u001b[0m             \u001b[1;32melif\u001b[0m \u001b[0mis_list_like\u001b[0m\u001b[1;33m(\u001b[0m\u001b[0mdata\u001b[0m\u001b[1;33m)\u001b[0m\u001b[1;33m:\u001b[0m\u001b[1;33m\u001b[0m\u001b[1;33m\u001b[0m\u001b[0m\n\u001b[1;32m--> 442\u001b[1;33m                 \u001b[0mcom\u001b[0m\u001b[1;33m.\u001b[0m\u001b[0mrequire_length_match\u001b[0m\u001b[1;33m(\u001b[0m\u001b[0mdata\u001b[0m\u001b[1;33m,\u001b[0m \u001b[0mindex\u001b[0m\u001b[1;33m)\u001b[0m\u001b[1;33m\u001b[0m\u001b[1;33m\u001b[0m\u001b[0m\n\u001b[0m\u001b[0;32m    443\u001b[0m \u001b[1;33m\u001b[0m\u001b[0m\n\u001b[0;32m    444\u001b[0m             \u001b[1;31m# create/copy the manager\u001b[0m\u001b[1;33m\u001b[0m\u001b[1;33m\u001b[0m\u001b[0m\n",
      "\u001b[1;32m~\\anaconda3\\lib\\site-packages\\pandas\\core\\common.py\u001b[0m in \u001b[0;36mrequire_length_match\u001b[1;34m(data, index)\u001b[0m\n\u001b[0;32m    555\u001b[0m     \"\"\"\n\u001b[0;32m    556\u001b[0m     \u001b[1;32mif\u001b[0m \u001b[0mlen\u001b[0m\u001b[1;33m(\u001b[0m\u001b[0mdata\u001b[0m\u001b[1;33m)\u001b[0m \u001b[1;33m!=\u001b[0m \u001b[0mlen\u001b[0m\u001b[1;33m(\u001b[0m\u001b[0mindex\u001b[0m\u001b[1;33m)\u001b[0m\u001b[1;33m:\u001b[0m\u001b[1;33m\u001b[0m\u001b[1;33m\u001b[0m\u001b[0m\n\u001b[1;32m--> 557\u001b[1;33m         raise ValueError(\n\u001b[0m\u001b[0;32m    558\u001b[0m             \u001b[1;34m\"Length of values \"\u001b[0m\u001b[1;33m\u001b[0m\u001b[1;33m\u001b[0m\u001b[0m\n\u001b[0;32m    559\u001b[0m             \u001b[1;34mf\"({len(data)}) \"\u001b[0m\u001b[1;33m\u001b[0m\u001b[1;33m\u001b[0m\u001b[0m\n",
      "\u001b[1;31mValueError\u001b[0m: Length of values (6) does not match length of index (5)"
     ]
    }
   ],
   "source": [
    "idx = pd.Index([1,2,3,4,5])\n",
    "ser4 = pd.Series([5,7,11,-1,4,2], index = idx)\n",
    "print(ser3)"
   ]
  },
  {
   "cell_type": "code",
   "execution_count": 19,
   "id": "2bc20460",
   "metadata": {},
   "outputs": [
    {
     "name": "stdout",
     "output_type": "stream",
     "text": [
      "r1     5\n",
      "r2     7\n",
      "r3    11\n",
      "r4    -1\n",
      "r5     4\n",
      "Name: first series, dtype: int64\n"
     ]
    }
   ],
   "source": [
    "#name att\n",
    "ser1.name = \"first series\"\n",
    "print(ser1)"
   ]
  },
  {
   "cell_type": "code",
   "execution_count": 20,
   "id": "6c623308",
   "metadata": {},
   "outputs": [
    {
     "name": "stdout",
     "output_type": "stream",
     "text": [
      "1     5.0\n",
      "2     7.0\n",
      "3    11.0\n",
      "4    -1.0\n",
      "5     4.0\n",
      "dtype: float64\n"
     ]
    }
   ],
   "source": [
    "#pd.Series(data, index, dtype, name ,copy)\n",
    "idx = pd.Index([1,2,3,4,5])\n",
    "ser4 = pd.Series([5,7,11,-1,4], index = idx, dtype = float)\n",
    "print(ser4)"
   ]
  },
  {
   "cell_type": "code",
   "execution_count": 21,
   "id": "298e9b49",
   "metadata": {},
   "outputs": [
    {
     "name": "stdout",
     "output_type": "stream",
     "text": [
      "[3 4 5 6 7]\n"
     ]
    }
   ],
   "source": [
    "#narray\n",
    "nda = np.array([3,4,5,6,7])\n",
    "print(nda)"
   ]
  },
  {
   "cell_type": "code",
   "execution_count": 22,
   "id": "bf98aff8",
   "metadata": {},
   "outputs": [
    {
     "name": "stdout",
     "output_type": "stream",
     "text": [
      "int32\n"
     ]
    }
   ],
   "source": [
    "print(nda.dtype)"
   ]
  },
  {
   "cell_type": "code",
   "execution_count": 23,
   "id": "799d76be",
   "metadata": {},
   "outputs": [
    {
     "name": "stdout",
     "output_type": "stream",
     "text": [
      "0    3\n",
      "1    4\n",
      "2    5\n",
      "3    6\n",
      "4    7\n",
      "dtype: int32\n"
     ]
    }
   ],
   "source": [
    "ser5 = pd.Series(nda)\n",
    "print(ser5)"
   ]
  },
  {
   "cell_type": "code",
   "execution_count": 24,
   "id": "14e2e30f",
   "metadata": {},
   "outputs": [
    {
     "name": "stdout",
     "output_type": "stream",
     "text": [
      "0    1\n",
      "1    2\n",
      "2    3\n",
      "3    4\n",
      "dtype: int32\n"
     ]
    }
   ],
   "source": [
    "n = np.array([1,2,3,4])\n",
    "ser = pd.Series(n)\n",
    "print(ser)"
   ]
  },
  {
   "cell_type": "code",
   "execution_count": 25,
   "id": "58d33122",
   "metadata": {},
   "outputs": [
    {
     "name": "stdout",
     "output_type": "stream",
     "text": [
      "0    1\n",
      "1    2\n",
      "2    3\n",
      "3    0\n",
      "dtype: int32\n"
     ]
    }
   ],
   "source": [
    "n[3] = 0\n",
    "print(ser)"
   ]
  },
  {
   "cell_type": "code",
   "execution_count": 26,
   "id": "bf709330",
   "metadata": {},
   "outputs": [
    {
     "name": "stdout",
     "output_type": "stream",
     "text": [
      "0    1\n",
      "1    2\n",
      "2    3\n",
      "3    0\n",
      "dtype: int32\n"
     ]
    }
   ],
   "source": [
    "ser7 = pd.Series(n,copy = True)\n",
    "print(ser7)"
   ]
  },
  {
   "cell_type": "code",
   "execution_count": 27,
   "id": "0e74fa0e",
   "metadata": {},
   "outputs": [],
   "source": [
    "n[3] = 45"
   ]
  },
  {
   "cell_type": "code",
   "execution_count": 28,
   "id": "5d7b338a",
   "metadata": {},
   "outputs": [
    {
     "name": "stdout",
     "output_type": "stream",
     "text": [
      "[ 1  2  3 45]\n"
     ]
    }
   ],
   "source": [
    "print(n)"
   ]
  },
  {
   "cell_type": "code",
   "execution_count": 29,
   "id": "097352a3",
   "metadata": {},
   "outputs": [
    {
     "name": "stdout",
     "output_type": "stream",
     "text": [
      "0    1\n",
      "1    2\n",
      "2    3\n",
      "3    0\n",
      "dtype: int32\n"
     ]
    }
   ],
   "source": [
    "print(ser7)"
   ]
  },
  {
   "cell_type": "code",
   "execution_count": 30,
   "id": "81ad3f65",
   "metadata": {},
   "outputs": [
    {
     "name": "stdout",
     "output_type": "stream",
     "text": [
      "0    0.508892\n",
      "1    0.146523\n",
      "2    0.171069\n",
      "3    0.165491\n",
      "4    0.566878\n",
      "dtype: float64\n"
     ]
    }
   ],
   "source": [
    "ser8 = pd.Series(np.random.rand(5))\n",
    "print(ser8)"
   ]
  },
  {
   "cell_type": "code",
   "execution_count": 31,
   "id": "69932895",
   "metadata": {},
   "outputs": [
    {
     "name": "stdout",
     "output_type": "stream",
     "text": [
      "0    1\n",
      "1    2\n",
      "2    3\n",
      "3    4\n",
      "4    5\n",
      "dtype: int32\n"
     ]
    }
   ],
   "source": [
    "ser9 = pd.Series(np.arange(1,6))\n",
    "print(ser9)"
   ]
  },
  {
   "cell_type": "code",
   "execution_count": 32,
   "id": "f282786f",
   "metadata": {},
   "outputs": [
    {
     "name": "stdout",
     "output_type": "stream",
     "text": [
      "0    0.0\n",
      "1    0.0\n",
      "2    0.0\n",
      "3    0.0\n",
      "dtype: float64\n"
     ]
    }
   ],
   "source": [
    "ser10 = pd.Series(np.zeros(4))\n",
    "print(ser10)"
   ]
  },
  {
   "cell_type": "code",
   "execution_count": 35,
   "id": "beb5fc3e",
   "metadata": {},
   "outputs": [
    {
     "name": "stdout",
     "output_type": "stream",
     "text": [
      "1    4\n",
      "2    4\n",
      "3    4\n",
      "4    4\n",
      "dtype: int64\n"
     ]
    }
   ],
   "source": [
    "#scalar\n",
    "ser11 = pd.Series(4,index = [1,2,3,4])\n",
    "print(ser11)"
   ]
  },
  {
   "cell_type": "code",
   "execution_count": 36,
   "id": "ee5bde20",
   "metadata": {},
   "outputs": [
    {
     "name": "stdout",
     "output_type": "stream",
     "text": [
      "a    12\n",
      "b    34\n",
      "c    56\n",
      "dtype: int64\n"
     ]
    }
   ],
   "source": [
    "#dic\n",
    "dic = {'a':12,'b':34,'c':56}\n",
    "ser12 = pd.Series(dic)\n",
    "print(ser12)"
   ]
  },
  {
   "cell_type": "code",
   "execution_count": null,
   "id": "a972cda5",
   "metadata": {},
   "outputs": [],
   "source": []
  }
 ],
 "metadata": {
  "kernelspec": {
   "display_name": "Python 3 (ipykernel)",
   "language": "python",
   "name": "python3"
  },
  "language_info": {
   "codemirror_mode": {
    "name": "ipython",
    "version": 3
   },
   "file_extension": ".py",
   "mimetype": "text/x-python",
   "name": "python",
   "nbconvert_exporter": "python",
   "pygments_lexer": "ipython3",
   "version": "3.9.13"
  }
 },
 "nbformat": 4,
 "nbformat_minor": 5
}
