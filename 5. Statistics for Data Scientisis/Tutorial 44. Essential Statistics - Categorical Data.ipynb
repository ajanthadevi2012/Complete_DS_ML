{
 "cells": [
  {
   "cell_type": "markdown",
   "metadata": {},
   "source": [
    "## Categorical Variables and Categorization"
   ]
  },
  {
   "cell_type": "markdown",
   "metadata": {},
   "source": [
    "### frequencies and proportions"
   ]
  },
  {
   "cell_type": "code",
   "execution_count": null,
   "metadata": {},
   "outputs": [],
   "source": [
    "import pandas as pd \n",
    "import numpy as np\n",
    "import matplotlib.pyplot as plt\n",
    "%matplotlib inline"
   ]
  },
  {
   "cell_type": "code",
   "execution_count": null,
   "metadata": {},
   "outputs": [],
   "source": [
    "from collections import Counter\n",
    "df = pd.read_excel(\"PopulationEstimates.xls\",skiprows=2)"
   ]
  },
  {
   "cell_type": "code",
   "execution_count": null,
   "metadata": {
    "scrolled": false
   },
   "outputs": [],
   "source": [
    "counter = Counter(df[\"Rural-urban_Continuum Code_2013\"].dropna())\n",
    "labels = []\n",
    "x = []\n",
    "for key, val in counter.items():\n",
    "    labels.append(str(key))\n",
    "    x.append(val)\n",
    "x = np.array(x)/sum(x) # uncomment for frequency \n",
    "plt.figure(figsize=(8,6))\n",
    "plt.bar(labels,x)\n",
    "plt.title(\"Bar plot of frequency\");"
   ]
  },
  {
   "cell_type": "code",
   "execution_count": null,
   "metadata": {
    "scrolled": false
   },
   "outputs": [],
   "source": [
    "plt.figure(figsize=(8,4))\n",
    "plt.pie(x=x,labels=labels,)\n",
    "plt.title(\"Pie plot for rural-urban continuum code\");"
   ]
  },
  {
   "cell_type": "markdown",
   "metadata": {},
   "source": [
    "#### mode for categorical variables"
   ]
  },
  {
   "cell_type": "code",
   "execution_count": null,
   "metadata": {},
   "outputs": [],
   "source": [
    "counter = Counter(df[\"Rural-urban_Continuum Code_2013\"].dropna())\n",
    "counter"
   ]
  },
  {
   "cell_type": "code",
   "execution_count": null,
   "metadata": {},
   "outputs": [],
   "source": []
  },
  {
   "cell_type": "code",
   "execution_count": null,
   "metadata": {},
   "outputs": [],
   "source": []
  },
  {
   "cell_type": "code",
   "execution_count": null,
   "metadata": {},
   "outputs": [],
   "source": []
  },
  {
   "cell_type": "code",
   "execution_count": null,
   "metadata": {},
   "outputs": [],
   "source": []
  },
  {
   "cell_type": "code",
   "execution_count": null,
   "metadata": {},
   "outputs": [],
   "source": []
  },
  {
   "cell_type": "markdown",
   "metadata": {},
   "source": [
    "### Transform continuous variable to categorical variable"
   ]
  },
  {
   "cell_type": "code",
   "execution_count": null,
   "metadata": {
    "scrolled": false
   },
   "outputs": [],
   "source": [
    "series = df[\"R_NET_MIG_2013\"].dropna()\n",
    "quantiles = np.quantile(series,[0.2*i for i in range(1,5)])\n",
    "plt.figure(figsize=(10,8))\n",
    "plt.hist(series,bins=100,alpha=0.5)\n",
    "plt.xlim(-50,50)\n",
    "for i in range(len(quantiles)):\n",
    "    plt.axvline(quantiles[i],linestyle=\":\",\n",
    "                linewidth=4)\n",
    "plt.title(\"Quantiles for Net Immigration Data\");"
   ]
  },
  {
   "cell_type": "markdown",
   "metadata": {},
   "source": [
    "## Bivariate Descriptive Statistics"
   ]
  },
  {
   "cell_type": "markdown",
   "metadata": {},
   "source": [
    "### Covariance"
   ]
  },
  {
   "cell_type": "code",
   "execution_count": null,
   "metadata": {},
   "outputs": [],
   "source": [
    "dfTX = df[df[\"State\"]==\"TX\"].tail(-1)"
   ]
  },
  {
   "cell_type": "code",
   "execution_count": null,
   "metadata": {},
   "outputs": [],
   "source": [
    "corrs = dfTX[['R_NET_MIG_2011',\n",
    "       'R_NET_MIG_2012', 'R_NET_MIG_2013', 'R_NET_MIG_2014', 'R_NET_MIG_2015',\n",
    "       'R_NET_MIG_2016', 'R_NET_MIG_2017', 'R_NET_MIG_2018']].dropna().corr()\n",
    "corrs"
   ]
  },
  {
   "cell_type": "code",
   "execution_count": null,
   "metadata": {},
   "outputs": [],
   "source": [
    "import seaborn as sns\n",
    "plt.figure(figsize=(10,8))\n",
    "plt.rcParams.update({'font.size': 12})\n",
    "sns.heatmap(corrs,cmap=\"YlGnBu\");"
   ]
  },
  {
   "cell_type": "markdown",
   "metadata": {},
   "source": [
    "### Cross-tabulation"
   ]
  },
  {
   "cell_type": "code",
   "execution_count": null,
   "metadata": {},
   "outputs": [],
   "source": [
    "weather = [\"rainy\",\"sunny\",\"rainy\",\"windy\",\"windy\",\n",
    "           \"sunny\",\"rainy\",\"windy\",\"sunny\",\"rainy\",\n",
    "           \"sunny\",\"windy\",\"windy\"]\n",
    "golfing = [\"Yes\",\"Yes\",\"No\",\"No\",\"Yes\",\"Yes\",\"No\",\"No\",\n",
    "          \"Yes\",\"No\",\"Yes\",\"No\",\"No\"]\n",
    "\n",
    "dfGolf = pd.DataFrame({\"weather\":weather,\"golfing\":golfing})\n",
    "pd.crosstab(dfGolf.weather, dfGolf.golfing, margins=True)"
   ]
  }
 ],
 "metadata": {
  "kernelspec": {
   "display_name": "Python 3 (ipykernel)",
   "language": "python",
   "name": "python3"
  },
  "language_info": {
   "codemirror_mode": {
    "name": "ipython",
    "version": 3
   },
   "file_extension": ".py",
   "mimetype": "text/x-python",
   "name": "python",
   "nbconvert_exporter": "python",
   "pygments_lexer": "ipython3",
   "version": "3.9.13"
  }
 },
 "nbformat": 4,
 "nbformat_minor": 2
}
