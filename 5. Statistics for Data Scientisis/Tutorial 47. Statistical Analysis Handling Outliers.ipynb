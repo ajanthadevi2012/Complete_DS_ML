{
 "cells": [
  {
   "cell_type": "markdown",
   "id": "8c0c4025",
   "metadata": {},
   "source": [
    "# Statistical Analysis: Handling Outliers\n",
    "\n",
    "\n",
    "\n",
    "\n",
    "\n",
    "<img src=\"here.png\" width=\"500\"/>\n"
   ]
  },
  {
   "cell_type": "code",
   "execution_count": 1,
   "id": "b7a7624a",
   "metadata": {},
   "outputs": [],
   "source": [
    "#Importing libraries\n",
    "import pandas as pd\n",
    "import numpy as np \n",
    "import matplotlib.pyplot as plt\n",
    "import seaborn as sns"
   ]
  },
  {
   "cell_type": "code",
   "execution_count": 2,
   "id": "5bdf1a93",
   "metadata": {},
   "outputs": [
    {
     "data": {
      "text/html": [
       "<div>\n",
       "<style scoped>\n",
       "    .dataframe tbody tr th:only-of-type {\n",
       "        vertical-align: middle;\n",
       "    }\n",
       "\n",
       "    .dataframe tbody tr th {\n",
       "        vertical-align: top;\n",
       "    }\n",
       "\n",
       "    .dataframe thead th {\n",
       "        text-align: right;\n",
       "    }\n",
       "</style>\n",
       "<table border=\"1\" class=\"dataframe\">\n",
       "  <thead>\n",
       "    <tr style=\"text-align: right;\">\n",
       "      <th></th>\n",
       "      <th>Diameter (micrometer)</th>\n",
       "    </tr>\n",
       "    <tr>\n",
       "      <th>Cell ID</th>\n",
       "      <th></th>\n",
       "    </tr>\n",
       "  </thead>\n",
       "  <tbody>\n",
       "    <tr>\n",
       "      <th>Cell 1</th>\n",
       "      <td>5.8</td>\n",
       "    </tr>\n",
       "    <tr>\n",
       "      <th>Cell 2</th>\n",
       "      <td>5.5</td>\n",
       "    </tr>\n",
       "    <tr>\n",
       "      <th>Cell 3</th>\n",
       "      <td>5.3</td>\n",
       "    </tr>\n",
       "    <tr>\n",
       "      <th>Cell 4</th>\n",
       "      <td>5.8</td>\n",
       "    </tr>\n",
       "    <tr>\n",
       "      <th>Cell 5</th>\n",
       "      <td>5.5</td>\n",
       "    </tr>\n",
       "  </tbody>\n",
       "</table>\n",
       "</div>"
      ],
      "text/plain": [
       "         Diameter (micrometer)\n",
       "Cell ID                       \n",
       "Cell 1                     5.8\n",
       "Cell 2                     5.5\n",
       "Cell 3                     5.3\n",
       "Cell 4                     5.8\n",
       "Cell 5                     5.5"
      ]
     },
     "execution_count": 2,
     "metadata": {},
     "output_type": "execute_result"
    }
   ],
   "source": [
    "#Importing cell measureemnts dataframe\n",
    "df = pd.read_csv(\"cells.csv\",  index_col=\"Cell ID\")\n",
    "df.head()"
   ]
  },
  {
   "cell_type": "markdown",
   "id": "77767c6e",
   "metadata": {},
   "source": [
    "## Detecting outliers:\n",
    "<img src=\"anot.png\" width=\"500\"/>\n",
    "<img src=\"box.png\" width=\"500\"/>"
   ]
  },
  {
   "cell_type": "markdown",
   "id": "ea490433",
   "metadata": {},
   "source": [
    "###  Z-score method \n"
   ]
  },
  {
   "cell_type": "code",
   "execution_count": 3,
   "id": "40dbffaf",
   "metadata": {},
   "outputs": [
    {
     "data": {
      "text/html": [
       "<div>\n",
       "<style scoped>\n",
       "    .dataframe tbody tr th:only-of-type {\n",
       "        vertical-align: middle;\n",
       "    }\n",
       "\n",
       "    .dataframe tbody tr th {\n",
       "        vertical-align: top;\n",
       "    }\n",
       "\n",
       "    .dataframe thead th {\n",
       "        text-align: right;\n",
       "    }\n",
       "</style>\n",
       "<table border=\"1\" class=\"dataframe\">\n",
       "  <thead>\n",
       "    <tr style=\"text-align: right;\">\n",
       "      <th></th>\n",
       "      <th>Diameter (micrometer)</th>\n",
       "      <th>Z-score</th>\n",
       "    </tr>\n",
       "    <tr>\n",
       "      <th>Cell ID</th>\n",
       "      <th></th>\n",
       "      <th></th>\n",
       "    </tr>\n",
       "  </thead>\n",
       "  <tbody>\n",
       "    <tr>\n",
       "      <th>Cell 46</th>\n",
       "      <td>12.4</td>\n",
       "      <td>5.368683</td>\n",
       "    </tr>\n",
       "  </tbody>\n",
       "</table>\n",
       "</div>"
      ],
      "text/plain": [
       "         Diameter (micrometer)   Z-score\n",
       "Cell ID                                 \n",
       "Cell 46                   12.4  5.368683"
      ]
     },
     "execution_count": 3,
     "metadata": {},
     "output_type": "execute_result"
    }
   ],
   "source": [
    "#Calculate the mean\n",
    "mean = df['Diameter (micrometer)'].mean()\n",
    "\n",
    "#Calculate the Standard deviation\n",
    "std =df['Diameter (micrometer)'].std()\n",
    "\n",
    "# Calculate z-scores and asign them to a new column\n",
    "df[\"Z-score\"] = (df['Diameter (micrometer)']-mean)/std\n",
    "\n",
    "# Find observations with a z-score greater than 3 or less than -3\n",
    "df[(df[\"Z-score\"]>3) | (df[\"Z-score\"]<-3)]"
   ]
  },
  {
   "cell_type": "code",
   "execution_count": 5,
   "id": "1de4fa2e",
   "metadata": {},
   "outputs": [
    {
     "data": {
      "image/png": "[encoded data removed]",
      "text/plain": [
       "<Figure size 900x600 with 1 Axes>"
      ]
     },
     "metadata": {},
     "output_type": "display_data"
    }
   ],
   "source": [
    "fig,ax = plt.subplots(figsize=(9,6))\n",
    "# Plot histogram using Seaborn library to show distribution of dataset.\n",
    "sns.histplot(x=df['Diameter (micrometer)'], data = df, ax=ax)\n",
    "plt.savefig('Fig2_code.png', dpi=100)"
   ]
  },
  {
   "cell_type": "markdown",
   "id": "2acb7266",
   "metadata": {},
   "source": [
    "### The Interquartile Range (IQR) method \n"
   ]
  },
  {
   "cell_type": "code",
   "execution_count": 6,
   "id": "be7ba159",
   "metadata": {},
   "outputs": [
    {
     "name": "stdout",
     "output_type": "stream",
     "text": [
      "Outliers in column 'Diameter (micrometer)':\n"
     ]
    },
    {
     "data": {
      "text/html": [
       "<div>\n",
       "<style scoped>\n",
       "    .dataframe tbody tr th:only-of-type {\n",
       "        vertical-align: middle;\n",
       "    }\n",
       "\n",
       "    .dataframe tbody tr th {\n",
       "        vertical-align: top;\n",
       "    }\n",
       "\n",
       "    .dataframe thead th {\n",
       "        text-align: right;\n",
       "    }\n",
       "</style>\n",
       "<table border=\"1\" class=\"dataframe\">\n",
       "  <thead>\n",
       "    <tr style=\"text-align: right;\">\n",
       "      <th></th>\n",
       "      <th>Diameter (micrometer)</th>\n",
       "      <th>Z-score</th>\n",
       "    </tr>\n",
       "    <tr>\n",
       "      <th>Cell ID</th>\n",
       "      <th></th>\n",
       "      <th></th>\n",
       "    </tr>\n",
       "  </thead>\n",
       "  <tbody>\n",
       "    <tr>\n",
       "      <th>Cell 78</th>\n",
       "      <td>7.4</td>\n",
       "      <td>1.787143</td>\n",
       "    </tr>\n",
       "    <tr>\n",
       "      <th>Cell 11</th>\n",
       "      <td>7.8</td>\n",
       "      <td>2.073666</td>\n",
       "    </tr>\n",
       "    <tr>\n",
       "      <th>Cell 46</th>\n",
       "      <td>12.4</td>\n",
       "      <td>5.368683</td>\n",
       "    </tr>\n",
       "  </tbody>\n",
       "</table>\n",
       "</div>"
      ],
      "text/plain": [
       "         Diameter (micrometer)   Z-score\n",
       "Cell ID                                 \n",
       "Cell 78                    7.4  1.787143\n",
       "Cell 11                    7.8  2.073666\n",
       "Cell 46                   12.4  5.368683"
      ]
     },
     "execution_count": 6,
     "metadata": {},
     "output_type": "execute_result"
    }
   ],
   "source": [
    "#  Calculate the first and third quartiles (Q1 and Q3) using the quantile method\n",
    "q1 = df['Diameter (micrometer)'].quantile(q=0.25)\n",
    "q3 = df['Diameter (micrometer)'].quantile(q=0.75)\n",
    "\n",
    "# Calculate iqr (iqr = q3 - q1)\n",
    "iqr = q3 - q1\n",
    "\n",
    "#  Calculate the lower and upper bounds for outliers\n",
    "lower_bound = q1 - 1.5 * iqr\n",
    "upper_bound = q3 + 1.5 * iqr\n",
    "\n",
    "# Identify outliers in column 'Diameter (micrometer)'\n",
    "outliers = df[(df['Diameter (micrometer)'] < lower_bound) | (df['Diameter (micrometer)'] > upper_bound)]\n",
    "\n",
    "# Print the outliers\n",
    "print(\"Outliers in column 'Diameter (micrometer)':\")\n",
    "outliers.sort_values(by=\"Diameter (micrometer)\")"
   ]
  },
  {
   "cell_type": "markdown",
   "id": "fb00ca23",
   "metadata": {},
   "source": [
    "## Visualize outliers:\n"
   ]
  },
  {
   "cell_type": "code",
   "execution_count": 7,
   "id": "d19a9bf5",
   "metadata": {},
   "outputs": [
    {
     "data": {
      "image/png": "[encoded data removed]",
      "text/plain": [
       "<Figure size 700x500 with 2 Axes>"
      ]
     },
     "metadata": {},
     "output_type": "display_data"
    }
   ],
   "source": [
    "fig, [ax1,ax2] = plt.subplots( nrows=1, ncols=2, figsize=(7,5))\n",
    "\n",
    "# Create a boxplot using Matplotlib\n",
    "ax1.boxplot(df['Diameter (micrometer)'])\n",
    "# Add labels and title\n",
    "ax1.set_xlabel(\"Data\", fontsize=12)\n",
    "ax1.set_ylabel('Cell  diameter', fontsize=12)\n",
    "ax1.set_title('Boxplot using Matplotlib', fontsize=14)\n",
    "\n",
    "# Create a boxplot using Matplotlib\n",
    "sns.boxplot(y=df['Diameter (micrometer)'],ax =ax2)\n",
    "\n",
    "# Add labels and title\n",
    "ax2.set_xlabel(\"Data\", fontsize=12)\n",
    "ax2.set_ylabel('Cell  diameter', fontsize=12)\n",
    "ax2.set_title('Boxplot using Seaborn', fontsize=14)\n",
    "\n",
    "# The plt.tight_layout() function is called to fit the plots within the figure cleanly.\n",
    "# The pad parameter controls the padding between the subplots\n",
    "plt.tight_layout(pad=3.1)\n",
    "\n",
    "\n",
    "fig.suptitle(\"Visualizing outliers using boxplots\", fontsize=20, y=1.01) \n",
    "plt.savefig('Fig2.png', dpi=300)"
   ]
  },
  {
   "cell_type": "markdown",
   "id": "7c65000c",
   "metadata": {},
   "source": [
    "# Treating outliers:\n",
    "## Capping outliers:\n",
    " "
   ]
  },
  {
   "cell_type": "code",
   "execution_count": 8,
   "id": "b3f5cd35",
   "metadata": {},
   "outputs": [
    {
     "name": "stdout",
     "output_type": "stream",
     "text": [
      "Original dataset size: (79, 2)\n",
      "Capped dataset size: (79, 2)\n"
     ]
    },
    {
     "data": {
      "text/plain": [
       "Text(0.5, 1.0, 'Box plot  from capped Dataset')"
      ]
     },
     "execution_count": 8,
     "metadata": {},
     "output_type": "execute_result"
    },
    {
     "data": {
      "image/png": "[encoded data removed]",
      "text/plain": [
       "<Figure size 640x480 with 1 Axes>"
      ]
     },
     "metadata": {},
     "output_type": "display_data"
    }
   ],
   "source": [
    "# Replace outliers with upper or lower bound previously found\n",
    "df_capped =df.copy()\n",
    "df_capped['Diameter (micrometer)'] = np.where(df_capped['Diameter (micrometer)']>upper_bound, upper_bound,\n",
    "            np.where(df_capped['Diameter (micrometer)']<lower_bound, lower_bound,df_capped['Diameter (micrometer)'] ))\n",
    "# Create a boxplot using Matplotlib\n",
    "sns.boxplot(y=df_capped['Diameter (micrometer)'])\n",
    "plt.savefig('Fig6.png', dpi=300)\n",
    "print('Original dataset size:', df.shape)\n",
    "print('Capped dataset size:', df_capped.shape)\n",
    "plt.title(\"Box plot  from capped Dataset\")"
   ]
  },
  {
   "cell_type": "markdown",
   "id": "930b7237",
   "metadata": {},
   "source": [
    "## Trimming outliers: \n"
   ]
  },
  {
   "cell_type": "code",
   "execution_count": 9,
   "id": "c32e64eb",
   "metadata": {},
   "outputs": [
    {
     "name": "stdout",
     "output_type": "stream",
     "text": [
      "Original dataset size: (79, 1)\n",
      "Trimmed dataset size: (76, 1)\n"
     ]
    },
    {
     "data": {
      "text/plain": [
       "Text(0.5, 1.0, 'Box plot  from trimmed Dataset')"
      ]
     },
     "execution_count": 9,
     "metadata": {},
     "output_type": "execute_result"
    },
    {
     "data": {
      "image/png": "[encoded data removed]",
      "text/plain": [
       "<Figure size 640x480 with 1 Axes>"
      ]
     },
     "metadata": {},
     "output_type": "display_data"
    }
   ],
   "source": [
    "#Importing cell measureemnts dataframe\n",
    "df = pd.read_csv(\"cells.csv\",  index_col=\"Cell ID\")\n",
    "\n",
    "# Calculate the first and third quartiles (Q1 and Q3) using the quantile method\n",
    "q1 = df['Diameter (micrometer)'].quantile(q=0.25)\n",
    "q3 = df['Diameter (micrometer)'].quantile(q=0.75)\n",
    "\n",
    "# Calculate iqr (iqr = q3 - q1)\n",
    "iqr = q3 - q1\n",
    "\n",
    "# Calculate the lower and upper bounds for outliers\n",
    "lower_bound = q1 - 1.5 * iqr\n",
    "upper_bound = q3 + 1.5 * iqr\n",
    "\n",
    "# Trim outliers by removing rows where the value in the 'Diameter (micrometer)' column is less than the lower bound or greater than the upper bound\n",
    "df_trimmed = df[(df['Diameter (micrometer)'] >= lower_bound) & (df['Diameter (micrometer)'] <= upper_bound)]\n",
    "\n",
    "# Print the original and trimmed dataset sizes\n",
    "print('Original dataset size:', df.shape)\n",
    "print('Trimmed dataset size:', df_trimmed.shape)\n",
    "\n",
    "sns.boxplot(y=df_trimmed['Diameter (micrometer)'])\n",
    "plt.title(\"Box plot  from trimmed Dataset\")"
   ]
  },
  {
   "cell_type": "markdown",
   "id": "2b0b6cb4",
   "metadata": {},
   "source": [
    "# Role of outliers is different for different problem statements\n",
    "\n",
    "\n",
    "\n",
    "<img src=\"age.png\" width=\"500\"/>\n",
    "\n",
    "\n",
    "\n",
    "<img src=\"sal.png\" width=\"500\"/>\n"
   ]
  },
  {
   "cell_type": "code",
   "execution_count": null,
   "id": "e5d8de61",
   "metadata": {},
   "outputs": [],
   "source": []
  }
 ],
 "metadata": {
  "kernelspec": {
   "display_name": "Python 3 (ipykernel)",
   "language": "python",
   "name": "python3"
  },
  "language_info": {
   "codemirror_mode": {
    "name": "ipython",
    "version": 3
   },
   "file_extension": ".py",
   "mimetype": "text/x-python",
   "name": "python",
   "nbconvert_exporter": "python",
   "pygments_lexer": "ipython3",
   "version": "3.9.13"
  }
 },
 "nbformat": 4,
 "nbformat_minor": 5
}
