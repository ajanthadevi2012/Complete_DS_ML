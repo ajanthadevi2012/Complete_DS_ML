{
 "cells": [
  {
   "cell_type": "markdown",
   "id": "efb85b9d",
   "metadata": {},
   "source": [
    "#### 1. Import relevant libraries"
   ]
  },
  {
   "cell_type": "code",
   "execution_count": 1,
   "id": "7fc287c9",
   "metadata": {},
   "outputs": [],
   "source": [
    "import numpy as np\n",
    "import pandas as pd\n",
    "import warnings\n",
    "warnings.filterwarnings('ignore')"
   ]
  },
  {
   "cell_type": "markdown",
   "id": "0c8aaf77",
   "metadata": {},
   "source": [
    "#### 2. Load data into dataframe"
   ]
  },
  {
   "cell_type": "code",
   "execution_count": 2,
   "id": "0c021a57",
   "metadata": {},
   "outputs": [],
   "source": [
    "covid_data = pd.read_csv(\"covid-data.csv\")"
   ]
  },
  {
   "cell_type": "markdown",
   "id": "7dd784c7",
   "metadata": {},
   "source": [
    "#### 3. Inspect the dataframe"
   ]
  },
  {
   "cell_type": "code",
   "execution_count": 3,
   "id": "506a3bbc",
   "metadata": {},
   "outputs": [
    {
     "data": {
      "text/html": [
       "<div>\n",
       "<style scoped>\n",
       "    .dataframe tbody tr th:only-of-type {\n",
       "        vertical-align: middle;\n",
       "    }\n",
       "\n",
       "    .dataframe tbody tr th {\n",
       "        vertical-align: top;\n",
       "    }\n",
       "\n",
       "    .dataframe thead th {\n",
       "        text-align: right;\n",
       "    }\n",
       "</style>\n",
       "<table border=\"1\" class=\"dataframe\">\n",
       "  <thead>\n",
       "    <tr style=\"text-align: right;\">\n",
       "      <th></th>\n",
       "      <th>iso_code</th>\n",
       "      <th>continent</th>\n",
       "      <th>location</th>\n",
       "      <th>date</th>\n",
       "      <th>total_cases</th>\n",
       "      <th>new_cases</th>\n",
       "      <th>new_cases_smoothed</th>\n",
       "      <th>total_deaths</th>\n",
       "      <th>new_deaths</th>\n",
       "      <th>new_deaths_smoothed</th>\n",
       "      <th>...</th>\n",
       "      <th>female_smokers</th>\n",
       "      <th>male_smokers</th>\n",
       "      <th>handwashing_facilities</th>\n",
       "      <th>hospital_beds_per_thousand</th>\n",
       "      <th>life_expectancy</th>\n",
       "      <th>human_development_index</th>\n",
       "      <th>excess_mortality_cumulative_absolute</th>\n",
       "      <th>excess_mortality_cumulative</th>\n",
       "      <th>excess_mortality</th>\n",
       "      <th>excess_mortality_cumulative_per_million</th>\n",
       "    </tr>\n",
       "  </thead>\n",
       "  <tbody>\n",
       "    <tr>\n",
       "      <th>0</th>\n",
       "      <td>AFG</td>\n",
       "      <td>Asia</td>\n",
       "      <td>Afghanistan</td>\n",
       "      <td>24/02/2020</td>\n",
       "      <td>5</td>\n",
       "      <td>5</td>\n",
       "      <td>NaN</td>\n",
       "      <td>NaN</td>\n",
       "      <td>NaN</td>\n",
       "      <td>NaN</td>\n",
       "      <td>...</td>\n",
       "      <td>NaN</td>\n",
       "      <td>NaN</td>\n",
       "      <td>37.746</td>\n",
       "      <td>0.5</td>\n",
       "      <td>64.83</td>\n",
       "      <td>0.511</td>\n",
       "      <td>NaN</td>\n",
       "      <td>NaN</td>\n",
       "      <td>NaN</td>\n",
       "      <td>NaN</td>\n",
       "    </tr>\n",
       "    <tr>\n",
       "      <th>1</th>\n",
       "      <td>AFG</td>\n",
       "      <td>Asia</td>\n",
       "      <td>Afghanistan</td>\n",
       "      <td>25/02/2020</td>\n",
       "      <td>5</td>\n",
       "      <td>0</td>\n",
       "      <td>NaN</td>\n",
       "      <td>NaN</td>\n",
       "      <td>NaN</td>\n",
       "      <td>NaN</td>\n",
       "      <td>...</td>\n",
       "      <td>NaN</td>\n",
       "      <td>NaN</td>\n",
       "      <td>37.746</td>\n",
       "      <td>0.5</td>\n",
       "      <td>64.83</td>\n",
       "      <td>0.511</td>\n",
       "      <td>NaN</td>\n",
       "      <td>NaN</td>\n",
       "      <td>NaN</td>\n",
       "      <td>NaN</td>\n",
       "    </tr>\n",
       "    <tr>\n",
       "      <th>2</th>\n",
       "      <td>AFG</td>\n",
       "      <td>Asia</td>\n",
       "      <td>Afghanistan</td>\n",
       "      <td>26/02/2020</td>\n",
       "      <td>5</td>\n",
       "      <td>0</td>\n",
       "      <td>NaN</td>\n",
       "      <td>NaN</td>\n",
       "      <td>NaN</td>\n",
       "      <td>NaN</td>\n",
       "      <td>...</td>\n",
       "      <td>NaN</td>\n",
       "      <td>NaN</td>\n",
       "      <td>37.746</td>\n",
       "      <td>0.5</td>\n",
       "      <td>64.83</td>\n",
       "      <td>0.511</td>\n",
       "      <td>NaN</td>\n",
       "      <td>NaN</td>\n",
       "      <td>NaN</td>\n",
       "      <td>NaN</td>\n",
       "    </tr>\n",
       "    <tr>\n",
       "      <th>3</th>\n",
       "      <td>AFG</td>\n",
       "      <td>Asia</td>\n",
       "      <td>Afghanistan</td>\n",
       "      <td>27/02/2020</td>\n",
       "      <td>5</td>\n",
       "      <td>0</td>\n",
       "      <td>NaN</td>\n",
       "      <td>NaN</td>\n",
       "      <td>NaN</td>\n",
       "      <td>NaN</td>\n",
       "      <td>...</td>\n",
       "      <td>NaN</td>\n",
       "      <td>NaN</td>\n",
       "      <td>37.746</td>\n",
       "      <td>0.5</td>\n",
       "      <td>64.83</td>\n",
       "      <td>0.511</td>\n",
       "      <td>NaN</td>\n",
       "      <td>NaN</td>\n",
       "      <td>NaN</td>\n",
       "      <td>NaN</td>\n",
       "    </tr>\n",
       "    <tr>\n",
       "      <th>4</th>\n",
       "      <td>AFG</td>\n",
       "      <td>Asia</td>\n",
       "      <td>Afghanistan</td>\n",
       "      <td>28/02/2020</td>\n",
       "      <td>5</td>\n",
       "      <td>0</td>\n",
       "      <td>NaN</td>\n",
       "      <td>NaN</td>\n",
       "      <td>NaN</td>\n",
       "      <td>NaN</td>\n",
       "      <td>...</td>\n",
       "      <td>NaN</td>\n",
       "      <td>NaN</td>\n",
       "      <td>37.746</td>\n",
       "      <td>0.5</td>\n",
       "      <td>64.83</td>\n",
       "      <td>0.511</td>\n",
       "      <td>NaN</td>\n",
       "      <td>NaN</td>\n",
       "      <td>NaN</td>\n",
       "      <td>NaN</td>\n",
       "    </tr>\n",
       "  </tbody>\n",
       "</table>\n",
       "<p>5 rows × 67 columns</p>\n",
       "</div>"
      ],
      "text/plain": [
       "  iso_code continent     location        date  total_cases  new_cases  \\\n",
       "0      AFG      Asia  Afghanistan  24/02/2020            5          5   \n",
       "1      AFG      Asia  Afghanistan  25/02/2020            5          0   \n",
       "2      AFG      Asia  Afghanistan  26/02/2020            5          0   \n",
       "3      AFG      Asia  Afghanistan  27/02/2020            5          0   \n",
       "4      AFG      Asia  Afghanistan  28/02/2020            5          0   \n",
       "\n",
       "   new_cases_smoothed  total_deaths  new_deaths  new_deaths_smoothed  ...  \\\n",
       "0                 NaN           NaN         NaN                  NaN  ...   \n",
       "1                 NaN           NaN         NaN                  NaN  ...   \n",
       "2                 NaN           NaN         NaN                  NaN  ...   \n",
       "3                 NaN           NaN         NaN                  NaN  ...   \n",
       "4                 NaN           NaN         NaN                  NaN  ...   \n",
       "\n",
       "   female_smokers  male_smokers  handwashing_facilities  \\\n",
       "0             NaN           NaN                  37.746   \n",
       "1             NaN           NaN                  37.746   \n",
       "2             NaN           NaN                  37.746   \n",
       "3             NaN           NaN                  37.746   \n",
       "4             NaN           NaN                  37.746   \n",
       "\n",
       "   hospital_beds_per_thousand  life_expectancy  human_development_index  \\\n",
       "0                         0.5            64.83                    0.511   \n",
       "1                         0.5            64.83                    0.511   \n",
       "2                         0.5            64.83                    0.511   \n",
       "3                         0.5            64.83                    0.511   \n",
       "4                         0.5            64.83                    0.511   \n",
       "\n",
       "   excess_mortality_cumulative_absolute  excess_mortality_cumulative  \\\n",
       "0                                   NaN                          NaN   \n",
       "1                                   NaN                          NaN   \n",
       "2                                   NaN                          NaN   \n",
       "3                                   NaN                          NaN   \n",
       "4                                   NaN                          NaN   \n",
       "\n",
       "   excess_mortality  excess_mortality_cumulative_per_million  \n",
       "0               NaN                                      NaN  \n",
       "1               NaN                                      NaN  \n",
       "2               NaN                                      NaN  \n",
       "3               NaN                                      NaN  \n",
       "4               NaN                                      NaN  \n",
       "\n",
       "[5 rows x 67 columns]"
      ]
     },
     "execution_count": 3,
     "metadata": {},
     "output_type": "execute_result"
    }
   ],
   "source": [
    "covid_data.head(5)"
   ]
  },
  {
   "cell_type": "code",
   "execution_count": 4,
   "id": "cf17741c",
   "metadata": {},
   "outputs": [],
   "source": [
    "covid_data = covid_data[['iso_code','continent','location','date','total_cases','new_cases']]"
   ]
  },
  {
   "cell_type": "code",
   "execution_count": 5,
   "id": "5fd87be0",
   "metadata": {
    "scrolled": true
   },
   "outputs": [
    {
     "data": {
      "text/html": [
       "<div>\n",
       "<style scoped>\n",
       "    .dataframe tbody tr th:only-of-type {\n",
       "        vertical-align: middle;\n",
       "    }\n",
       "\n",
       "    .dataframe tbody tr th {\n",
       "        vertical-align: top;\n",
       "    }\n",
       "\n",
       "    .dataframe thead th {\n",
       "        text-align: right;\n",
       "    }\n",
       "</style>\n",
       "<table border=\"1\" class=\"dataframe\">\n",
       "  <thead>\n",
       "    <tr style=\"text-align: right;\">\n",
       "      <th></th>\n",
       "      <th>iso_code</th>\n",
       "      <th>continent</th>\n",
       "      <th>location</th>\n",
       "      <th>date</th>\n",
       "      <th>total_cases</th>\n",
       "      <th>new_cases</th>\n",
       "    </tr>\n",
       "  </thead>\n",
       "  <tbody>\n",
       "    <tr>\n",
       "      <th>0</th>\n",
       "      <td>AFG</td>\n",
       "      <td>Asia</td>\n",
       "      <td>Afghanistan</td>\n",
       "      <td>24/02/2020</td>\n",
       "      <td>5</td>\n",
       "      <td>5</td>\n",
       "    </tr>\n",
       "    <tr>\n",
       "      <th>1</th>\n",
       "      <td>AFG</td>\n",
       "      <td>Asia</td>\n",
       "      <td>Afghanistan</td>\n",
       "      <td>25/02/2020</td>\n",
       "      <td>5</td>\n",
       "      <td>0</td>\n",
       "    </tr>\n",
       "    <tr>\n",
       "      <th>2</th>\n",
       "      <td>AFG</td>\n",
       "      <td>Asia</td>\n",
       "      <td>Afghanistan</td>\n",
       "      <td>26/02/2020</td>\n",
       "      <td>5</td>\n",
       "      <td>0</td>\n",
       "    </tr>\n",
       "    <tr>\n",
       "      <th>3</th>\n",
       "      <td>AFG</td>\n",
       "      <td>Asia</td>\n",
       "      <td>Afghanistan</td>\n",
       "      <td>27/02/2020</td>\n",
       "      <td>5</td>\n",
       "      <td>0</td>\n",
       "    </tr>\n",
       "    <tr>\n",
       "      <th>4</th>\n",
       "      <td>AFG</td>\n",
       "      <td>Asia</td>\n",
       "      <td>Afghanistan</td>\n",
       "      <td>28/02/2020</td>\n",
       "      <td>5</td>\n",
       "      <td>0</td>\n",
       "    </tr>\n",
       "  </tbody>\n",
       "</table>\n",
       "</div>"
      ],
      "text/plain": [
       "  iso_code continent     location        date  total_cases  new_cases\n",
       "0      AFG      Asia  Afghanistan  24/02/2020            5          5\n",
       "1      AFG      Asia  Afghanistan  25/02/2020            5          0\n",
       "2      AFG      Asia  Afghanistan  26/02/2020            5          0\n",
       "3      AFG      Asia  Afghanistan  27/02/2020            5          0\n",
       "4      AFG      Asia  Afghanistan  28/02/2020            5          0"
      ]
     },
     "execution_count": 5,
     "metadata": {},
     "output_type": "execute_result"
    }
   ],
   "source": [
    "covid_data.head(5)"
   ]
  },
  {
   "cell_type": "code",
   "execution_count": 6,
   "id": "6c44034f",
   "metadata": {
    "scrolled": true
   },
   "outputs": [
    {
     "data": {
      "text/plain": [
       "iso_code       object\n",
       "continent      object\n",
       "location       object\n",
       "date           object\n",
       "total_cases     int64\n",
       "new_cases       int64\n",
       "dtype: object"
      ]
     },
     "execution_count": 6,
     "metadata": {},
     "output_type": "execute_result"
    }
   ],
   "source": [
    "covid_data.dtypes"
   ]
  },
  {
   "cell_type": "code",
   "execution_count": 7,
   "id": "4a76d6d6",
   "metadata": {},
   "outputs": [
    {
     "data": {
      "text/plain": [
       "(5818, 6)"
      ]
     },
     "execution_count": 7,
     "metadata": {},
     "output_type": "execute_result"
    }
   ],
   "source": [
    "covid_data.shape"
   ]
  },
  {
   "cell_type": "markdown",
   "id": "366eff92",
   "metadata": {},
   "source": [
    "<img src=\"mean and mode.jpg\" width=\"500\"/>"
   ]
  },
  {
   "cell_type": "markdown",
   "id": "1f244507",
   "metadata": {},
   "source": [
    "# i. Mean\n",
    "<img src=\"mean.gif\" width=\"500\"/>"
   ]
  },
  {
   "cell_type": "markdown",
   "id": "73d7e284",
   "metadata": {},
   "source": [
    "#### Analyse the mean of the new_cases column using the mean method in numpy"
   ]
  },
  {
   "cell_type": "code",
   "execution_count": 8,
   "id": "151ff8cd",
   "metadata": {},
   "outputs": [
    {
     "data": {
      "text/plain": [
       "8814.365761430045"
      ]
     },
     "execution_count": 8,
     "metadata": {},
     "output_type": "execute_result"
    }
   ],
   "source": [
    "data_mean = np.mean(covid_data[\"new_cases\"])\n",
    "data_mean"
   ]
  },
  {
   "cell_type": "markdown",
   "id": "e9acebbe",
   "metadata": {},
   "source": [
    "#### Analyse the mean of the new_cases column using the mean method in pandas"
   ]
  },
  {
   "cell_type": "code",
   "execution_count": 9,
   "id": "39fa1cdf",
   "metadata": {},
   "outputs": [
    {
     "data": {
      "text/plain": [
       "8814.365761430045"
      ]
     },
     "execution_count": 9,
     "metadata": {},
     "output_type": "execute_result"
    }
   ],
   "source": [
    "data_mean = covid_data[\"new_cases\"].mean()\n",
    "data_mean"
   ]
  },
  {
   "cell_type": "markdown",
   "id": "13a2029d",
   "metadata": {},
   "source": [
    "## ii. Median\n"
   ]
  },
  {
   "cell_type": "markdown",
   "id": "20c06e70",
   "metadata": {},
   "source": [
    "#### Check the median of the new_cases column using the median method in numpy"
   ]
  },
  {
   "cell_type": "code",
   "execution_count": 10,
   "id": "023453a1",
   "metadata": {},
   "outputs": [
    {
     "data": {
      "text/plain": [
       "261.0"
      ]
     },
     "execution_count": 10,
     "metadata": {},
     "output_type": "execute_result"
    }
   ],
   "source": [
    "data_median = np.median(covid_data[\"new_cases\"])\n",
    "data_median"
   ]
  },
  {
   "cell_type": "markdown",
   "id": "22a9ac2d",
   "metadata": {},
   "source": [
    "#### Check the median of the new_cases column using the median method in pandas"
   ]
  },
  {
   "cell_type": "code",
   "execution_count": 11,
   "id": "2e4c300c",
   "metadata": {},
   "outputs": [
    {
     "data": {
      "text/plain": [
       "261.0"
      ]
     },
     "execution_count": 11,
     "metadata": {},
     "output_type": "execute_result"
    }
   ],
   "source": [
    "data_median = covid_data[\"new_cases\"].median()\n",
    "data_median"
   ]
  },
  {
   "cell_type": "markdown",
   "id": "94a95d25",
   "metadata": {},
   "source": [
    "## iii. Mode"
   ]
  },
  {
   "cell_type": "markdown",
   "id": "ac5f16f9",
   "metadata": {},
   "source": [
    "#### Identify the mode of the new_cases column using the mode method"
   ]
  },
  {
   "cell_type": "code",
   "execution_count": 12,
   "id": "4cfc16fc",
   "metadata": {},
   "outputs": [
    {
     "data": {
      "text/plain": [
       "ModeResult(mode=array([0], dtype=int64), count=array([805]))"
      ]
     },
     "execution_count": 12,
     "metadata": {},
     "output_type": "execute_result"
    }
   ],
   "source": [
    "from scipy import stats\n",
    "data_mode = stats.mode(covid_data[\"new_cases\"])\n",
    "data_mode"
   ]
  },
  {
   "cell_type": "code",
   "execution_count": 13,
   "id": "bd44c554",
   "metadata": {},
   "outputs": [
    {
     "data": {
      "text/plain": [
       "array([0], dtype=int64)"
      ]
     },
     "execution_count": 13,
     "metadata": {},
     "output_type": "execute_result"
    }
   ],
   "source": [
    "data_mode[0]"
   ]
  },
  {
   "cell_type": "code",
   "execution_count": 14,
   "id": "0faa6eb9",
   "metadata": {},
   "outputs": [
    {
     "data": {
      "text/plain": [
       "0"
      ]
     },
     "execution_count": 14,
     "metadata": {},
     "output_type": "execute_result"
    }
   ],
   "source": [
    "data_mode[0][0]"
   ]
  },
  {
   "cell_type": "markdown",
   "id": "45786b00",
   "metadata": {},
   "source": [
    "#### Identify the mode of the continent column using the mode method"
   ]
  },
  {
   "cell_type": "code",
   "execution_count": 15,
   "id": "11d38bd0",
   "metadata": {},
   "outputs": [
    {
     "data": {
      "text/plain": [
       "ModeResult(mode=array(['Europe'], dtype=object), count=array([1963]))"
      ]
     },
     "execution_count": 15,
     "metadata": {},
     "output_type": "execute_result"
    }
   ],
   "source": [
    "data_mode = stats.mode(covid_data[\"continent\"])\n",
    "data_mode"
   ]
  },
  {
   "cell_type": "markdown",
   "id": "17e02283",
   "metadata": {},
   "source": [
    "## iv. Variance\n"
   ]
  },
  {
   "cell_type": "markdown",
   "id": "99f08fe8",
   "metadata": {},
   "source": [
    "#### Check the variance of the new_cases column using the var method in numpy"
   ]
  },
  {
   "cell_type": "code",
   "execution_count": 16,
   "id": "25c179db",
   "metadata": {},
   "outputs": [
    {
     "data": {
      "text/plain": [
       "451321915.92810047"
      ]
     },
     "execution_count": 16,
     "metadata": {},
     "output_type": "execute_result"
    }
   ],
   "source": [
    "data_variance = np.var(covid_data[\"new_cases\"])\n",
    "data_variance"
   ]
  },
  {
   "cell_type": "markdown",
   "id": "5859b295",
   "metadata": {},
   "source": [
    "#### Check the variance of the new_cases column using the var method in pandas"
   ]
  },
  {
   "cell_type": "code",
   "execution_count": 17,
   "id": "71f83be2",
   "metadata": {},
   "outputs": [
    {
     "data": {
      "text/plain": [
       "451399502.6422019"
      ]
     },
     "execution_count": 17,
     "metadata": {},
     "output_type": "execute_result"
    }
   ],
   "source": [
    "covid_data[\"new_cases\"].var()"
   ]
  },
  {
   "cell_type": "markdown",
   "id": "ce0e9924",
   "metadata": {},
   "source": [
    "## v. Standard Deviation\n",
    "<img src=\"sd.jpeg\" width=\"500\"/>"
   ]
  },
  {
   "cell_type": "markdown",
   "id": "4ee3ec67",
   "metadata": {},
   "source": [
    "#### Identify the standard deviation of a dataset using the std method in numpy"
   ]
  },
  {
   "cell_type": "code",
   "execution_count": 18,
   "id": "b4e3e99e",
   "metadata": {},
   "outputs": [
    {
     "data": {
      "text/plain": [
       "21244.33844411495"
      ]
     },
     "execution_count": 18,
     "metadata": {},
     "output_type": "execute_result"
    }
   ],
   "source": [
    "data_sd = np.std(covid_data[\"new_cases\"])\n",
    "data_sd"
   ]
  },
  {
   "cell_type": "markdown",
   "id": "15f35cc2",
   "metadata": {},
   "source": [
    "#### Identify the standard deviation of a dataset using the std method in pandas"
   ]
  },
  {
   "cell_type": "code",
   "execution_count": 19,
   "id": "b30b23d3",
   "metadata": {},
   "outputs": [
    {
     "data": {
      "text/plain": [
       "21246.16442189512"
      ]
     },
     "execution_count": 19,
     "metadata": {},
     "output_type": "execute_result"
    }
   ],
   "source": [
    "covid_data[\"new_cases\"].std()"
   ]
  },
  {
   "cell_type": "markdown",
   "id": "3be7be5e",
   "metadata": {},
   "source": [
    "## vi. Range"
   ]
  },
  {
   "cell_type": "markdown",
   "id": "13cfad5f",
   "metadata": {},
   "source": [
    "#### Generate the range of a dataset using numpy"
   ]
  },
  {
   "cell_type": "code",
   "execution_count": 20,
   "id": "87ab61e0",
   "metadata": {},
   "outputs": [],
   "source": [
    "data_max = np.max(covid_data[\"new_cases\"])\n",
    "data_min = np.min(covid_data[\"new_cases\"])"
   ]
  },
  {
   "cell_type": "code",
   "execution_count": 21,
   "id": "dfd3e950",
   "metadata": {},
   "outputs": [
    {
     "name": "stdout",
     "output_type": "stream",
     "text": [
      "287149 0\n"
     ]
    }
   ],
   "source": [
    "print(data_max,data_min)"
   ]
  },
  {
   "cell_type": "code",
   "execution_count": 22,
   "id": "66bcc867",
   "metadata": {},
   "outputs": [
    {
     "data": {
      "text/plain": [
       "287149"
      ]
     },
     "execution_count": 22,
     "metadata": {},
     "output_type": "execute_result"
    }
   ],
   "source": [
    "data_range = data_max - data_min\n",
    "data_range"
   ]
  },
  {
   "cell_type": "markdown",
   "id": "1b3a9884",
   "metadata": {},
   "source": [
    "#### Generate the range of a dataset using pandas"
   ]
  },
  {
   "cell_type": "code",
   "execution_count": 23,
   "id": "1124cf97",
   "metadata": {},
   "outputs": [],
   "source": [
    "data_max = covid_data[\"new_cases\"].max()\n",
    "data_min = covid_data[\"new_cases\"].min()"
   ]
  },
  {
   "cell_type": "code",
   "execution_count": 24,
   "id": "5b8ba260",
   "metadata": {},
   "outputs": [
    {
     "data": {
      "text/plain": [
       "287149"
      ]
     },
     "execution_count": 24,
     "metadata": {},
     "output_type": "execute_result"
    }
   ],
   "source": [
    "data_range = data_max - data_min\n",
    "data_range"
   ]
  },
  {
   "cell_type": "markdown",
   "id": "d49aa13a",
   "metadata": {},
   "source": [
    "## vii. Percentile"
   ]
  },
  {
   "cell_type": "markdown",
   "id": "47c86e53",
   "metadata": {},
   "source": [
    "#### Identify the percentile of a dataset using numpy"
   ]
  },
  {
   "cell_type": "code",
   "execution_count": 25,
   "id": "c8aeb280",
   "metadata": {},
   "outputs": [
    {
     "data": {
      "text/plain": [
       "591.3999999999996"
      ]
     },
     "execution_count": 25,
     "metadata": {},
     "output_type": "execute_result"
    }
   ],
   "source": [
    "data_percentile = np.percentile(covid_data[\"new_cases\"],60)\n",
    "data_percentile"
   ]
  },
  {
   "cell_type": "markdown",
   "id": "f0eeadd6",
   "metadata": {},
   "source": [
    "## viii. Quartile"
   ]
  },
  {
   "cell_type": "markdown",
   "id": "b4fc990f",
   "metadata": {},
   "source": [
    "#### Check the quartile of a dataset using numpy"
   ]
  },
  {
   "cell_type": "code",
   "execution_count": 26,
   "id": "f4e15be3",
   "metadata": {},
   "outputs": [
    {
     "data": {
      "text/plain": [
       "3666.0"
      ]
     },
     "execution_count": 26,
     "metadata": {},
     "output_type": "execute_result"
    }
   ],
   "source": [
    "data_quartile = np.quantile(covid_data[\"new_cases\"],0.75)\n",
    "data_quartile"
   ]
  },
  {
   "cell_type": "markdown",
   "id": "44a8f8b3",
   "metadata": {},
   "source": [
    "## ix. Interquartile range (IQR) \n",
    "<img src=\"IQR.jpeg\" width=\"500\"/>"
   ]
  },
  {
   "cell_type": "markdown",
   "id": "53cfe753",
   "metadata": {},
   "source": [
    "#### Analyse the interquartile range (IQR) of a dataset using the stats library"
   ]
  },
  {
   "cell_type": "code",
   "execution_count": 27,
   "id": "79473464",
   "metadata": {},
   "outputs": [
    {
     "data": {
      "text/plain": [
       "3641.0"
      ]
     },
     "execution_count": 27,
     "metadata": {},
     "output_type": "execute_result"
    }
   ],
   "source": [
    "data_IQR = stats.iqr(covid_data[\"new_cases\"], interpolation = 'midpoint')\n",
    "data_IQR"
   ]
  },
  {
   "cell_type": "code",
   "execution_count": 28,
   "id": "d8992fd3",
   "metadata": {},
   "outputs": [
    {
     "data": {
      "text/plain": [
       "3642.0"
      ]
     },
     "execution_count": 28,
     "metadata": {},
     "output_type": "execute_result"
    }
   ],
   "source": [
    "data_IQR = stats.iqr(covid_data[\"new_cases\"])\n",
    "data_IQR"
   ]
  },
  {
   "cell_type": "markdown",
   "id": "06706588",
   "metadata": {},
   "source": [
    "## x. Summary "
   ]
  },
  {
   "cell_type": "code",
   "execution_count": 29,
   "id": "7d167638",
   "metadata": {},
   "outputs": [
    {
     "data": {
      "text/plain": [
       "(5818, 6)"
      ]
     },
     "execution_count": 29,
     "metadata": {},
     "output_type": "execute_result"
    }
   ],
   "source": [
    "covid_data.shape"
   ]
  },
  {
   "cell_type": "code",
   "execution_count": 30,
   "id": "2a9bf1f9",
   "metadata": {},
   "outputs": [
    {
     "data": {
      "text/html": [
       "<div>\n",
       "<style scoped>\n",
       "    .dataframe tbody tr th:only-of-type {\n",
       "        vertical-align: middle;\n",
       "    }\n",
       "\n",
       "    .dataframe tbody tr th {\n",
       "        vertical-align: top;\n",
       "    }\n",
       "\n",
       "    .dataframe thead th {\n",
       "        text-align: right;\n",
       "    }\n",
       "</style>\n",
       "<table border=\"1\" class=\"dataframe\">\n",
       "  <thead>\n",
       "    <tr style=\"text-align: right;\">\n",
       "      <th></th>\n",
       "      <th>iso_code</th>\n",
       "      <th>continent</th>\n",
       "      <th>location</th>\n",
       "      <th>date</th>\n",
       "      <th>total_cases</th>\n",
       "      <th>new_cases</th>\n",
       "    </tr>\n",
       "  </thead>\n",
       "  <tbody>\n",
       "    <tr>\n",
       "      <th>0</th>\n",
       "      <td>AFG</td>\n",
       "      <td>Asia</td>\n",
       "      <td>Afghanistan</td>\n",
       "      <td>24/02/2020</td>\n",
       "      <td>5</td>\n",
       "      <td>5</td>\n",
       "    </tr>\n",
       "    <tr>\n",
       "      <th>1</th>\n",
       "      <td>AFG</td>\n",
       "      <td>Asia</td>\n",
       "      <td>Afghanistan</td>\n",
       "      <td>25/02/2020</td>\n",
       "      <td>5</td>\n",
       "      <td>0</td>\n",
       "    </tr>\n",
       "    <tr>\n",
       "      <th>2</th>\n",
       "      <td>AFG</td>\n",
       "      <td>Asia</td>\n",
       "      <td>Afghanistan</td>\n",
       "      <td>26/02/2020</td>\n",
       "      <td>5</td>\n",
       "      <td>0</td>\n",
       "    </tr>\n",
       "    <tr>\n",
       "      <th>3</th>\n",
       "      <td>AFG</td>\n",
       "      <td>Asia</td>\n",
       "      <td>Afghanistan</td>\n",
       "      <td>27/02/2020</td>\n",
       "      <td>5</td>\n",
       "      <td>0</td>\n",
       "    </tr>\n",
       "    <tr>\n",
       "      <th>4</th>\n",
       "      <td>AFG</td>\n",
       "      <td>Asia</td>\n",
       "      <td>Afghanistan</td>\n",
       "      <td>28/02/2020</td>\n",
       "      <td>5</td>\n",
       "      <td>0</td>\n",
       "    </tr>\n",
       "  </tbody>\n",
       "</table>\n",
       "</div>"
      ],
      "text/plain": [
       "  iso_code continent     location        date  total_cases  new_cases\n",
       "0      AFG      Asia  Afghanistan  24/02/2020            5          5\n",
       "1      AFG      Asia  Afghanistan  25/02/2020            5          0\n",
       "2      AFG      Asia  Afghanistan  26/02/2020            5          0\n",
       "3      AFG      Asia  Afghanistan  27/02/2020            5          0\n",
       "4      AFG      Asia  Afghanistan  28/02/2020            5          0"
      ]
     },
     "execution_count": 30,
     "metadata": {},
     "output_type": "execute_result"
    }
   ],
   "source": [
    "covid_data.head()"
   ]
  },
  {
   "cell_type": "code",
   "execution_count": 31,
   "id": "fca5ed43",
   "metadata": {},
   "outputs": [
    {
     "data": {
      "text/html": [
       "<div>\n",
       "<style scoped>\n",
       "    .dataframe tbody tr th:only-of-type {\n",
       "        vertical-align: middle;\n",
       "    }\n",
       "\n",
       "    .dataframe tbody tr th {\n",
       "        vertical-align: top;\n",
       "    }\n",
       "\n",
       "    .dataframe thead th {\n",
       "        text-align: right;\n",
       "    }\n",
       "</style>\n",
       "<table border=\"1\" class=\"dataframe\">\n",
       "  <thead>\n",
       "    <tr style=\"text-align: right;\">\n",
       "      <th></th>\n",
       "      <th>total_cases</th>\n",
       "      <th>new_cases</th>\n",
       "    </tr>\n",
       "  </thead>\n",
       "  <tbody>\n",
       "    <tr>\n",
       "      <th>count</th>\n",
       "      <td>5.818000e+03</td>\n",
       "      <td>5818.000000</td>\n",
       "    </tr>\n",
       "    <tr>\n",
       "      <th>mean</th>\n",
       "      <td>3.392399e+06</td>\n",
       "      <td>8814.365761</td>\n",
       "    </tr>\n",
       "    <tr>\n",
       "      <th>std</th>\n",
       "      <td>7.640506e+06</td>\n",
       "      <td>21246.164422</td>\n",
       "    </tr>\n",
       "    <tr>\n",
       "      <th>min</th>\n",
       "      <td>1.000000e+00</td>\n",
       "      <td>0.000000</td>\n",
       "    </tr>\n",
       "    <tr>\n",
       "      <th>25%</th>\n",
       "      <td>4.097500e+04</td>\n",
       "      <td>24.000000</td>\n",
       "    </tr>\n",
       "    <tr>\n",
       "      <th>50%</th>\n",
       "      <td>1.763050e+05</td>\n",
       "      <td>261.000000</td>\n",
       "    </tr>\n",
       "    <tr>\n",
       "      <th>75%</th>\n",
       "      <td>1.317076e+06</td>\n",
       "      <td>3666.000000</td>\n",
       "    </tr>\n",
       "    <tr>\n",
       "      <th>max</th>\n",
       "      <td>3.472419e+07</td>\n",
       "      <td>287149.000000</td>\n",
       "    </tr>\n",
       "  </tbody>\n",
       "</table>\n",
       "</div>"
      ],
      "text/plain": [
       "        total_cases      new_cases\n",
       "count  5.818000e+03    5818.000000\n",
       "mean   3.392399e+06    8814.365761\n",
       "std    7.640506e+06   21246.164422\n",
       "min    1.000000e+00       0.000000\n",
       "25%    4.097500e+04      24.000000\n",
       "50%    1.763050e+05     261.000000\n",
       "75%    1.317076e+06    3666.000000\n",
       "max    3.472419e+07  287149.000000"
      ]
     },
     "execution_count": 31,
     "metadata": {},
     "output_type": "execute_result"
    }
   ],
   "source": [
    "covid_data.describe()"
   ]
  },
  {
   "cell_type": "code",
   "execution_count": null,
   "id": "774bed7a",
   "metadata": {},
   "outputs": [],
   "source": []
  }
 ],
 "metadata": {
  "kernelspec": {
   "display_name": "Python 3 (ipykernel)",
   "language": "python",
   "name": "python3"
  },
  "language_info": {
   "codemirror_mode": {
    "name": "ipython",
    "version": 3
   },
   "file_extension": ".py",
   "mimetype": "text/x-python",
   "name": "python",
   "nbconvert_exporter": "python",
   "pygments_lexer": "ipython3",
   "version": "3.9.13"
  }
 },
 "nbformat": 4,
 "nbformat_minor": 5
}
