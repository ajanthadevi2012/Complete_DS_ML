{
 "cells": [
  {
   "cell_type": "code",
   "execution_count": 1,
   "id": "d63b9c31",
   "metadata": {},
   "outputs": [],
   "source": [
    "import numpy as np \n",
    "import pandas as pd"
   ]
  },
  {
   "cell_type": "markdown",
   "id": "91a4c2ac",
   "metadata": {},
   "source": [
    "# Generated Missing Data - Part 1"
   ]
  },
  {
   "cell_type": "code",
   "execution_count": null,
   "id": "c448f1cc",
   "metadata": {},
   "outputs": [],
   "source": [
    "from numpy import NaN, NAN, nan"
   ]
  },
  {
   "cell_type": "code",
   "execution_count": null,
   "id": "1d4b4bf2",
   "metadata": {},
   "outputs": [],
   "source": [
    "df = pd.read_csv('Data/countries.csv')\n",
    "df"
   ]
  },
  {
   "cell_type": "code",
   "execution_count": null,
   "id": "576c2185",
   "metadata": {},
   "outputs": [],
   "source": [
    "df = pd.read_csv('Data/countries.csv', na_values=['Not Known'])\n",
    "df"
   ]
  },
  {
   "cell_type": "code",
   "execution_count": null,
   "id": "ee1bb4ab",
   "metadata": {},
   "outputs": [],
   "source": [
    "df = pd.read_csv('Data/countries.csv', na_filter=False)\n",
    "df"
   ]
  },
  {
   "cell_type": "code",
   "execution_count": null,
   "id": "2b1a4271",
   "metadata": {},
   "outputs": [],
   "source": [
    "df = pd.read_csv('Data/countries.csv', na_values=['Not Known'], keep_default_na=False)\n",
    "df"
   ]
  },
  {
   "cell_type": "code",
   "execution_count": null,
   "id": "29563e55",
   "metadata": {},
   "outputs": [],
   "source": [
    "df = pd.read_csv('Data/books.csv')\n",
    "df"
   ]
  },
  {
   "cell_type": "code",
   "execution_count": null,
   "id": "44de9527",
   "metadata": {},
   "outputs": [],
   "source": [
    "df2 = df.reindex(['ID','Author','Title','Price'],axis=1)\n",
    "df2"
   ]
  },
  {
   "cell_type": "code",
   "execution_count": null,
   "id": "245b22de",
   "metadata": {},
   "outputs": [],
   "source": [
    "df2['Price'] = [10.00, 20.00, 15.00]\n",
    "df2"
   ]
  },
  {
   "cell_type": "code",
   "execution_count": null,
   "id": "f06740a0",
   "metadata": {},
   "outputs": [],
   "source": [
    "df.shift(1)"
   ]
  },
  {
   "cell_type": "code",
   "execution_count": null,
   "id": "d604ed4e",
   "metadata": {},
   "outputs": [],
   "source": [
    "df1 = pd.read_csv('Data/books_store.csv')\n",
    "df1"
   ]
  },
  {
   "cell_type": "code",
   "execution_count": null,
   "id": "d0013d22",
   "metadata": {},
   "outputs": [],
   "source": [
    "df.reindex(['ID','Author','Title','Price'],axis=1, fill_value= 0.00)"
   ]
  },
  {
   "cell_type": "code",
   "execution_count": null,
   "id": "8bc06e3c",
   "metadata": {},
   "outputs": [],
   "source": [
    "df.shift(1, fill_value='Empty')"
   ]
  },
  {
   "cell_type": "code",
   "execution_count": null,
   "id": "826d6a6c",
   "metadata": {},
   "outputs": [],
   "source": [
    "df1 = pd.read_csv('Data/books_store.csv')\n",
    "df1"
   ]
  },
  {
   "cell_type": "code",
   "execution_count": null,
   "id": "6d690b85",
   "metadata": {},
   "outputs": [],
   "source": [
    "pd.merge(df,df1, on = ['ID','Title'], how='right')"
   ]
  },
  {
   "cell_type": "code",
   "execution_count": null,
   "id": "3bc0ddce",
   "metadata": {},
   "outputs": [],
   "source": []
  },
  {
   "cell_type": "code",
   "execution_count": null,
   "id": "2f76a08a",
   "metadata": {},
   "outputs": [],
   "source": []
  },
  {
   "cell_type": "markdown",
   "id": "543c6d92",
   "metadata": {},
   "source": [
    "# Working with Missing Values - Part 2"
   ]
  },
  {
   "cell_type": "code",
   "execution_count": 2,
   "id": "0f1b4db8",
   "metadata": {},
   "outputs": [
    {
     "data": {
      "text/html": [
       "<div>\n",
       "<style scoped>\n",
       "    .dataframe tbody tr th:only-of-type {\n",
       "        vertical-align: middle;\n",
       "    }\n",
       "\n",
       "    .dataframe tbody tr th {\n",
       "        vertical-align: top;\n",
       "    }\n",
       "\n",
       "    .dataframe thead th {\n",
       "        text-align: right;\n",
       "    }\n",
       "</style>\n",
       "<table border=\"1\" class=\"dataframe\">\n",
       "  <thead>\n",
       "    <tr style=\"text-align: right;\">\n",
       "      <th></th>\n",
       "      <th>Country</th>\n",
       "      <th>Population</th>\n",
       "      <th>Capital</th>\n",
       "      <th>Area</th>\n",
       "    </tr>\n",
       "  </thead>\n",
       "  <tbody>\n",
       "    <tr>\n",
       "      <th>0</th>\n",
       "      <td>USA</td>\n",
       "      <td>329.50</td>\n",
       "      <td>Washington</td>\n",
       "      <td>3796.0</td>\n",
       "    </tr>\n",
       "    <tr>\n",
       "      <th>1</th>\n",
       "      <td>Russia</td>\n",
       "      <td>144.10</td>\n",
       "      <td>Moscow</td>\n",
       "      <td>NaN</td>\n",
       "    </tr>\n",
       "    <tr>\n",
       "      <th>2</th>\n",
       "      <td>Sweden</td>\n",
       "      <td>NaN</td>\n",
       "      <td>Stockholm</td>\n",
       "      <td>450.0</td>\n",
       "    </tr>\n",
       "    <tr>\n",
       "      <th>3</th>\n",
       "      <td>UK</td>\n",
       "      <td>67.22</td>\n",
       "      <td>Not Known</td>\n",
       "      <td>242.0</td>\n",
       "    </tr>\n",
       "    <tr>\n",
       "      <th>4</th>\n",
       "      <td>Japan</td>\n",
       "      <td>125.80</td>\n",
       "      <td>Tokyo</td>\n",
       "      <td>NaN</td>\n",
       "    </tr>\n",
       "    <tr>\n",
       "      <th>5</th>\n",
       "      <td>Egypt</td>\n",
       "      <td>102.30</td>\n",
       "      <td>Not Known</td>\n",
       "      <td>1010.0</td>\n",
       "    </tr>\n",
       "  </tbody>\n",
       "</table>\n",
       "</div>"
      ],
      "text/plain": [
       "  Country  Population     Capital    Area\n",
       "0     USA      329.50  Washington  3796.0\n",
       "1  Russia      144.10      Moscow     NaN\n",
       "2  Sweden         NaN   Stockholm   450.0\n",
       "3      UK       67.22   Not Known   242.0\n",
       "4   Japan      125.80       Tokyo     NaN\n",
       "5   Egypt      102.30   Not Known  1010.0"
      ]
     },
     "execution_count": 2,
     "metadata": {},
     "output_type": "execute_result"
    }
   ],
   "source": [
    "df = pd.read_csv('Data/countries.csv')\n",
    "df"
   ]
  },
  {
   "cell_type": "code",
   "execution_count": 3,
   "id": "a37ddff0",
   "metadata": {},
   "outputs": [
    {
     "data": {
      "text/plain": [
       "3"
      ]
     },
     "execution_count": 3,
     "metadata": {},
     "output_type": "execute_result"
    }
   ],
   "source": [
    "np.count_nonzero(df.isnull())"
   ]
  },
  {
   "cell_type": "code",
   "execution_count": 4,
   "id": "530ecece",
   "metadata": {},
   "outputs": [
    {
     "data": {
      "text/plain": [
       "2"
      ]
     },
     "execution_count": 4,
     "metadata": {},
     "output_type": "execute_result"
    }
   ],
   "source": [
    "np.count_nonzero(df['Area'].isnull())"
   ]
  },
  {
   "cell_type": "code",
   "execution_count": 5,
   "id": "54b06428",
   "metadata": {},
   "outputs": [
    {
     "data": {
      "text/plain": [
       "NaN       2\n",
       "3796.0    1\n",
       "450.0     1\n",
       "242.0     1\n",
       "1010.0    1\n",
       "Name: Area, dtype: int64"
      ]
     },
     "execution_count": 5,
     "metadata": {},
     "output_type": "execute_result"
    }
   ],
   "source": [
    "df['Area'].value_counts(dropna=False)"
   ]
  },
  {
   "cell_type": "code",
   "execution_count": 6,
   "id": "1090edbb",
   "metadata": {},
   "outputs": [
    {
     "data": {
      "text/html": [
       "<div>\n",
       "<style scoped>\n",
       "    .dataframe tbody tr th:only-of-type {\n",
       "        vertical-align: middle;\n",
       "    }\n",
       "\n",
       "    .dataframe tbody tr th {\n",
       "        vertical-align: top;\n",
       "    }\n",
       "\n",
       "    .dataframe thead th {\n",
       "        text-align: right;\n",
       "    }\n",
       "</style>\n",
       "<table border=\"1\" class=\"dataframe\">\n",
       "  <thead>\n",
       "    <tr style=\"text-align: right;\">\n",
       "      <th></th>\n",
       "      <th>Country</th>\n",
       "      <th>Population</th>\n",
       "      <th>Capital</th>\n",
       "      <th>Area</th>\n",
       "    </tr>\n",
       "  </thead>\n",
       "  <tbody>\n",
       "    <tr>\n",
       "      <th>0</th>\n",
       "      <td>USA</td>\n",
       "      <td>329.50</td>\n",
       "      <td>Washington</td>\n",
       "      <td>3796.0</td>\n",
       "    </tr>\n",
       "    <tr>\n",
       "      <th>3</th>\n",
       "      <td>UK</td>\n",
       "      <td>67.22</td>\n",
       "      <td>Not Known</td>\n",
       "      <td>242.0</td>\n",
       "    </tr>\n",
       "    <tr>\n",
       "      <th>5</th>\n",
       "      <td>Egypt</td>\n",
       "      <td>102.30</td>\n",
       "      <td>Not Known</td>\n",
       "      <td>1010.0</td>\n",
       "    </tr>\n",
       "  </tbody>\n",
       "</table>\n",
       "</div>"
      ],
      "text/plain": [
       "  Country  Population     Capital    Area\n",
       "0     USA      329.50  Washington  3796.0\n",
       "3      UK       67.22   Not Known   242.0\n",
       "5   Egypt      102.30   Not Known  1010.0"
      ]
     },
     "execution_count": 6,
     "metadata": {},
     "output_type": "execute_result"
    }
   ],
   "source": [
    "df.dropna()"
   ]
  },
  {
   "cell_type": "code",
   "execution_count": 7,
   "id": "e8a50661",
   "metadata": {},
   "outputs": [
    {
     "data": {
      "text/html": [
       "<div>\n",
       "<style scoped>\n",
       "    .dataframe tbody tr th:only-of-type {\n",
       "        vertical-align: middle;\n",
       "    }\n",
       "\n",
       "    .dataframe tbody tr th {\n",
       "        vertical-align: top;\n",
       "    }\n",
       "\n",
       "    .dataframe thead th {\n",
       "        text-align: right;\n",
       "    }\n",
       "</style>\n",
       "<table border=\"1\" class=\"dataframe\">\n",
       "  <thead>\n",
       "    <tr style=\"text-align: right;\">\n",
       "      <th></th>\n",
       "      <th>Country</th>\n",
       "      <th>Population</th>\n",
       "      <th>Capital</th>\n",
       "      <th>Area</th>\n",
       "    </tr>\n",
       "  </thead>\n",
       "  <tbody>\n",
       "    <tr>\n",
       "      <th>0</th>\n",
       "      <td>USA</td>\n",
       "      <td>329.5</td>\n",
       "      <td>Washington</td>\n",
       "      <td>3796.0</td>\n",
       "    </tr>\n",
       "    <tr>\n",
       "      <th>1</th>\n",
       "      <td>Russia</td>\n",
       "      <td>144.1</td>\n",
       "      <td>Moscow</td>\n",
       "      <td>Empty</td>\n",
       "    </tr>\n",
       "    <tr>\n",
       "      <th>2</th>\n",
       "      <td>Sweden</td>\n",
       "      <td>Empty</td>\n",
       "      <td>Stockholm</td>\n",
       "      <td>450.0</td>\n",
       "    </tr>\n",
       "    <tr>\n",
       "      <th>3</th>\n",
       "      <td>UK</td>\n",
       "      <td>67.22</td>\n",
       "      <td>Not Known</td>\n",
       "      <td>242.0</td>\n",
       "    </tr>\n",
       "    <tr>\n",
       "      <th>4</th>\n",
       "      <td>Japan</td>\n",
       "      <td>125.8</td>\n",
       "      <td>Tokyo</td>\n",
       "      <td>Empty</td>\n",
       "    </tr>\n",
       "    <tr>\n",
       "      <th>5</th>\n",
       "      <td>Egypt</td>\n",
       "      <td>102.3</td>\n",
       "      <td>Not Known</td>\n",
       "      <td>1010.0</td>\n",
       "    </tr>\n",
       "  </tbody>\n",
       "</table>\n",
       "</div>"
      ],
      "text/plain": [
       "  Country Population     Capital    Area\n",
       "0     USA      329.5  Washington  3796.0\n",
       "1  Russia      144.1      Moscow   Empty\n",
       "2  Sweden      Empty   Stockholm   450.0\n",
       "3      UK      67.22   Not Known   242.0\n",
       "4   Japan      125.8       Tokyo   Empty\n",
       "5   Egypt      102.3   Not Known  1010.0"
      ]
     },
     "execution_count": 7,
     "metadata": {},
     "output_type": "execute_result"
    }
   ],
   "source": [
    "df.fillna('Empty')"
   ]
  },
  {
   "cell_type": "code",
   "execution_count": 8,
   "id": "43de9809",
   "metadata": {},
   "outputs": [
    {
     "data": {
      "text/html": [
       "<div>\n",
       "<style scoped>\n",
       "    .dataframe tbody tr th:only-of-type {\n",
       "        vertical-align: middle;\n",
       "    }\n",
       "\n",
       "    .dataframe tbody tr th {\n",
       "        vertical-align: top;\n",
       "    }\n",
       "\n",
       "    .dataframe thead th {\n",
       "        text-align: right;\n",
       "    }\n",
       "</style>\n",
       "<table border=\"1\" class=\"dataframe\">\n",
       "  <thead>\n",
       "    <tr style=\"text-align: right;\">\n",
       "      <th></th>\n",
       "      <th>Country</th>\n",
       "      <th>Population</th>\n",
       "      <th>Capital</th>\n",
       "      <th>Area</th>\n",
       "    </tr>\n",
       "  </thead>\n",
       "  <tbody>\n",
       "    <tr>\n",
       "      <th>0</th>\n",
       "      <td>USA</td>\n",
       "      <td>329.50</td>\n",
       "      <td>Washington</td>\n",
       "      <td>3796.0</td>\n",
       "    </tr>\n",
       "    <tr>\n",
       "      <th>1</th>\n",
       "      <td>Russia</td>\n",
       "      <td>144.10</td>\n",
       "      <td>Moscow</td>\n",
       "      <td>10.0</td>\n",
       "    </tr>\n",
       "    <tr>\n",
       "      <th>2</th>\n",
       "      <td>Sweden</td>\n",
       "      <td>0.00</td>\n",
       "      <td>Stockholm</td>\n",
       "      <td>450.0</td>\n",
       "    </tr>\n",
       "    <tr>\n",
       "      <th>3</th>\n",
       "      <td>UK</td>\n",
       "      <td>67.22</td>\n",
       "      <td>Not Known</td>\n",
       "      <td>242.0</td>\n",
       "    </tr>\n",
       "    <tr>\n",
       "      <th>4</th>\n",
       "      <td>Japan</td>\n",
       "      <td>125.80</td>\n",
       "      <td>Tokyo</td>\n",
       "      <td>10.0</td>\n",
       "    </tr>\n",
       "    <tr>\n",
       "      <th>5</th>\n",
       "      <td>Egypt</td>\n",
       "      <td>102.30</td>\n",
       "      <td>Not Known</td>\n",
       "      <td>1010.0</td>\n",
       "    </tr>\n",
       "  </tbody>\n",
       "</table>\n",
       "</div>"
      ],
      "text/plain": [
       "  Country  Population     Capital    Area\n",
       "0     USA      329.50  Washington  3796.0\n",
       "1  Russia      144.10      Moscow    10.0\n",
       "2  Sweden        0.00   Stockholm   450.0\n",
       "3      UK       67.22   Not Known   242.0\n",
       "4   Japan      125.80       Tokyo    10.0\n",
       "5   Egypt      102.30   Not Known  1010.0"
      ]
     },
     "execution_count": 8,
     "metadata": {},
     "output_type": "execute_result"
    }
   ],
   "source": [
    "df.fillna({'Population':0.0, 'Area': 10.0})"
   ]
  },
  {
   "cell_type": "code",
   "execution_count": null,
   "id": "51bcb316",
   "metadata": {},
   "outputs": [],
   "source": [
    "df.fillna(0, inplace=True)"
   ]
  },
  {
   "cell_type": "code",
   "execution_count": null,
   "id": "f5234af7",
   "metadata": {},
   "outputs": [],
   "source": [
    "df.fillna(method='ffill')"
   ]
  },
  {
   "cell_type": "code",
   "execution_count": null,
   "id": "773dc952",
   "metadata": {},
   "outputs": [],
   "source": [
    "df.fillna(method='bfill')"
   ]
  },
  {
   "cell_type": "code",
   "execution_count": null,
   "id": "d8db3246",
   "metadata": {},
   "outputs": [],
   "source": [
    "df.fillna(df.mean())"
   ]
  },
  {
   "cell_type": "code",
   "execution_count": null,
   "id": "2bb36e94",
   "metadata": {},
   "outputs": [],
   "source": [
    "df.interpolate()"
   ]
  },
  {
   "cell_type": "code",
   "execution_count": null,
   "id": "734c3551",
   "metadata": {},
   "outputs": [],
   "source": [
    "pd.Series([1, 4, None, 5, 12])"
   ]
  },
  {
   "cell_type": "code",
   "execution_count": null,
   "id": "2421a2b8",
   "metadata": {},
   "outputs": [],
   "source": [
    "pd.Series([1, 4, np.nan, 5, 12])"
   ]
  },
  {
   "cell_type": "code",
   "execution_count": null,
   "id": "350bf141",
   "metadata": {},
   "outputs": [],
   "source": [
    "pd.Series([1, 4, 5, 12])"
   ]
  },
  {
   "cell_type": "code",
   "execution_count": null,
   "id": "9def2134",
   "metadata": {},
   "outputs": [],
   "source": [
    "pd.Series([1, 4, pd.NA, 5, 12])"
   ]
  },
  {
   "cell_type": "code",
   "execution_count": null,
   "id": "6e8791a2",
   "metadata": {},
   "outputs": [],
   "source": [
    "pd.Series([1, 4, pd.NA, 5, None, np.nan], dtype='Int64')"
   ]
  },
  {
   "cell_type": "code",
   "execution_count": null,
   "id": "fd127b37",
   "metadata": {},
   "outputs": [],
   "source": [
    "pd.array([1, 4, pd.NA, 5, None, np.nan])"
   ]
  },
  {
   "cell_type": "code",
   "execution_count": null,
   "id": "b37d3b2e",
   "metadata": {},
   "outputs": [],
   "source": [
    "pd.array([1.0, 4.0, pd.NA, 5.0, None, np.nan])"
   ]
  },
  {
   "cell_type": "code",
   "execution_count": null,
   "id": "2cfab3c1",
   "metadata": {},
   "outputs": [],
   "source": [
    "pd.Series([True, False, None, True, False])"
   ]
  },
  {
   "cell_type": "code",
   "execution_count": null,
   "id": "0b16a50f",
   "metadata": {},
   "outputs": [],
   "source": [
    "pd.Series([True, False, np.nan, True, False])"
   ]
  },
  {
   "cell_type": "code",
   "execution_count": null,
   "id": "1755ec67",
   "metadata": {},
   "outputs": [],
   "source": [
    "pd.Series([True, False, pd.NA, True, False])"
   ]
  },
  {
   "cell_type": "code",
   "execution_count": null,
   "id": "6ab48f04",
   "metadata": {},
   "outputs": [],
   "source": [
    "pd.Series([True, False, pd.NA, True, None, np.nan, False], dtype='boolean')"
   ]
  },
  {
   "cell_type": "code",
   "execution_count": null,
   "id": "740ccb57",
   "metadata": {},
   "outputs": [],
   "source": [
    "pd.array([True, False, pd.NA, True, None, np.nan, False])"
   ]
  },
  {
   "cell_type": "code",
   "execution_count": null,
   "id": "4a0c934f",
   "metadata": {},
   "outputs": [],
   "source": []
  },
  {
   "cell_type": "code",
   "execution_count": null,
   "id": "c756f3aa",
   "metadata": {},
   "outputs": [],
   "source": []
  }
 ],
 "metadata": {
  "kernelspec": {
   "display_name": "Python 3 (ipykernel)",
   "language": "python",
   "name": "python3"
  },
  "language_info": {
   "codemirror_mode": {
    "name": "ipython",
    "version": 3
   },
   "file_extension": ".py",
   "mimetype": "text/x-python",
   "name": "python",
   "nbconvert_exporter": "python",
   "pygments_lexer": "ipython3",
   "version": "3.9.13"
  }
 },
 "nbformat": 4,
 "nbformat_minor": 5
}
