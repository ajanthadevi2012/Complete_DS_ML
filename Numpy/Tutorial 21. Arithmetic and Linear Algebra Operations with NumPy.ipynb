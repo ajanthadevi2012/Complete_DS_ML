{
 "cells": [
  {
   "cell_type": "markdown",
   "metadata": {},
   "source": [
    "## 1. Arithmetic Operations with NumPy"
   ]
  },
  {
   "cell_type": "markdown",
   "metadata": {},
   "source": [
    "### 1.1. Finding Square Roots"
   ]
  },
  {
   "cell_type": "code",
   "execution_count": 1,
   "metadata": {},
   "outputs": [
    {
     "name": "stdout",
     "output_type": "stream",
     "text": [
      "[3.16227766 4.47213595 5.47722558 6.32455532 7.07106781]\n"
     ]
    }
   ],
   "source": [
    "import numpy as np\n",
    "\n",
    "nums = [10,20,30,40,50]  \n",
    "np_sqr = np.sqrt(nums)  \n",
    "print(np_sqr) "
   ]
  },
  {
   "cell_type": "markdown",
   "metadata": {},
   "source": [
    "### 1.2.Finding Logs"
   ]
  },
  {
   "cell_type": "code",
   "execution_count": 2,
   "metadata": {},
   "outputs": [
    {
     "name": "stdout",
     "output_type": "stream",
     "text": [
      "[2.30258509 2.99573227 3.40119738 3.68887945 3.91202301]\n"
     ]
    }
   ],
   "source": [
    "import numpy as np\n",
    "\n",
    "nums = [10,20,30,40,50]  \n",
    "np_log = np.log(nums)  \n",
    "print(np_log )\n"
   ]
  },
  {
   "cell_type": "markdown",
   "metadata": {},
   "source": [
    "### 1.3. Finding Exponents"
   ]
  },
  {
   "cell_type": "code",
   "execution_count": 3,
   "metadata": {},
   "outputs": [
    {
     "name": "stdout",
     "output_type": "stream",
     "text": [
      "[2.20264658e+04 4.85165195e+08 1.06864746e+13 2.35385267e+17\n",
      " 5.18470553e+21]\n"
     ]
    }
   ],
   "source": [
    "import numpy as np\n",
    "\n",
    "nums = [10,20,30,40,50]  \n",
    "np_exp = np.exp(nums)  \n",
    "print(np_exp)  "
   ]
  },
  {
   "cell_type": "markdown",
   "metadata": {},
   "source": [
    "### 1.4. Finding Since and Cosine"
   ]
  },
  {
   "cell_type": "code",
   "execution_count": 4,
   "metadata": {},
   "outputs": [
    {
     "name": "stdout",
     "output_type": "stream",
     "text": [
      "[-0.54402111  0.91294525 -0.98803162  0.74511316 -0.26237485]\n",
      "[-0.83907153  0.40808206  0.15425145 -0.66693806  0.96496603]\n"
     ]
    }
   ],
   "source": [
    "import numpy as np\n",
    "\n",
    "nums = [10,20,30,40,50]  \n",
    "np_sine = np.sin(nums)  \n",
    "print(np_sine)  \n",
    " \n",
    "nums = [10,20,30,40,50]  \n",
    "np_cos = np.cos(nums)  \n",
    "print(np_cos)  "
   ]
  },
  {
   "cell_type": "markdown",
   "metadata": {},
   "source": [
    "## 2. Linear Algebra Operations with NumPy"
   ]
  },
  {
   "cell_type": "markdown",
   "metadata": {},
   "source": [
    "### 2.1. Finding Matrix Dot Product"
   ]
  },
  {
   "cell_type": "code",
   "execution_count": 6,
   "metadata": {},
   "outputs": [
    {
     "name": "stdout",
     "output_type": "stream",
     "text": [
      "[[-0.97759939  1.36206061 -0.71036729  0.1375452   0.4495232 ]\n",
      " [-0.0558405  -1.5008877  -0.24412504 -0.70492858  1.88644986]\n",
      " [-1.74395602 -0.14506531 -0.42834615  0.82757345 -0.92612155]\n",
      " [-0.97356162 -0.63414045 -1.40477055  0.42993315  0.2515148 ]]\n",
      "[[-1.40048793  1.4720401  -0.44554608 -1.611188  ]\n",
      " [ 0.20273594 -1.68594028  2.01669298 -0.06206461]\n",
      " [ 2.89431442 -1.08939583 -0.32023773  1.24744001]\n",
      " [ 1.81731081 -1.48016504 -0.9262508   0.62135535]\n",
      " [ 1.02967167 -0.12609598 -0.22766458 -0.74135575]]\n",
      "[[ 0.30205217 -3.22181987  3.18016821  0.35662791]\n",
      " [-0.27130491  3.51969328 -2.70030927 -1.9579514 ]\n",
      " [ 1.723568   -2.96412832  0.06593768  3.48531103]\n",
      " [-1.79064959  0.49826533 -0.85072644 -0.06373918]]\n"
     ]
    }
   ],
   "source": [
    "import numpy as np\n",
    "\n",
    "A = np.random.randn(4,5)  \n",
    "B = np.random.randn(5,4)  \n",
    "print(A)\n",
    "print(B)\n",
    "Z =  np.dot(A,B)   \n",
    "print(Z)  \n"
   ]
  },
  {
   "cell_type": "markdown",
   "metadata": {},
   "source": [
    "### 2.2.\tElement-wise Matrix Multiplication"
   ]
  },
  {
   "cell_type": "code",
   "execution_count": 7,
   "metadata": {},
   "outputs": [
    {
     "name": "stdout",
     "output_type": "stream",
     "text": [
      "[[10 12 13]\n",
      " [45 32 16]\n",
      " [45 32 16]]\n",
      "[[ 100  144  169]\n",
      " [2025 1024  256]\n",
      " [2025 1024  256]]\n"
     ]
    }
   ],
   "source": [
    "import numpy as np\n",
    "\n",
    "row1 = [10,12,13]  \n",
    "row2 = [45,32,16]  \n",
    "row3 = [45,32,16]  \n",
    " \n",
    "nums_2d = np.array([row1, row2, row3])  \n",
    "print(nums_2d)\n",
    "\n",
    "multiply = np.multiply(nums_2d, nums_2d)  \n",
    "print(multiply)\n"
   ]
  },
  {
   "cell_type": "markdown",
   "metadata": {},
   "source": [
    "### 2.3. Finding Matrix Inverse"
   ]
  },
  {
   "cell_type": "code",
   "execution_count": 8,
   "metadata": {},
   "outputs": [
    {
     "name": "stdout",
     "output_type": "stream",
     "text": [
      "[[ 1  2  3]\n",
      " [ 5  2  8]\n",
      " [ 9  1 10]]\n",
      "[[ 0.70588235 -1.          0.58823529]\n",
      " [ 1.29411765 -1.          0.41176471]\n",
      " [-0.76470588  1.         -0.47058824]]\n"
     ]
    }
   ],
   "source": [
    "import numpy as np\n",
    "\n",
    "row1 = [1,2,3]  \n",
    "row2 = [5,2,8]  \n",
    "row3 = [9,1,10]  \n",
    " \n",
    "nums_2d = np.array([row1, row2, row3])  \n",
    "print(nums_2d) \n",
    "inverse = np.linalg.inv(nums_2d)  \n",
    "print(inverse)  "
   ]
  },
  {
   "cell_type": "markdown",
   "metadata": {},
   "source": [
    "### 2.4. Finding Matrix Determinant"
   ]
  },
  {
   "cell_type": "code",
   "execution_count": 9,
   "metadata": {},
   "outputs": [
    {
     "name": "stdout",
     "output_type": "stream",
     "text": [
      "16.999999999999993\n"
     ]
    }
   ],
   "source": [
    "import numpy as np\n",
    "\n",
    "row1 = [1,2,3]  \n",
    "row2 = [5,2,8]  \n",
    "row3 = [9,1,10]    \n",
    "    \n",
    "nums_2d = np.array([row1, row2, row3])    \n",
    "    \n",
    "determinant = np.linalg.det(nums_2d)    \n",
    "print(determinant)    "
   ]
  },
  {
   "cell_type": "markdown",
   "metadata": {},
   "source": [
    "### 2.5. Finding Matrix Trace"
   ]
  },
  {
   "cell_type": "code",
   "execution_count": 10,
   "metadata": {},
   "outputs": [
    {
     "name": "stdout",
     "output_type": "stream",
     "text": [
      "[[1 2 3]\n",
      " [4 5 6]\n",
      " [7 8 9]]\n",
      "15\n"
     ]
    }
   ],
   "source": [
    "import numpy as np\n",
    "\n",
    "row1 = [1,2,3]  \n",
    "row2 = [4,5,6]  \n",
    "row3 = [7,8,9]  \n",
    "  \n",
    "nums_2d = np.array([row1, row2, row3])  \n",
    "print(nums_2d)\n",
    "trace = np.trace(nums_2d)  \n",
    "print(trace)  "
   ]
  },
  {
   "cell_type": "markdown",
   "metadata": {},
   "source": [
    "### 2.6. Solving a System of Linear Equations with Python"
   ]
  },
  {
   "cell_type": "code",
   "execution_count": 11,
   "metadata": {},
   "outputs": [],
   "source": [
    "#two equations\n",
    "\n",
    "# 6x + 3y = 42\n",
    "# 2x + 4y = 32\n"
   ]
  },
  {
   "cell_type": "code",
   "execution_count": 12,
   "metadata": {},
   "outputs": [],
   "source": [
    "import numpy as np\n",
    "\n",
    "A = np.array([[6, 3],\n",
    "              [2, 4]])\n",
    " \n",
    "B = np.array([42, 32])\n",
    "             "
   ]
  },
  {
   "cell_type": "code",
   "execution_count": 13,
   "metadata": {},
   "outputs": [
    {
     "name": "stdout",
     "output_type": "stream",
     "text": [
      "[[ 0.22222222 -0.16666667]\n",
      " [-0.11111111  0.33333333]]\n"
     ]
    }
   ],
   "source": [
    "A_inv = np.linalg.inv(A)\n",
    "print(A_inv)"
   ]
  },
  {
   "cell_type": "code",
   "execution_count": 14,
   "metadata": {},
   "outputs": [
    {
     "name": "stdout",
     "output_type": "stream",
     "text": [
      "[4. 6.]\n"
     ]
    }
   ],
   "source": [
    "X = np.dot(A_inv, B)\n",
    "print(X)"
   ]
  },
  {
   "cell_type": "code",
   "execution_count": null,
   "metadata": {},
   "outputs": [],
   "source": []
  }
 ],
 "metadata": {
  "kernelspec": {
   "display_name": "Python 3 (ipykernel)",
   "language": "python",
   "name": "python3"
  },
  "language_info": {
   "codemirror_mode": {
    "name": "ipython",
    "version": 3
   },
   "file_extension": ".py",
   "mimetype": "text/x-python",
   "name": "python",
   "nbconvert_exporter": "python",
   "pygments_lexer": "ipython3",
   "version": "3.9.13"
  }
 },
 "nbformat": 4,
 "nbformat_minor": 4
}
