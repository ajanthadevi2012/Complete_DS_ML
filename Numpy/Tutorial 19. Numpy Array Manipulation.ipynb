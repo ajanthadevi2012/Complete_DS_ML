{
 "cells": [
  {
   "cell_type": "markdown",
   "metadata": {},
   "source": [
    "## 1. Sorting NumPy Arrays "
   ]
  },
  {
   "cell_type": "markdown",
   "metadata": {},
   "source": [
    "### 1.1. Sorting Numeric Arrays"
   ]
  },
  {
   "cell_type": "code",
   "execution_count": 1,
   "metadata": {},
   "outputs": [
    {
     "name": "stdout",
     "output_type": "stream",
     "text": [
      "unsorted array\n",
      "[10 17  9 15  6 19 13 18  3  3]\n"
     ]
    }
   ],
   "source": [
    "import numpy as np\n",
    "\n",
    "print(\"unsorted array\")\n",
    "my_array = np.random.randint(1,20,10)\n",
    "print(my_array)\n"
   ]
  },
  {
   "cell_type": "code",
   "execution_count": 2,
   "metadata": {},
   "outputs": [
    {
     "name": "stdout",
     "output_type": "stream",
     "text": [
      "\n",
      "sorted array\n",
      "[ 3  3  6  9 10 13 15 17 18 19]\n"
     ]
    }
   ],
   "source": [
    "print(\"\\nsorted array\")\n",
    "sorted_array = np.sort(my_array)\n",
    "print(sorted_array)"
   ]
  },
  {
   "cell_type": "markdown",
   "metadata": {},
   "source": [
    "### 1.2. Sorting Text Arrays"
   ]
  },
  {
   "cell_type": "code",
   "execution_count": 3,
   "metadata": {},
   "outputs": [
    {
     "name": "stdout",
     "output_type": "stream",
     "text": [
      "unsorted array\n",
      "['Red' 'Green' 'Blue' 'Yellow']\n"
     ]
    }
   ],
   "source": [
    "print(\"unsorted array\")\n",
    "my_array = np.array([\"Red\", \"Green\", \"Blue\", \"Yellow\"])\n",
    "print(my_array)\n",
    "\n"
   ]
  },
  {
   "cell_type": "code",
   "execution_count": 4,
   "metadata": {},
   "outputs": [
    {
     "name": "stdout",
     "output_type": "stream",
     "text": [
      "\n",
      "sorted array\n",
      "['Blue' 'Green' 'Red' 'Yellow']\n"
     ]
    }
   ],
   "source": [
    "print(\"\\nsorted array\")\n",
    "sorted_array = np.sort(my_array)\n",
    "print(sorted_array)"
   ]
  },
  {
   "cell_type": "markdown",
   "metadata": {},
   "source": [
    "### 1.3. Sorting Boolean Arrays"
   ]
  },
  {
   "cell_type": "code",
   "execution_count": 5,
   "metadata": {},
   "outputs": [
    {
     "name": "stdout",
     "output_type": "stream",
     "text": [
      "unsorted array\n",
      "[False  True  True False False  True False  True]\n"
     ]
    }
   ],
   "source": [
    "print(\"unsorted array\")\n",
    "my_array = np.array([False, True, True, False, False, True, False, True])\n",
    "print(my_array)\n",
    "\n"
   ]
  },
  {
   "cell_type": "code",
   "execution_count": 6,
   "metadata": {},
   "outputs": [
    {
     "name": "stdout",
     "output_type": "stream",
     "text": [
      "\n",
      "Sorted array\n",
      "[False False False False  True  True  True  True]\n"
     ]
    }
   ],
   "source": [
    "print(\"\\nSorted array\")\n",
    "sorted_array = np.sort(my_array)\n",
    "print(sorted_array)"
   ]
  },
  {
   "cell_type": "markdown",
   "metadata": {},
   "source": [
    "### 1.4. Sorting 2-D Arrays"
   ]
  },
  {
   "cell_type": "code",
   "execution_count": 7,
   "metadata": {},
   "outputs": [
    {
     "name": "stdout",
     "output_type": "stream",
     "text": [
      "unsorted array\n",
      "[[12  7  3  4  5  9]\n",
      " [ 7 16  7 16 15  9]\n",
      " [17 15 17 15  2  8]\n",
      " [17 11 18 19 10  2]]\n",
      "\n",
      "Sorted array\n",
      "[[ 3  4  5  7  9 12]\n",
      " [ 7  7  9 15 16 16]\n",
      " [ 2  8 15 15 17 17]\n",
      " [ 2 10 11 17 18 19]]\n"
     ]
    }
   ],
   "source": [
    "print(\"unsorted array\")\n",
    "my_array = np.random.randint(1,20, size = (4,6))\n",
    "print(my_array)\n",
    "\n",
    "print(\"\\nSorted array\")\n",
    "sorted_array = np.sort(my_array)\n",
    "print(sorted_array)"
   ]
  },
  {
   "cell_type": "code",
   "execution_count": null,
   "metadata": {},
   "outputs": [],
   "source": []
  },
  {
   "cell_type": "markdown",
   "metadata": {},
   "source": [
    "### 1.5. Sorting in Descending Order"
   ]
  },
  {
   "cell_type": "code",
   "execution_count": 8,
   "metadata": {},
   "outputs": [
    {
     "name": "stdout",
     "output_type": "stream",
     "text": [
      "unsorted array\n",
      "[ 7  8 10 10 16 10  7 14  3  3]\n",
      "\n",
      "sorted array\n",
      "[16 14 10 10 10  8  7  7  3  3]\n"
     ]
    }
   ],
   "source": [
    "print(\"unsorted array\")\n",
    "my_array = np.random.randint(1,20,10)\n",
    "print(my_array)\n",
    "\n",
    "print(\"\\nsorted array\")\n",
    "sorted_array = np.sort(my_array)\n",
    "reverse_sorted = np.flipud(sorted_array)\n",
    "print(reverse_sorted)"
   ]
  },
  {
   "cell_type": "markdown",
   "metadata": {},
   "source": [
    "## 2. Broadcasting NumPy Arrays"
   ]
  },
  {
   "cell_type": "code",
   "execution_count": 9,
   "metadata": {},
   "outputs": [
    {
     "name": "stdout",
     "output_type": "stream",
     "text": [
      "[24 35 41]\n"
     ]
    }
   ],
   "source": [
    "array1 = np.array ([14,25,31])\n",
    "array2 = np.array([10])\n",
    "result = array1 + array2 \n",
    "print(result)"
   ]
  },
  {
   "cell_type": "code",
   "execution_count": 10,
   "metadata": {},
   "outputs": [
    {
     "name": "stdout",
     "output_type": "stream",
     "text": [
      "[[ 2 13  1  3]\n",
      " [14 10  9  1]\n",
      " [15 16  9 13]]\n",
      "\n",
      "after broadcasting\n",
      "[[12 23 11 13]\n",
      " [24 20 19 11]\n",
      " [25 26 19 23]]\n"
     ]
    }
   ],
   "source": [
    "\n",
    "array1 = np.random.randint(1,20, size = (3,4))\n",
    "print(array1)\n",
    "\n",
    "array2 = np.array([10])\n",
    "\n",
    "print(\"\\nafter broadcasting\")\n",
    "result = array1 + array2 \n",
    "print(result)"
   ]
  },
  {
   "cell_type": "code",
   "execution_count": 11,
   "metadata": {},
   "outputs": [
    {
     "name": "stdout",
     "output_type": "stream",
     "text": [
      "[[12 18  8 18]\n",
      " [16 19 18 16]\n",
      " [ 2  4 15  6]]\n",
      "\n",
      "after broadcasting\n",
      "[[17 28 28 43]\n",
      " [21 29 38 41]\n",
      " [ 7 14 35 31]]\n"
     ]
    }
   ],
   "source": [
    "\n",
    "array1 = np.random.randint(1,20, size = (3,4))\n",
    "print(array1)\n",
    "\n",
    "array2 = np.array([5,10,20,25])\n",
    "\n",
    "print(\"\\nafter broadcasting\")\n",
    "result = array1 + array2 \n",
    "print(result)"
   ]
  },
  {
   "cell_type": "code",
   "execution_count": 12,
   "metadata": {},
   "outputs": [
    {
     "name": "stdout",
     "output_type": "stream",
     "text": [
      "[[ 8 10  5  9]\n",
      " [17 19 14  8]\n",
      " [ 7  9  5  8]]\n",
      "\n",
      "after broadcasting\n",
      "[[13 15 10 14]\n",
      " [27 29 24 18]\n",
      " [27 29 25 28]]\n"
     ]
    }
   ],
   "source": [
    "array1 = np.random.randint(1,20, size = (3,4))\n",
    "print(array1)\n",
    "\n",
    "array2 = np.array([[5],[10],[20]])\n",
    "\n",
    "print(\"\\nafter broadcasting\")\n",
    "result = array1 + array2 \n",
    "print(result)"
   ]
  },
  {
   "cell_type": "markdown",
   "metadata": {},
   "source": [
    "## 3. Copying NumPy Arrays"
   ]
  },
  {
   "cell_type": "code",
   "execution_count": 13,
   "metadata": {},
   "outputs": [
    {
     "name": "stdout",
     "output_type": "stream",
     "text": [
      "[10 12 14 16 18 20]\n",
      "[10 20 14 16 18 20]\n"
     ]
    }
   ],
   "source": [
    "array1 = np.array([10,12,14,16,18,20])\n",
    "\n",
    "array2 = array1.copy()\n",
    "array2[1] = 20\n",
    "\n",
    "print(array1)\n",
    "print(array2)"
   ]
  },
  {
   "cell_type": "code",
   "execution_count": 14,
   "metadata": {},
   "outputs": [
    {
     "name": "stdout",
     "output_type": "stream",
     "text": [
      "[10 12 14 16 18 20]\n",
      "[10 20 14 16 18 20]\n"
     ]
    }
   ],
   "source": [
    "array1 = np.array([10,12,14,16,18,20])\n",
    "\n",
    "array2 = np.copy(array1)\n",
    "array2[1] = 20\n",
    "\n",
    "print(array1)\n",
    "print(array2)"
   ]
  },
  {
   "cell_type": "code",
   "execution_count": 15,
   "metadata": {},
   "outputs": [
    {
     "name": "stdout",
     "output_type": "stream",
     "text": [
      "[10 20 14 16 18 20]\n",
      "[10 20 14 16 18 20]\n"
     ]
    }
   ],
   "source": [
    "array1 = np.array([10,12,14,16,18,20])\n",
    "\n",
    "array2 = array1.view()\n",
    "array2[1] = 20\n",
    "\n",
    "print(array1)\n",
    "print(array2)"
   ]
  },
  {
   "cell_type": "code",
   "execution_count": null,
   "metadata": {},
   "outputs": [],
   "source": []
  }
 ],
 "metadata": {
  "kernelspec": {
   "display_name": "Python 3 (ipykernel)",
   "language": "python",
   "name": "python3"
  },
  "language_info": {
   "codemirror_mode": {
    "name": "ipython",
    "version": 3
   },
   "file_extension": ".py",
   "mimetype": "text/x-python",
   "name": "python",
   "nbconvert_exporter": "python",
   "pygments_lexer": "ipython3",
   "version": "3.9.13"
  }
 },
 "nbformat": 4,
 "nbformat_minor": 4
}
