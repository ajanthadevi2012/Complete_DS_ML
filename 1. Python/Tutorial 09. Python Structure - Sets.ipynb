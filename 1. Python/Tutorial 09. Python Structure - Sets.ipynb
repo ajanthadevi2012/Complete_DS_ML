{
 "cells": [
  {
   "cell_type": "markdown",
   "id": "448e7eb0",
   "metadata": {},
   "source": [
    "# 7. Sets"
   ]
  },
  {
   "cell_type": "markdown",
   "id": "91f3a700",
   "metadata": {},
   "source": [
    "# Exercise 32: Using Sets in Python"
   ]
  },
  {
   "cell_type": "code",
   "execution_count": 1,
   "id": "0cb45e95",
   "metadata": {},
   "outputs": [
    {
     "name": "stdout",
     "output_type": "stream",
     "text": [
      "{1, 2, 3, 4, 5, 6}\n",
      "{1, 2, 3, 4, 5, 6}\n",
      "{1, 2, 3, 4, 5, 6}\n"
     ]
    }
   ],
   "source": [
    "# 1. Open a Jupyter notebook.\n",
    "# 2. Initialize a set using the following code. You can pass in a list to initialize a set:\n",
    "s1 = set([1,2,3,4,5,6])\n",
    "print(s1)\n",
    "s2 = set([1,2,2,3,4,4,5,6,6])\n",
    "print(s2)\n",
    "s3 = set([3,4,5,6,6,6,1,1,2])\n",
    "print(s3)"
   ]
  },
  {
   "cell_type": "code",
   "execution_count": 2,
   "id": "01c14244",
   "metadata": {},
   "outputs": [
    {
     "name": "stdout",
     "output_type": "stream",
     "text": [
      "{'orange', 'banana', 'apple'}\n"
     ]
    }
   ],
   "source": [
    "# 3. Enter the following code in a new cell:\n",
    "s4 = {\"apple\", \"orange\", \"banana\"}\n",
    "print(s4)"
   ]
  },
  {
   "cell_type": "code",
   "execution_count": 3,
   "id": "5ce81bc7",
   "metadata": {},
   "outputs": [
    {
     "name": "stdout",
     "output_type": "stream",
     "text": [
      "{'pineapple', 'orange', 'banana', 'apple'}\n"
     ]
    }
   ],
   "source": [
    "# 3. Enter the following code in a new cell:\n",
    "s4.add('pineapple')\n",
    "print(s4)"
   ]
  },
  {
   "cell_type": "markdown",
   "id": "178bdc09",
   "metadata": {},
   "source": [
    "# i. Set Operations"
   ]
  },
  {
   "cell_type": "markdown",
   "id": "bc5437c4",
   "metadata": {},
   "source": [
    "# Exercise 33: Implementing Set Operations"
   ]
  },
  {
   "cell_type": "code",
   "execution_count": 4,
   "id": "c88e7588",
   "metadata": {},
   "outputs": [],
   "source": [
    "# 1. Open a new Jupyter notebook.\n",
    "# 2. In a new cell, type the following code to initialize two new sets:\n",
    "s5 = {1,2,3,4}\n",
    "s6 = {3,4,5,6}\n"
   ]
  },
  {
   "cell_type": "code",
   "execution_count": 5,
   "id": "48be832d",
   "metadata": {},
   "outputs": [
    {
     "name": "stdout",
     "output_type": "stream",
     "text": [
      "{1, 2, 3, 4, 5, 6}\n",
      "{1, 2, 3, 4, 5, 6}\n"
     ]
    }
   ],
   "source": [
    "# 3. Use the | operator or the union method for a union operation:\n",
    "print(s5 | s6)\n",
    "print(s5.union(s6))\n"
   ]
  },
  {
   "cell_type": "code",
   "execution_count": 6,
   "id": "b78c392a",
   "metadata": {},
   "outputs": [
    {
     "name": "stdout",
     "output_type": "stream",
     "text": [
      "{3, 4}\n",
      "{3, 4}\n"
     ]
    }
   ],
   "source": [
    "# 4. Now use the & operator or the intersection method for an intersection operation:\n",
    "print(s5 & s6)\n",
    "print(s5.intersection(s6))\n"
   ]
  },
  {
   "cell_type": "code",
   "execution_count": 7,
   "id": "bce652ff",
   "metadata": {},
   "outputs": [
    {
     "name": "stdout",
     "output_type": "stream",
     "text": [
      "{1, 2}\n",
      "{1, 2}\n"
     ]
    }
   ],
   "source": [
    "# 5. Use the – operator or the difference method to find the difference between two sets:\n",
    "print(s5 - s6)\n",
    "print(s5.difference(s6))"
   ]
  },
  {
   "cell_type": "code",
   "execution_count": 8,
   "id": "b9a14a16",
   "metadata": {},
   "outputs": [
    {
     "name": "stdout",
     "output_type": "stream",
     "text": [
      "{5, 6}\n"
     ]
    }
   ],
   "source": [
    "print(s6 - s5)"
   ]
  },
  {
   "cell_type": "code",
   "execution_count": 9,
   "id": "ba2319b0",
   "metadata": {},
   "outputs": [
    {
     "name": "stdout",
     "output_type": "stream",
     "text": [
      "False\n",
      "False\n",
      "True\n",
      "True\n"
     ]
    }
   ],
   "source": [
    "# 6. Now enter the <= operator or the issubset method to check if one set is a subset of another:\n",
    "print(s5 <= s6)\n",
    "print(s5.issubset(s6))\n",
    "\n",
    "s7 = {1,2,3}\n",
    "s8 = {1,2,3,4,5}\n",
    "print(s7 <= s8)\n",
    "print(s7.issubset(s8))"
   ]
  },
  {
   "cell_type": "code",
   "execution_count": 10,
   "id": "effd2d54",
   "metadata": {},
   "outputs": [
    {
     "name": "stdout",
     "output_type": "stream",
     "text": [
      "True\n",
      "False\n",
      "False\n"
     ]
    }
   ],
   "source": [
    "# 7. Check whether s7 is a formal subset of s8, and check whether a set can be a proper subset of itself by entering the following code:\n",
    "print(s7 < s8)\n",
    "s9 = {1,2,3}\n",
    "s10 = {1,2,3}\n",
    "print(s9 < s10)\n",
    "print(s9 < s9)"
   ]
  },
  {
   "cell_type": "code",
   "execution_count": 11,
   "id": "ef33eaf3",
   "metadata": {},
   "outputs": [
    {
     "name": "stdout",
     "output_type": "stream",
     "text": [
      "True\n"
     ]
    }
   ],
   "source": [
    "print(s9 == s10)"
   ]
  },
  {
   "cell_type": "code",
   "execution_count": 12,
   "id": "e8c7e853",
   "metadata": {},
   "outputs": [
    {
     "name": "stdout",
     "output_type": "stream",
     "text": [
      "True\n",
      "True\n",
      "True\n",
      "False\n"
     ]
    }
   ],
   "source": [
    "# 8. Now use the >= operator or the issuperset method to check whether one set is the superset of another. Try it using the following code in another cell:\n",
    "print(s8 >= s7)\n",
    "print(s8.issuperset(s7))\n",
    "print(s8 > s7)\n",
    "print(s8 > s8)"
   ]
  },
  {
   "cell_type": "code",
   "execution_count": null,
   "id": "ee3a226d",
   "metadata": {},
   "outputs": [],
   "source": []
  },
  {
   "cell_type": "code",
   "execution_count": null,
   "id": "d2a48d6f",
   "metadata": {},
   "outputs": [],
   "source": []
  }
 ],
 "metadata": {
  "kernelspec": {
   "display_name": "Python 3 (ipykernel)",
   "language": "python",
   "name": "python3"
  },
  "language_info": {
   "codemirror_mode": {
    "name": "ipython",
    "version": 3
   },
   "file_extension": ".py",
   "mimetype": "text/x-python",
   "name": "python",
   "nbconvert_exporter": "python",
   "pygments_lexer": "ipython3",
   "version": "3.9.7"
  }
 },
 "nbformat": 4,
 "nbformat_minor": 5
}
