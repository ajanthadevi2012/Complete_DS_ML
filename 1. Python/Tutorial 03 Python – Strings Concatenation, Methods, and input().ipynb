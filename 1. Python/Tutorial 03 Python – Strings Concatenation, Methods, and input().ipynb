{
 "cells": [
  {
   "cell_type": "markdown",
   "id": "f252dbf9",
   "metadata": {},
   "source": [
    "# 4.Strings: Concatenation, Methods, and input()"
   ]
  },
  {
   "cell_type": "markdown",
   "id": "ba2138f7",
   "metadata": {},
   "source": [
    "In Python, anything that goes between 'single' or \"double\" quotes is considered\n",
    "a string.\n",
    "\n",
    "\n",
    "Examples include 'hello', \"hello\", 'HELLoo00', '12345', and 'fun_characters: !@ #$%^&*('."
   ]
  },
  {
   "cell_type": "markdown",
   "id": "158b0e3e",
   "metadata": {},
   "source": [
    "# Exercise 7: String Error Syntax\n"
   ]
  },
  {
   "cell_type": "code",
   "execution_count": 1,
   "id": "64bbf853",
   "metadata": {},
   "outputs": [],
   "source": [
    "#1. Open a Jupyter Notebook.\n",
    "#2. Enter a valid string:\n",
    "bookstore = 'City Lights'\n"
   ]
  },
  {
   "cell_type": "code",
   "execution_count": 2,
   "id": "18bf3bdd",
   "metadata": {},
   "outputs": [
    {
     "ename": "SyntaxError",
     "evalue": "EOL while scanning string literal (Temp/ipykernel_19648/4089761223.py, line 2)",
     "output_type": "error",
     "traceback": [
      "\u001b[1;36m  File \u001b[1;32m\"C:\\Users\\AJANTHA\\AppData\\Local\\Temp/ipykernel_19648/4089761223.py\"\u001b[1;36m, line \u001b[1;32m2\u001b[0m\n\u001b[1;33m    bookstore = 'City Lights\"\u001b[0m\n\u001b[1;37m                             ^\u001b[0m\n\u001b[1;31mSyntaxError\u001b[0m\u001b[1;31m:\u001b[0m EOL while scanning string literal\n"
     ]
    }
   ],
   "source": [
    "#3. Now enter an invalid string:\n",
    "bookstore = 'City Lights\"\n"
   ]
  },
  {
   "cell_type": "code",
   "execution_count": 3,
   "id": "bb55a684",
   "metadata": {},
   "outputs": [],
   "source": [
    "#4. Now you need to enter a valid string format again, as in the following code snippet:\n",
    "bookstore = \"Moe's\"\n"
   ]
  },
  {
   "cell_type": "code",
   "execution_count": 4,
   "id": "28e57379",
   "metadata": {},
   "outputs": [
    {
     "ename": "SyntaxError",
     "evalue": "invalid syntax (Temp/ipykernel_19648/421309956.py, line 2)",
     "output_type": "error",
     "traceback": [
      "\u001b[1;36m  File \u001b[1;32m\"C:\\Users\\AJANTHA\\AppData\\Local\\Temp/ipykernel_19648/421309956.py\"\u001b[1;36m, line \u001b[1;32m2\u001b[0m\n\u001b[1;33m    bookstore = 'Moe's'\u001b[0m\n\u001b[1;37m                     ^\u001b[0m\n\u001b[1;31mSyntaxError\u001b[0m\u001b[1;31m:\u001b[0m invalid syntax\n"
     ]
    }
   ],
   "source": [
    "#5. Now add the invalid string again:\n",
    "bookstore = 'Moe's'"
   ]
  },
  {
   "cell_type": "code",
   "execution_count": 5,
   "id": "7f33c673",
   "metadata": {},
   "outputs": [
    {
     "data": {
      "text/plain": [
       "\"Moe's\""
      ]
     },
     "execution_count": 5,
     "metadata": {},
     "output_type": "execute_result"
    }
   ],
   "source": [
    "#Escape Sequences with Quotes\n",
    "\n",
    "bookstore = 'Moe\\'s'\n",
    "\n",
    "bookstore"
   ]
  },
  {
   "cell_type": "code",
   "execution_count": 6,
   "id": "01e9286a",
   "metadata": {},
   "outputs": [],
   "source": [
    "#Multi-Line Strings\n",
    "vacation_note = '''\n",
    "During our vacation to San Francisco, we waited in a long line by\n",
    "Powell St. Station t\n",
    "o take the cable car. Tap dancers performed on\n",
    "wooden boards. By the time our cable car arrived, we started looking\n",
    "online for a good place to eat. We're heading to North Beach.\n",
    "'''"
   ]
  },
  {
   "cell_type": "markdown",
   "id": "ce0c7b15",
   "metadata": {},
   "source": [
    "# i.The print() Function"
   ]
  },
  {
   "cell_type": "markdown",
   "id": "8266a8aa",
   "metadata": {},
   "source": [
    "The print() function is used to display information to the user, or to the developer."
   ]
  },
  {
   "cell_type": "markdown",
   "id": "65ce35c2",
   "metadata": {},
   "source": [
    "# Exercise 8: Displaying Strings\n",
    "\n",
    "\n"
   ]
  },
  {
   "cell_type": "code",
   "execution_count": 7,
   "id": "8247f240",
   "metadata": {},
   "outputs": [
    {
     "name": "stdout",
     "output_type": "stream",
     "text": [
      "Hello\n"
     ]
    }
   ],
   "source": [
    "#1. Open a new Jupyter Notebook.\n",
    "#2. Define a greeting variable with the value 'Hello'. Display the greeting using the print() function:\n",
    "greeting = 'Hello'\n",
    "print(greeting)"
   ]
  },
  {
   "cell_type": "code",
   "execution_count": 8,
   "id": "d97bd09d",
   "metadata": {},
   "outputs": [
    {
     "data": {
      "text/plain": [
       "'Hello'"
      ]
     },
     "execution_count": 8,
     "metadata": {},
     "output_type": "execute_result"
    }
   ],
   "source": [
    "#3. Display the value of greeting without using the print() function:\n",
    "greeting\n"
   ]
  },
  {
   "cell_type": "code",
   "execution_count": 9,
   "id": "51920e41",
   "metadata": {},
   "outputs": [],
   "source": [
    "#4. Consider the following sequence of code in a single cell in a Jupyter Notebook:\n",
    "spanish_greeting = 'Hola.'\n",
    "spanish_greeting\n",
    "arabic_greeting = 'Ahlan wa sahlan.'\n"
   ]
  },
  {
   "cell_type": "code",
   "execution_count": 10,
   "id": "e31e5768",
   "metadata": {},
   "outputs": [
    {
     "name": "stdout",
     "output_type": "stream",
     "text": [
      "Hola.\n"
     ]
    }
   ],
   "source": [
    "#5. Display the Spanish greeting:\n",
    "spanish_greeting = 'Hola.'\n",
    "print(spanish_greeting)\n",
    "\n"
   ]
  },
  {
   "cell_type": "code",
   "execution_count": 11,
   "id": "486bf49c",
   "metadata": {},
   "outputs": [
    {
     "name": "stdout",
     "output_type": "stream",
     "text": [
      "Ahlan wa sahlan.\n"
     ]
    }
   ],
   "source": [
    "#6. Now, display the Arabic greeting message, as mentioned in the following code snippet:\n",
    "arabic_greeting = 'Ahlan wa sahlan.'\n",
    "print(arabic_greeting)"
   ]
  },
  {
   "cell_type": "markdown",
   "id": "667ad317",
   "metadata": {},
   "source": [
    "# ii.String Operations and Concatenation"
   ]
  },
  {
   "cell_type": "markdown",
   "id": "44de064c",
   "metadata": {},
   "source": [
    "+ operator combines two strings into one and is referred to as string concatenation.\n",
    "* operator repeats a string."
   ]
  },
  {
   "cell_type": "markdown",
   "id": "5e9fd49a",
   "metadata": {},
   "source": [
    "# Exercise 9: String Concatenation\n",
    "    "
   ]
  },
  {
   "cell_type": "code",
   "execution_count": 12,
   "id": "9381cb5d",
   "metadata": {},
   "outputs": [
    {
     "name": "stdout",
     "output_type": "stream",
     "text": [
      "HolaSenor.\n"
     ]
    }
   ],
   "source": [
    "#1. Open a new Jupyter Notebook.\n",
    "#2. Combine the spanish_greeting we used in Exercise 8, Displaying Strings, with 'Senor.' using the + operator and display the results:\n",
    "spanish_greeting = 'Hola'\n",
    "print(spanish_greeting + 'Senor.')"
   ]
  },
  {
   "cell_type": "code",
   "execution_count": 13,
   "id": "c946854f",
   "metadata": {},
   "outputs": [
    {
     "name": "stdout",
     "output_type": "stream",
     "text": [
      "Hola Senor.\n"
     ]
    }
   ],
   "source": [
    "#3. Now, combine spanish_greeting with 'Senor.' using the + operator, but this time, include a space:\n",
    "spanish_greeting = 'Hola '\n",
    "print(spanish_greeting + 'Senor.')"
   ]
  },
  {
   "cell_type": "code",
   "execution_count": 14,
   "id": "a8edb991",
   "metadata": {},
   "outputs": [
    {
     "name": "stdout",
     "output_type": "stream",
     "text": [
      "HelloHelloHelloHelloHello\n"
     ]
    }
   ],
   "source": [
    "#4. Display the greeting 5 times using the * multiplication operator:\n",
    "greeting = 'Hello'\n",
    "print(greeting * 5)"
   ]
  },
  {
   "cell_type": "code",
   "execution_count": 15,
   "id": "e426a75a",
   "metadata": {},
   "outputs": [
    {
     "name": "stdout",
     "output_type": "stream",
     "text": [
      "Hello Hello Hello Hello Hello \n"
     ]
    }
   ],
   "source": [
    "#4. Display the greeting 5 times using the * multiplication operator:\n",
    "greeting = 'Hello '\n",
    "print(greeting * 5)"
   ]
  },
  {
   "cell_type": "markdown",
   "id": "c06a88eb",
   "metadata": {},
   "source": [
    "# iii. String Interpolation"
   ]
  },
  {
   "cell_type": "code",
   "execution_count": 16,
   "id": "afcd1cc0",
   "metadata": {},
   "outputs": [
    {
     "name": "stdout",
     "output_type": "stream",
     "text": [
      "Should we greet people with Ciao in North Beach?\n"
     ]
    }
   ],
   "source": [
    "#Comma Separators\n",
    "italian_greeting = 'Ciao'\n",
    "print('Should we greet people with', italian_greeting, 'in North Beach?')"
   ]
  },
  {
   "cell_type": "code",
   "execution_count": 17,
   "id": "170e64f8",
   "metadata": {},
   "outputs": [
    {
     "name": "stdout",
     "output_type": "stream",
     "text": [
      "The founder of City Lights Bookstore, Lawrence Ferlinghetti, is now 100 years old.\n"
     ]
    }
   ],
   "source": [
    "#Format\n",
    "\n",
    "owner = 'Lawrence Ferlinghetti'\n",
    "age = 100\n",
    "print('The founder of City Lights Bookstore, {}, is now {} years old.'.format(owner,age))"
   ]
  },
  {
   "cell_type": "code",
   "execution_count": 18,
   "id": "2dd0faaa",
   "metadata": {},
   "outputs": [
    {
     "name": "stdout",
     "output_type": "stream",
     "text": [
      "The founder of City Lights Bookstore, 100, is now Lawrence Ferlinghetti years old.\n"
     ]
    }
   ],
   "source": [
    "#Format\n",
    "\n",
    "owner = 'Lawrence Ferlinghetti'\n",
    "age = 100\n",
    "print('The founder of City Lights Bookstore, {}, is now {} years old.'.format(age,owner))"
   ]
  },
  {
   "cell_type": "code",
   "execution_count": 19,
   "id": "7d4c4dd0",
   "metadata": {},
   "outputs": [
    {
     "data": {
      "text/plain": [
       "16"
      ]
     },
     "execution_count": 19,
     "metadata": {},
     "output_type": "execute_result"
    }
   ],
   "source": [
    "#The len() Function\n",
    "\n",
    "len(arabic_greeting)"
   ]
  },
  {
   "cell_type": "markdown",
   "id": "0a188571",
   "metadata": {},
   "source": [
    "# iv. String Methods"
   ]
  },
  {
   "cell_type": "markdown",
   "id": "6a71a2d7",
   "metadata": {},
   "source": [
    "All Python types, including strings, have their own methods. These methods generally\n",
    "provide shortcuts for implementing useful tasks."
   ]
  },
  {
   "cell_type": "markdown",
   "id": "5025e035",
   "metadata": {},
   "source": [
    "# Exercise 10: String Methods# "
   ]
  },
  {
   "cell_type": "code",
   "execution_count": 20,
   "id": "06430b21",
   "metadata": {},
   "outputs": [],
   "source": [
    "#1. Set a new variable, called name, to any name that you like:\n",
    "name = 'Corey'\n",
    "\n"
   ]
  },
  {
   "cell_type": "code",
   "execution_count": 21,
   "id": "b9ddf7a9",
   "metadata": {},
   "outputs": [
    {
     "data": {
      "text/plain": [
       "'corey'"
      ]
     },
     "execution_count": 21,
     "metadata": {},
     "output_type": "execute_result"
    }
   ],
   "source": [
    "#2. Now, convert the name into lowercase letters using the lower() function\n",
    "\n",
    "name.lower()\n"
   ]
  },
  {
   "cell_type": "code",
   "execution_count": 22,
   "id": "d22f4d20",
   "metadata": {},
   "outputs": [
    {
     "data": {
      "text/plain": [
       "'Corey'"
      ]
     },
     "execution_count": 22,
     "metadata": {},
     "output_type": "execute_result"
    }
   ],
   "source": [
    "#3. Now, capitalize the name using the capitalize() function:\n",
    "name.capitalize()\n"
   ]
  },
  {
   "cell_type": "code",
   "execution_count": 23,
   "id": "1ba05e97",
   "metadata": {},
   "outputs": [
    {
     "data": {
      "text/plain": [
       "'COREY'"
      ]
     },
     "execution_count": 23,
     "metadata": {},
     "output_type": "execute_result"
    }
   ],
   "source": [
    "#4. Convert the name into uppercase letters using upper():\n",
    "name.upper()\n",
    "\n"
   ]
  },
  {
   "cell_type": "code",
   "execution_count": 24,
   "id": "375b18fc",
   "metadata": {},
   "outputs": [
    {
     "data": {
      "text/plain": [
       "1"
      ]
     },
     "execution_count": 24,
     "metadata": {},
     "output_type": "execute_result"
    }
   ],
   "source": [
    "#5. Finally, count the number of o instances in the word 'Corey':\n",
    "name.count('o')"
   ]
  },
  {
   "cell_type": "code",
   "execution_count": 25,
   "id": "aaec9c4c",
   "metadata": {},
   "outputs": [],
   "source": [
    "Ajan=\"Happpppyyy\""
   ]
  },
  {
   "cell_type": "code",
   "execution_count": 26,
   "id": "2673b48a",
   "metadata": {},
   "outputs": [
    {
     "data": {
      "text/plain": [
       "3"
      ]
     },
     "execution_count": 26,
     "metadata": {},
     "output_type": "execute_result"
    }
   ],
   "source": [
    "Ajan.count('y')"
   ]
  },
  {
   "cell_type": "markdown",
   "id": "a92a222e",
   "metadata": {},
   "source": [
    "# v. Casting"
   ]
  },
  {
   "cell_type": "markdown",
   "id": "fbdf701d",
   "metadata": {},
   "source": [
    "It's common for numbers to be expressed as strings when dealing with input and\n",
    "output. Note that '5' and 5 are different types."
   ]
  },
  {
   "cell_type": "markdown",
   "id": "e6eb8635",
   "metadata": {},
   "source": [
    "# Exercise 11: Types and Casting\n",
    "\n"
   ]
  },
  {
   "cell_type": "code",
   "execution_count": 27,
   "id": "fdf2a565",
   "metadata": {},
   "outputs": [
    {
     "data": {
      "text/plain": [
       "str"
      ]
     },
     "execution_count": 27,
     "metadata": {},
     "output_type": "execute_result"
    }
   ],
   "source": [
    "#1. Open a new Jupyter Notebook.\n",
    "#2. Determine the type of '5':\n",
    "type('5')\n"
   ]
  },
  {
   "cell_type": "code",
   "execution_count": 28,
   "id": "29d8f9df",
   "metadata": {},
   "outputs": [
    {
     "data": {
      "text/plain": [
       "int"
      ]
     },
     "execution_count": 28,
     "metadata": {},
     "output_type": "execute_result"
    }
   ],
   "source": [
    "type(5)"
   ]
  },
  {
   "cell_type": "code",
   "execution_count": 29,
   "id": "2dcc5d95",
   "metadata": {},
   "outputs": [
    {
     "data": {
      "text/plain": [
       "'57'"
      ]
     },
     "execution_count": 29,
     "metadata": {},
     "output_type": "execute_result"
    }
   ],
   "source": [
    "#3. Now, add '5' and '7':\n",
    "'5' + '7'\n"
   ]
  },
  {
   "cell_type": "code",
   "execution_count": 30,
   "id": "3df0f810",
   "metadata": {},
   "outputs": [
    {
     "data": {
      "text/plain": [
       "5"
      ]
     },
     "execution_count": 30,
     "metadata": {},
     "output_type": "execute_result"
    }
   ],
   "source": [
    "#4. Convert the '5' string to an int using the code mentioned in the following code snippet:\n",
    "int('5')\n"
   ]
  },
  {
   "cell_type": "code",
   "execution_count": 31,
   "id": "a8d0d697",
   "metadata": {},
   "outputs": [
    {
     "data": {
      "text/plain": [
       "12"
      ]
     },
     "execution_count": 31,
     "metadata": {},
     "output_type": "execute_result"
    }
   ],
   "source": [
    "#5. Add '5' and '7' by converting them to int first:\n",
    "int('5') + int('7')\n"
   ]
  },
  {
   "cell_type": "markdown",
   "id": "932f7fa2",
   "metadata": {},
   "source": [
    "# vi.The input() Function\n",
    "The input() function is a built-in function that allows user input."
   ]
  },
  {
   "cell_type": "markdown",
   "id": "4637c2dd",
   "metadata": {},
   "source": [
    "# Exercise 12: The input() Function\n"
   ]
  },
  {
   "cell_type": "code",
   "execution_count": 32,
   "id": "5fdf213a",
   "metadata": {},
   "outputs": [
    {
     "name": "stdout",
     "output_type": "stream",
     "text": [
      "What is your name?\n"
     ]
    }
   ],
   "source": [
    "#1. Open a new Jupyter Notebook.\n",
    "#2. Ask a user for their name. Respond with an appropriate greeting:\n",
    "# Choose a question to ask\n",
    "print('What is your name?')\n"
   ]
  },
  {
   "cell_type": "code",
   "execution_count": 33,
   "id": "c66da016",
   "metadata": {},
   "outputs": [
    {
     "name": "stdout",
     "output_type": "stream",
     "text": [
      "Ajantha\n"
     ]
    }
   ],
   "source": [
    "#3. Now, set a  variable that will be equal to the input() function, as mentioned in the following code snippet:\n",
    "name = input()"
   ]
  },
  {
   "cell_type": "code",
   "execution_count": 34,
   "id": "09632177",
   "metadata": {},
   "outputs": [
    {
     "name": "stdout",
     "output_type": "stream",
     "text": [
      "Hello, Ajantha.\n"
     ]
    }
   ],
   "source": [
    "#Finally, select an appropriate output:\n",
    "print('Hello, ' + name + '.')"
   ]
  },
  {
   "cell_type": "markdown",
   "id": "1002a09d",
   "metadata": {},
   "source": [
    "# vii. String Indexing and Slicing\n",
    "Indexing and slicing are crucial parts of programming"
   ]
  },
  {
   "cell_type": "code",
   "execution_count": 35,
   "id": "30d5f0f0",
   "metadata": {},
   "outputs": [],
   "source": [
    "# Indexing\n",
    "destination = 'San Francisco'"
   ]
  },
  {
   "cell_type": "code",
   "execution_count": 36,
   "id": "17e6b142",
   "metadata": {},
   "outputs": [
    {
     "data": {
      "text/plain": [
       "'S'"
      ]
     },
     "execution_count": 36,
     "metadata": {},
     "output_type": "execute_result"
    }
   ],
   "source": [
    "destination[0]"
   ]
  },
  {
   "cell_type": "code",
   "execution_count": 37,
   "id": "303b1b06",
   "metadata": {},
   "outputs": [
    {
     "data": {
      "text/plain": [
       "'a'"
      ]
     },
     "execution_count": 37,
     "metadata": {},
     "output_type": "execute_result"
    }
   ],
   "source": [
    "destination[1]"
   ]
  },
  {
   "cell_type": "code",
   "execution_count": 38,
   "id": "345d2713",
   "metadata": {},
   "outputs": [
    {
     "data": {
      "text/plain": [
       "'o'"
      ]
     },
     "execution_count": 38,
     "metadata": {},
     "output_type": "execute_result"
    }
   ],
   "source": [
    "destination[-1]"
   ]
  },
  {
   "cell_type": "code",
   "execution_count": 39,
   "id": "332625d3",
   "metadata": {},
   "outputs": [
    {
     "data": {
      "text/plain": [
       "'c'"
      ]
     },
     "execution_count": 39,
     "metadata": {},
     "output_type": "execute_result"
    }
   ],
   "source": [
    "destination[-2]"
   ]
  },
  {
   "cell_type": "code",
   "execution_count": 40,
   "id": "b23a7e41",
   "metadata": {},
   "outputs": [],
   "source": [
    "bridge=\"Golden Gate\""
   ]
  },
  {
   "cell_type": "code",
   "execution_count": 41,
   "id": "ac7494d9",
   "metadata": {},
   "outputs": [
    {
     "data": {
      "text/plain": [
       "' '"
      ]
     },
     "execution_count": 41,
     "metadata": {},
     "output_type": "execute_result"
    }
   ],
   "source": [
    "bridge[6]\n"
   ]
  },
  {
   "cell_type": "code",
   "execution_count": null,
   "id": "3dafd8d6",
   "metadata": {},
   "outputs": [],
   "source": []
  },
  {
   "cell_type": "markdown",
   "id": "c0448411",
   "metadata": {},
   "source": [
    "# viii. Slicing\n",
    "A slice is a subset of a string or other element"
   ]
  },
  {
   "cell_type": "code",
   "execution_count": 42,
   "id": "503fa0ba",
   "metadata": {},
   "outputs": [
    {
     "data": {
      "text/plain": [
       "'Francis'"
      ]
     },
     "execution_count": 42,
     "metadata": {},
     "output_type": "execute_result"
    }
   ],
   "source": [
    "#destination = 'San Francisco'\n",
    "destination[4:11]"
   ]
  },
  {
   "cell_type": "code",
   "execution_count": 43,
   "id": "15068415",
   "metadata": {},
   "outputs": [
    {
     "data": {
      "text/plain": [
       "'San'"
      ]
     },
     "execution_count": 43,
     "metadata": {},
     "output_type": "execute_result"
    }
   ],
   "source": [
    "destination[0:3]"
   ]
  },
  {
   "cell_type": "code",
   "execution_count": 44,
   "id": "75789636",
   "metadata": {},
   "outputs": [
    {
     "data": {
      "text/plain": [
       "'San Fran'"
      ]
     },
     "execution_count": 44,
     "metadata": {},
     "output_type": "execute_result"
    }
   ],
   "source": [
    "destination[:8]"
   ]
  },
  {
   "cell_type": "code",
   "execution_count": 45,
   "id": "9e0ebde9",
   "metadata": {},
   "outputs": [
    {
     "data": {
      "text/plain": [
       "'sco'"
      ]
     },
     "execution_count": 45,
     "metadata": {},
     "output_type": "execute_result"
    }
   ],
   "source": [
    "destination[-3:]"
   ]
  },
  {
   "cell_type": "code",
   "execution_count": 46,
   "id": "924faba0",
   "metadata": {},
   "outputs": [
    {
     "data": {
      "text/plain": [
       "'sco'"
      ]
     },
     "execution_count": 46,
     "metadata": {},
     "output_type": "execute_result"
    }
   ],
   "source": [
    "destination[-3:]"
   ]
  },
  {
   "cell_type": "code",
   "execution_count": null,
   "id": "3978dc49",
   "metadata": {},
   "outputs": [],
   "source": []
  }
 ],
 "metadata": {
  "kernelspec": {
   "display_name": "Python 3 (ipykernel)",
   "language": "python",
   "name": "python3"
  },
  "language_info": {
   "codemirror_mode": {
    "name": "ipython",
    "version": 3
   },
   "file_extension": ".py",
   "mimetype": "text/x-python",
   "name": "python",
   "nbconvert_exporter": "python",
   "pygments_lexer": "ipython3",
   "version": "3.9.7"
  }
 },
 "nbformat": 4,
 "nbformat_minor": 5
}
