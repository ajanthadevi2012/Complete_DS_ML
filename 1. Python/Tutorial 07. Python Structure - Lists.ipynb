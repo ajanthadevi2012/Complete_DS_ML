{
 "cells": [
  {
   "cell_type": "markdown",
   "id": "0c16dfbd",
   "metadata": {},
   "source": [
    "# 1. Lists"
   ]
  },
  {
   "cell_type": "markdown",
   "id": "6d8b1ffe",
   "metadata": {},
   "source": [
    "# Exercise 21: Working with Python Lists"
   ]
  },
  {
   "cell_type": "code",
   "execution_count": 1,
   "id": "18dc704e",
   "metadata": {},
   "outputs": [
    {
     "name": "stdout",
     "output_type": "stream",
     "text": [
      "['bread', 'milk', 'eggs']\n"
     ]
    }
   ],
   "source": [
    "# 1. Open a new Jupyter Notebook.\n",
    "# 2. Now enter the following code snippet:\n",
    "shopping = [\"bread\",\"milk\", \"eggs\"]\n",
    "print(shopping)"
   ]
  },
  {
   "cell_type": "code",
   "execution_count": 2,
   "id": "c57376bf",
   "metadata": {},
   "outputs": [
    {
     "name": "stdout",
     "output_type": "stream",
     "text": [
      "bread\n",
      "milk\n",
      "eggs\n"
     ]
    }
   ],
   "source": [
    "# 3. Now, enter and execute the code for a for loop and observe the output:\n",
    "for item in shopping:\n",
    "    print(item)"
   ]
  },
  {
   "cell_type": "code",
   "execution_count": 3,
   "id": "ebeb1758",
   "metadata": {},
   "outputs": [
    {
     "name": "stdout",
     "output_type": "stream",
     "text": [
      "[365, 'days', True]\n"
     ]
    }
   ],
   "source": [
    "# 4. Now use a mixed type of data within the list's content and enter the following code in a new cell:\n",
    "mixed = [365, \"days\", True]\n",
    "print(mixed)"
   ]
  },
  {
   "cell_type": "markdown",
   "id": "86d7d237",
   "metadata": {},
   "source": [
    "# 2. Matrices as Nested Lists"
   ]
  },
  {
   "cell_type": "markdown",
   "id": "fec474db",
   "metadata": {},
   "source": [
    "# Exercise 22: Using a Nested List to Store Data from a Matrix\n",
    "\n",
    "\n"
   ]
  },
  {
   "cell_type": "code",
   "execution_count": 4,
   "id": "0e9d535a",
   "metadata": {},
   "outputs": [],
   "source": [
    "# 1. Open a new Jupyter notebook.\n",
    "# 2. Enter the following code in a new cell:\n",
    "m = [[1, 2, 3], [4, 5, 6]]\n",
    "\n",
    "\n",
    "#  1  2  3\n",
    "#  4  5  6"
   ]
  },
  {
   "cell_type": "code",
   "execution_count": 5,
   "id": "50c7d8b9",
   "metadata": {},
   "outputs": [
    {
     "name": "stdout",
     "output_type": "stream",
     "text": [
      "5\n"
     ]
    }
   ],
   "source": [
    "# 3. Now print list m:\n",
    "print(m[1][1])"
   ]
  },
  {
   "cell_type": "code",
   "execution_count": 6,
   "id": "1dc41426",
   "metadata": {},
   "outputs": [
    {
     "name": "stdout",
     "output_type": "stream",
     "text": [
      "1\n",
      "2\n",
      "3\n",
      "4\n",
      "5\n",
      "6\n"
     ]
    }
   ],
   "source": [
    "# 4. Now, access each of the elements in the nested list matrix by retaining their reference index with two variables, i and j:\n",
    "for i in range(len(m)):\n",
    "    for j in range(len(m[i])):\n",
    "        print(m[i][j])"
   ]
  },
  {
   "cell_type": "code",
   "execution_count": 7,
   "id": "3d5e8376",
   "metadata": {},
   "outputs": [
    {
     "name": "stdout",
     "output_type": "stream",
     "text": [
      "1\n",
      "2\n",
      "3\n",
      "4\n",
      "5\n",
      "6\n"
     ]
    }
   ],
   "source": [
    "# 5. Use two for..in loops to print all the elements within the matrix:\n",
    "for row in m:\n",
    "    for col in row:\n",
    "        print(col)"
   ]
  },
  {
   "cell_type": "markdown",
   "id": "c93beab7",
   "metadata": {},
   "source": [
    "# 3. Matrix Operations"
   ]
  },
  {
   "cell_type": "markdown",
   "id": "ffb6fc76",
   "metadata": {},
   "source": [
    "# Exercise 23: Implementing Matrix Operations (Addition and Subtraction)"
   ]
  },
  {
   "cell_type": "code",
   "execution_count": 8,
   "id": "c91005fc",
   "metadata": {},
   "outputs": [],
   "source": [
    "# 1. Open a new Jupyter Notebook.\n",
    "# 2. Create two nested lists, X and Y, to store the values:\n",
    "X = [[1,2,3],[4,5,6],[7,8,9]]\n",
    "\n",
    "# 1  2  3\n",
    "# 4  5  6\n",
    "# 7  8  9\n",
    "\n",
    "\n",
    "Y = [[10,11,12],[13,14,15],[16,17,18]]\n",
    "\n",
    "\n",
    "# 10  11  12 \n",
    "# 13  14  15\n",
    "# 16  17  18"
   ]
  },
  {
   "cell_type": "code",
   "execution_count": 9,
   "id": "ead8a2bf",
   "metadata": {},
   "outputs": [],
   "source": [
    "# 3. Initialize a 3 x 3 zero matrix called result as a placeholder:\n",
    "# Initialize a result placeholder\n",
    "result = [[0,0,0],\n",
    "[0,0,0],\n",
    "[0,0,0]]"
   ]
  },
  {
   "cell_type": "markdown",
   "id": "4f01d570",
   "metadata": {},
   "source": [
    "# i. Addition"
   ]
  },
  {
   "cell_type": "code",
   "execution_count": 10,
   "id": "032fcc75",
   "metadata": {},
   "outputs": [
    {
     "name": "stdout",
     "output_type": "stream",
     "text": [
      "[[11, 13, 15], [17, 19, 21], [23, 25, 27]]\n"
     ]
    }
   ],
   "source": [
    "# 4. Now, implement the algorithm by iterating through the cells and columns of the matrix:\n",
    "# iterate through rows\n",
    "for i in range(len(X)):\n",
    "# iterate through columns\n",
    "    for j in range(len(X[0])):\n",
    "        result[i][j] = X[i][j] + Y[i][j]\n",
    "print(result)"
   ]
  },
  {
   "cell_type": "markdown",
   "id": "aded9369",
   "metadata": {},
   "source": [
    "# ii. Subtraction"
   ]
  },
  {
   "cell_type": "code",
   "execution_count": 11,
   "id": "a551127f",
   "metadata": {},
   "outputs": [
    {
     "name": "stdout",
     "output_type": "stream",
     "text": [
      "[[9, 9, 9], [9, 9, 9], [9, 9, 9]]\n"
     ]
    }
   ],
   "source": [
    " '''5. You can also perform subtraction using two matrices using the same algorithm with a different operator. \n",
    "The idea behind this is exactly the same as in step 3, except you are doing subtraction. \n",
    "You can implement the following code to try out\n",
    "matrix subtraction: '''\n",
    "    \n",
    "X = [[10,11,12],[13,14,15],[16,17,18]]\n",
    "Y = [[1,2,3],[4,5,6],[7,8,9]]\n",
    "\n",
    "# Initialize a result placeholder\n",
    "result = [[0,0,0],\n",
    "[0,0,0],\n",
    "[0,0,0]]\n",
    "\n",
    "# iterate through rows\n",
    "for i in range(len(X)):\n",
    "# iterate through columns\n",
    "    for j in range(len(X[0])):\n",
    "        result[i][j] = X[i][j] - Y[i][j]\n",
    "\n",
    "print(result)"
   ]
  },
  {
   "cell_type": "markdown",
   "id": "5fbb8f11",
   "metadata": {},
   "source": [
    "# iii. Multiplication"
   ]
  },
  {
   "cell_type": "markdown",
   "id": "0745ee60",
   "metadata": {},
   "source": [
    "# Exercise 24: Implementing Matrix Operations (Multiplication)"
   ]
  },
  {
   "cell_type": "code",
   "execution_count": 12,
   "id": "3f9425d3",
   "metadata": {},
   "outputs": [],
   "source": [
    "# 1. Open a new Jupyter notebook.\n",
    "# 2. Create two nested lists, X and Y, to store the value of matrices X and Y:\n",
    "X = [[1, 2], [4, 5], [3, 6]]\n",
    "\n",
    "# 1  2\n",
    "# 4  5\n",
    "# 3  6\n",
    "\n",
    "\n",
    "Y = [[1,2,3,4],[5,6,7,8]]\n",
    "\n",
    "# 1  2  3  4 \n",
    "# 5  6  7  8"
   ]
  },
  {
   "cell_type": "code",
   "execution_count": 13,
   "id": "110b296f",
   "metadata": {},
   "outputs": [],
   "source": [
    "# 3. Create a zero-matrix placeholder to store the result:\n",
    "result = [[0, 0, 0, 0], [0, 0, 0, 0], [0, 0, 0, 0]]\n",
    "\n",
    "# 0  0  0  0 \n",
    "# 0  0  0  0\n",
    "# 0  0  0  0"
   ]
  },
  {
   "cell_type": "code",
   "execution_count": 14,
   "id": "5fb4eaa3",
   "metadata": {},
   "outputs": [],
   "source": [
    "# 4. Implement the matrix multiplication algorithm to compute the result:\n",
    "# iterating by row of X\n",
    "for i in range(len(X)):\n",
    "    # iterating by column by Y\n",
    "    for j in range(len(Y[0])):\n",
    "        # iterating by rows of Y\n",
    "        for k in range(len(Y)):\n",
    "            result[i][j] += X[i][k] * Y[k][j]"
   ]
  },
  {
   "cell_type": "code",
   "execution_count": 15,
   "id": "695f58b0",
   "metadata": {},
   "outputs": [
    {
     "name": "stdout",
     "output_type": "stream",
     "text": [
      "[11, 14, 17, 20]\n",
      "[29, 38, 47, 56]\n",
      "[33, 42, 51, 60]\n"
     ]
    }
   ],
   "source": [
    "# 5. Now, print the final result:\n",
    "for r in result:\n",
    "    print(r)"
   ]
  },
  {
   "cell_type": "markdown",
   "id": "74f61bfb",
   "metadata": {},
   "source": [
    "# 4. List Methods"
   ]
  },
  {
   "cell_type": "markdown",
   "id": "e769ba58",
   "metadata": {},
   "source": [
    "# Exercise 25: Basic List Operations"
   ]
  },
  {
   "cell_type": "code",
   "execution_count": 16,
   "id": "42184a61",
   "metadata": {},
   "outputs": [],
   "source": [
    "# 1. Open a new Jupyter notebook.\n",
    "# 2. Type the following code\n",
    "shopping = [\"bread\",\"milk\", \"eggs\"]\n"
   ]
  },
  {
   "cell_type": "code",
   "execution_count": 17,
   "id": "74ab2563",
   "metadata": {},
   "outputs": [
    {
     "name": "stdout",
     "output_type": "stream",
     "text": [
      "3\n"
     ]
    }
   ],
   "source": [
    "# 3. The length of a list is found using the len function.\n",
    "print(len(shopping))"
   ]
  },
  {
   "cell_type": "code",
   "execution_count": 18,
   "id": "86dde4e1",
   "metadata": {},
   "outputs": [
    {
     "name": "stdout",
     "output_type": "stream",
     "text": [
      "[1, 2, 3, 4, 5, 6]\n"
     ]
    }
   ],
   "source": [
    "# 4. Now concatenate two lists using the + operator:\n",
    "list1 = [1,2,3]\n",
    "list2 = [4,5,6]\n",
    "final_list = list1 + list2\n",
    "print(final_list)"
   ]
  },
  {
   "cell_type": "code",
   "execution_count": 19,
   "id": "0b38fd49",
   "metadata": {},
   "outputs": [
    {
     "name": "stdout",
     "output_type": "stream",
     "text": [
      "['oi', 'oi', 'oi']\n"
     ]
    }
   ],
   "source": [
    "list3 = ['oi']\n",
    "lis=[print(list3*3)]"
   ]
  },
  {
   "cell_type": "code",
   "execution_count": 20,
   "id": "42b3adca",
   "metadata": {},
   "outputs": [
    {
     "name": "stdout",
     "output_type": "stream",
     "text": [
      "1\n"
     ]
    }
   ],
   "source": [
    "print(len(list3))"
   ]
  },
  {
   "cell_type": "code",
   "execution_count": 21,
   "id": "8583a9f5",
   "metadata": {},
   "outputs": [
    {
     "name": "stdout",
     "output_type": "stream",
     "text": [
      "1\n"
     ]
    }
   ],
   "source": [
    "print(len(lis))"
   ]
  },
  {
   "cell_type": "markdown",
   "id": "d175dd73",
   "metadata": {},
   "source": [
    "# i. Accessing an Item from a List"
   ]
  },
  {
   "cell_type": "markdown",
   "id": "1e0c1c2e",
   "metadata": {},
   "source": [
    "# Exercise 26: Accessing an Item from Shopping List Data"
   ]
  },
  {
   "cell_type": "code",
   "execution_count": 22,
   "id": "5f5dc0bc",
   "metadata": {},
   "outputs": [
    {
     "name": "stdout",
     "output_type": "stream",
     "text": [
      "milk\n"
     ]
    }
   ],
   "source": [
    "# 1. Open a new Jupyter Notebook.\n",
    "# 2. Enter the following code in a new cell:\n",
    "shopping = [\"bread\",\"milk\", \"eggs\"]\n",
    "print(shopping[1])"
   ]
  },
  {
   "cell_type": "code",
   "execution_count": 23,
   "id": "9d90a503",
   "metadata": {},
   "outputs": [
    {
     "name": "stdout",
     "output_type": "stream",
     "text": [
      "['bread', 'banana', 'eggs']\n"
     ]
    }
   ],
   "source": [
    "# 3. Now, access the milk element and replace it with banana:\n",
    "shopping[1] = \"banana\"\n",
    "print(shopping)"
   ]
  },
  {
   "cell_type": "code",
   "execution_count": 24,
   "id": "8cafd6f9",
   "metadata": {},
   "outputs": [
    {
     "name": "stdout",
     "output_type": "stream",
     "text": [
      "eggs\n"
     ]
    }
   ],
   "source": [
    "# 4. Type the following code in a new cell and observe the output:\n",
    "print(shopping[-1])"
   ]
  },
  {
   "cell_type": "code",
   "execution_count": 25,
   "id": "6ce42340",
   "metadata": {},
   "outputs": [
    {
     "name": "stdout",
     "output_type": "stream",
     "text": [
      "eggs\n"
     ]
    }
   ],
   "source": [
    "print(shopping[2])"
   ]
  },
  {
   "cell_type": "code",
   "execution_count": 26,
   "id": "6e9d7504",
   "metadata": {},
   "outputs": [
    {
     "name": "stdout",
     "output_type": "stream",
     "text": [
      "['bread', 'banana']\n"
     ]
    }
   ],
   "source": [
    "# 5. Enter the following code to try out a different type of slicing:\n",
    "print(shopping[0:2])"
   ]
  },
  {
   "cell_type": "code",
   "execution_count": 27,
   "id": "04e4a11b",
   "metadata": {},
   "outputs": [
    {
     "name": "stdout",
     "output_type": "stream",
     "text": [
      "['bread', 'banana']\n"
     ]
    }
   ],
   "source": [
    "print(shopping[:2])"
   ]
  },
  {
   "cell_type": "code",
   "execution_count": 28,
   "id": "af9e2482",
   "metadata": {},
   "outputs": [
    {
     "name": "stdout",
     "output_type": "stream",
     "text": [
      "['bread', 'banana', 'eggs']\n"
     ]
    }
   ],
   "source": [
    "print(shopping[:3])"
   ]
  },
  {
   "cell_type": "code",
   "execution_count": 29,
   "id": "867c502e",
   "metadata": {},
   "outputs": [
    {
     "name": "stdout",
     "output_type": "stream",
     "text": [
      "['banana', 'eggs']\n"
     ]
    }
   ],
   "source": [
    "print(shopping[1:])"
   ]
  },
  {
   "cell_type": "markdown",
   "id": "64cf0721",
   "metadata": {},
   "source": [
    "# ii. Adding an Item to a List"
   ]
  },
  {
   "cell_type": "markdown",
   "id": "1c7a47e2",
   "metadata": {},
   "source": [
    "# Exercise 27: Adding Items to Our Shopping List"
   ]
  },
  {
   "cell_type": "code",
   "execution_count": 30,
   "id": "fe908ee4",
   "metadata": {},
   "outputs": [
    {
     "name": "stdout",
     "output_type": "stream",
     "text": [
      "['bread', 'milk', 'eggs', 'apple']\n"
     ]
    }
   ],
   "source": [
    "# 1. In a new cell, type the following code to add a new element, apple, to the end of the list using the append method:\n",
    "shopping = [\"bread\",\"milk\", \"eggs\"]\n",
    "shopping.append(\"apple\")\n",
    "print(shopping)"
   ]
  },
  {
   "cell_type": "code",
   "execution_count": 31,
   "id": "e4e4b220",
   "metadata": {},
   "outputs": [
    {
     "name": "stdout",
     "output_type": "stream",
     "text": [
      "['bread', 'milk', 'eggs', 'apple']\n"
     ]
    }
   ],
   "source": [
    "# 2. Now create an empty list, shopping, and keep adding items one by one to this empty list:\n",
    "shopping = []\n",
    "shopping.append('bread')\n",
    "shopping.append('milk')\n",
    "shopping.append('eggs')\n",
    "shopping.append('apple')\n",
    "print(shopping)"
   ]
  },
  {
   "cell_type": "code",
   "execution_count": 32,
   "id": "11ca3e6a",
   "metadata": {},
   "outputs": [
    {
     "name": "stdout",
     "output_type": "stream",
     "text": [
      "['bread', 'milk', 'ham', 'eggs', 'apple']\n"
     ]
    }
   ],
   "source": [
    "# 3. Now use the insert method to add elements to the shopping list:\n",
    "shopping.insert(2, 'ham')\n",
    "print(shopping)"
   ]
  },
  {
   "cell_type": "code",
   "execution_count": null,
   "id": "be65f5a6",
   "metadata": {},
   "outputs": [],
   "source": []
  }
 ],
 "metadata": {
  "kernelspec": {
   "display_name": "Python 3 (ipykernel)",
   "language": "python",
   "name": "python3"
  },
  "language_info": {
   "codemirror_mode": {
    "name": "ipython",
    "version": 3
   },
   "file_extension": ".py",
   "mimetype": "text/x-python",
   "name": "python",
   "nbconvert_exporter": "python",
   "pygments_lexer": "ipython3",
   "version": "3.9.7"
  }
 },
 "nbformat": 4,
 "nbformat_minor": 5
}
