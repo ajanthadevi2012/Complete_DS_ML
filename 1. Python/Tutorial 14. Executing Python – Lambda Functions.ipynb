{
 "cells": [
  {
   "cell_type": "markdown",
   "id": "81d62372",
   "metadata": {},
   "source": [
    "# Variable Scope"
   ]
  },
  {
   "cell_type": "markdown",
   "id": "9fbd9922",
   "metadata": {},
   "source": [
    "# i. Defining inside versus outside a Function"
   ]
  },
  {
   "cell_type": "code",
   "execution_count": 1,
   "id": "e1782d25",
   "metadata": {},
   "outputs": [
    {
     "name": "stdout",
     "output_type": "stream",
     "text": [
      "5\n",
      "4\n",
      "5\n"
     ]
    }
   ],
   "source": [
    "x=5\n",
    "print(x)\n",
    "y=x\n",
    "x=4\n",
    "print(x)\n",
    "print(y)"
   ]
  },
  {
   "cell_type": "code",
   "execution_count": 2,
   "id": "85669242",
   "metadata": {},
   "outputs": [
    {
     "name": "stdout",
     "output_type": "stream",
     "text": [
      "5\n"
     ]
    }
   ],
   "source": [
    "x = 5\n",
    "def do_things():\n",
    "    print(x)\n",
    "do_things()"
   ]
  },
  {
   "cell_type": "code",
   "execution_count": 3,
   "id": "d5d1dd1d",
   "metadata": {},
   "outputs": [
    {
     "data": {
      "text/plain": [
       "2"
      ]
     },
     "execution_count": 3,
     "metadata": {},
     "output_type": "execute_result"
    }
   ],
   "source": [
    "def my_func():\n",
    "    y = 5\n",
    "    return 2\n",
    "my_func()\n"
   ]
  },
  {
   "cell_type": "code",
   "execution_count": 4,
   "id": "79b8900a",
   "metadata": {},
   "outputs": [
    {
     "data": {
      "text/plain": [
       "5"
      ]
     },
     "execution_count": 4,
     "metadata": {},
     "output_type": "execute_result"
    }
   ],
   "source": [
    "y"
   ]
  },
  {
   "cell_type": "code",
   "execution_count": 5,
   "id": "9b962af6",
   "metadata": {},
   "outputs": [
    {
     "name": "stdout",
     "output_type": "stream",
     "text": [
      "5\n"
     ]
    }
   ],
   "source": [
    "x=3\n",
    "def my_fun():\n",
    "    x=5\n",
    "    print(x)\n",
    "    \n",
    "my_fun()"
   ]
  },
  {
   "cell_type": "code",
   "execution_count": 6,
   "id": "4c57d3c9",
   "metadata": {},
   "outputs": [
    {
     "data": {
      "text/plain": [
       "3"
      ]
     },
     "execution_count": 6,
     "metadata": {},
     "output_type": "execute_result"
    }
   ],
   "source": [
    "x"
   ]
  },
  {
   "cell_type": "code",
   "execution_count": 7,
   "id": "f5fa3072",
   "metadata": {},
   "outputs": [
    {
     "name": "stdout",
     "output_type": "stream",
     "text": [
      "100\n",
      "0\n"
     ]
    }
   ],
   "source": [
    "score=0\n",
    "def update_score(new_score):\n",
    "    score=new_score\n",
    "    print(score)\n",
    "update_score(100)\n",
    "    \n",
    "print(score)"
   ]
  },
  {
   "cell_type": "markdown",
   "id": "a8f50f1f",
   "metadata": {},
   "source": [
    "# ii. The Global Keyword"
   ]
  },
  {
   "cell_type": "code",
   "execution_count": 8,
   "id": "d4a09103",
   "metadata": {},
   "outputs": [
    {
     "name": "stdout",
     "output_type": "stream",
     "text": [
      "0\n"
     ]
    }
   ],
   "source": [
    "score = 0\n",
    "def update_score(new_score):\n",
    "    global score\n",
    "    score = new_score\n",
    "print(score)"
   ]
  },
  {
   "cell_type": "code",
   "execution_count": 9,
   "id": "936bb03d",
   "metadata": {},
   "outputs": [],
   "source": [
    "update_score(100)"
   ]
  },
  {
   "cell_type": "code",
   "execution_count": 10,
   "id": "a372c4bd",
   "metadata": {},
   "outputs": [
    {
     "name": "stdout",
     "output_type": "stream",
     "text": [
      "100\n"
     ]
    }
   ],
   "source": [
    "print(score)"
   ]
  },
  {
   "cell_type": "markdown",
   "id": "6fd58390",
   "metadata": {},
   "source": [
    "# iii. The Nonlocal Keyword"
   ]
  },
  {
   "cell_type": "code",
   "execution_count": 11,
   "id": "99fe6dae",
   "metadata": {},
   "outputs": [
    {
     "name": "stdout",
     "output_type": "stream",
     "text": [
      "3\n"
     ]
    }
   ],
   "source": [
    "x = 4\n",
    "def myfunc():\n",
    "    x = 3\n",
    "    def inner():\n",
    "        nonlocal x\n",
    "        print(x)\n",
    "    inner()\n",
    "myfunc()"
   ]
  },
  {
   "cell_type": "markdown",
   "id": "5dad1041",
   "metadata": {},
   "source": [
    "# iv. Lambda Functions"
   ]
  },
  {
   "cell_type": "code",
   "execution_count": null,
   "id": "01612bf7",
   "metadata": {},
   "outputs": [],
   "source": [
    "lambda arguments : expression"
   ]
  },
  {
   "cell_type": "code",
   "execution_count": 12,
   "id": "c34a8cc2",
   "metadata": {},
   "outputs": [
    {
     "name": "stdout",
     "output_type": "stream",
     "text": [
      "7\n"
     ]
    }
   ],
   "source": [
    "def add_up(x, y):\n",
    "    return x + y\n",
    "print(add_up(2, 5))"
   ]
  },
  {
   "cell_type": "code",
   "execution_count": 13,
   "id": "57fa4469",
   "metadata": {},
   "outputs": [
    {
     "name": "stdout",
     "output_type": "stream",
     "text": [
      "7\n"
     ]
    }
   ],
   "source": [
    "add_up = lambda x, y: x + y\n",
    "print(add_up(2, 5))"
   ]
  },
  {
   "cell_type": "markdown",
   "id": "18481f45",
   "metadata": {},
   "source": [
    "# Exercise : The First Item in a List"
   ]
  },
  {
   "cell_type": "code",
   "execution_count": 14,
   "id": "cafc2ba4",
   "metadata": {},
   "outputs": [
    {
     "data": {
      "text/plain": [
       "'cat'"
      ]
     },
     "execution_count": 14,
     "metadata": {},
     "output_type": "execute_result"
    }
   ],
   "source": [
    "# 1. Create the lambda function:\n",
    "first_item = lambda my_list: my_list[0]\n",
    "# 2. Test the function:\n",
    "first_item(['cat', 'dog', 'mouse'])"
   ]
  },
  {
   "cell_type": "markdown",
   "id": "498cc5d5",
   "metadata": {},
   "source": [
    "# v. Mapping with Lambda Functions"
   ]
  },
  {
   "cell_type": "code",
   "execution_count": 15,
   "id": "6119f8ef",
   "metadata": {},
   "outputs": [],
   "source": [
    "names = ['Magda', 'Jose', 'Anne']"
   ]
  },
  {
   "cell_type": "code",
   "execution_count": 16,
   "id": "25008c7e",
   "metadata": {},
   "outputs": [],
   "source": [
    "lengths = []\n",
    "for name in names:\n",
    "    lengths.append(len(name))"
   ]
  },
  {
   "cell_type": "code",
   "execution_count": 17,
   "id": "89588e0a",
   "metadata": {},
   "outputs": [],
   "source": [
    "lengths = list(map(len, names))"
   ]
  },
  {
   "cell_type": "code",
   "execution_count": 18,
   "id": "1e2a6b65",
   "metadata": {},
   "outputs": [
    {
     "data": {
      "text/plain": [
       "4.333333333333333"
      ]
     },
     "execution_count": 18,
     "metadata": {},
     "output_type": "execute_result"
    }
   ],
   "source": [
    "sum(lengths) / len(lengths)"
   ]
  },
  {
   "cell_type": "code",
   "execution_count": 19,
   "id": "6acb2467",
   "metadata": {},
   "outputs": [],
   "source": [
    "import math"
   ]
  },
  {
   "cell_type": "code",
   "execution_count": 20,
   "id": "ab690d1b",
   "metadata": {},
   "outputs": [],
   "source": [
    "num =[-3, -5, 1, 4]"
   ]
  },
  {
   "cell_type": "code",
   "execution_count": 21,
   "id": "9378db15",
   "metadata": {},
   "outputs": [
    {
     "data": {
      "text/plain": [
       "[0.04742587317756678,\n",
       " 0.0066928509242848554,\n",
       " 0.7310585786300049,\n",
       " 0.9820137900379085]"
      ]
     },
     "execution_count": 21,
     "metadata": {},
     "output_type": "execute_result"
    }
   ],
   "source": [
    "list(map(lambda x: 1/(1+math.exp(-x)), num))"
   ]
  },
  {
   "cell_type": "code",
   "execution_count": null,
   "id": "439ccf34",
   "metadata": {},
   "outputs": [],
   "source": []
  }
 ],
 "metadata": {
  "kernelspec": {
   "display_name": "Python 3 (ipykernel)",
   "language": "python",
   "name": "python3"
  },
  "language_info": {
   "codemirror_mode": {
    "name": "ipython",
    "version": 3
   },
   "file_extension": ".py",
   "mimetype": "text/x-python",
   "name": "python",
   "nbconvert_exporter": "python",
   "pygments_lexer": "ipython3",
   "version": "3.9.7"
  }
 },
 "nbformat": 4,
 "nbformat_minor": 5
}
