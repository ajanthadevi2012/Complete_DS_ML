{
 "cells": [
  {
   "cell_type": "markdown",
   "id": "4b94ad49",
   "metadata": {},
   "source": [
    "# 1. Python Scripts"
   ]
  },
  {
   "cell_type": "markdown",
   "id": "e59ec462",
   "metadata": {},
   "source": [
    "# Exercise 34: Writing and Executing Our First Script"
   ]
  },
  {
   "cell_type": "markdown",
   "id": "a5261d67",
   "metadata": {},
   "source": [
    "1. Using your favorite text editor, create a new file called my_script.py. You can also use Jupyter (New | Text File).\n",
    "\n",
    "2. Import the math library:\n",
    "\n",
    "3. Suppose that you had a list of numbers and you wanted to print the sum of the factorials of these numbers. \n",
    "\n",
    "4. Using the math.factorial function and list comprehension, compute and print result:\n",
    "\n",
    "5. Save the file.\n",
    "\n",
    "6. Open a Terminal or a Jupyter Notebook and ensure that your current directory is the same as the one with the my_script.py file. To check this, if you run dir in the Terminal, you should see my_script.py in the list of files. If not, navigate to the correct directory using the cd command.\n",
    "\n",
    "7. Run python my_script.py to execute your script."
   ]
  },
  {
   "cell_type": "markdown",
   "id": "c1e15f14",
   "metadata": {},
   "source": [
    "# 2. Modules"
   ]
  },
  {
   "cell_type": "markdown",
   "id": "4d3412b4",
   "metadata": {},
   "source": [
    "# Exercise 35: Writing and Importing Our First Module"
   ]
  },
  {
   "cell_type": "markdown",
   "id": "0daa270a",
   "metadata": {},
   "source": [
    "1. Using your favorite text editor, create a new file called my_module.py. You can also use Jupyter (New | Text File).\n",
    "\n",
    "2. Add a function that prints the result of the computation in Exercise 34, Writing and Executing Our First Script. You will learn more about this function notation in the upcoming section on basic functions:\n",
    "\n",
    "3. Save the file.\n",
    "\n",
    "4. Open a Python shell or Jupyter Notebook and execute the following:\n"
   ]
  },
  {
   "cell_type": "markdown",
   "id": "0f5b815f",
   "metadata": {},
   "source": [
    "# 3. Docstrings\n"
   ]
  },
  {
   "cell_type": "markdown",
   "id": "e67fe68d",
   "metadata": {},
   "source": [
    "# Exercise 36: Adding a Docstring to my_module.py"
   ]
  },
  {
   "cell_type": "markdown",
   "id": "073d5d39",
   "metadata": {},
   "source": [
    "# 4. Imports"
   ]
  },
  {
   "cell_type": "markdown",
   "id": "685b029d",
   "metadata": {},
   "source": [
    "# Exercise 37: Finding the System Date"
   ]
  },
  {
   "cell_type": "code",
   "execution_count": 1,
   "id": "fd9defa6",
   "metadata": {},
   "outputs": [
    {
     "name": "stdout",
     "output_type": "stream",
     "text": [
      "2022-09-28\n"
     ]
    }
   ],
   "source": [
    "%run today.py"
   ]
  },
  {
   "cell_type": "code",
   "execution_count": null,
   "id": "a7a1a873",
   "metadata": {},
   "outputs": [],
   "source": []
  }
 ],
 "metadata": {
  "kernelspec": {
   "display_name": "Python 3 (ipykernel)",
   "language": "python",
   "name": "python3"
  },
  "language_info": {
   "codemirror_mode": {
    "name": "ipython",
    "version": 3
   },
   "file_extension": ".py",
   "mimetype": "text/x-python",
   "name": "python",
   "nbconvert_exporter": "python",
   "pygments_lexer": "ipython3",
   "version": "3.9.7"
  }
 },
 "nbformat": 4,
 "nbformat_minor": 5
}
