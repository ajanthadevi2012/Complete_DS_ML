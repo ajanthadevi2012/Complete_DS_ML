{
 "cells": [
  {
   "cell_type": "markdown",
   "id": "9b477565",
   "metadata": {},
   "source": [
    "# 5. Dictionary Keys and Values"
   ]
  },
  {
   "cell_type": "code",
   "execution_count": 1,
   "id": "0f88cd92",
   "metadata": {},
   "outputs": [],
   "source": [
    "employee = {\n",
    "'name': \"Jack Nelson\",\n",
    "'age': 32,\n",
    "'department': \"sales\"\n",
    "}"
   ]
  },
  {
   "cell_type": "markdown",
   "id": "80747e6a",
   "metadata": {},
   "source": [
    "Dictionaries are like lists. They both share the following properties:\n",
    "\n",
    "• Both can be used to store values.\n",
    "\n",
    "• Both can be changed in place and can grow and shrink on demand.\n",
    "\n",
    "• Both can be nested: a dictionary can contain another dictionary, a list can contain\n",
    "another list, and a list can contain a dictionary and vice versa.\n",
    "\n",
    "\n",
    "There are, however, a few rules that you need to remember with Python dictionaries:\n",
    "\n",
    "• Keys must be unique — no duplicate keys are allowed.\n",
    "\n",
    "• Keys must be immutable — they can be a string, a number, or a tuple."
   ]
  },
  {
   "cell_type": "markdown",
   "id": "aaad0b1f",
   "metadata": {},
   "source": [
    "# Exercise 28: Using a Dictionary to Store a Movie Record"
   ]
  },
  {
   "cell_type": "code",
   "execution_count": 2,
   "id": "24887b18",
   "metadata": {},
   "outputs": [],
   "source": [
    "# 1. Open a Jupyter Notebook.\n",
    "# 2. Enter the following code in a blank cell:\n",
    "movie = {\n",
    "\"title\": \"The Godfather\",\n",
    "\"director\": \"Francis Ford Coppola\",\n",
    "\"year\": 1972,\n",
    "\"rating\": 9.2\n",
    "}\n"
   ]
  },
  {
   "cell_type": "code",
   "execution_count": 3,
   "id": "d226d8f2",
   "metadata": {},
   "outputs": [
    {
     "name": "stdout",
     "output_type": "stream",
     "text": [
      "1972\n"
     ]
    }
   ],
   "source": [
    "# 3. Access the information from the dictionary by using a key. For instance, you can use 'year' to find out when the movie was first released:\n",
    "print(movie['year'])\n"
   ]
  },
  {
   "cell_type": "code",
   "execution_count": 4,
   "id": "261c8a20",
   "metadata": {},
   "outputs": [
    {
     "name": "stdout",
     "output_type": "stream",
     "text": [
      "9.25\n"
     ]
    }
   ],
   "source": [
    "# 4. Now update a dictionary value:\n",
    "movie['rating'] = (movie['rating'] + 9.3)/2\n",
    "\n",
    "#movie['rating'] = 10\n",
    "print(movie['rating'])"
   ]
  },
  {
   "cell_type": "code",
   "execution_count": 5,
   "id": "05725eab",
   "metadata": {},
   "outputs": [
    {
     "name": "stdout",
     "output_type": "stream",
     "text": [
      "{'title': 'The Godfather', 'director': 'Francis Ford Coppola', 'year': 1972, 'rating': 9.2}\n"
     ]
    }
   ],
   "source": [
    "# 5. Construct a movi e dictionary from scratch and extend it using key-value assignment:\n",
    "movie = {}\n",
    "movie['title'] = \"The Godfather\"\n",
    "movie['director'] = \"Francis Ford Coppola\"\n",
    "movie['year'] = 1972\n",
    "movie['rating'] = 9.2\n",
    "print(movie)"
   ]
  },
  {
   "cell_type": "code",
   "execution_count": 6,
   "id": "9df2742c",
   "metadata": {},
   "outputs": [
    {
     "name": "stdout",
     "output_type": "stream",
     "text": [
      "{'title': 'The Godfather', 'director': 'Francis Ford Coppola', 'year': 1972, 'rating': 9.2, 'actors': ['Marlon Brando', 'Al Pacino', 'James Caan'], 'other_details': {'runtime': 175, 'language': 'English'}}\n"
     ]
    }
   ],
   "source": [
    "# 6. You can also store a list inside a dictionary and store a dictionary within that dictionary:\n",
    "movie['actors'] = ['Marlon Brando', 'Al Pacino', 'James Caan']\n",
    "movie['other_details'] = {\n",
    "'runtime': 175,\n",
    "'language': 'English'\n",
    "}\n",
    "print(movie)"
   ]
  },
  {
   "cell_type": "markdown",
   "id": "c1ec2f4d",
   "metadata": {},
   "source": [
    "# iii. Dictionary Methods"
   ]
  },
  {
   "cell_type": "markdown",
   "id": "9bf9d8d9",
   "metadata": {},
   "source": [
    "# Exercise 30: Accessing a Dictionary Using Dictionary Methods"
   ]
  },
  {
   "cell_type": "code",
   "execution_count": 7,
   "id": "a629671f",
   "metadata": {},
   "outputs": [
    {
     "name": "stdout",
     "output_type": "stream",
     "text": [
      "dict_values([5, 3, 2])\n",
      "[5, 3, 2]\n"
     ]
    }
   ],
   "source": [
    "# 1. Open a new Jupyter Notebook.\n",
    "# 2. Enter the following code in a new cell:\n",
    "orders = {'apple':5, 'orange':3, 'banana':2}\n",
    "print(orders.values())\n",
    "print(list(orders.values()))"
   ]
  },
  {
   "cell_type": "code",
   "execution_count": 8,
   "id": "13a69e6f",
   "metadata": {},
   "outputs": [
    {
     "name": "stdout",
     "output_type": "stream",
     "text": [
      "['apple', 'orange', 'banana']\n"
     ]
    }
   ],
   "source": [
    "# 3. Now, obtain a list of keys in a dictionary by using the keys() method:\n",
    "print(list(orders.keys()))\n"
   ]
  },
  {
   "cell_type": "code",
   "execution_count": 9,
   "id": "0ce5556f",
   "metadata": {},
   "outputs": [
    {
     "name": "stdout",
     "output_type": "stream",
     "text": [
      "('apple', 5)\n",
      "('orange', 3)\n",
      "('banana', 2)\n"
     ]
    }
   ],
   "source": [
    "'''4. As you can't directly iterate a dictionary, you first convert it to a list of tuples using\n",
    "the items() method, then iterate the resulting list and access it. This is mentioned\n",
    "in the following code snippet:\n",
    "'''\n",
    "\n",
    "for tuple in list(orders.items()):\n",
    "    print(tuple)"
   ]
  },
  {
   "cell_type": "markdown",
   "id": "a6fcda6c",
   "metadata": {},
   "source": [
    "# 6. Tuples"
   ]
  },
  {
   "cell_type": "markdown",
   "id": "9376071b",
   "metadata": {},
   "source": [
    "# Exercise 31: Exploring Tuple Properties in Our Shopping List"
   ]
  },
  {
   "cell_type": "code",
   "execution_count": 10,
   "id": "e6bd4434",
   "metadata": {},
   "outputs": [
    {
     "name": "stdout",
     "output_type": "stream",
     "text": [
      "3\n"
     ]
    }
   ],
   "source": [
    "# 1. Open a Jupyter notebook.\n",
    "# 2. Type the following code in a new cell to initialize a new tuple, t:\n",
    "t = ('bread', 'milk', 'eggs')\n",
    "print(len(t))"
   ]
  },
  {
   "cell_type": "code",
   "execution_count": 11,
   "id": "40fdfd1b",
   "metadata": {},
   "outputs": [
    {
     "ename": "TypeError",
     "evalue": "'tuple' object does not support item assignment",
     "output_type": "error",
     "traceback": [
      "\u001b[1;31m---------------------------------------------------------------------------\u001b[0m",
      "\u001b[1;31mTypeError\u001b[0m                                 Traceback (most recent call last)",
      "\u001b[1;32m~\\AppData\\Local\\Temp/ipykernel_30196/3272752862.py\u001b[0m in \u001b[0;36m<module>\u001b[1;34m\u001b[0m\n\u001b[0;32m      1\u001b[0m \u001b[1;31m# 3. Now, as mentioned in the note, enter the following lines of code and observe the error:\u001b[0m\u001b[1;33m\u001b[0m\u001b[1;33m\u001b[0m\u001b[0m\n\u001b[0;32m      2\u001b[0m \u001b[1;31m#t.append('apple')\u001b[0m\u001b[1;33m\u001b[0m\u001b[1;33m\u001b[0m\u001b[0m\n\u001b[1;32m----> 3\u001b[1;33m \u001b[0mt\u001b[0m\u001b[1;33m[\u001b[0m\u001b[1;36m2\u001b[0m\u001b[1;33m]\u001b[0m \u001b[1;33m=\u001b[0m \u001b[1;34m'apple'\u001b[0m\u001b[1;33m\u001b[0m\u001b[1;33m\u001b[0m\u001b[0m\n\u001b[0m",
      "\u001b[1;31mTypeError\u001b[0m: 'tuple' object does not support item assignment"
     ]
    }
   ],
   "source": [
    "# 3. Now, as mentioned in the note, enter the following lines of code and observe the error:\n",
    "#t.append('apple')\n",
    "t[2] = 'apple'"
   ]
  },
  {
   "cell_type": "code",
   "execution_count": 12,
   "id": "9f6568bb",
   "metadata": {},
   "outputs": [
    {
     "name": "stdout",
     "output_type": "stream",
     "text": [
      "('bread', 'milk', 'eggs', 'apple', 'orange')\n",
      "('bread', 'milk', 'eggs')\n"
     ]
    }
   ],
   "source": [
    "# 4. Now use the following code to add two items, apple and orange, to our tuple, t. This will give us a new tuple. Take note that the existing t tuple remains unchanged:\n",
    "new =(print(t + ('apple', 'orange')))\n",
    "print(t)"
   ]
  },
  {
   "cell_type": "code",
   "execution_count": 13,
   "id": "27f7eefa",
   "metadata": {},
   "outputs": [
    {
     "name": "stdout",
     "output_type": "stream",
     "text": [
      "('apple', True, 3)\n",
      "(('apple', 3), ('orange', 2), ('banana', 5))\n"
     ]
    }
   ],
   "source": [
    "# 5. Enter the following statements in a new cell and observe the output:\n",
    "t_mixed = 'apple', True, 3\n",
    "print(t_mixed)\n",
    "t_shopping = ('apple',3), ('orange',2), ('banana',5)\n",
    "print(t_shopping)"
   ]
  },
  {
   "cell_type": "code",
   "execution_count": null,
   "id": "021cc9cc",
   "metadata": {},
   "outputs": [],
   "source": []
  }
 ],
 "metadata": {
  "kernelspec": {
   "display_name": "Python 3 (ipykernel)",
   "language": "python",
   "name": "python3"
  },
  "language_info": {
   "codemirror_mode": {
    "name": "ipython",
    "version": 3
   },
   "file_extension": ".py",
   "mimetype": "text/x-python",
   "name": "python",
   "nbconvert_exporter": "python",
   "pygments_lexer": "ipython3",
   "version": "3.9.7"
  }
 },
 "nbformat": 4,
 "nbformat_minor": 5
}
