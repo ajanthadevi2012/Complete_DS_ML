{
 "cells": [
  {
   "cell_type": "markdown",
   "id": "17b22dff",
   "metadata": {},
   "source": [
    "# 6. Conditionals"
   ]
  },
  {
   "cell_type": "markdown",
   "id": "77a6b0c2",
   "metadata": {},
   "source": [
    "Conditionals are used when we want to express code based upon a set of circumstances or values."
   ]
  },
  {
   "cell_type": "code",
   "execution_count": 1,
   "id": "7d53f4d0",
   "metadata": {},
   "outputs": [],
   "source": [
    "age = 20"
   ]
  },
  {
   "cell_type": "code",
   "execution_count": 2,
   "id": "b178d61f",
   "metadata": {},
   "outputs": [],
   "source": [
    "\n",
    "# i. The if Syntax\n",
    "\n",
    "if age < 18:\n",
    "    print('You aren\\'t old enough to vote.')\n",
    "\n"
   ]
  },
  {
   "cell_type": "markdown",
   "id": "113b29d8",
   "metadata": {},
   "source": [
    "# Indentation\n",
    "Indentation is one of Python's singular features. Indentation is used everywhere in\n",
    "Python.\n",
    "\n"
   ]
  },
  {
   "cell_type": "code",
   "execution_count": 3,
   "id": "c513890e",
   "metadata": {},
   "outputs": [
    {
     "name": "stdout",
     "output_type": "stream",
     "text": [
      "At least you can vote.\n",
      "Poker will have to wait.\n"
     ]
    }
   ],
   "source": [
    "# Exercise 16: Using the if Syntax\n",
    "\n",
    "\n",
    "# 1. Open a new Jupyter Notebook.\n",
    "# 2. Now, run multiple lines of code where you set the age variable to 20 and add an if clause, as mentioned in the following code snippet:\n",
    "age = 20\n",
    "if age >= 18 and age < 21:\n",
    "    print('At least you can vote.')\n",
    "    print('Poker will have to wait.')\n",
    "\n"
   ]
  },
  {
   "cell_type": "code",
   "execution_count": 4,
   "id": "8624b4f5",
   "metadata": {},
   "outputs": [
    {
     "name": "stdout",
     "output_type": "stream",
     "text": [
      "You can vote.\n"
     ]
    }
   ],
   "source": [
    "# 3. Now, use nested conditionals:\n",
    "if age >= 18:\n",
    "    print('You can vote.')\n",
    "    if age >= 21:\n",
    "        print('You can play poker.')\n"
   ]
  },
  {
   "cell_type": "code",
   "execution_count": 5,
   "id": "08120c4c",
   "metadata": {},
   "outputs": [],
   "source": [
    "# ii. if else\n",
    "\n",
    "# Exercise 17: Using the if-else Syntax"
   ]
  },
  {
   "cell_type": "code",
   "execution_count": 6,
   "id": "ce0e74ca",
   "metadata": {},
   "outputs": [
    {
     "name": "stdout",
     "output_type": "stream",
     "text": [
      "Welcome to our voting program.\n"
     ]
    }
   ],
   "source": [
    "#1. Open a new Jupyter Notebook.\n",
    "# 2. Introduce a voting program only to users over 18 by using the following codesnippet:\n",
    "age = 20\n",
    "if age < 18:\n",
    "    print('You aren\\'t old enough to vote.')\n",
    "else:\n",
    "    print('Welcome to our voting program.')\n"
   ]
  },
  {
   "cell_type": "code",
   "execution_count": 7,
   "id": "9d7a6430",
   "metadata": {},
   "outputs": [
    {
     "name": "stdout",
     "output_type": "stream",
     "text": [
      "Welcome to our voting program.\n"
     ]
    }
   ],
   "source": [
    "# 3. Now run the following code snippet, which is an alternative to the code mentioned in step 2 of this exercise:\n",
    "if age >= 18:\n",
    "    print('Welcome to our voting program.')\n",
    "else:\n",
    "    print('You aren\\'t old enough to vote.')\n"
   ]
  },
  {
   "cell_type": "code",
   "execution_count": 8,
   "id": "f7ce0ef7",
   "metadata": {},
   "outputs": [
    {
     "name": "stdout",
     "output_type": "stream",
     "text": [
      "Seize the day.\n"
     ]
    }
   ],
   "source": [
    "# iii. The elif Statement\n",
    "\n",
    "if age <= 10:\n",
    "    print('Listen, learn, and have fun.')\n",
    "elif age<= 19:\n",
    "    print('Go fearlessly forward.')\n",
    "elif age <= 29:\n",
    "    print('Seize the day.')\n",
    "elif age <= 39:\n",
    "    print('Go for what you want.')\n",
    "elif age <= 59:\n",
    "    print('Stay physically fit and healthy.')\n",
    "else:\n",
    "    print('Each day is magical.')\n",
    "\n"
   ]
  },
  {
   "cell_type": "code",
   "execution_count": null,
   "id": "aa9b2ab9",
   "metadata": {},
   "outputs": [],
   "source": []
  }
 ],
 "metadata": {
  "kernelspec": {
   "display_name": "Python 3 (ipykernel)",
   "language": "python",
   "name": "python3"
  },
  "language_info": {
   "codemirror_mode": {
    "name": "ipython",
    "version": 3
   },
   "file_extension": ".py",
   "mimetype": "text/x-python",
   "name": "python",
   "nbconvert_exporter": "python",
   "pygments_lexer": "ipython3",
   "version": "3.9.7"
  }
 },
 "nbformat": 4,
 "nbformat_minor": 5
}
