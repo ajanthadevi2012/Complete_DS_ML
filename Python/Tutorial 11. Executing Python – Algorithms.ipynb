{
 "cells": [
  {
   "cell_type": "markdown",
   "id": "c9fad21c",
   "metadata": {},
   "source": [
    "# 5. Python Algorithms"
   ]
  },
  {
   "cell_type": "markdown",
   "id": "ebe76dc1",
   "metadata": {},
   "source": [
    "For example, if you had a list of positive numbers and wanted to find\n",
    "the maximum number of positive numbers in that list, an algorithm expressed in\n",
    "pseudocode could be as follows:\n",
    "\n",
    "1. Set the maximum variable to 0.\n",
    "2. For each number in our list, check whether the number is bigger than the maximum. Set the maximum variable so that it is equal to that number.\n",
    "3. maximum is now equal to the largest number in the list."
   ]
  },
  {
   "cell_type": "markdown",
   "id": "44dd0862",
   "metadata": {},
   "source": [
    "# Exercise 38: The Maximum Number"
   ]
  },
  {
   "cell_type": "code",
   "execution_count": 1,
   "id": "cffaf042",
   "metadata": {},
   "outputs": [],
   "source": [
    "# 1. Create a list of numbers:\n",
    "l = [4, 2, 7, 3]\n"
   ]
  },
  {
   "cell_type": "code",
   "execution_count": 2,
   "id": "b31ead13",
   "metadata": {},
   "outputs": [],
   "source": [
    "# 2. Set the maximum variable equal to 0:\n",
    "maximum = 0"
   ]
  },
  {
   "cell_type": "code",
   "execution_count": 3,
   "id": "50bd21ea",
   "metadata": {},
   "outputs": [],
   "source": [
    "# 3. Look through each number, and compare it to maximum:\n",
    "for number in l:\n",
    "    if number > maximum:\n",
    "        maximum = number\n"
   ]
  },
  {
   "cell_type": "code",
   "execution_count": 4,
   "id": "49bfd653",
   "metadata": {},
   "outputs": [
    {
     "name": "stdout",
     "output_type": "stream",
     "text": [
      "7\n"
     ]
    }
   ],
   "source": [
    "# 4. Check the result:\n",
    "print(maximum)"
   ]
  },
  {
   "cell_type": "markdown",
   "id": "23985aa2",
   "metadata": {},
   "source": [
    "# i. Sorting Algorithms"
   ]
  },
  {
   "cell_type": "markdown",
   "id": "bf17dbfe",
   "metadata": {},
   "source": [
    "#  Exercise 39: Using Bubble Sort in Python"
   ]
  },
  {
   "cell_type": "code",
   "execution_count": 5,
   "id": "4d79a81b",
   "metadata": {},
   "outputs": [],
   "source": [
    "# 1. Start with a list of numbers:\n",
    "l = [5, 8, 1, 3, 2]\n"
   ]
  },
  {
   "cell_type": "code",
   "execution_count": 6,
   "id": "08d758a4",
   "metadata": {},
   "outputs": [],
   "source": [
    "# 2. Create an indicator that will tell us when you can stop looping through the array:\n",
    "still_swapping = True\n"
   ]
  },
  {
   "cell_type": "code",
   "execution_count": 7,
   "id": "a8a91477",
   "metadata": {},
   "outputs": [],
   "source": [
    "# 3. Look through each number, and compare it to maximum:\n",
    "while still_swapping:\n",
    "    still_swapping = False\n",
    "    for i in range(len(l) - 1):\n",
    "        if l[i] > l[i+1]:\n",
    "            l[i], l[i+1] = l[i+1], l[i]\n",
    "            still_swapping = True\n"
   ]
  },
  {
   "cell_type": "code",
   "execution_count": 8,
   "id": "0be08707",
   "metadata": {},
   "outputs": [
    {
     "data": {
      "text/plain": [
       "[1, 2, 3, 5, 8]"
      ]
     },
     "execution_count": 8,
     "metadata": {},
     "output_type": "execute_result"
    }
   ],
   "source": [
    "# 4. Check the result:\n",
    "l"
   ]
  },
  {
   "cell_type": "markdown",
   "id": "420b4df2",
   "metadata": {},
   "source": [
    "# ii. Searching Algorithms"
   ]
  },
  {
   "cell_type": "markdown",
   "id": "a54180b0",
   "metadata": {},
   "source": [
    "# Exercise 40: Linear Search in Python"
   ]
  },
  {
   "cell_type": "code",
   "execution_count": 9,
   "id": "b6e86d56",
   "metadata": {},
   "outputs": [],
   "source": [
    "# 1. Start with a list of numbers:\n",
    "l = [5, 8, 1, 3, 2]\n"
   ]
  },
  {
   "cell_type": "code",
   "execution_count": 10,
   "id": "80296be7",
   "metadata": {},
   "outputs": [],
   "source": [
    "# 2. Specify a value to search_for:\n",
    "search_for = 8\n"
   ]
  },
  {
   "cell_type": "code",
   "execution_count": 11,
   "id": "7c739bd1",
   "metadata": {},
   "outputs": [],
   "source": [
    "# 3. Create a result variable that has a default value of -1. If the search is unsuccessful,this value will remain -1 after the algorithm is executed:\n",
    "result = -1\n"
   ]
  },
  {
   "cell_type": "code",
   "execution_count": 12,
   "id": "1bc51b73",
   "metadata": {},
   "outputs": [],
   "source": [
    "# 4. Loop through the list. If the value equals the search value, set the result, and exit the loop:\n",
    "for i in range(len(l)):\n",
    "    if search_for == l[i]:\n",
    "        result = i\n",
    "        break\n"
   ]
  },
  {
   "cell_type": "code",
   "execution_count": 13,
   "id": "daff6a45",
   "metadata": {},
   "outputs": [
    {
     "name": "stdout",
     "output_type": "stream",
     "text": [
      "1\n"
     ]
    }
   ],
   "source": [
    "# 5. Check the result:\n",
    "print(result)"
   ]
  },
  {
   "cell_type": "markdown",
   "id": "f3f2f723",
   "metadata": {},
   "source": [
    "# Exercise 41: Binary Search in Python"
   ]
  },
  {
   "cell_type": "code",
   "execution_count": 14,
   "id": "8e7e362e",
   "metadata": {},
   "outputs": [],
   "source": [
    "# 1. Start with a list of numbers:\n",
    "l = [2, 3, 5, 8, 11, 12, 18]\n"
   ]
  },
  {
   "cell_type": "code",
   "execution_count": 15,
   "id": "b6699553",
   "metadata": {},
   "outputs": [],
   "source": [
    "# 2. Specify the value to search_for:\n",
    "search_for = 11\n"
   ]
  },
  {
   "cell_type": "code",
   "execution_count": 16,
   "id": "0db583da",
   "metadata": {},
   "outputs": [],
   "source": [
    "# 3. Create two variables that will represent the start and end locations of the sublist you are interested in. Initially, it will represent the start and end indices for the entire list:\n",
    "slice_start = 0\n",
    "slice_end = len(l) - 1\n"
   ]
  },
  {
   "cell_type": "code",
   "execution_count": 17,
   "id": "da07bdb0",
   "metadata": {},
   "outputs": [],
   "source": [
    "# 4. Add a variable to indicate whether the search was successful:\n",
    "found = False\n"
   ]
  },
  {
   "cell_type": "code",
   "execution_count": 18,
   "id": "4ba5da48",
   "metadata": {},
   "outputs": [],
   "source": [
    "# 5. Find the midpoint of the list, and check whether the value is greater or less than the search term. Depending on the outcome of the comparison, either finish the search or update the locations for the start/end of the sublist:\n",
    "\n",
    "while slice_start <= slice_end and not found:\n",
    "    location = (slice_start + slice_end) // 2\n",
    "    if l[location] == search_for:\n",
    "        found = True\n",
    "    else:\n",
    "        if search_for < l[location]:\n",
    "            slice_end = location - 1\n",
    "        else:\n",
    "            slice_start = location + 1\n"
   ]
  },
  {
   "cell_type": "code",
   "execution_count": 19,
   "id": "c753f2af",
   "metadata": {},
   "outputs": [
    {
     "name": "stdout",
     "output_type": "stream",
     "text": [
      "True\n",
      "4\n"
     ]
    }
   ],
   "source": [
    "# 6. Check the results:\n",
    "print(found)\n",
    "print(location)"
   ]
  },
  {
   "cell_type": "code",
   "execution_count": null,
   "id": "844b0d64",
   "metadata": {},
   "outputs": [],
   "source": []
  }
 ],
 "metadata": {
  "kernelspec": {
   "display_name": "Python 3 (ipykernel)",
   "language": "python",
   "name": "python3"
  },
  "language_info": {
   "codemirror_mode": {
    "name": "ipython",
    "version": 3
   },
   "file_extension": ".py",
   "mimetype": "text/x-python",
   "name": "python",
   "nbconvert_exporter": "python",
   "pygments_lexer": "ipython3",
   "version": "3.9.7"
  }
 },
 "nbformat": 4,
 "nbformat_minor": 5
}
