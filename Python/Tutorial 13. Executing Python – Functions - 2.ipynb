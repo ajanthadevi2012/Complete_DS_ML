{
 "cells": [
  {
   "cell_type": "markdown",
   "id": "9a727ce4",
   "metadata": {},
   "source": [
    "# 8. Recursive Functions\n",
    "When a function calls itself, it is known as a Recursive Function."
   ]
  },
  {
   "cell_type": "code",
   "execution_count": 1,
   "id": "290c0429",
   "metadata": {},
   "outputs": [],
   "source": [
    "def print_the_next_number(start):\n",
    "    print(start + 1)\n",
    "    return print_the_next_number(start + 1)\n"
   ]
  },
  {
   "cell_type": "code",
   "execution_count": null,
   "id": "d1cea10f",
   "metadata": {},
   "outputs": [],
   "source": [
    "print_the_next_number(5)"
   ]
  },
  {
   "cell_type": "markdown",
   "id": "b6c7f2a6",
   "metadata": {},
   "source": [
    "#  A Terminating Case"
   ]
  },
  {
   "cell_type": "code",
   "execution_count": 1,
   "id": "ec839e81",
   "metadata": {},
   "outputs": [],
   "source": [
    "def print_the_next_number(start):\n",
    "    print(start + 1)\n",
    "    if start >= 7:\n",
    "        return \"I'm bored\"\n",
    "    return print_the_next_number(start + 1)\n"
   ]
  },
  {
   "cell_type": "code",
   "execution_count": 2,
   "id": "321eb2e9",
   "metadata": {},
   "outputs": [
    {
     "name": "stdout",
     "output_type": "stream",
     "text": [
      "6\n",
      "7\n",
      "8\n"
     ]
    },
    {
     "data": {
      "text/plain": [
       "\"I'm bored\""
      ]
     },
     "execution_count": 2,
     "metadata": {},
     "output_type": "execute_result"
    }
   ],
   "source": [
    "print_the_next_number(5)"
   ]
  },
  {
   "cell_type": "markdown",
   "id": "64bb5cbb",
   "metadata": {},
   "source": [
    "# Exercise : Factorials with Iteration and Recursion\n",
    "the factorial of 5 is calculated as 5! = 5 * 4 * 3 * 2 * 1 = 120."
   ]
  },
  {
   "cell_type": "code",
   "execution_count": 3,
   "id": "27ba08d9",
   "metadata": {},
   "outputs": [],
   "source": [
    "# 1. In a Jupyter Notebook, enter the following function to compute factorials using iteration:\n",
    "def factorial_iterative(n):\n",
    "    result = 1\n",
    "    for i in range(n):\n",
    "        result *= i + 1\n",
    "    return result\n"
   ]
  },
  {
   "cell_type": "code",
   "execution_count": 4,
   "id": "672aa306",
   "metadata": {},
   "outputs": [
    {
     "data": {
      "text/plain": [
       "120"
      ]
     },
     "execution_count": 4,
     "metadata": {},
     "output_type": "execute_result"
    }
   ],
   "source": [
    "# 2. Test the function:\n",
    "factorial_iterative(5)\n"
   ]
  },
  {
   "cell_type": "code",
   "execution_count": 5,
   "id": "7ad8b37f",
   "metadata": {},
   "outputs": [],
   "source": [
    "# 3. Note that you can express n! = n * (n – 1)!; for instance, 5! = 5 * 4!. This means we can write the function with recursion as follows:\n",
    "def factorial_recursive(n):\n",
    "    if n == 0:\n",
    "        return 1\n",
    "    else:\n",
    "        return n * factorial_recursive(n - 1)\n"
   ]
  },
  {
   "cell_type": "code",
   "execution_count": 6,
   "id": "3a408cdb",
   "metadata": {},
   "outputs": [
    {
     "data": {
      "text/plain": [
       "120"
      ]
     },
     "execution_count": 6,
     "metadata": {},
     "output_type": "execute_result"
    }
   ],
   "source": [
    "# 4. Test the function:\n",
    "factorial_recursive(5)"
   ]
  },
  {
   "cell_type": "markdown",
   "id": "e32f97f3",
   "metadata": {},
   "source": [
    "# Exercise : Fibonacci with Recursion\n",
    "Fibonacci sequence of 7 term is calculated as \n",
    "0 1 1 2 3 5 8\n",
    "\n",
    "the factorial of 5 is calculated as 5! = 5 * 4 * 3 * 2 * 1 = 120."
   ]
  },
  {
   "cell_type": "code",
   "execution_count": 7,
   "id": "7f6cc09d",
   "metadata": {},
   "outputs": [
    {
     "name": "stdout",
     "output_type": "stream",
     "text": [
      "Enter number of terms:9\n",
      "Fibonacci sequence:\n",
      "0 1 1 2 3 5 8 13 21 "
     ]
    }
   ],
   "source": [
    "def fibonacci(n):\n",
    "    if(n <= 1):\n",
    "        return n\n",
    "    else:\n",
    "        return(fibonacci(n-1) + fibonacci(n-2))\n",
    "\n",
    "    \n",
    "n = int(input(\"Enter number of terms:\"))\n",
    "print(\"Fibonacci sequence:\")\n",
    "for i in range(n):\n",
    "    print(fibonacci(i), end = \" \")"
   ]
  },
  {
   "cell_type": "code",
   "execution_count": null,
   "id": "04252d52",
   "metadata": {},
   "outputs": [],
   "source": []
  }
 ],
 "metadata": {
  "kernelspec": {
   "display_name": "Python 3 (ipykernel)",
   "language": "python",
   "name": "python3"
  },
  "language_info": {
   "codemirror_mode": {
    "name": "ipython",
    "version": 3
   },
   "file_extension": ".py",
   "mimetype": "text/x-python",
   "name": "python",
   "nbconvert_exporter": "python",
   "pygments_lexer": "ipython3",
   "version": "3.9.7"
  }
 },
 "nbformat": 4,
 "nbformat_minor": 5
}
