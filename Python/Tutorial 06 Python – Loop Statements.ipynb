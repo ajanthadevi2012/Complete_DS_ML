{
 "cells": [
  {
   "cell_type": "markdown",
   "id": "382dcbbe",
   "metadata": {},
   "source": [
    "# 7. Loops  \n",
    "In programming, this set of instructions may be executed with a loop.\n",
    "There are three key components to most loops:\n",
    "1. The start of the loop\n",
    "2. The end of the loop\n",
    "3. The increment between numbers in the loop"
   ]
  },
  {
   "cell_type": "markdown",
   "id": "be59d881",
   "metadata": {},
   "source": [
    "# i. The while Loops\n",
    "In a while loop, a designated segment of code repeats provided that a particular\n",
    "condition is true."
   ]
  },
  {
   "cell_type": "code",
   "execution_count": null,
   "id": "59cd5eac",
   "metadata": {},
   "outputs": [],
   "source": [
    "i = 1\n",
    "while i <= 10:\n",
    "    print(i)\n",
    "    i += 1"
   ]
  },
  {
   "cell_type": "markdown",
   "id": "95a75d08",
   "metadata": {},
   "source": [
    "• Initialize the variable\n",
    "• Set up the while loop\n",
    "• Instructions\n",
    "• Increment:"
   ]
  },
  {
   "cell_type": "markdown",
   "id": "02f5586a",
   "metadata": {},
   "source": [
    "# ii. An Infinite Loop"
   ]
  },
  {
   "cell_type": "code",
   "execution_count": null,
   "id": "3fc93f75",
   "metadata": {},
   "outputs": [],
   "source": [
    "x = 5\n",
    "while x <= 20:\n",
    "    print(x)"
   ]
  },
  {
   "cell_type": "code",
   "execution_count": null,
   "id": "91e0a85d",
   "metadata": {},
   "outputs": [],
   "source": [
    "x = 5\n",
    "while x<= 20:\n",
    "    print(x)\n",
    "    x += 5"
   ]
  },
  {
   "cell_type": "markdown",
   "id": "59fa35bf",
   "metadata": {},
   "source": [
    "# iii. break"
   ]
  },
  {
   "cell_type": "code",
   "execution_count": null,
   "id": "8e5c35c0",
   "metadata": {},
   "outputs": [],
   "source": [
    "# Find first number greater than 100 and divisible by 17.\n",
    "x = 100\n",
    "while x <= 1000:\n",
    "    x += 1\n",
    "    if x % 17 == 0:\n",
    "        print('', x, 'is the first number greater than 100 that is divisible by 17.')\n",
    "        break"
   ]
  },
  {
   "cell_type": "markdown",
   "id": "c2321480",
   "metadata": {},
   "source": [
    "# iv. The for Loop"
   ]
  },
  {
   "cell_type": "markdown",
   "id": "0fd5d70c",
   "metadata": {},
   "source": [
    "# Exercise 20: Using for Loops"
   ]
  },
  {
   "cell_type": "code",
   "execution_count": null,
   "id": "d327613b",
   "metadata": {},
   "outputs": [],
   "source": [
    "# 1. Open a new Jupyter Notebook.\n",
    "# 2. Print out the characters of 'Portland':\n",
    "for i in 'Portland':\n",
    "    print(i)"
   ]
  },
  {
   "cell_type": "code",
   "execution_count": null,
   "id": "573b7c33",
   "metadata": {},
   "outputs": [],
   "source": [
    "#3. You use a lower bound of 1 and an upper bound of 10 with range to print 1-9:\n",
    "for i in range(1,10):\n",
    "    print(i)"
   ]
  },
  {
   "cell_type": "code",
   "execution_count": null,
   "id": "03f6e397",
   "metadata": {},
   "outputs": [],
   "source": [
    "#4. Now use range with one bound only, the number 10, to print the first ten numbers:\n",
    "for i in range(10):\n",
    "    print(i)"
   ]
  },
  {
   "cell_type": "code",
   "execution_count": null,
   "id": "1efcd0ec",
   "metadata": {},
   "outputs": [],
   "source": [
    "for i in range(1,11,2):\n",
    "    print(i)"
   ]
  },
  {
   "cell_type": "code",
   "execution_count": null,
   "id": "463a5a24",
   "metadata": {},
   "outputs": [],
   "source": [
    "# 5. Use a step increment to count down from 3 to -1:\n",
    "for i in range(3, 0, -1):\n",
    "    print(i)"
   ]
  },
  {
   "cell_type": "code",
   "execution_count": null,
   "id": "1653ef57",
   "metadata": {},
   "outputs": [],
   "source": [
    "# 6. Now, print each letter of your name three times:\n",
    "name = 'Corey'\n",
    "for i in range(2):\n",
    "    for i in name:\n",
    "        print(i)"
   ]
  },
  {
   "cell_type": "markdown",
   "id": "1d512628",
   "metadata": {},
   "source": [
    "# v. The continue Keyword\n"
   ]
  },
  {
   "cell_type": "code",
   "execution_count": null,
   "id": "c7ca8b2f",
   "metadata": {},
   "outputs": [],
   "source": [
    "for num in range(10,100):\n",
    "    if num % 2 == 0:\n",
    "        continue\n",
    "    if num % 3 == 0:\n",
    "        continue\n",
    "    if num % 5 == 0:\n",
    "        continue\n",
    "    if num % 7 == 0:\n",
    "        continue\n",
    "    print(num)"
   ]
  },
  {
   "cell_type": "code",
   "execution_count": null,
   "id": "74b5e9bb",
   "metadata": {},
   "outputs": [],
   "source": []
  }
 ],
 "metadata": {
  "kernelspec": {
   "display_name": "Python 3 (ipykernel)",
   "language": "python",
   "name": "python3"
  },
  "language_info": {
   "codemirror_mode": {
    "name": "ipython",
    "version": 3
   },
   "file_extension": ".py",
   "mimetype": "text/x-python",
   "name": "python",
   "nbconvert_exporter": "python",
   "pygments_lexer": "ipython3",
   "version": "3.9.7"
  }
 },
 "nbformat": 4,
 "nbformat_minor": 5
}
