{
 "cells": [
  {
   "cell_type": "markdown",
   "id": "81485a10",
   "metadata": {},
   "source": [
    "# 1. Numbers: Operations, Types, and Variables"
   ]
  },
  {
   "cell_type": "markdown",
   "id": "c9a304aa",
   "metadata": {},
   "source": [
    "Addition, subtraction, multiplication, division, and exponentiation are core\n",
    "operations. the modulus operator and integer division are equally\n",
    "essential"
   ]
  },
  {
   "cell_type": "markdown",
   "id": "381e80b9",
   "metadata": {},
   "source": [
    "## i.Basic Math Operations"
   ]
  },
  {
   "cell_type": "code",
   "execution_count": 1,
   "id": "4b0d9a43",
   "metadata": {},
   "outputs": [
    {
     "data": {
      "text/plain": [
       "7"
      ]
     },
     "execution_count": 1,
     "metadata": {},
     "output_type": "execute_result"
    }
   ],
   "source": [
    "#1. Here, we are using the addition operator, + in the code:\n",
    "\n",
    "5 + 2"
   ]
  },
  {
   "cell_type": "code",
   "execution_count": 2,
   "id": "3fe79193",
   "metadata": {},
   "outputs": [
    {
     "data": {
      "text/plain": [
       "3"
      ]
     },
     "execution_count": 2,
     "metadata": {},
     "output_type": "execute_result"
    }
   ],
   "source": [
    "#2. Using the subtraction operator in the code, we can perform subtraction on two numbers:\n",
    "\n",
    "5 - 2"
   ]
  },
  {
   "cell_type": "code",
   "execution_count": 3,
   "id": "000ba5b1",
   "metadata": {},
   "outputs": [
    {
     "data": {
      "text/plain": [
       "10"
      ]
     },
     "execution_count": 3,
     "metadata": {},
     "output_type": "execute_result"
    }
   ],
   "source": [
    "#3. Using the * multiplication operator to multiply the two numbers is done as follows:\n",
    "\n",
    "5 * 2"
   ]
  },
  {
   "cell_type": "code",
   "execution_count": 4,
   "id": "4800a80c",
   "metadata": {},
   "outputs": [
    {
     "data": {
      "text/plain": [
       "2.5"
      ]
     },
     "execution_count": 4,
     "metadata": {},
     "output_type": "execute_result"
    }
   ],
   "source": [
    "#4. Now, use the / division operator and observe the output:\n",
    "\n",
    "5 / 2"
   ]
  },
  {
   "cell_type": "code",
   "execution_count": 5,
   "id": "aad7fcee",
   "metadata": {},
   "outputs": [
    {
     "data": {
      "text/plain": [
       "2"
      ]
     },
     "execution_count": 5,
     "metadata": {},
     "output_type": "execute_result"
    }
   ],
   "source": [
    "#5. Now the same division can be done using the // operator, which is called integer division. Observe the change in the output:\n",
    "\n",
    "5 // 2"
   ]
  },
  {
   "cell_type": "code",
   "execution_count": 6,
   "id": "c2b4dcf4",
   "metadata": {},
   "outputs": [
    {
     "data": {
      "text/plain": [
       "25"
      ]
     },
     "execution_count": 6,
     "metadata": {},
     "output_type": "execute_result"
    }
   ],
   "source": [
    "#6. Now, using the ** exponential operator, we can perform exponentiation:\n",
    "\n",
    "5 ** 2"
   ]
  },
  {
   "cell_type": "code",
   "execution_count": 7,
   "id": "052d8653",
   "metadata": {},
   "outputs": [
    {
     "data": {
      "text/plain": [
       "1"
      ]
     },
     "execution_count": 7,
     "metadata": {},
     "output_type": "execute_result"
    }
   ],
   "source": [
    "#7. Finally, use the modulus operator in the code and observe the output:\n",
    "\n",
    "5 % 2"
   ]
  },
  {
   "cell_type": "markdown",
   "id": "a9b51f89",
   "metadata": {},
   "source": [
    "## ii. Order of Operations"
   ]
  },
  {
   "cell_type": "markdown",
   "id": "da178d90",
   "metadata": {},
   "source": [
    "Parentheses are meaningful in Python. When it comes to computation, Python always\n",
    "computes what is in parentheses first.\n",
    "\n",
    "Consider the following expression:5 + 2 * -3"
   ]
  },
  {
   "cell_type": "code",
   "execution_count": 8,
   "id": "2e242cd0",
   "metadata": {},
   "outputs": [
    {
     "data": {
      "text/plain": [
       "-1"
      ]
     },
     "execution_count": 8,
     "metadata": {},
     "output_type": "execute_result"
    }
   ],
   "source": [
    "#1. Python will first multiply 2 and –3, and then add 5:\n",
    "\n",
    "5 + 2 * -3"
   ]
  },
  {
   "cell_type": "code",
   "execution_count": 9,
   "id": "892303bd",
   "metadata": {},
   "outputs": [
    {
     "data": {
      "text/plain": [
       "-21"
      ]
     },
     "execution_count": 9,
     "metadata": {},
     "output_type": "execute_result"
    }
   ],
   "source": [
    "#2. If parentheses are placed around the 5 and 2, we obtain a different result:\n",
    "\n",
    "(5 + 2) * -3"
   ]
  },
  {
   "cell_type": "markdown",
   "id": "c7f2d11e",
   "metadata": {},
   "source": [
    "### Exercise 1: Getting to Know the Order of Operations"
   ]
  },
  {
   "cell_type": "code",
   "execution_count": 10,
   "id": "841bbf0e",
   "metadata": {},
   "outputs": [
    {
     "data": {
      "text/plain": [
       "-5.0"
      ]
     },
     "execution_count": 10,
     "metadata": {},
     "output_type": "execute_result"
    }
   ],
   "source": [
    "#1. Subtract 5 to the 3rd power, which is 53, from 100 and divide the result by 5:\n",
    "\n",
    "(100 - 5 ** 3) / 5"
   ]
  },
  {
   "cell_type": "code",
   "execution_count": 11,
   "id": "c5483f24",
   "metadata": {},
   "outputs": [
    {
     "data": {
      "text/plain": [
       "9"
      ]
     },
     "execution_count": 11,
     "metadata": {},
     "output_type": "execute_result"
    }
   ],
   "source": [
    "#2. Add 6 to the remainder of 15 divided 4:\n",
    "\n",
    "6 + 15 % 4"
   ]
  },
  {
   "cell_type": "code",
   "execution_count": 12,
   "id": "d4b2726f",
   "metadata": {},
   "outputs": [
    {
     "data": {
      "text/plain": [
       "10"
      ]
     },
     "execution_count": 12,
     "metadata": {},
     "output_type": "execute_result"
    }
   ],
   "source": [
    "#3. Add 2 to the 2nd power, which is 22, to the integer division of 24 and 4:\n",
    "\n",
    "2 ** 2 + 24 // 4"
   ]
  },
  {
   "cell_type": "markdown",
   "id": "5cdd439c",
   "metadata": {},
   "source": [
    "## iii. Spacing in Python"
   ]
  },
  {
   "cell_type": "markdown",
   "id": "284c2006",
   "metadata": {},
   "source": [
    "In Python, spaces after a number or symbol do not carry any meaning. So, 5**3 and 5 ** 3 both\n",
    "result in 125."
   ]
  },
  {
   "cell_type": "markdown",
   "id": "5190da2d",
   "metadata": {},
   "source": [
    "# 2. Number Types: Integers and Floats"
   ]
  },
  {
   "cell_type": "markdown",
   "id": "0e6b6acf",
   "metadata": {},
   "source": [
    "An integer in Python is classified as a type of int, short for integer.\n",
    "Floats, by contrast, are Python types represented as decimals."
   ]
  },
  {
   "cell_type": "markdown",
   "id": "440b642e",
   "metadata": {},
   "source": [
    "### Exercise 2: Integer and Float Types"
   ]
  },
  {
   "cell_type": "code",
   "execution_count": 13,
   "id": "70b555e4",
   "metadata": {},
   "outputs": [
    {
     "data": {
      "text/plain": [
       "int"
      ]
     },
     "execution_count": 13,
     "metadata": {},
     "output_type": "execute_result"
    }
   ],
   "source": [
    "#1. Begin by explicitly determining the type of 6 using the following code:\n",
    "\n",
    "type(6)\n"
   ]
  },
  {
   "cell_type": "code",
   "execution_count": 14,
   "id": "eb2c3d24",
   "metadata": {},
   "outputs": [
    {
     "data": {
      "text/plain": [
       "float"
      ]
     },
     "execution_count": 14,
     "metadata": {},
     "output_type": "execute_result"
    }
   ],
   "source": [
    "\n",
    "#2. Now, enter type(6.0) in the next cell of your notebook:\n",
    "\n",
    "type(6.0)\n"
   ]
  },
  {
   "cell_type": "code",
   "execution_count": 15,
   "id": "4dabd80a",
   "metadata": {},
   "outputs": [
    {
     "data": {
      "text/plain": [
       "8.14"
      ]
     },
     "execution_count": 15,
     "metadata": {},
     "output_type": "execute_result"
    }
   ],
   "source": [
    "#3. Now, add 5 to 3.14. Infer the type of their sum:\n",
    "\n",
    "5 + 3.14\n"
   ]
  },
  {
   "cell_type": "code",
   "execution_count": 16,
   "id": "4f00a430",
   "metadata": {},
   "outputs": [
    {
     "data": {
      "text/plain": [
       "7"
      ]
     },
     "execution_count": 16,
     "metadata": {},
     "output_type": "execute_result"
    }
   ],
   "source": [
    "# 4. Now, convert 7.999999999 to an int:\n",
    "\n",
    "int(7.999999999)\n",
    "\n"
   ]
  },
  {
   "cell_type": "code",
   "execution_count": 17,
   "id": "6acefdb5",
   "metadata": {},
   "outputs": [
    {
     "data": {
      "text/plain": [
       "6.0"
      ]
     },
     "execution_count": 17,
     "metadata": {},
     "output_type": "execute_result"
    }
   ],
   "source": [
    "#5. Convert 6 to a float:\n",
    "\n",
    "float(6)"
   ]
  },
  {
   "cell_type": "markdown",
   "id": "088ea523",
   "metadata": {},
   "source": [
    "## i. Complex Number Types"
   ]
  },
  {
   "cell_type": "code",
   "execution_count": 18,
   "id": "d757fbbb",
   "metadata": {},
   "outputs": [
    {
     "data": {
      "text/plain": [
       "(-0.5+0.5j)"
      ]
     },
     "execution_count": 18,
     "metadata": {},
     "output_type": "execute_result"
    }
   ],
   "source": [
    "#Divide 2 + 3j by 1 - 5j, enclosing both operations within parentheses:\n",
    "\n",
    "(2 + 3j) / (1 - 5j)"
   ]
  },
  {
   "cell_type": "markdown",
   "id": "a7a07e55",
   "metadata": {},
   "source": [
    "# 3. Variables"
   ]
  },
  {
   "cell_type": "markdown",
   "id": "253f86b8",
   "metadata": {},
   "source": [
    "In Python, variables are memory slots that can store elements of any type."
   ]
  },
  {
   "cell_type": "markdown",
   "id": "e6a1f214",
   "metadata": {},
   "source": [
    "## i. Variable Assignment"
   ]
  },
  {
   "cell_type": "markdown",
   "id": "c21eba89",
   "metadata": {},
   "source": [
    "In Python, variables are introduced the same way as in math, by using the equals sign"
   ]
  },
  {
   "cell_type": "markdown",
   "id": "10ecd9b6",
   "metadata": {},
   "source": [
    "### Exercise 3: Assigning Variables"
   ]
  },
  {
   "cell_type": "code",
   "execution_count": 19,
   "id": "235cbaab",
   "metadata": {},
   "outputs": [],
   "source": [
    "#1. Set x as equal to the number 2:\n",
    "\n",
    "x = 2\n"
   ]
  },
  {
   "cell_type": "code",
   "execution_count": 20,
   "id": "b11b31df",
   "metadata": {},
   "outputs": [
    {
     "data": {
      "text/plain": [
       "2"
      ]
     },
     "execution_count": 20,
     "metadata": {},
     "output_type": "execute_result"
    }
   ],
   "source": [
    "x"
   ]
  },
  {
   "cell_type": "code",
   "execution_count": 21,
   "id": "20dc865b",
   "metadata": {},
   "outputs": [
    {
     "data": {
      "text/plain": [
       "3"
      ]
     },
     "execution_count": 21,
     "metadata": {},
     "output_type": "execute_result"
    }
   ],
   "source": [
    "#2. Add 1 to the variable x:\n",
    "\n",
    "x + 1"
   ]
  },
  {
   "cell_type": "code",
   "execution_count": 22,
   "id": "74e390e4",
   "metadata": {},
   "outputs": [
    {
     "data": {
      "text/plain": [
       "2"
      ]
     },
     "execution_count": 22,
     "metadata": {},
     "output_type": "execute_result"
    }
   ],
   "source": [
    "x"
   ]
  },
  {
   "cell_type": "code",
   "execution_count": 23,
   "id": "c16fccd8",
   "metadata": {},
   "outputs": [
    {
     "data": {
      "text/plain": [
       "4.0"
      ]
     },
     "execution_count": 23,
     "metadata": {},
     "output_type": "execute_result"
    }
   ],
   "source": [
    "#3. Change x to 3.0 and add 1 to x:\n",
    "\n",
    "x = 3.0\n",
    "x + 1"
   ]
  },
  {
   "cell_type": "markdown",
   "id": "6e344212",
   "metadata": {},
   "source": [
    "## ii.Changing Types"
   ]
  },
  {
   "cell_type": "code",
   "execution_count": 24,
   "id": "f1e4db7f",
   "metadata": {},
   "outputs": [
    {
     "data": {
      "text/plain": [
       "float"
      ]
     },
     "execution_count": 24,
     "metadata": {},
     "output_type": "execute_result"
    }
   ],
   "source": [
    "#1. y starts as an integer:\n",
    "\n",
    "y = 10\n",
    "\n",
    "\n",
    "#2. y becomes a float:\n",
    "\n",
    "y = y-10.0\n",
    "\n",
    "#3. Check the type of y:\n",
    "\n",
    "type(y)\n"
   ]
  },
  {
   "cell_type": "code",
   "execution_count": 25,
   "id": "1264202e",
   "metadata": {},
   "outputs": [],
   "source": [
    "#1. y starts as an integer:\n",
    "\n",
    "y = 10"
   ]
  },
  {
   "cell_type": "code",
   "execution_count": 26,
   "id": "701ffdc0",
   "metadata": {},
   "outputs": [
    {
     "data": {
      "text/plain": [
       "int"
      ]
     },
     "execution_count": 26,
     "metadata": {},
     "output_type": "execute_result"
    }
   ],
   "source": [
    "type(y)"
   ]
  },
  {
   "cell_type": "code",
   "execution_count": 27,
   "id": "12597b28",
   "metadata": {},
   "outputs": [],
   "source": [
    "y=10.0"
   ]
  },
  {
   "cell_type": "code",
   "execution_count": 28,
   "id": "83b63cd5",
   "metadata": {},
   "outputs": [
    {
     "data": {
      "text/plain": [
       "float"
      ]
     },
     "execution_count": 28,
     "metadata": {},
     "output_type": "execute_result"
    }
   ],
   "source": [
    "#3. Check the type of y:\n",
    "\n",
    "type(y)\n"
   ]
  },
  {
   "cell_type": "markdown",
   "id": "99ae8dae",
   "metadata": {},
   "source": [
    "## iii. Reassigning Variables in Terms of Themselves"
   ]
  },
  {
   "cell_type": "markdown",
   "id": "0600384b",
   "metadata": {},
   "source": [
    "\n",
    "It's common in programming to add 1 to a variable; for instance, x = x + 1."
   ]
  },
  {
   "cell_type": "code",
   "execution_count": null,
   "id": "2f1a9b6d",
   "metadata": {},
   "outputs": [],
   "source": [
    "#x+=1"
   ]
  },
  {
   "cell_type": "code",
   "execution_count": 29,
   "id": "4e678e20",
   "metadata": {},
   "outputs": [],
   "source": [
    "x=6"
   ]
  },
  {
   "cell_type": "code",
   "execution_count": 30,
   "id": "84d1414e",
   "metadata": {},
   "outputs": [
    {
     "data": {
      "text/plain": [
       "6"
      ]
     },
     "execution_count": 30,
     "metadata": {},
     "output_type": "execute_result"
    }
   ],
   "source": [
    "x"
   ]
  },
  {
   "cell_type": "code",
   "execution_count": 31,
   "id": "b14b00aa",
   "metadata": {},
   "outputs": [],
   "source": [
    "x+=1"
   ]
  },
  {
   "cell_type": "code",
   "execution_count": 32,
   "id": "f7b4bbde",
   "metadata": {},
   "outputs": [
    {
     "data": {
      "text/plain": [
       "7"
      ]
     },
     "execution_count": 32,
     "metadata": {},
     "output_type": "execute_result"
    }
   ],
   "source": [
    "x"
   ]
  },
  {
   "cell_type": "markdown",
   "id": "a815b811",
   "metadata": {},
   "source": [
    "# iv.Variable Names"
   ]
  },
  {
   "cell_type": "markdown",
   "id": "035768e3",
   "metadata": {},
   "source": [
    "To avoid confusion, it's recommended to use variable names that make sense to readers.\n",
    "Instead of using x, the variable may be income or age."
   ]
  },
  {
   "cell_type": "code",
   "execution_count": 33,
   "id": "61681600",
   "metadata": {},
   "outputs": [
    {
     "name": "stdout",
     "output_type": "stream",
     "text": [
      "['False', 'None', 'True', '__peg_parser__', 'and', 'as', 'assert', 'async', 'await', 'break', 'class', 'continue', 'def', 'del', 'elif', 'else', 'except', 'finally', 'for', 'from', 'global', 'if', 'import', 'in', 'is', 'lambda', 'nonlocal', 'not', 'or', 'pass', 'raise', 'return', 'try', 'while', 'with', 'yield']\n"
     ]
    }
   ],
   "source": [
    "import keyword\n",
    "print(keyword.kwlist)"
   ]
  },
  {
   "cell_type": "markdown",
   "id": "454516e2",
   "metadata": {},
   "source": [
    "### Exercise 4: Variable Names"
   ]
  },
  {
   "cell_type": "code",
   "execution_count": 34,
   "id": "776611b6",
   "metadata": {},
   "outputs": [
    {
     "ename": "SyntaxError",
     "evalue": "invalid syntax (Temp/ipykernel_17348/3015352720.py, line 2)",
     "output_type": "error",
     "traceback": [
      "\u001b[1;36m  File \u001b[1;32m\"C:\\Users\\AJANTHA\\AppData\\Local\\Temp/ipykernel_17348/3015352720.py\"\u001b[1;36m, line \u001b[1;32m2\u001b[0m\n\u001b[1;33m    1st_number = 1\u001b[0m\n\u001b[1;37m     ^\u001b[0m\n\u001b[1;31mSyntaxError\u001b[0m\u001b[1;31m:\u001b[0m invalid syntax\n"
     ]
    }
   ],
   "source": [
    "#1. Create a variable called 1st_number and assign it a value of 1:\n",
    "1st_number = 1\n"
   ]
  },
  {
   "cell_type": "code",
   "execution_count": 35,
   "id": "399dae18",
   "metadata": {},
   "outputs": [],
   "source": [
    "#2. Now, let's try using letters to begin a variable:\n",
    "first_number = 1\n"
   ]
  },
  {
   "cell_type": "code",
   "execution_count": 36,
   "id": "db0e4373",
   "metadata": {},
   "outputs": [
    {
     "ename": "SyntaxError",
     "evalue": "invalid syntax (Temp/ipykernel_17348/815551799.py, line 2)",
     "output_type": "error",
     "traceback": [
      "\u001b[1;36m  File \u001b[1;32m\"C:\\Users\\AJANTHA\\AppData\\Local\\Temp/ipykernel_17348/815551799.py\"\u001b[1;36m, line \u001b[1;32m2\u001b[0m\n\u001b[1;33m    my_$ = 1000.00\u001b[0m\n\u001b[1;37m       ^\u001b[0m\n\u001b[1;31mSyntaxError\u001b[0m\u001b[1;31m:\u001b[0m invalid syntax\n"
     ]
    }
   ],
   "source": [
    "#3. Now, use special characters in a variable name, as in the following code:\n",
    "my_$ = 1000.00\n"
   ]
  },
  {
   "cell_type": "code",
   "execution_count": 37,
   "id": "d630f137",
   "metadata": {},
   "outputs": [],
   "source": [
    "#4. Now, use letters again instead of special characters for the variable name:\n",
    "my_money = 1000.00"
   ]
  },
  {
   "cell_type": "markdown",
   "id": "2f6cccf9",
   "metadata": {},
   "source": [
    "# v. Multiple Variables\n",
    "Most programs contain multiple variables"
   ]
  },
  {
   "cell_type": "markdown",
   "id": "d0758ad9",
   "metadata": {},
   "source": [
    "### Exercise 5: Multiple Variables in Python "
   ]
  },
  {
   "cell_type": "code",
   "execution_count": 38,
   "id": "4a96a00c",
   "metadata": {},
   "outputs": [],
   "source": [
    "#1. Assign 5 to x and 2 to y:\n",
    "x = 5\n",
    "y = 2\n"
   ]
  },
  {
   "cell_type": "code",
   "execution_count": 39,
   "id": "0e32fc1e",
   "metadata": {},
   "outputs": [
    {
     "data": {
      "text/plain": [
       "6"
      ]
     },
     "execution_count": 39,
     "metadata": {},
     "output_type": "execute_result"
    }
   ],
   "source": [
    "#2. Add x to x and subtract y to the second power:\n",
    "x + x - y ** 2\n"
   ]
  },
  {
   "cell_type": "code",
   "execution_count": 40,
   "id": "617072c6",
   "metadata": {},
   "outputs": [],
   "source": [
    "#3. Assign 8 to x and 5 to y in one line:\n",
    "x, y = 8, 5\n"
   ]
  },
  {
   "cell_type": "code",
   "execution_count": 41,
   "id": "23272e37",
   "metadata": {},
   "outputs": [
    {
     "data": {
      "text/plain": [
       "1"
      ]
     },
     "execution_count": 41,
     "metadata": {},
     "output_type": "execute_result"
    }
   ],
   "source": [
    "#4. Find the integer division of x and y:\n",
    "x // y"
   ]
  },
  {
   "cell_type": "markdown",
   "id": "1a825df6",
   "metadata": {},
   "source": [
    "# vi. Comments\n",
    "Comments are extra blocks of code that do not run"
   ]
  },
  {
   "cell_type": "markdown",
   "id": "f7cead91",
   "metadata": {},
   "source": [
    "### Exercise 6: Comments in Python\n"
   ]
  },
  {
   "cell_type": "code",
   "execution_count": 42,
   "id": "7f13d768",
   "metadata": {},
   "outputs": [],
   "source": [
    "#1. Write a comment that states This is a comment:\n",
    "# This is a comment\n",
    "\n"
   ]
  },
  {
   "cell_type": "code",
   "execution_count": 43,
   "id": "1e0612c9",
   "metadata": {},
   "outputs": [],
   "source": [
    "#2. Set the pi variable as equal to 3.14. Add a comment above the line stating what you did:\n",
    "# Set the variable pi equal to 3.14\n",
    "pi = 3.14\n",
    "\n"
   ]
  },
  {
   "cell_type": "code",
   "execution_count": 44,
   "id": "f2aa12b2",
   "metadata": {},
   "outputs": [],
   "source": [
    "#3. Now, try setting the pi variable as equal to 3.14 again, but add the comment stating what you did on the same line:\n",
    "pi = 3.14 # Set the variable pi equal to 3.14"
   ]
  },
  {
   "cell_type": "code",
   "execution_count": 45,
   "id": "a64e2b1c",
   "metadata": {},
   "outputs": [
    {
     "data": {
      "text/plain": [
       "'\\nIn this activity, you will determine the Pythagorean \\ndistance between three points. \\n'"
      ]
     },
     "execution_count": 45,
     "metadata": {},
     "output_type": "execute_result"
    }
   ],
   "source": [
    "# Docstring\n",
    "\n",
    "\"\"\"\n",
    "In this activity, you will determine the Pythagorean \n",
    "distance between three points. \n",
    "\"\"\""
   ]
  },
  {
   "cell_type": "code",
   "execution_count": null,
   "id": "d6deefc3",
   "metadata": {},
   "outputs": [],
   "source": []
  }
 ],
 "metadata": {
  "kernelspec": {
   "display_name": "Python 3 (ipykernel)",
   "language": "python",
   "name": "python3"
  },
  "language_info": {
   "codemirror_mode": {
    "name": "ipython",
    "version": 3
   },
   "file_extension": ".py",
   "mimetype": "text/x-python",
   "name": "python",
   "nbconvert_exporter": "python",
   "pygments_lexer": "ipython3",
   "version": "3.9.7"
  }
 },
 "nbformat": 4,
 "nbformat_minor": 5
}
