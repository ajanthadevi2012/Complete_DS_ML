{
 "cells": [
  {
   "cell_type": "markdown",
   "id": "ec396268",
   "metadata": {},
   "source": [
    "# 6. Basic Functions"
   ]
  },
  {
   "cell_type": "code",
   "execution_count": 1,
   "id": "c724c3c5",
   "metadata": {},
   "outputs": [],
   "source": [
    "def add_up(x, y):\n",
    "    return x + y\n"
   ]
  },
  {
   "cell_type": "code",
   "execution_count": 2,
   "id": "15958d9e",
   "metadata": {},
   "outputs": [
    {
     "data": {
      "text/plain": [
       "4"
      ]
     },
     "execution_count": 2,
     "metadata": {},
     "output_type": "execute_result"
    }
   ],
   "source": [
    "add_up(1, 3)"
   ]
  },
  {
   "cell_type": "markdown",
   "id": "5a9ad391",
   "metadata": {},
   "source": [
    "#  Exercise 42: Defining and Calling the Function in Shell"
   ]
  },
  {
   "cell_type": "code",
   "execution_count": 3,
   "id": "4e009530",
   "metadata": {},
   "outputs": [],
   "source": [
    "# 1. In a Python shell, enter the function definition. Note that the tab spacing needs to match the following output:\n",
    "def get_second_element(mylist):\n",
    "    if len(mylist) > 1:\n",
    "        return mylist[1]\n",
    "    else:\n",
    "        return 'List was too small'\n",
    "\n"
   ]
  },
  {
   "cell_type": "code",
   "execution_count": 4,
   "id": "4ae972d7",
   "metadata": {},
   "outputs": [
    {
     "data": {
      "text/plain": [
       "2"
      ]
     },
     "execution_count": 4,
     "metadata": {},
     "output_type": "execute_result"
    }
   ],
   "source": [
    "# 2. Try running the function on a small list of integers:\n",
    "get_second_element([1, 2, 3])\n"
   ]
  },
  {
   "cell_type": "code",
   "execution_count": 5,
   "id": "ad27cb73",
   "metadata": {},
   "outputs": [
    {
     "data": {
      "text/plain": [
       "'List was too small'"
      ]
     },
     "execution_count": 5,
     "metadata": {},
     "output_type": "execute_result"
    }
   ],
   "source": [
    "# 3. Try running the function on a list with only one element:\n",
    "get_second_element([1])"
   ]
  },
  {
   "cell_type": "markdown",
   "id": "5ca01c52",
   "metadata": {},
   "source": [
    "# Exercise 43: Defining and Calling the Function in Python Script"
   ]
  },
  {
   "cell_type": "code",
   "execution_count": 6,
   "id": "b88b182e",
   "metadata": {},
   "outputs": [],
   "source": [
    "# 1. Create a new file using a text editor called multiply.py:\n",
    "def list_product(my_list):\n",
    "    result = 1\n",
    "    for number in my_list:\n",
    "        result = result * number\n",
    "    return result\n"
   ]
  },
  {
   "cell_type": "code",
   "execution_count": 7,
   "id": "3c63d593",
   "metadata": {},
   "outputs": [
    {
     "name": "stdout",
     "output_type": "stream",
     "text": [
      "6\n",
      "300\n"
     ]
    }
   ],
   "source": [
    "print(list_product([2, 3]))\n",
    "print(list_product([2, 10, 15]))"
   ]
  },
  {
   "cell_type": "markdown",
   "id": "924d765d",
   "metadata": {},
   "source": [
    "# i. Positional Arguments"
   ]
  },
  {
   "cell_type": "code",
   "execution_count": 8,
   "id": "9a85f299",
   "metadata": {},
   "outputs": [],
   "source": [
    "def add_up(x, y):\n",
    "    return x + y\n"
   ]
  },
  {
   "cell_type": "code",
   "execution_count": 10,
   "id": "467547bf",
   "metadata": {},
   "outputs": [
    {
     "name": "stdout",
     "output_type": "stream",
     "text": [
      "6\n",
      "300\n"
     ]
    }
   ],
   "source": [
    "print(list_product([2, 3]))\n",
    "print(list_product([2, 10, 15]))"
   ]
  },
  {
   "cell_type": "code",
   "execution_count": 9,
   "id": "f7290fb1",
   "metadata": {},
   "outputs": [
    {
     "name": "stdout",
     "output_type": "stream",
     "text": [
      "2022-09-28 03:05:59.018208\n"
     ]
    }
   ],
   "source": [
    "# You can also specify functions without any arguments:\n",
    "from datetime import datetime\n",
    "def get_the_time():\n",
    "    return datetime.now()\n",
    "print(get_the_time())"
   ]
  },
  {
   "cell_type": "markdown",
   "id": "784ae3d4",
   "metadata": {},
   "source": [
    "# ii. Keyword Arguments"
   ]
  },
  {
   "cell_type": "markdown",
   "id": "fd2ae5ed",
   "metadata": {},
   "source": [
    "# Exercise 45: Defining the Function with Keyword Arguments"
   ]
  },
  {
   "cell_type": "code",
   "execution_count": 11,
   "id": "d145635c",
   "metadata": {},
   "outputs": [],
   "source": [
    "# 1. In a Python shell, define the add_suffix function:\n",
    "def add_suffix(suffix='.com'):\n",
    "    return 'google' + suffix\n"
   ]
  },
  {
   "cell_type": "code",
   "execution_count": 12,
   "id": "8b4e094d",
   "metadata": {},
   "outputs": [
    {
     "data": {
      "text/plain": [
       "'google.com'"
      ]
     },
     "execution_count": 12,
     "metadata": {},
     "output_type": "execute_result"
    }
   ],
   "source": [
    "# 2. Call the add_suffix function without specifying the suffix argument:\n",
    "add_suffix()\n"
   ]
  },
  {
   "cell_type": "code",
   "execution_count": 13,
   "id": "2050244b",
   "metadata": {},
   "outputs": [
    {
     "data": {
      "text/plain": [
       "'google.co.uk'"
      ]
     },
     "execution_count": 13,
     "metadata": {},
     "output_type": "execute_result"
    }
   ],
   "source": [
    "# 3. Call the function with a specific suffix argument:\n",
    "add_suffix('.co.uk')"
   ]
  },
  {
   "cell_type": "markdown",
   "id": "097049a4",
   "metadata": {},
   "source": [
    "# Exercise 46: Defining the Function with Positional and Keyword Arguments"
   ]
  },
  {
   "cell_type": "code",
   "execution_count": 14,
   "id": "8261fa93",
   "metadata": {},
   "outputs": [],
   "source": [
    "# 1. In a Python shell, define the convert_usd_to_aud function:\n",
    "def convert_usd_to_aud(amount, rate=0.75):\n",
    "    return amount / rate\n"
   ]
  },
  {
   "cell_type": "code",
   "execution_count": 15,
   "id": "b696e062",
   "metadata": {},
   "outputs": [
    {
     "data": {
      "text/plain": [
       "133.33333333333334"
      ]
     },
     "execution_count": 15,
     "metadata": {},
     "output_type": "execute_result"
    }
   ],
   "source": [
    "# 2. Call the convert_usd_to_aud function without specifying the exchange rate argument:\n",
    "convert_usd_to_aud(100)"
   ]
  },
  {
   "cell_type": "code",
   "execution_count": 16,
   "id": "ffff98dc",
   "metadata": {},
   "outputs": [
    {
     "data": {
      "text/plain": [
       "128.2051282051282"
      ]
     },
     "execution_count": 16,
     "metadata": {},
     "output_type": "execute_result"
    }
   ],
   "source": [
    "# 3. Call the convert_usd_to_aud function with a specific exchange rate argument:\n",
    "convert_usd_to_aud(100, rate=0.78)"
   ]
  },
  {
   "cell_type": "markdown",
   "id": "3bf34fcc",
   "metadata": {},
   "source": [
    "# Exercise 47: Using **kwargs"
   ]
  },
  {
   "cell_type": "code",
   "execution_count": 17,
   "id": "dcd53e68",
   "metadata": {},
   "outputs": [],
   "source": [
    "# 1. Using a text editor, create a file called conversion.py.\n",
    "# 2. Enter the convert_usd_to_aud function defined in the previous exercise:\n",
    "def convert_usd_to_aud(amount, rate=0.75):\n",
    "    return amount / rate\n"
   ]
  },
  {
   "cell_type": "code",
   "execution_count": 18,
   "id": "78ba4fab",
   "metadata": {},
   "outputs": [
    {
     "name": "stdout",
     "output_type": "stream",
     "text": [
      "5.333333333333333\n"
     ]
    }
   ],
   "source": [
    "# 3. Create a new convert_and_sum_list function that will take a list of amounts, convert them to AUD, and return the sum:\n",
    "def convert_and_sum_list(usd_list, rate=0.75):\n",
    "    total = 0\n",
    "    for amount in usd_list:\n",
    "        total += convert_usd_to_aud(amount, rate=rate)\n",
    "    return total\n",
    "print(convert_and_sum_list([1, 3]))"
   ]
  },
  {
   "cell_type": "code",
   "execution_count": 19,
   "id": "5ffd2aa7",
   "metadata": {},
   "outputs": [],
   "source": [
    "# 4. Execute this script from Command Prompt:"
   ]
  },
  {
   "cell_type": "code",
   "execution_count": 20,
   "id": "6796be07",
   "metadata": {},
   "outputs": [
    {
     "name": "stdout",
     "output_type": "stream",
     "text": [
      "5.0\n"
     ]
    }
   ],
   "source": [
    "# 5. Add the following function to conversion.py:\n",
    "def convert_and_sum_list_kwargs(usd_list, **kwargs):\n",
    "    total = 0\n",
    "    for amount in usd_list:\n",
    "        total += convert_usd_to_aud(amount, **kwargs)\n",
    "    return total\n",
    "print(convert_and_sum_list_kwargs([1, 3], rate=0.8))"
   ]
  },
  {
   "cell_type": "code",
   "execution_count": 21,
   "id": "82b08c06",
   "metadata": {},
   "outputs": [],
   "source": [
    "# 6. Execute this script from Command Prompt:"
   ]
  },
  {
   "cell_type": "markdown",
   "id": "db281687",
   "metadata": {},
   "source": [
    "# 7. Iterative Functions"
   ]
  },
  {
   "cell_type": "code",
   "execution_count": 22,
   "id": "3d0fd84b",
   "metadata": {},
   "outputs": [
    {
     "name": "stdout",
     "output_type": "stream",
     "text": [
      "0\n",
      "1\n",
      "2\n",
      "3\n",
      "4\n"
     ]
    }
   ],
   "source": [
    "for i in range(5):\n",
    "    print(i)"
   ]
  },
  {
   "cell_type": "markdown",
   "id": "13db0a33",
   "metadata": {},
   "source": [
    "#  Exercise 48: A Simple Function with a for Loop"
   ]
  },
  {
   "cell_type": "code",
   "execution_count": 23,
   "id": "1e1e36b6",
   "metadata": {},
   "outputs": [],
   "source": [
    "# 1. In a Python shell, enter the function definition. Note that the tab spacing needs to match the following output:\n",
    "def sum_first_n(n):\n",
    "    result = 0\n",
    "    for i in range(n):\n",
    "        result += i + 1\n",
    "    return result\n"
   ]
  },
  {
   "cell_type": "code",
   "execution_count": 24,
   "id": "aeac7dbb",
   "metadata": {},
   "outputs": [
    {
     "data": {
      "text/plain": [
       "5050"
      ]
     },
     "execution_count": 24,
     "metadata": {},
     "output_type": "execute_result"
    }
   ],
   "source": [
    "# 2. Test the sum_first_n function on an example:\n",
    "sum_first_n(100)"
   ]
  },
  {
   "cell_type": "markdown",
   "id": "ddcc6cd6",
   "metadata": {},
   "source": [
    "# Exiting Early\n",
    "You can exit the function at any point during the iterations."
   ]
  },
  {
   "cell_type": "markdown",
   "id": "253f6084",
   "metadata": {},
   "source": [
    "# Exercise 49: Exiting the Function During the for Loop"
   ]
  },
  {
   "cell_type": "code",
   "execution_count": 25,
   "id": "3fe3f75e",
   "metadata": {},
   "outputs": [],
   "source": [
    "# 1. In a Python shell, enter the function definition. Note that the tab spacing needs to match the following output:\n",
    "def is_prime(x):\n",
    "    for i in range(2, x):\n",
    "        if (x % i) == 0:\n",
    "            return False\n",
    "        return True"
   ]
  },
  {
   "cell_type": "code",
   "execution_count": 26,
   "id": "a7ee3e7c",
   "metadata": {},
   "outputs": [
    {
     "data": {
      "text/plain": [
       "True"
      ]
     },
     "execution_count": 26,
     "metadata": {},
     "output_type": "execute_result"
    }
   ],
   "source": [
    "# 2. Test the function on a couple of examples:\n",
    "is_prime(7)"
   ]
  },
  {
   "cell_type": "code",
   "execution_count": 27,
   "id": "7f7ae1e8",
   "metadata": {},
   "outputs": [
    {
     "data": {
      "text/plain": [
       "False"
      ]
     },
     "execution_count": 27,
     "metadata": {},
     "output_type": "execute_result"
    }
   ],
   "source": [
    "is_prime(1000)"
   ]
  },
  {
   "cell_type": "code",
   "execution_count": null,
   "id": "ed9b9e19",
   "metadata": {},
   "outputs": [],
   "source": []
  }
 ],
 "metadata": {
  "kernelspec": {
   "display_name": "Python 3 (ipykernel)",
   "language": "python",
   "name": "python3"
  },
  "language_info": {
   "codemirror_mode": {
    "name": "ipython",
    "version": 3
   },
   "file_extension": ".py",
   "mimetype": "text/x-python",
   "name": "python",
   "nbconvert_exporter": "python",
   "pygments_lexer": "ipython3",
   "version": "3.9.7"
  }
 },
 "nbformat": 4,
 "nbformat_minor": 5
}
