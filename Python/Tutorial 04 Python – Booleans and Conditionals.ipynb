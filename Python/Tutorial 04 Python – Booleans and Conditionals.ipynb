{
 "cells": [
  {
   "cell_type": "markdown",
   "id": "c57f7428",
   "metadata": {},
   "source": [
    "# 5. Booleans and Conditionals\n",
    "Booleans, named after George Boole, take the values of True or False."
   ]
  },
  {
   "cell_type": "markdown",
   "id": "364d90b9",
   "metadata": {},
   "source": [
    "# Exercise 13: Boolean Variables\n"
   ]
  },
  {
   "cell_type": "code",
   "execution_count": 1,
   "id": "7fcae330",
   "metadata": {},
   "outputs": [
    {
     "data": {
      "text/plain": [
       "bool"
      ]
     },
     "execution_count": 1,
     "metadata": {},
     "output_type": "execute_result"
    }
   ],
   "source": [
    "# 1. Open a new Jupyter Notebook.\n",
    "# 2. Now, use a Boolean to classify someone as being over 18 using the following code snippet:\n",
    "over_18 = True\n",
    "type(over_18)\n"
   ]
  },
  {
   "cell_type": "code",
   "execution_count": 2,
   "id": "50a7d4af",
   "metadata": {},
   "outputs": [
    {
     "data": {
      "text/plain": [
       "str"
      ]
     },
     "execution_count": 2,
     "metadata": {},
     "output_type": "execute_result"
    }
   ],
   "source": [
    "over_19 = 'true'\n",
    "type(over_19)"
   ]
  },
  {
   "cell_type": "code",
   "execution_count": 3,
   "id": "7fa6b5d5",
   "metadata": {},
   "outputs": [
    {
     "data": {
      "text/plain": [
       "bool"
      ]
     },
     "execution_count": 3,
     "metadata": {},
     "output_type": "execute_result"
    }
   ],
   "source": [
    "#3. Use a Boolean to classify someone as not being over 21:\n",
    "over_21 = False\n",
    "type(over_21)"
   ]
  },
  {
   "cell_type": "markdown",
   "id": "426eecfb",
   "metadata": {},
   "source": [
    "# i. Logical Operators\n",
    "Booleans may be combined with the and, or, and not logical operators."
   ]
  },
  {
   "cell_type": "code",
   "execution_count": 4,
   "id": "d0b28381",
   "metadata": {},
   "outputs": [],
   "source": [
    "# 1. You have to put this into code and first assign True and False to over_18 and over_21:\n",
    "over_18, over_21 = True, False\n"
   ]
  },
  {
   "cell_type": "code",
   "execution_count": 5,
   "id": "2e55e999",
   "metadata": {},
   "outputs": [
    {
     "data": {
      "text/plain": [
       "False"
      ]
     },
     "execution_count": 5,
     "metadata": {},
     "output_type": "execute_result"
    }
   ],
   "source": [
    "#2. Next you can assume the individual is over_18 and over_21:\n",
    "# AND:-> both are True the Output be True\n",
    "over_18 and over_21\n"
   ]
  },
  {
   "cell_type": "code",
   "execution_count": 6,
   "id": "7ea8c377",
   "metadata": {},
   "outputs": [
    {
     "data": {
      "text/plain": [
       "True"
      ]
     },
     "execution_count": 6,
     "metadata": {},
     "output_type": "execute_result"
    }
   ],
   "source": [
    "#3. You now assume the individual is over_18 or over_21:\n",
    "# OR:-> any one is True the Output is True\n",
    "over_18 or over_21\n"
   ]
  },
  {
   "cell_type": "code",
   "execution_count": 7,
   "id": "a6a296c1",
   "metadata": {},
   "outputs": [
    {
     "data": {
      "text/plain": [
       "False"
      ]
     },
     "execution_count": 7,
     "metadata": {},
     "output_type": "execute_result"
    }
   ],
   "source": [
    "#4. You now assume the individual is not over_18:\n",
    "not over_18\n"
   ]
  },
  {
   "cell_type": "code",
   "execution_count": 8,
   "id": "fd3ab697",
   "metadata": {},
   "outputs": [
    {
     "data": {
      "text/plain": [
       "True"
      ]
     },
     "execution_count": 8,
     "metadata": {},
     "output_type": "execute_result"
    }
   ],
   "source": [
    "#5. You assume the individual is not over_21 or (over_21 or over_18):\n",
    "\n",
    "not over_21 or (over_21 or over_18)\n",
    "\n",
    "# not(False) or (False or True)\n",
    "# not(False) or (True)\n",
    "# True or (True)\n",
    "#True\n",
    "\n",
    "\n"
   ]
  },
  {
   "cell_type": "markdown",
   "id": "232aa461",
   "metadata": {},
   "source": [
    "# ii. Comparison Operators\n",
    "Python objects may be compared using a variety of symbols that evaluate to Booleans."
   ]
  },
  {
   "cell_type": "markdown",
   "id": "f1240d10",
   "metadata": {},
   "source": [
    "# Exercise 14: Comparison Operators\n"
   ]
  },
  {
   "cell_type": "code",
   "execution_count": 9,
   "id": "a3732b66",
   "metadata": {},
   "outputs": [],
   "source": [
    "### x=3, x==3"
   ]
  },
  {
   "cell_type": "code",
   "execution_count": 10,
   "id": "ea51c9c8",
   "metadata": {},
   "outputs": [
    {
     "data": {
      "text/plain": [
       "False"
      ]
     },
     "execution_count": 10,
     "metadata": {},
     "output_type": "execute_result"
    }
   ],
   "source": [
    "# 1. Open a new Jupyter Notebook.\n",
    "# 2. Now, set age as equal to 20 and include a comparison operator to check whether age is less than 13:\n",
    "age = 20\n",
    "age < 13"
   ]
  },
  {
   "cell_type": "code",
   "execution_count": 11,
   "id": "ed3ddfdc",
   "metadata": {},
   "outputs": [
    {
     "data": {
      "text/plain": [
       "True"
      ]
     },
     "execution_count": 11,
     "metadata": {},
     "output_type": "execute_result"
    }
   ],
   "source": [
    "#3. Using the following code snippet, you can check whether age is greater than or equal to 20 and less than or equal to 21:\n",
    "age >= 20 and age <= 21\n"
   ]
  },
  {
   "cell_type": "code",
   "execution_count": 12,
   "id": "cdd7bcf6",
   "metadata": {},
   "outputs": [
    {
     "data": {
      "text/plain": [
       "True"
      ]
     },
     "execution_count": 12,
     "metadata": {},
     "output_type": "execute_result"
    }
   ],
   "source": [
    "#4. Now check whether age is equivalent to 21:\n",
    "age != 21\n"
   ]
  },
  {
   "cell_type": "code",
   "execution_count": 13,
   "id": "b587781c",
   "metadata": {},
   "outputs": [
    {
     "data": {
      "text/plain": [
       "False"
      ]
     },
     "execution_count": 13,
     "metadata": {},
     "output_type": "execute_result"
    }
   ],
   "source": [
    "#5. Now, check whether age is equivalent to 19:\n",
    "age == 19\n"
   ]
  },
  {
   "cell_type": "code",
   "execution_count": 14,
   "id": "b7a2a549",
   "metadata": {},
   "outputs": [
    {
     "data": {
      "text/plain": [
       "True"
      ]
     },
     "execution_count": 14,
     "metadata": {},
     "output_type": "execute_result"
    }
   ],
   "source": [
    "#6. Is 6 equivalent to 6.0 in Python? Let's find out:\n",
    "6 == 6.0"
   ]
  },
  {
   "cell_type": "code",
   "execution_count": 15,
   "id": "2f00ef95",
   "metadata": {},
   "outputs": [
    {
     "data": {
      "text/plain": [
       "False"
      ]
     },
     "execution_count": 15,
     "metadata": {},
     "output_type": "execute_result"
    }
   ],
   "source": [
    "#7. Now find out whether 6 is equivalent to the '6' string:\n",
    "6 == '6'"
   ]
  },
  {
   "cell_type": "code",
   "execution_count": 16,
   "id": "89319c00",
   "metadata": {},
   "outputs": [
    {
     "data": {
      "text/plain": [
       "True"
      ]
     },
     "execution_count": 16,
     "metadata": {},
     "output_type": "execute_result"
    }
   ],
   "source": [
    "(age >= 20 and age < 30) or (age >= 30 and age < 40)\n",
    "# (True and True) or (False and True)\n",
    "# True or False\n"
   ]
  },
  {
   "cell_type": "code",
   "execution_count": 17,
   "id": "a84997e7",
   "metadata": {},
   "outputs": [
    {
     "data": {
      "text/plain": [
       "True"
      ]
     },
     "execution_count": 17,
     "metadata": {},
     "output_type": "execute_result"
    }
   ],
   "source": [
    "(20 <= age < 30) or (30 <= age < 40)\n",
    "# True or False\n",
    "\n"
   ]
  },
  {
   "cell_type": "markdown",
   "id": "dcfce3bc",
   "metadata": {},
   "source": [
    "# iii. Comparing Strings\n",
    "Python uses the convention of alphabetical order to make sense of these comparisons."
   ]
  },
  {
   "cell_type": "markdown",
   "id": "8450ebac",
   "metadata": {},
   "source": [
    "# Exercise 15: Comparing Strings\n",
    "\n"
   ]
  },
  {
   "cell_type": "code",
   "execution_count": 18,
   "id": "2e299dff",
   "metadata": {},
   "outputs": [
    {
     "data": {
      "text/plain": [
       "True"
      ]
     },
     "execution_count": 18,
     "metadata": {},
     "output_type": "execute_result"
    }
   ],
   "source": [
    "# 1. Open a new Jupyter Notebook.\n",
    "# 2. Let's compare single letters:\n",
    "'a' < 'c'\n"
   ]
  },
  {
   "cell_type": "code",
   "execution_count": 19,
   "id": "4596a8a4",
   "metadata": {},
   "outputs": [
    {
     "data": {
      "text/plain": [
       "False"
      ]
     },
     "execution_count": 19,
     "metadata": {},
     "output_type": "execute_result"
    }
   ],
   "source": [
    "#3. Now, let's compare 'New York' and 'San Francisco':\n",
    "'New York' > 'San Francisco'"
   ]
  },
  {
   "cell_type": "code",
   "execution_count": null,
   "id": "1daf2e18",
   "metadata": {},
   "outputs": [],
   "source": []
  }
 ],
 "metadata": {
  "kernelspec": {
   "display_name": "Python 3 (ipykernel)",
   "language": "python",
   "name": "python3"
  },
  "language_info": {
   "codemirror_mode": {
    "name": "ipython",
    "version": 3
   },
   "file_extension": ".py",
   "mimetype": "text/x-python",
   "name": "python",
   "nbconvert_exporter": "python",
   "pygments_lexer": "ipython3",
   "version": "3.9.7"
  }
 },
 "nbformat": 4,
 "nbformat_minor": 5
}
